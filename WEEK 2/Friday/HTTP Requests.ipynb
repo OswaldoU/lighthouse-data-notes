{
 "cells": [
  {
   "cell_type": "code",
   "execution_count": 1,
   "id": "05eecfaf-00b2-44b5-9a67-e6de8f91eb9a",
   "metadata": {},
   "outputs": [],
   "source": [
    "import requests"
   ]
  },
  {
   "cell_type": "code",
   "execution_count": 12,
   "id": "d2f7dd17-3add-419e-b4c9-105d86bb65e4",
   "metadata": {},
   "outputs": [],
   "source": [
    "###### The GET Request\n",
    "## HTTP methods such as GET and POST, determine which action you’re trying to perform when making an HTTP request. \n",
    "##Besides GET and POST, there are several other common methods that you’ll use later in this tutorial.\n",
    "\n",
    "## One of the most common HTTP methods is GET. The GET method indicates that you’re trying to get or retrieve data from a specified resource. \n",
    "##To make a GET request, invoke requests.get().\n",
    "\n",
    "##To test this out, you can make a GET request to GitHub’s Root REST API by calling get() with the following URL:"
   ]
  },
  {
   "cell_type": "code",
   "execution_count": 2,
   "id": "52b220e0-4e72-4307-82cc-7168055ac01d",
   "metadata": {},
   "outputs": [
    {
     "data": {
      "text/plain": [
       "<Response [200]>"
      ]
     },
     "execution_count": 2,
     "metadata": {},
     "output_type": "execute_result"
    }
   ],
   "source": [
    ">>> requests.get('https://api.github.com')"
   ]
  },
  {
   "cell_type": "code",
   "execution_count": null,
   "id": "ded50a43-63f7-4ff5-ad17-29351682b255",
   "metadata": {},
   "outputs": [],
   "source": [
    "### The Response\n",
    "## A Response is a powerful object for inspecting the results of the request. \n",
    "## Let’s make that same request again, but this time store the return value in a variable so that you can get a closer look at its attributes and behaviors:"
   ]
  },
  {
   "cell_type": "code",
   "execution_count": 3,
   "id": "fa226a04-c1d2-4cdf-86b4-2793fdd7821a",
   "metadata": {},
   "outputs": [],
   "source": [
    ">>> response = requests.get('https://api.github.com')"
   ]
  },
  {
   "cell_type": "code",
   "execution_count": 13,
   "id": "c089d95c-43a4-4aa6-bfee-8744df6548e5",
   "metadata": {},
   "outputs": [],
   "source": [
    "## In this example, you’ve captured the return value of get(), which is an instance of Response, and stored it in a variable called response. \n",
    "## You can now use response to see a lot of information about the results of your GET request.\n",
    "\n"
   ]
  },
  {
   "cell_type": "code",
   "execution_count": 14,
   "id": "127a46d4-b988-4d88-b77d-9194ce0a7ae7",
   "metadata": {},
   "outputs": [],
   "source": [
    "### Status Codes\n",
    "## The first bit of information that you can gather from Response is the status code. A status code informs you of the status of the request.\n",
    "\n",
    "## For example, a 200 OK status means that your request was successful, whereas a 404 NOT FOUND status means that the resource you were looking for was not found. \n",
    "## There are many other possible status codes as well to give you specific insights into what happened with your request.\n",
    "\n",
    "## By accessing .status_code, you can see the status code that the server returned:"
   ]
  },
  {
   "cell_type": "code",
   "execution_count": 4,
   "id": "9b01824a-ae69-4018-ab96-abe36e3512f2",
   "metadata": {},
   "outputs": [
    {
     "data": {
      "text/plain": [
       "200"
      ]
     },
     "execution_count": 4,
     "metadata": {},
     "output_type": "execute_result"
    }
   ],
   "source": [
    ">>> response.status_code"
   ]
  },
  {
   "cell_type": "code",
   "execution_count": 15,
   "id": "f797b8f2-fd68-415f-8a43-02719d4e315a",
   "metadata": {},
   "outputs": [],
   "source": [
    "## .status_code returned a 200, which means your request was successful and the server responded with the data you were requesting.\n",
    "\n",
    "## Sometimes, you might want to use this information to make decisions in your code:"
   ]
  },
  {
   "cell_type": "code",
   "execution_count": 5,
   "id": "3f22cfb5-a77f-495c-8f3a-cf573eb587a5",
   "metadata": {},
   "outputs": [
    {
     "name": "stdout",
     "output_type": "stream",
     "text": [
      "Success!\n"
     ]
    }
   ],
   "source": [
    "if response.status_code == 200:\n",
    "    print('Success!')\n",
    "elif response.status_code == 404:\n",
    "    print('Not Found.')"
   ]
  },
  {
   "cell_type": "code",
   "execution_count": 16,
   "id": "a5e68611-0d0c-48c1-b6c2-a5b086013d30",
   "metadata": {},
   "outputs": [],
   "source": [
    "## With this logic, if the server returns a 200 status code, your program will print Success!. If the result is a 404, your program will print Not Found.\n",
    "\n",
    "## requests goes one step further in simplifying this process for you. \n",
    "## If you use a Response instance in a conditional expression, it will evaluate to True if the status code was between 200 and 400, and False otherwise.\n",
    "\n",
    "## Therefore, you can simplify the last example by rewriting the if statement:"
   ]
  },
  {
   "cell_type": "code",
   "execution_count": 6,
   "id": "560749f1-36b5-4508-9afc-e8f762c10c92",
   "metadata": {},
   "outputs": [
    {
     "name": "stdout",
     "output_type": "stream",
     "text": [
      "Success!\n"
     ]
    }
   ],
   "source": [
    "if response:\n",
    "    print('Success!')\n",
    "else:\n",
    "    print('An error has occurred.')"
   ]
  },
  {
   "cell_type": "code",
   "execution_count": 17,
   "id": "b75847de-cdcb-42d9-94e9-f057d104c0b2",
   "metadata": {},
   "outputs": [],
   "source": [
    "## Keep in mind that this method is not verifying that the status code is equal to 200. \n",
    "## The reason for this is that other status codes within the 200 to 400 range, such as 204 NO CONTENT and 304 NOT MODIFIED, are also considered successful in the sense that they provide some workable response.\n",
    "\n",
    "## For example, the 204 tells you that the response was successful, but there’s no content to return in the message body.\n",
    "\n",
    "## So, make sure you use this convenient shorthand only if you want to know if the request was generally successful and then, if necessary, handle the response appropriately based on the status code.\n",
    "\n",
    "## Let’s say you don’t want to check the response’s status code in an if statement. Instead, you want to raise an exception if the request was unsuccessful. \n",
    "## You can do this using .raise_for_status():"
   ]
  },
  {
   "cell_type": "code",
   "execution_count": 7,
   "id": "923e606c-e162-4001-8b4d-575291896b85",
   "metadata": {},
   "outputs": [
    {
     "name": "stdout",
     "output_type": "stream",
     "text": [
      "Success!\n",
      "HTTP error occurred: 404 Client Error: Not Found for url: https://api.github.com/invalid\n"
     ]
    }
   ],
   "source": [
    "import requests\n",
    "from requests.exceptions import HTTPError\n",
    "\n",
    "for url in ['https://api.github.com', 'https://api.github.com/invalid']:\n",
    "    try:\n",
    "        response = requests.get(url)\n",
    "\n",
    "        # If the response was successful, no Exception will be raised\n",
    "        response.raise_for_status()\n",
    "    except HTTPError as http_err:\n",
    "        print(f'HTTP error occurred: {http_err}')  # Python 3.6\n",
    "    except Exception as err:\n",
    "        print(f'Other error occurred: {err}')  # Python 3.6\n",
    "    else:\n",
    "        print('Success!')"
   ]
  },
  {
   "cell_type": "code",
   "execution_count": 18,
   "id": "d0bbdeeb-c3cd-4804-966d-73882ef36d22",
   "metadata": {},
   "outputs": [],
   "source": [
    "## If you invoke .raise_for_status(), an HTTPError will be raised for certain status codes. \n",
    "## If the status code indicates a successful request, the program will proceed without that exception being raised.\n",
    "\n",
    "\n",
    "## Now, you know a lot about how to deal with the status code of the response you got back from the server. \n",
    "## However, when you make a GET request, you rarely only care about the status code of the response. \n",
    "## Usually, you want to see more. Next, you’ll see how to view the actual data that the server sent back in the body of the response."
   ]
  },
  {
   "cell_type": "code",
   "execution_count": 19,
   "id": "5f90b5b9-10a6-4c13-848f-441587aa3a45",
   "metadata": {},
   "outputs": [],
   "source": [
    "### Content\n",
    "\n",
    "## The response of a GET request often has some valuable information, known as a payload, in the message body. \n",
    "## Using the attributes and methods of Response, you can view the payload in a variety of different formats.\n",
    "\n",
    "## To see the response’s content in bytes, you use .content:"
   ]
  },
  {
   "cell_type": "code",
   "execution_count": 8,
   "id": "b8e92d97-2d7f-424e-880d-59cded66b296",
   "metadata": {},
   "outputs": [
    {
     "data": {
      "text/plain": [
       "b'{\"current_user_url\":\"https://api.github.com/user\",\"current_user_authorizations_html_url\":\"https://github.com/settings/connections/applications{/client_id}\",\"authorizations_url\":\"https://api.github.com/authorizations\",\"code_search_url\":\"https://api.github.com/search/code?q={query}{&page,per_page,sort,order}\",\"commit_search_url\":\"https://api.github.com/search/commits?q={query}{&page,per_page,sort,order}\",\"emails_url\":\"https://api.github.com/user/emails\",\"emojis_url\":\"https://api.github.com/emojis\",\"events_url\":\"https://api.github.com/events\",\"feeds_url\":\"https://api.github.com/feeds\",\"followers_url\":\"https://api.github.com/user/followers\",\"following_url\":\"https://api.github.com/user/following{/target}\",\"gists_url\":\"https://api.github.com/gists{/gist_id}\",\"hub_url\":\"https://api.github.com/hub\",\"issue_search_url\":\"https://api.github.com/search/issues?q={query}{&page,per_page,sort,order}\",\"issues_url\":\"https://api.github.com/issues\",\"keys_url\":\"https://api.github.com/user/keys\",\"notifications_url\":\"https://api.github.com/notifications\",\"organization_repositories_url\":\"https://api.github.com/orgs/{org}/repos{?type,page,per_page,sort}\",\"organization_url\":\"https://api.github.com/orgs/{org}\",\"public_gists_url\":\"https://api.github.com/gists/public\",\"rate_limit_url\":\"https://api.github.com/rate_limit\",\"repository_url\":\"https://api.github.com/repos/{owner}/{repo}\",\"repository_search_url\":\"https://api.github.com/search/repositories?q={query}{&page,per_page,sort,order}\",\"current_user_repositories_url\":\"https://api.github.com/user/repos{?type,page,per_page,sort}\",\"starred_url\":\"https://api.github.com/user/starred{/owner}{/repo}\",\"starred_gists_url\":\"https://api.github.com/gists/starred\",\"team_url\":\"https://api.github.com/teams\",\"user_url\":\"https://api.github.com/users/{user}\",\"user_organizations_url\":\"https://api.github.com/user/orgs\",\"user_repositories_url\":\"https://api.github.com/users/{user}/repos{?type,page,per_page,sort}\",\"user_search_url\":\"https://api.github.com/search/users?q={query}{&page,per_page,sort,order}\"}'"
      ]
     },
     "execution_count": 8,
     "metadata": {},
     "output_type": "execute_result"
    }
   ],
   "source": [
    ">>> response = requests.get('https://api.github.com')\n",
    ">>> response.content\n",
    "b'{\"current_user_url\":\"https://api.github.com/user\",\"current_user_authorizations_html_url\":\"https://github.com/settings/connections/applications{/client_id}\",\"authorizations_url\":\"https://api.github.com/authorizations\",\"code_search_url\":\"https://api.github.com/search/code?q={query}{&page,per_page,sort,order}\",\"commit_search_url\":\"https://api.github.com/search/commits?q={query}{&page,per_page,sort,order}\",\"emails_url\":\"https://api.github.com/user/emails\",\"emojis_url\":\"https://api.github.com/emojis\",\"events_url\":\"https://api.github.com/events\",\"feeds_url\":\"https://api.github.com/feeds\",\"followers_url\":\"https://api.github.com/user/followers\",\"following_url\":\"https://api.github.com/user/following{/target}\",\"gists_url\":\"https://api.github.com/gists{/gist_id}\",\"hub_url\":\"https://api.github.com/hub\",\"issue_search_url\":\"https://api.github.com/search/issues?q={query}{&page,per_page,sort,order}\",\"issues_url\":\"https://api.github.com/issues\",\"keys_url\":\"https://api.github.com/user/keys\",\"notifications_url\":\"https://api.github.com/notifications\",\"organization_repositories_url\":\"https://api.github.com/orgs/{org}/repos{?type,page,per_page,sort}\",\"organization_url\":\"https://api.github.com/orgs/{org}\",\"public_gists_url\":\"https://api.github.com/gists/public\",\"rate_limit_url\":\"https://api.github.com/rate_limit\",\"repository_url\":\"https://api.github.com/repos/{owner}/{repo}\",\"repository_search_url\":\"https://api.github.com/search/repositories?q={query}{&page,per_page,sort,order}\",\"current_user_repositories_url\":\"https://api.github.com/user/repos{?type,page,per_page,sort}\",\"starred_url\":\"https://api.github.com/user/starred{/owner}{/repo}\",\"starred_gists_url\":\"https://api.github.com/gists/starred\",\"team_url\":\"https://api.github.com/teams\",\"user_url\":\"https://api.github.com/users/{user}\",\"user_organizations_url\":\"https://api.github.com/user/orgs\",\"user_repositories_url\":\"https://api.github.com/users/{user}/repos{?type,page,per_page,sort}\",\"user_search_url\":\"https://api.github.com/search/users?q={query}{&page,per_page,sort,order}\"}'"
   ]
  },
  {
   "cell_type": "code",
   "execution_count": 21,
   "id": "8ce79363-82e7-4736-8e44-801dff8394f1",
   "metadata": {},
   "outputs": [],
   "source": [
    "## While .content gives you access to the raw bytes of the response payload, you will often want to convert them into a string using a character encoding such as UTF-8. \n",
    "## response will do that for you when you access .text:"
   ]
  },
  {
   "cell_type": "code",
   "execution_count": 20,
   "id": "e59993e3-0e7d-4bab-8719-d67af1395150",
   "metadata": {},
   "outputs": [
    {
     "data": {
      "text/plain": [
       "'{\\n  \"current_user_url\": \"https://api.github.com/user\",\\n  \"current_user_authorizations_html_url\": \"https://github.com/settings/connections/applications{/client_id}\",\\n  \"authorizations_url\": \"https://api.github.com/authorizations\",\\n  \"code_search_url\": \"https://api.github.com/search/code?q={query}{&page,per_page,sort,order}\",\\n  \"commit_search_url\": \"https://api.github.com/search/commits?q={query}{&page,per_page,sort,order}\",\\n  \"emails_url\": \"https://api.github.com/user/emails\",\\n  \"emojis_url\": \"https://api.github.com/emojis\",\\n  \"events_url\": \"https://api.github.com/events\",\\n  \"feeds_url\": \"https://api.github.com/feeds\",\\n  \"followers_url\": \"https://api.github.com/user/followers\",\\n  \"following_url\": \"https://api.github.com/user/following{/target}\",\\n  \"gists_url\": \"https://api.github.com/gists{/gist_id}\",\\n  \"hub_url\": \"https://api.github.com/hub\",\\n  \"issue_search_url\": \"https://api.github.com/search/issues?q={query}{&page,per_page,sort,order}\",\\n  \"issues_url\": \"https://api.github.com/issues\",\\n  \"keys_url\": \"https://api.github.com/user/keys\",\\n  \"label_search_url\": \"https://api.github.com/search/labels?q={query}&repository_id={repository_id}{&page,per_page}\",\\n  \"notifications_url\": \"https://api.github.com/notifications\",\\n  \"organization_url\": \"https://api.github.com/orgs/{org}\",\\n  \"organization_repositories_url\": \"https://api.github.com/orgs/{org}/repos{?type,page,per_page,sort}\",\\n  \"organization_teams_url\": \"https://api.github.com/orgs/{org}/teams\",\\n  \"public_gists_url\": \"https://api.github.com/gists/public\",\\n  \"rate_limit_url\": \"https://api.github.com/rate_limit\",\\n  \"repository_url\": \"https://api.github.com/repos/{owner}/{repo}\",\\n  \"repository_search_url\": \"https://api.github.com/search/repositories?q={query}{&page,per_page,sort,order}\",\\n  \"current_user_repositories_url\": \"https://api.github.com/user/repos{?type,page,per_page,sort}\",\\n  \"starred_url\": \"https://api.github.com/user/starred{/owner}{/repo}\",\\n  \"starred_gists_url\": \"https://api.github.com/gists/starred\",\\n  \"topic_search_url\": \"https://api.github.com/search/topics?q={query}{&page,per_page}\",\\n  \"user_url\": \"https://api.github.com/users/{user}\",\\n  \"user_organizations_url\": \"https://api.github.com/user/orgs\",\\n  \"user_repositories_url\": \"https://api.github.com/users/{user}/repos{?type,page,per_page,sort}\",\\n  \"user_search_url\": \"https://api.github.com/search/users?q={query}{&page,per_page,sort,order}\"\\n}\\n'"
      ]
     },
     "execution_count": 20,
     "metadata": {},
     "output_type": "execute_result"
    }
   ],
   "source": [
    ">>> response.text"
   ]
  },
  {
   "cell_type": "code",
   "execution_count": 22,
   "id": "8c142748-3065-4eee-bfc8-d687e7c986a1",
   "metadata": {},
   "outputs": [],
   "source": [
    "## Because the decoding of bytes to a str requires an encoding scheme, requests will try to guess the encoding based on the response’s headers if you do not specify one. \n",
    "## You can provide an explicit encoding by setting .encoding before accessing .text:"
   ]
  },
  {
   "cell_type": "code",
   "execution_count": 23,
   "id": "fc9cdbbe-3466-4b8b-a448-e25ae2d98e66",
   "metadata": {},
   "outputs": [
    {
     "data": {
      "text/plain": [
       "'{\\n  \"current_user_url\": \"https://api.github.com/user\",\\n  \"current_user_authorizations_html_url\": \"https://github.com/settings/connections/applications{/client_id}\",\\n  \"authorizations_url\": \"https://api.github.com/authorizations\",\\n  \"code_search_url\": \"https://api.github.com/search/code?q={query}{&page,per_page,sort,order}\",\\n  \"commit_search_url\": \"https://api.github.com/search/commits?q={query}{&page,per_page,sort,order}\",\\n  \"emails_url\": \"https://api.github.com/user/emails\",\\n  \"emojis_url\": \"https://api.github.com/emojis\",\\n  \"events_url\": \"https://api.github.com/events\",\\n  \"feeds_url\": \"https://api.github.com/feeds\",\\n  \"followers_url\": \"https://api.github.com/user/followers\",\\n  \"following_url\": \"https://api.github.com/user/following{/target}\",\\n  \"gists_url\": \"https://api.github.com/gists{/gist_id}\",\\n  \"hub_url\": \"https://api.github.com/hub\",\\n  \"issue_search_url\": \"https://api.github.com/search/issues?q={query}{&page,per_page,sort,order}\",\\n  \"issues_url\": \"https://api.github.com/issues\",\\n  \"keys_url\": \"https://api.github.com/user/keys\",\\n  \"label_search_url\": \"https://api.github.com/search/labels?q={query}&repository_id={repository_id}{&page,per_page}\",\\n  \"notifications_url\": \"https://api.github.com/notifications\",\\n  \"organization_url\": \"https://api.github.com/orgs/{org}\",\\n  \"organization_repositories_url\": \"https://api.github.com/orgs/{org}/repos{?type,page,per_page,sort}\",\\n  \"organization_teams_url\": \"https://api.github.com/orgs/{org}/teams\",\\n  \"public_gists_url\": \"https://api.github.com/gists/public\",\\n  \"rate_limit_url\": \"https://api.github.com/rate_limit\",\\n  \"repository_url\": \"https://api.github.com/repos/{owner}/{repo}\",\\n  \"repository_search_url\": \"https://api.github.com/search/repositories?q={query}{&page,per_page,sort,order}\",\\n  \"current_user_repositories_url\": \"https://api.github.com/user/repos{?type,page,per_page,sort}\",\\n  \"starred_url\": \"https://api.github.com/user/starred{/owner}{/repo}\",\\n  \"starred_gists_url\": \"https://api.github.com/gists/starred\",\\n  \"topic_search_url\": \"https://api.github.com/search/topics?q={query}{&page,per_page}\",\\n  \"user_url\": \"https://api.github.com/users/{user}\",\\n  \"user_organizations_url\": \"https://api.github.com/user/orgs\",\\n  \"user_repositories_url\": \"https://api.github.com/users/{user}/repos{?type,page,per_page,sort}\",\\n  \"user_search_url\": \"https://api.github.com/search/users?q={query}{&page,per_page,sort,order}\"\\n}\\n'"
      ]
     },
     "execution_count": 23,
     "metadata": {},
     "output_type": "execute_result"
    }
   ],
   "source": [
    ">>> response.encoding = 'utf-8' # Optional: requests infers this internally\n",
    ">>> response.text"
   ]
  },
  {
   "cell_type": "code",
   "execution_count": 24,
   "id": "111f5875-952f-4cef-8cdf-717af5e8e2e8",
   "metadata": {},
   "outputs": [],
   "source": [
    "## If you take a look at the response, you’ll see that it is actually serialized JSON content. To get a dictionary, you could take the str you retrieved from .text and deserialize it using json.loads(). \n",
    "## However, a simpler way to accomplish this task is to use .json():"
   ]
  },
  {
   "cell_type": "code",
   "execution_count": 25,
   "id": "f395fb78-0bc5-436b-9339-b14686323d3f",
   "metadata": {},
   "outputs": [
    {
     "data": {
      "text/plain": [
       "{'current_user_url': 'https://api.github.com/user',\n",
       " 'current_user_authorizations_html_url': 'https://github.com/settings/connections/applications{/client_id}',\n",
       " 'authorizations_url': 'https://api.github.com/authorizations',\n",
       " 'code_search_url': 'https://api.github.com/search/code?q={query}{&page,per_page,sort,order}',\n",
       " 'commit_search_url': 'https://api.github.com/search/commits?q={query}{&page,per_page,sort,order}',\n",
       " 'emails_url': 'https://api.github.com/user/emails',\n",
       " 'emojis_url': 'https://api.github.com/emojis',\n",
       " 'events_url': 'https://api.github.com/events',\n",
       " 'feeds_url': 'https://api.github.com/feeds',\n",
       " 'followers_url': 'https://api.github.com/user/followers',\n",
       " 'following_url': 'https://api.github.com/user/following{/target}',\n",
       " 'gists_url': 'https://api.github.com/gists{/gist_id}',\n",
       " 'hub_url': 'https://api.github.com/hub',\n",
       " 'issue_search_url': 'https://api.github.com/search/issues?q={query}{&page,per_page,sort,order}',\n",
       " 'issues_url': 'https://api.github.com/issues',\n",
       " 'keys_url': 'https://api.github.com/user/keys',\n",
       " 'label_search_url': 'https://api.github.com/search/labels?q={query}&repository_id={repository_id}{&page,per_page}',\n",
       " 'notifications_url': 'https://api.github.com/notifications',\n",
       " 'organization_url': 'https://api.github.com/orgs/{org}',\n",
       " 'organization_repositories_url': 'https://api.github.com/orgs/{org}/repos{?type,page,per_page,sort}',\n",
       " 'organization_teams_url': 'https://api.github.com/orgs/{org}/teams',\n",
       " 'public_gists_url': 'https://api.github.com/gists/public',\n",
       " 'rate_limit_url': 'https://api.github.com/rate_limit',\n",
       " 'repository_url': 'https://api.github.com/repos/{owner}/{repo}',\n",
       " 'repository_search_url': 'https://api.github.com/search/repositories?q={query}{&page,per_page,sort,order}',\n",
       " 'current_user_repositories_url': 'https://api.github.com/user/repos{?type,page,per_page,sort}',\n",
       " 'starred_url': 'https://api.github.com/user/starred{/owner}{/repo}',\n",
       " 'starred_gists_url': 'https://api.github.com/gists/starred',\n",
       " 'topic_search_url': 'https://api.github.com/search/topics?q={query}{&page,per_page}',\n",
       " 'user_url': 'https://api.github.com/users/{user}',\n",
       " 'user_organizations_url': 'https://api.github.com/user/orgs',\n",
       " 'user_repositories_url': 'https://api.github.com/users/{user}/repos{?type,page,per_page,sort}',\n",
       " 'user_search_url': 'https://api.github.com/search/users?q={query}{&page,per_page,sort,order}'}"
      ]
     },
     "execution_count": 25,
     "metadata": {},
     "output_type": "execute_result"
    }
   ],
   "source": [
    ">>> response.json()"
   ]
  },
  {
   "cell_type": "code",
   "execution_count": 26,
   "id": "432112fb-f17a-4846-9b47-1d244a367fa8",
   "metadata": {},
   "outputs": [],
   "source": [
    "## The type of the return value of .json() is a dictionary, so you can access values in the object by key.\n",
    "\n",
    "## You can do a lot with status codes and message bodies. But, if you need more information, like metadata about the response itself, you’ll need to look at the response’s headers."
   ]
  },
  {
   "cell_type": "code",
   "execution_count": 27,
   "id": "aef6b0aa-d3a4-44a1-b861-ee4de9e3ee61",
   "metadata": {},
   "outputs": [],
   "source": [
    "### Headers\n",
    "## The response headers can give you useful information, such as the content type of the response payload and a time limit on how long to cache the response. \n",
    "## To view these headers, access .headers:"
   ]
  },
  {
   "cell_type": "code",
   "execution_count": 28,
   "id": "d0799042-21b3-421e-bbbe-b8c7a6b534af",
   "metadata": {},
   "outputs": [
    {
     "data": {
      "text/plain": [
       "{'Server': 'GitHub.com', 'Date': 'Mon, 28 Nov 2022 17:38:30 GMT', 'Cache-Control': 'public, max-age=60, s-maxage=60', 'Vary': 'Accept, Accept-Encoding, Accept, X-Requested-With', 'ETag': '\"4f825cc84e1c733059d46e76e6df9db557ae5254f9625dfe8e1b09499c449438\"', 'Access-Control-Expose-Headers': 'ETag, Link, Location, Retry-After, X-GitHub-OTP, X-RateLimit-Limit, X-RateLimit-Remaining, X-RateLimit-Used, X-RateLimit-Resource, X-RateLimit-Reset, X-OAuth-Scopes, X-Accepted-OAuth-Scopes, X-Poll-Interval, X-GitHub-Media-Type, X-GitHub-SSO, X-GitHub-Request-Id, Deprecation, Sunset', 'Access-Control-Allow-Origin': '*', 'Strict-Transport-Security': 'max-age=31536000; includeSubdomains; preload', 'X-Frame-Options': 'deny', 'X-Content-Type-Options': 'nosniff', 'X-XSS-Protection': '0', 'Referrer-Policy': 'origin-when-cross-origin, strict-origin-when-cross-origin', 'Content-Security-Policy': \"default-src 'none'\", 'Content-Type': 'application/json; charset=utf-8', 'X-GitHub-Media-Type': 'github.v3; format=json', 'Content-Encoding': 'gzip', 'X-RateLimit-Limit': '60', 'X-RateLimit-Remaining': '53', 'X-RateLimit-Reset': '1669659356', 'X-RateLimit-Resource': 'core', 'X-RateLimit-Used': '7', 'Accept-Ranges': 'bytes', 'Content-Length': '530', 'X-GitHub-Request-Id': '33D6:2DE7:867AF52:8896B27:6384F219'}"
      ]
     },
     "execution_count": 28,
     "metadata": {},
     "output_type": "execute_result"
    }
   ],
   "source": [
    ">>> response.headers"
   ]
  },
  {
   "cell_type": "code",
   "execution_count": 29,
   "id": "4e2046b5-9564-45e0-8402-8617d3cb3366",
   "metadata": {},
   "outputs": [],
   "source": [
    "## .headers returns a dictionary-like object, allowing you to access header values by key. For example, to see the content type of the response payload, you can access Content-Type:"
   ]
  },
  {
   "cell_type": "code",
   "execution_count": 30,
   "id": "63392d3a-9b34-45fa-bdc0-721b4f305c75",
   "metadata": {},
   "outputs": [
    {
     "data": {
      "text/plain": [
       "'application/json; charset=utf-8'"
      ]
     },
     "execution_count": 30,
     "metadata": {},
     "output_type": "execute_result"
    }
   ],
   "source": [
    ">>> response.headers['Content-Type']"
   ]
  },
  {
   "cell_type": "code",
   "execution_count": 31,
   "id": "babb29d3-cf1f-4f08-af50-ad6dea171f99",
   "metadata": {},
   "outputs": [],
   "source": [
    "## There is something special about this dictionary-like headers object, though. \n",
    "## The HTTP spec defines headers to be case-insensitive, which means we are able to access these headers without worrying about their capitalization:"
   ]
  },
  {
   "cell_type": "code",
   "execution_count": 32,
   "id": "cfd72645-c530-4044-95bc-f5c93b553b16",
   "metadata": {},
   "outputs": [
    {
     "data": {
      "text/plain": [
       "'application/json; charset=utf-8'"
      ]
     },
     "execution_count": 32,
     "metadata": {},
     "output_type": "execute_result"
    }
   ],
   "source": [
    ">>> response.headers['content-type']"
   ]
  },
  {
   "cell_type": "code",
   "execution_count": 33,
   "id": "a8ff9dfe-151e-4512-aadf-b0acabb3024d",
   "metadata": {},
   "outputs": [],
   "source": [
    "## Whether you use the key 'content-type' or 'Content-Type', you’ll get the same value.\n",
    "\n",
    "## Now, you’ve learned the basics about Response. You’ve seen its most useful attributes and methods in action. \n",
    "## Let’s take a step back and see how your responses change when you customize your GET requests."
   ]
  },
  {
   "cell_type": "code",
   "execution_count": 34,
   "id": "b98d0c32-e380-4c5d-b7d8-c3b64e13f1fb",
   "metadata": {},
   "outputs": [],
   "source": [
    "### Query String Parameters\n",
    "\n",
    "## One common way to customize a GET request is to pass values through query string parameters in the URL. \n",
    "## To do this using get(), you pass data to params. For example, you can use GitHub’s Search API to look for the requests library:\n",
    "\n"
   ]
  },
  {
   "cell_type": "code",
   "execution_count": 35,
   "id": "6838cfb4-7109-4079-b5be-89c27f8935b8",
   "metadata": {},
   "outputs": [
    {
     "name": "stdout",
     "output_type": "stream",
     "text": [
      "Repository name: grequests\n",
      "Repository description: Requests + Gevent = <3\n"
     ]
    }
   ],
   "source": [
    "import requests\n",
    "\n",
    "# Search GitHub's repositories for requests\n",
    "response = requests.get(\n",
    "    'https://api.github.com/search/repositories',\n",
    "    params={'q': 'requests+language:python'},\n",
    ")\n",
    "\n",
    "# Inspect some attributes of the `requests` repository\n",
    "json_response = response.json()\n",
    "repository = json_response['items'][0]\n",
    "print(f'Repository name: {repository[\"name\"]}')  # Python 3.6+\n",
    "print(f'Repository description: {repository[\"description\"]}')  # Python 3.6+"
   ]
  },
  {
   "cell_type": "code",
   "execution_count": 36,
   "id": "df94a167-96d9-478c-84a3-216ed38c1ed5",
   "metadata": {},
   "outputs": [],
   "source": [
    "## By passing the dictionary {'q': 'requests+language:python'} to the params parameter of .get(), you are able to modify the results that come back from the Search API.\n",
    "\n",
    "## You can pass params to get() in the form of a dictionary, as you have just done, or as a list of tuples:"
   ]
  },
  {
   "cell_type": "code",
   "execution_count": 37,
   "id": "ea7e56c6-3d28-427d-83e4-861e023e03bf",
   "metadata": {},
   "outputs": [
    {
     "data": {
      "text/plain": [
       "<Response [200]>"
      ]
     },
     "execution_count": 37,
     "metadata": {},
     "output_type": "execute_result"
    }
   ],
   "source": [
    ">>> requests.get(\n",
    "...     'https://api.github.com/search/repositories',\n",
    "...     params=[('q', 'requests+language:python')],\n",
    "... )"
   ]
  },
  {
   "cell_type": "code",
   "execution_count": 38,
   "id": "4c5f0a84-c74c-44f1-a29e-bd43b11073bb",
   "metadata": {},
   "outputs": [],
   "source": [
    "## You can even pass the values as bytes:"
   ]
  },
  {
   "cell_type": "code",
   "execution_count": 39,
   "id": "adeb147f-e8aa-4515-b02a-68fa5e623b54",
   "metadata": {},
   "outputs": [
    {
     "data": {
      "text/plain": [
       "<Response [200]>"
      ]
     },
     "execution_count": 39,
     "metadata": {},
     "output_type": "execute_result"
    }
   ],
   "source": [
    ">>> requests.get(\n",
    "...     'https://api.github.com/search/repositories',\n",
    "...     params=b'q=requests+language:python',\n",
    "... )"
   ]
  },
  {
   "cell_type": "code",
   "execution_count": 40,
   "id": "23d06be9-68ba-493e-93c0-a0cede752e8d",
   "metadata": {},
   "outputs": [],
   "source": [
    "## Query strings are useful for parameterizing GET requests. You can also customize your requests by adding or modifying the headers you send."
   ]
  },
  {
   "cell_type": "code",
   "execution_count": 41,
   "id": "443a0b21-1b18-4e58-a9db-cc8d75d92789",
   "metadata": {},
   "outputs": [],
   "source": [
    "## Request Headers\n",
    "\n",
    "### To customize headers, you pass a dictionary of HTTP headers to get() using the headers parameter. \n",
    "### For example, you can change your previous search request to highlight matching search terms in the results by specifying the text-match media type in the Accept header:"
   ]
  },
  {
   "cell_type": "code",
   "execution_count": 42,
   "id": "bc9af6e7-092d-4645-bbc2-20268d6d6933",
   "metadata": {},
   "outputs": [
    {
     "name": "stdout",
     "output_type": "stream",
     "text": [
      "Text matches: [{'object_url': 'https://api.github.com/repositories/4290214', 'object_type': 'Repository', 'property': 'description', 'fragment': 'Requests + Gevent = <3', 'matches': [{'text': 'Requests', 'indices': [0, 8]}]}]\n"
     ]
    }
   ],
   "source": [
    "import requests\n",
    "\n",
    "response = requests.get(\n",
    "    'https://api.github.com/search/repositories',\n",
    "    params={'q': 'requests+language:python'},\n",
    "    headers={'Accept': 'application/vnd.github.v3.text-match+json'},\n",
    ")\n",
    "\n",
    "# View the new `text-matches` array which provides information\n",
    "# about your search term within the results\n",
    "json_response = response.json()\n",
    "repository = json_response['items'][0]\n",
    "print(f'Text matches: {repository[\"text_matches\"]}')"
   ]
  },
  {
   "cell_type": "code",
   "execution_count": 43,
   "id": "f330cb4c-ed92-4eb4-a800-a9a8d98c336c",
   "metadata": {},
   "outputs": [],
   "source": [
    "## The Accept header tells the server what content types your application can handle. \n",
    "## In this case, since you’re expecting the matching search terms to be highlighted, you’re using the header value application/vnd.github.v3.text-match+json, \n",
    "## which is a proprietary GitHub Accept header where the content is a special JSON format.\n",
    "\n",
    "## Before you learn more ways to customize requests, let’s broaden the horizon by exploring other HTTP methods.\n",
    "\n"
   ]
  },
  {
   "cell_type": "code",
   "execution_count": 44,
   "id": "bdc0aedd-64a4-424c-83b2-e7f25acda795",
   "metadata": {},
   "outputs": [],
   "source": [
    "## Other HTTP Methods\n",
    "\n",
    "### Aside from GET, other popular HTTP methods include POST, PUT, DELETE, HEAD, PATCH, and OPTIONS. \n",
    "### requests provides a method, with a similar signature to get(), for each of these HTTP methods:"
   ]
  },
  {
   "cell_type": "code",
   "execution_count": 45,
   "id": "3798365f-e395-414f-bb13-26d953f3961c",
   "metadata": {},
   "outputs": [
    {
     "data": {
      "text/plain": [
       "<Response [200]>"
      ]
     },
     "execution_count": 45,
     "metadata": {},
     "output_type": "execute_result"
    }
   ],
   "source": [
    ">>> requests.post('https://httpbin.org/post', data={'key':'value'})\n",
    ">>> requests.put('https://httpbin.org/put', data={'key':'value'})\n",
    ">>> requests.delete('https://httpbin.org/delete')\n",
    ">>> requests.head('https://httpbin.org/get')\n",
    ">>> requests.patch('https://httpbin.org/patch', data={'key':'value'})\n",
    ">>> requests.options('https://httpbin.org/get')"
   ]
  },
  {
   "cell_type": "code",
   "execution_count": 46,
   "id": "ef9af572-5035-40e7-a7a0-ba4d6239eaa1",
   "metadata": {},
   "outputs": [],
   "source": [
    "## Each function call makes a request to the httpbin service using the corresponding HTTP method. \n",
    "## For each method, you can inspect their responses in the same way you did before:"
   ]
  },
  {
   "cell_type": "code",
   "execution_count": 47,
   "id": "2fc4e304-aae4-4da1-9c39-aa51c36c730d",
   "metadata": {},
   "outputs": [
    {
     "data": {
      "text/plain": [
       "{}"
      ]
     },
     "execution_count": 47,
     "metadata": {},
     "output_type": "execute_result"
    }
   ],
   "source": [
    ">>> response = requests.head('https://httpbin.org/get')\n",
    ">>> response.headers['Content-Type']\n",
    "'application/json'\n",
    "\n",
    ">>> response = requests.delete('https://httpbin.org/delete')\n",
    ">>> json_response = response.json()\n",
    ">>> json_response['args']\n",
    "{}"
   ]
  },
  {
   "cell_type": "code",
   "execution_count": 48,
   "id": "e0d5de6d-c84a-41b6-b5be-a5f9b4f155e9",
   "metadata": {},
   "outputs": [],
   "source": [
    "## Headers, response bodies, status codes, and more are returned in the Response for each method. \n",
    "## Next you’ll take a closer look at the POST, PUT, and PATCH methods and learn how they differ from the other request types."
   ]
  },
  {
   "cell_type": "code",
   "execution_count": 49,
   "id": "d183a086-9616-45c9-bfe9-afc4c3874c3c",
   "metadata": {},
   "outputs": [],
   "source": [
    "### The Message Body\n",
    "\n",
    "## According to the HTTP specification, POST, PUT, and the less common PATCH requests pass their data through the message body rather than through parameters in the query string. \n",
    "## Using requests, you’ll pass the payload to the corresponding function’s data parameter.\n",
    "\n",
    "## data takes a dictionary, a list of tuples, bytes, or a file-like object. \n",
    "## You’ll want to adapt the data you send in the body of your request to the specific needs of the service you’re interacting with.\n",
    "\n",
    "## For example, if your request’s content type is application/x-www-form-urlencoded, you can send the form data as a dictionary:"
   ]
  },
  {
   "cell_type": "code",
   "execution_count": 51,
   "id": "097977c1-ba5f-48c7-aa20-0d10258a43f8",
   "metadata": {},
   "outputs": [
    {
     "data": {
      "text/plain": [
       "<Response [200]>"
      ]
     },
     "execution_count": 51,
     "metadata": {},
     "output_type": "execute_result"
    }
   ],
   "source": [
    ">>> requests.post('https://httpbin.org/post', data={'key':'value'})\n"
   ]
  },
  {
   "cell_type": "code",
   "execution_count": 52,
   "id": "dd42142e-5dc6-4656-9414-15bae88263a5",
   "metadata": {},
   "outputs": [],
   "source": [
    "## You can also send that same data as a list of tuples:"
   ]
  },
  {
   "cell_type": "code",
   "execution_count": 53,
   "id": "ee8ca1f9-b313-4ce3-9f49-d4e814f2d141",
   "metadata": {},
   "outputs": [
    {
     "data": {
      "text/plain": [
       "<Response [200]>"
      ]
     },
     "execution_count": 53,
     "metadata": {},
     "output_type": "execute_result"
    }
   ],
   "source": [
    ">>> requests.post('https://httpbin.org/post', data=[('key', 'value')])"
   ]
  },
  {
   "cell_type": "code",
   "execution_count": 54,
   "id": "7490672f-d219-4542-be8e-c6a01a7dda58",
   "metadata": {},
   "outputs": [],
   "source": [
    "## If, however, you need to send JSON data, you can use the json parameter. When you pass JSON data via json, requests will serialize your data and add the correct Content-Type header for you.\n",
    "\n",
    "## httpbin.org is a great resource created by the author of requests, Kenneth Reitz. \n",
    "## It’s a service that accepts test requests and responds with data about the requests. For instance, you can use it to inspect a basic POST request:"
   ]
  },
  {
   "cell_type": "code",
   "execution_count": 55,
   "id": "e0281531-d374-401a-a140-c1880a196518",
   "metadata": {},
   "outputs": [
    {
     "data": {
      "text/plain": [
       "'application/json'"
      ]
     },
     "execution_count": 55,
     "metadata": {},
     "output_type": "execute_result"
    }
   ],
   "source": [
    ">>> response = requests.post('https://httpbin.org/post', json={'key':'value'})\n",
    ">>> json_response = response.json()\n",
    ">>> json_response['data']\n",
    "'{\"key\": \"value\"}'\n",
    ">>> json_response['headers']['Content-Type']\n",
    "'application/json'"
   ]
  },
  {
   "cell_type": "code",
   "execution_count": 56,
   "id": "0cca18df-519f-4d0e-8d9c-ca2c2a3eece4",
   "metadata": {},
   "outputs": [],
   "source": [
    "## You can see from the response that the server received your request data and headers as you sent them. \n",
    "## requests also provides this information to you in the form of a PreparedRequest."
   ]
  },
  {
   "cell_type": "code",
   "execution_count": 57,
   "id": "9288bb49-6d69-44e9-a544-c5af9cc190e9",
   "metadata": {},
   "outputs": [],
   "source": [
    "### Inspecting Your Request\n",
    "\n",
    "\n",
    "## When you make a request, the requests library prepares the request before actually sending it to the destination server. \n",
    "## Request preparation includes things like validating headers and serializing JSON content.\n",
    "\n",
    "## You can view the PreparedRequest by accessing .request:"
   ]
  },
  {
   "cell_type": "code",
   "execution_count": 58,
   "id": "a1ccc695-ba0a-4e9a-b2ab-fdb45ef899f8",
   "metadata": {},
   "outputs": [
    {
     "data": {
      "text/plain": [
       "b'{\"key\": \"value\"}'"
      ]
     },
     "execution_count": 58,
     "metadata": {},
     "output_type": "execute_result"
    }
   ],
   "source": [
    ">>> response = requests.post('https://httpbin.org/post', json={'key':'value'})\n",
    ">>> response.request.headers['Content-Type']\n",
    "'application/json'\n",
    ">>> response.request.url\n",
    "'https://httpbin.org/post'\n",
    ">>> response.request.body\n",
    "b'{\"key\": \"value\"}'"
   ]
  },
  {
   "cell_type": "code",
   "execution_count": 59,
   "id": "d93fdadc-6e4c-4b11-ba51-c0037cc4bec1",
   "metadata": {},
   "outputs": [],
   "source": [
    "## Inspecting the PreparedRequest gives you access to all kinds of information about the request being made such as payload, URL, headers, authentication, and more.\n",
    "\n",
    "## So far, you’ve made a lot of different kinds of requests, but they’ve all had one thing in common: they’re unauthenticated requests to public APIs. \n",
    "## Many services you may come across will want you to authenticate in some way.\n",
    "\n"
   ]
  },
  {
   "cell_type": "code",
   "execution_count": 60,
   "id": "d7408f2c-c5a3-4815-a206-010e8f93cfe0",
   "metadata": {},
   "outputs": [],
   "source": [
    "### Authentication\n",
    "\n",
    "\n",
    "## Authentication helps a service understand who you are. Typically, you provide your credentials to a server by passing data through the Authorization header or a custom header defined by the service. \n",
    "## All the request functions you’ve seen to this point provide a parameter called auth, which allows you to pass your credentials.\n",
    "\n",
    "## One example of an API that requires authentication is GitHub’s Authenticated User API. This endpoint provides information about the authenticated user’s profile. \n",
    "## To make a request to the Authenticated User API, you can pass your GitHub username and password in a tuple to get():\n",
    "\n"
   ]
  },
  {
   "cell_type": "code",
   "execution_count": 61,
   "id": "0d2c1340-50b0-4063-abc1-769507160004",
   "metadata": {},
   "outputs": [
    {
     "name": "stdin",
     "output_type": "stream",
     "text": [
      " ········\n"
     ]
    },
    {
     "data": {
      "text/plain": [
       "<Response [401]>"
      ]
     },
     "execution_count": 61,
     "metadata": {},
     "output_type": "execute_result"
    }
   ],
   "source": [
    ">>> from getpass import getpass\n",
    ">>> requests.get('https://api.github.com/user', auth=('username', getpass()))"
   ]
  },
  {
   "cell_type": "code",
   "execution_count": 62,
   "id": "0a0e9152-fcf9-4153-8d57-de52f1137429",
   "metadata": {},
   "outputs": [],
   "source": [
    "## The request succeeded if the credentials you passed in the tuple to auth are valid. \n",
    "## If you try to make this request with no credentials, you’ll see that the status code is 401 Unauthorized:"
   ]
  },
  {
   "cell_type": "code",
   "execution_count": 63,
   "id": "eb612acd-b12b-4392-b4ff-fcc3011b69ca",
   "metadata": {},
   "outputs": [
    {
     "data": {
      "text/plain": [
       "<Response [401]>"
      ]
     },
     "execution_count": 63,
     "metadata": {},
     "output_type": "execute_result"
    }
   ],
   "source": [
    ">>> requests.get('https://api.github.com/user')"
   ]
  },
  {
   "cell_type": "code",
   "execution_count": 64,
   "id": "9f086e71-73de-4a62-b9ef-6be450127828",
   "metadata": {},
   "outputs": [],
   "source": [
    "## When you pass your username and password in a tuple to the auth parameter, requests is applying the credentials using HTTP’s Basic access authentication scheme under the hood.\n",
    "\n",
    "## Therefore, you could make the same request by passing explicit Basic authentication credentials using HTTPBasicAuth:"
   ]
  },
  {
   "cell_type": "code",
   "execution_count": 65,
   "id": "9d9c94b0-0a9c-4f57-8503-f5cb37d6cc93",
   "metadata": {},
   "outputs": [
    {
     "name": "stdin",
     "output_type": "stream",
     "text": [
      " ········\n"
     ]
    },
    {
     "data": {
      "text/plain": [
       "<Response [401]>"
      ]
     },
     "execution_count": 65,
     "metadata": {},
     "output_type": "execute_result"
    }
   ],
   "source": [
    ">>> from requests.auth import HTTPBasicAuth\n",
    ">>> from getpass import getpass\n",
    ">>> requests.get(\n",
    "...     'https://api.github.com/user',\n",
    "...     auth=HTTPBasicAuth('username', getpass())\n",
    "... )"
   ]
  },
  {
   "cell_type": "code",
   "execution_count": 66,
   "id": "271274b6-f0e5-4c8d-9948-5e4f0b82a222",
   "metadata": {},
   "outputs": [],
   "source": [
    "## Though you don’t need to be explicit for Basic authentication, you may want to authenticate using another method. \n",
    "## requests provides other methods of authentication out of the box such as HTTPDigestAuth and HTTPProxyAuth.\n",
    "\n",
    "## You can even supply your own authentication mechanism. To do so, you must first create a subclass of AuthBase. Then, you implement __call__():\n",
    "\n"
   ]
  },
  {
   "cell_type": "code",
   "execution_count": 67,
   "id": "896d9bc5-7b8e-4b65-ac20-7f611d58cce8",
   "metadata": {},
   "outputs": [
    {
     "data": {
      "text/plain": [
       "<Response [200]>"
      ]
     },
     "execution_count": 67,
     "metadata": {},
     "output_type": "execute_result"
    }
   ],
   "source": [
    "import requests\n",
    "from requests.auth import AuthBase\n",
    "\n",
    "class TokenAuth(AuthBase):\n",
    "    \"\"\"Implements a custom authentication scheme.\"\"\"\n",
    "\n",
    "    def __init__(self, token):\n",
    "        self.token = token\n",
    "\n",
    "    def __call__(self, r):\n",
    "        \"\"\"Attach an API token to a custom auth header.\"\"\"\n",
    "        r.headers['X-TokenAuth'] = f'{self.token}'  # Python 3.6+\n",
    "        return r\n",
    "\n",
    "\n",
    "requests.get('https://httpbin.org/get', auth=TokenAuth('12345abcde-token'))"
   ]
  },
  {
   "cell_type": "code",
   "execution_count": 68,
   "id": "9f65a132-5943-4247-ae27-8cc38b3f7131",
   "metadata": {},
   "outputs": [],
   "source": [
    "## Here, your custom TokenAuth mechanism receives a token, then includes that token in the X-TokenAuth header of your request.\n",
    "\n",
    "## Bad authentication mechanisms can lead to security vulnerabilities, so unless a service requires a custom authentication mechanism for some reason, you’ll always want to use a tried-and-true auth scheme like Basic or OAuth.\n",
    "\n",
    "## While you’re thinking about security, let’s consider dealing with SSL Certificates using requests."
   ]
  },
  {
   "cell_type": "code",
   "execution_count": 69,
   "id": "5cc1780b-7572-4f98-be5f-40870315b16f",
   "metadata": {},
   "outputs": [],
   "source": [
    "### SSL Certificate Verification\n",
    "\n",
    "## Any time the data you are trying to send or receive is sensitive, security is important. \n",
    "## The way that you communicate with secure sites over HTTP is by establishing an encrypted connection using SSL, which means that verifying the target server’s SSL Certificate is critical.\n",
    "\n",
    "## The good news is that requests does this for you by default. However, there are some cases where you might want to change this behavior.\n",
    "\n",
    "## If you want to disable SSL Certificate verification, you pass False to the verify parameter of the request function:"
   ]
  },
  {
   "cell_type": "code",
   "execution_count": 70,
   "id": "10eadb05-9f07-47fd-9760-618488c38210",
   "metadata": {},
   "outputs": [
    {
     "name": "stderr",
     "output_type": "stream",
     "text": [
      "/opt/homebrew/Caskroom/miniforge/base/envs/THE_ONE/lib/python3.8/site-packages/urllib3/connectionpool.py:1045: InsecureRequestWarning: Unverified HTTPS request is being made to host 'api.github.com'. Adding certificate verification is strongly advised. See: https://urllib3.readthedocs.io/en/1.26.x/advanced-usage.html#ssl-warnings\n",
      "  warnings.warn(\n"
     ]
    },
    {
     "data": {
      "text/plain": [
       "<Response [200]>"
      ]
     },
     "execution_count": 70,
     "metadata": {},
     "output_type": "execute_result"
    }
   ],
   "source": [
    ">>> requests.get('https://api.github.com', verify=False)"
   ]
  },
  {
   "cell_type": "code",
   "execution_count": 71,
   "id": "b3eb73c7-6394-41b9-a15f-acc297b92c2a",
   "metadata": {},
   "outputs": [],
   "source": [
    "## requests even warns you when you’re making an insecure request to help you keep your data safe!"
   ]
  },
  {
   "cell_type": "code",
   "execution_count": 72,
   "id": "9ead08a8-b512-4b92-a50a-19164e024ad5",
   "metadata": {},
   "outputs": [],
   "source": [
    "### Performance\n",
    "\n",
    "\n",
    "## When using requests, especially in a production application environment, it’s important to consider performance implications. \n",
    "## Features like timeout control, sessions, and retry limits can help you keep your application running smoothly.\n",
    "\n"
   ]
  },
  {
   "cell_type": "code",
   "execution_count": 73,
   "id": "d7a5111a-0a31-430a-b0d3-2dfb28bcb68f",
   "metadata": {},
   "outputs": [],
   "source": [
    "### Timeouts\n",
    "\n",
    "## When you make an inline request to an external service, your system will need to wait upon the response before moving on. \n",
    "## If your application waits too long for that response, requests to your service could back up, your user experience could suffer, or your background jobs could hang.\n",
    "\n",
    "## By default, requests will wait indefinitely on the response, so you should almost always specify a timeout duration to prevent these things from happening. \n",
    "## To set the request’s timeout, use the timeout parameter. timeout can be an integer or float representing the number of seconds to wait on a response before timing out:"
   ]
  },
  {
   "cell_type": "code",
   "execution_count": 74,
   "id": "571b3db7-4b29-4c39-8dab-ebcaa6511aa9",
   "metadata": {},
   "outputs": [
    {
     "data": {
      "text/plain": [
       "<Response [200]>"
      ]
     },
     "execution_count": 74,
     "metadata": {},
     "output_type": "execute_result"
    }
   ],
   "source": [
    ">>> requests.get('https://api.github.com', timeout=1)\n"
   ]
  },
  {
   "cell_type": "code",
   "execution_count": 75,
   "id": "362ea4a9-b2d0-4ddf-8fdf-99ee9f441872",
   "metadata": {},
   "outputs": [
    {
     "data": {
      "text/plain": [
       "<Response [200]>"
      ]
     },
     "execution_count": 75,
     "metadata": {},
     "output_type": "execute_result"
    }
   ],
   "source": [
    "\n",
    ">>> requests.get('https://api.github.com', timeout=3.05)"
   ]
  },
  {
   "cell_type": "code",
   "execution_count": 76,
   "id": "eb87182c-d9cd-4894-8f94-ed50722dacd0",
   "metadata": {},
   "outputs": [],
   "source": [
    "## In the first request, the request will timeout after 1 second. In the second request, the request will timeout after 3.05 seconds.\n",
    "\n",
    "## You can also pass a tuple to timeout with the first element being a connect timeout (the time it allows for the client to establish a connection to the server), \n",
    "## and the second being a read timeout (the time it will wait on a response once your client has established a connection):"
   ]
  },
  {
   "cell_type": "code",
   "execution_count": 77,
   "id": "4f9d4ef4-ad9f-41aa-90e2-cd28fd98af97",
   "metadata": {},
   "outputs": [
    {
     "data": {
      "text/plain": [
       "<Response [200]>"
      ]
     },
     "execution_count": 77,
     "metadata": {},
     "output_type": "execute_result"
    }
   ],
   "source": [
    ">>> requests.get('https://api.github.com', timeout=(2, 5))"
   ]
  },
  {
   "cell_type": "code",
   "execution_count": 78,
   "id": "2d2853f2-682a-48f9-8c3e-9cc0dd8d950e",
   "metadata": {},
   "outputs": [],
   "source": [
    "## If the request establishes a connection within 2 seconds and receives data within 5 seconds of the connection being established, then the response will be returned as it was before. \n",
    "## If the request times out, then the function will raise a Timeout exception:"
   ]
  },
  {
   "cell_type": "code",
   "execution_count": 79,
   "id": "972f0312-d956-4e16-ba0e-672e2648fe4c",
   "metadata": {},
   "outputs": [
    {
     "name": "stdout",
     "output_type": "stream",
     "text": [
      "The request did not time out\n"
     ]
    }
   ],
   "source": [
    "import requests\n",
    "from requests.exceptions import Timeout\n",
    "\n",
    "try:\n",
    "    response = requests.get('https://api.github.com', timeout=1)\n",
    "except Timeout:\n",
    "    print('The request timed out')\n",
    "else:\n",
    "    print('The request did not time out')"
   ]
  },
  {
   "cell_type": "code",
   "execution_count": 80,
   "id": "c03b2182-5abc-4804-84a4-3168a455d732",
   "metadata": {},
   "outputs": [],
   "source": [
    "## Your program can catch the Timeout exception and respond accordingly."
   ]
  },
  {
   "cell_type": "code",
   "execution_count": 81,
   "id": "39a6e08c-43b2-4ae5-9bca-5de5b8519ca2",
   "metadata": {},
   "outputs": [],
   "source": [
    "### The Session Object\n",
    "\n",
    "\n",
    "## Until now, you’ve been dealing with high level requests APIs such as get() and post(). These functions are abstractions of what’s going on when you make your requests. \n",
    "## They hide implementation details such as how connections are managed so that you don’t have to worry about them.\n",
    "\n",
    "## Underneath those abstractions is a class called Session. \n",
    "## If you need to fine-tune your control over how requests are being made or improve the performance of your requests, you may need to use a Session instance directly.\n",
    "\n",
    "## Sessions are used to persist parameters across requests. For example, if you want to use the same authentication across multiple requests, you could use a session:\n",
    "\n"
   ]
  },
  {
   "cell_type": "code",
   "execution_count": 82,
   "id": "d96ebc60-ccd6-4e6b-a227-9445fc878c55",
   "metadata": {},
   "outputs": [
    {
     "name": "stdin",
     "output_type": "stream",
     "text": [
      " ········\n"
     ]
    },
    {
     "name": "stdout",
     "output_type": "stream",
     "text": [
      "{'Server': 'GitHub.com', 'Date': 'Tue, 29 Nov 2022 04:01:59 GMT', 'Content-Type': 'application/json; charset=utf-8', 'Content-Length': '131', 'X-GitHub-Media-Type': 'github.v3; format=json', 'x-github-api-version-selected': '2022-11-28', 'X-RateLimit-Limit': '60', 'X-RateLimit-Remaining': '57', 'X-RateLimit-Reset': '1669697656', 'X-RateLimit-Used': '3', 'X-RateLimit-Resource': 'core', 'Access-Control-Expose-Headers': 'ETag, Link, Location, Retry-After, X-GitHub-OTP, X-RateLimit-Limit, X-RateLimit-Remaining, X-RateLimit-Used, X-RateLimit-Resource, X-RateLimit-Reset, X-OAuth-Scopes, X-Accepted-OAuth-Scopes, X-Poll-Interval, X-GitHub-Media-Type, X-GitHub-SSO, X-GitHub-Request-Id, Deprecation, Sunset', 'Access-Control-Allow-Origin': '*', 'Strict-Transport-Security': 'max-age=31536000; includeSubdomains; preload', 'X-Frame-Options': 'deny', 'X-Content-Type-Options': 'nosniff', 'X-XSS-Protection': '0', 'Referrer-Policy': 'origin-when-cross-origin, strict-origin-when-cross-origin', 'Content-Security-Policy': \"default-src 'none'\", 'Vary': 'Accept-Encoding, Accept, X-Requested-With', 'X-GitHub-Request-Id': 'B006:D6E9:F74353:FACAAC:63858436'}\n",
      "{'message': 'Requires authentication', 'documentation_url': 'https://docs.github.com/rest/reference/users#get-the-authenticated-user'}\n"
     ]
    }
   ],
   "source": [
    "import requests\n",
    "from getpass import getpass\n",
    "\n",
    "# By using a context manager, you can ensure the resources used by\n",
    "# the session will be released after use\n",
    "with requests.Session() as session:\n",
    "    session.auth = ('username', getpass())\n",
    "\n",
    "    # Instead of requests.get(), you'll use session.get()\n",
    "    response = session.get('https://api.github.com/user')\n",
    "\n",
    "# You can inspect the response just like you did before\n",
    "print(response.headers)\n",
    "print(response.json())"
   ]
  },
  {
   "cell_type": "code",
   "execution_count": 83,
   "id": "7299b314-bbd4-42c0-9a65-db8b47fb0206",
   "metadata": {},
   "outputs": [],
   "source": [
    "##Each time you make a request with session, once it has been initialized with authentication credentials, the credentials will be persisted.\n",
    "\n",
    "## The primary performance optimization of sessions comes in the form of persistent connections. \n",
    "## When your app makes a connection to a server using a Session, it keeps that connection around in a connection pool.\n",
    "## When your app wants to connect to the same server again, it will reuse a connection from the pool rather than establishing a new one."
   ]
  },
  {
   "cell_type": "code",
   "execution_count": 84,
   "id": "a97f7b8f-94b7-4d11-b93c-b22277ed9315",
   "metadata": {},
   "outputs": [],
   "source": [
    "### Max Retries\n",
    "\n",
    "## When a request fails, you may want your application to retry the same request.\n",
    "## However, requests will not do this for you by default. To apply this functionality, you need to implement a custom Transport Adapter.\n",
    "\n",
    "## Transport Adapters let you define a set of configurations per service you’re interacting with. \n",
    "## For example, let’s say you want all requests to https://api.github.com to retry three times before finally raising a ConnectionError.\n",
    "## You would build a Transport Adapter, set its max_retries parameter, and mount it to an existing Session:"
   ]
  },
  {
   "cell_type": "code",
   "execution_count": 85,
   "id": "eaa137fe-71c7-4e15-be23-afbcecde44eb",
   "metadata": {},
   "outputs": [],
   "source": [
    "import requests\n",
    "from requests.adapters import HTTPAdapter\n",
    "from requests.exceptions import ConnectionError\n",
    "\n",
    "github_adapter = HTTPAdapter(max_retries=3)\n",
    "\n",
    "session = requests.Session()\n",
    "\n",
    "# Use `github_adapter` for all requests to endpoints that start with this URL\n",
    "session.mount('https://api.github.com', github_adapter)\n",
    "\n",
    "try:\n",
    "    session.get('https://api.github.com')\n",
    "except ConnectionError as ce:\n",
    "    print(ce)"
   ]
  },
  {
   "cell_type": "code",
   "execution_count": 86,
   "id": "0fe49d70-177b-461f-a125-76aca9ef0057",
   "metadata": {},
   "outputs": [],
   "source": [
    "## When you mount the HTTPAdapter, github_adapter, to session, session will adhere to its configuration for each request to https://api.github.com.\n",
    "\n",
    "## Timeouts, Transport Adapters, and sessions are for keeping your code efficient and your application resilient."
   ]
  },
  {
   "cell_type": "code",
   "execution_count": null,
   "id": "09040cef-8d17-456b-8be2-351c63df058a",
   "metadata": {},
   "outputs": [],
   "source": []
  }
 ],
 "metadata": {
  "kernelspec": {
   "display_name": "THE_ONE",
   "language": "python",
   "name": "the_one"
  },
  "language_info": {
   "codemirror_mode": {
    "name": "ipython",
    "version": 3
   },
   "file_extension": ".py",
   "mimetype": "text/x-python",
   "name": "python",
   "nbconvert_exporter": "python",
   "pygments_lexer": "ipython3",
   "version": "3.8.15"
  }
 },
 "nbformat": 4,
 "nbformat_minor": 5
}
