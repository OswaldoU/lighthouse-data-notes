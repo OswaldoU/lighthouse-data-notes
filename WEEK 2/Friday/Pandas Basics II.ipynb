{
 "cells": [
  {
   "cell_type": "code",
   "execution_count": 1,
   "id": "066ddb26-d450-4022-9d45-0e9471c31364",
   "metadata": {},
   "outputs": [],
   "source": [
    "import numpy as np\n",
    "import pandas as pd\n"
   ]
  },
  {
   "cell_type": "code",
   "execution_count": 2,
   "id": "09cd0817-eedd-451b-aeda-1bdf1d12f68a",
   "metadata": {},
   "outputs": [],
   "source": [
    "### Boolean Comparisons\n",
    "\n",
    "## Series and DataFrame have the binary comparison methods eq, ne, le, lt, ge, and gt whose behavior is vectorized:\n",
    "\n",
    "# - eq (equivalent to ==) — equals to\n",
    "# - ne (equivalent to !=) — not equals to\n",
    "# - le (equivalent to <=) — less than or equals to\n",
    "# - lt (equivalent to <) — less than\n",
    "# - ge (equivalent to >=) — greater than or equals to\n",
    "# - gt (equivalent to >) — greater than"
   ]
  },
  {
   "cell_type": "code",
   "execution_count": 3,
   "id": "9c958df0-91dc-445e-8bf8-dc35b2a41bea",
   "metadata": {},
   "outputs": [],
   "source": [
    "df = pd.DataFrame({\n",
    "        'one': pd.Series(np.random.randn(3), index=['a', 'b', 'c']),\n",
    "        'two': pd.Series(np.random.randn(4), index=['a', 'b', 'c', 'd']),\n",
    "        'three': pd.Series(np.random.randn(3), index=['b', 'c', 'd'])})\n"
   ]
  },
  {
   "cell_type": "code",
   "execution_count": 4,
   "id": "25a155e2-cf6c-4db6-b242-94d8ee715756",
   "metadata": {},
   "outputs": [],
   "source": [
    "df2 = df.copy()"
   ]
  },
  {
   "cell_type": "code",
   "execution_count": 5,
   "id": "6e5cf117-c168-4690-9ba4-3ce2ad72ae13",
   "metadata": {},
   "outputs": [
    {
     "data": {
      "text/html": [
       "<div>\n",
       "<style scoped>\n",
       "    .dataframe tbody tr th:only-of-type {\n",
       "        vertical-align: middle;\n",
       "    }\n",
       "\n",
       "    .dataframe tbody tr th {\n",
       "        vertical-align: top;\n",
       "    }\n",
       "\n",
       "    .dataframe thead th {\n",
       "        text-align: right;\n",
       "    }\n",
       "</style>\n",
       "<table border=\"1\" class=\"dataframe\">\n",
       "  <thead>\n",
       "    <tr style=\"text-align: right;\">\n",
       "      <th></th>\n",
       "      <th>one</th>\n",
       "      <th>two</th>\n",
       "      <th>three</th>\n",
       "    </tr>\n",
       "  </thead>\n",
       "  <tbody>\n",
       "    <tr>\n",
       "      <th>a</th>\n",
       "      <td>False</td>\n",
       "      <td>False</td>\n",
       "      <td>False</td>\n",
       "    </tr>\n",
       "    <tr>\n",
       "      <th>b</th>\n",
       "      <td>False</td>\n",
       "      <td>False</td>\n",
       "      <td>False</td>\n",
       "    </tr>\n",
       "    <tr>\n",
       "      <th>c</th>\n",
       "      <td>False</td>\n",
       "      <td>False</td>\n",
       "      <td>False</td>\n",
       "    </tr>\n",
       "    <tr>\n",
       "      <th>d</th>\n",
       "      <td>False</td>\n",
       "      <td>False</td>\n",
       "      <td>False</td>\n",
       "    </tr>\n",
       "  </tbody>\n",
       "</table>\n",
       "</div>"
      ],
      "text/plain": [
       "     one    two  three\n",
       "a  False  False  False\n",
       "b  False  False  False\n",
       "c  False  False  False\n",
       "d  False  False  False"
      ]
     },
     "execution_count": 5,
     "metadata": {},
     "output_type": "execute_result"
    }
   ],
   "source": [
    "df.gt(df2)"
   ]
  },
  {
   "cell_type": "code",
   "execution_count": 6,
   "id": "b29fcd1d-41cd-415a-a2f2-0ffe8a06e819",
   "metadata": {},
   "outputs": [
    {
     "data": {
      "text/html": [
       "<div>\n",
       "<style scoped>\n",
       "    .dataframe tbody tr th:only-of-type {\n",
       "        vertical-align: middle;\n",
       "    }\n",
       "\n",
       "    .dataframe tbody tr th {\n",
       "        vertical-align: top;\n",
       "    }\n",
       "\n",
       "    .dataframe thead th {\n",
       "        text-align: right;\n",
       "    }\n",
       "</style>\n",
       "<table border=\"1\" class=\"dataframe\">\n",
       "  <thead>\n",
       "    <tr style=\"text-align: right;\">\n",
       "      <th></th>\n",
       "      <th>one</th>\n",
       "      <th>two</th>\n",
       "      <th>three</th>\n",
       "    </tr>\n",
       "  </thead>\n",
       "  <tbody>\n",
       "    <tr>\n",
       "      <th>a</th>\n",
       "      <td>False</td>\n",
       "      <td>False</td>\n",
       "      <td>True</td>\n",
       "    </tr>\n",
       "    <tr>\n",
       "      <th>b</th>\n",
       "      <td>False</td>\n",
       "      <td>False</td>\n",
       "      <td>False</td>\n",
       "    </tr>\n",
       "    <tr>\n",
       "      <th>c</th>\n",
       "      <td>False</td>\n",
       "      <td>False</td>\n",
       "      <td>False</td>\n",
       "    </tr>\n",
       "    <tr>\n",
       "      <th>d</th>\n",
       "      <td>True</td>\n",
       "      <td>False</td>\n",
       "      <td>False</td>\n",
       "    </tr>\n",
       "  </tbody>\n",
       "</table>\n",
       "</div>"
      ],
      "text/plain": [
       "     one    two  three\n",
       "a  False  False   True\n",
       "b  False  False  False\n",
       "c  False  False  False\n",
       "d   True  False  False"
      ]
     },
     "execution_count": 6,
     "metadata": {},
     "output_type": "execute_result"
    }
   ],
   "source": [
    "df2.ne(df)"
   ]
  },
  {
   "cell_type": "code",
   "execution_count": 7,
   "id": "da8aa115-ae6c-4c84-8215-45aec295fca0",
   "metadata": {},
   "outputs": [
    {
     "data": {
      "text/plain": [
       "False"
      ]
     },
     "execution_count": 7,
     "metadata": {},
     "output_type": "execute_result"
    }
   ],
   "source": [
    "np.nan == np.nan"
   ]
  },
  {
   "cell_type": "code",
   "execution_count": 8,
   "id": "91a51592-85b3-4b03-a89d-0cd2846e955f",
   "metadata": {},
   "outputs": [
    {
     "data": {
      "text/plain": [
       "one      False\n",
       "two      False\n",
       "three    False\n",
       "dtype: bool"
      ]
     },
     "execution_count": 8,
     "metadata": {},
     "output_type": "execute_result"
    }
   ],
   "source": [
    "(df > 0).all()"
   ]
  },
  {
   "cell_type": "code",
   "execution_count": 9,
   "id": "16974977-250d-4be7-b3c6-265e76eccb37",
   "metadata": {},
   "outputs": [
    {
     "data": {
      "text/plain": [
       "one      False\n",
       "two       True\n",
       "three    False\n",
       "dtype: bool"
      ]
     },
     "execution_count": 9,
     "metadata": {},
     "output_type": "execute_result"
    }
   ],
   "source": [
    "(df > 0).any()"
   ]
  },
  {
   "cell_type": "code",
   "execution_count": 10,
   "id": "435e482f-66a7-49b6-948b-34ec66ff1a10",
   "metadata": {},
   "outputs": [
    {
     "data": {
      "text/plain": [
       "True"
      ]
     },
     "execution_count": 10,
     "metadata": {},
     "output_type": "execute_result"
    }
   ],
   "source": [
    "(df > 0).any().any()"
   ]
  },
  {
   "cell_type": "code",
   "execution_count": 11,
   "id": "c4678134-d41c-4a29-b02d-280e5bb12984",
   "metadata": {},
   "outputs": [],
   "source": [
    "## To evaluate single-element pandas objects in a boolean context, use the method bool():"
   ]
  },
  {
   "cell_type": "code",
   "execution_count": 12,
   "id": "77ae49fb-d97f-45ec-b9f8-26623b15799d",
   "metadata": {},
   "outputs": [
    {
     "data": {
      "text/plain": [
       "True"
      ]
     },
     "execution_count": 12,
     "metadata": {},
     "output_type": "execute_result"
    }
   ],
   "source": [
    "pd.Series([True]).bool()"
   ]
  },
  {
   "cell_type": "code",
   "execution_count": 13,
   "id": "1cfa2d35-94e7-40c5-a06b-a251e2e1ca68",
   "metadata": {},
   "outputs": [
    {
     "data": {
      "text/plain": [
       "False"
      ]
     },
     "execution_count": 13,
     "metadata": {},
     "output_type": "execute_result"
    }
   ],
   "source": [
    "pd.Series([False]).bool()"
   ]
  },
  {
   "cell_type": "code",
   "execution_count": 14,
   "id": "70eae1aa-7f51-472c-a48c-481ed6c20778",
   "metadata": {},
   "outputs": [
    {
     "data": {
      "text/plain": [
       "True"
      ]
     },
     "execution_count": 14,
     "metadata": {},
     "output_type": "execute_result"
    }
   ],
   "source": [
    "pd.DataFrame([[True]]).bool()"
   ]
  },
  {
   "cell_type": "code",
   "execution_count": 15,
   "id": "f5b86f86-d9a8-4809-8178-004faaa3e175",
   "metadata": {},
   "outputs": [
    {
     "data": {
      "text/plain": [
       "False"
      ]
     },
     "execution_count": 15,
     "metadata": {},
     "output_type": "execute_result"
    }
   ],
   "source": [
    "pd.DataFrame([[False]]).bool()"
   ]
  },
  {
   "cell_type": "code",
   "execution_count": 16,
   "id": "afe3adbb-08e1-4c97-ade2-183e7792f1be",
   "metadata": {},
   "outputs": [],
   "source": [
    "### Objects comparison\n",
    "\n",
    "## You can conveniently perform element-wise comparisons when comparing a pandas data structure with a scalar value:"
   ]
  },
  {
   "cell_type": "code",
   "execution_count": 17,
   "id": "cb1f6876-1682-46af-a771-76300b09038f",
   "metadata": {},
   "outputs": [
    {
     "data": {
      "text/plain": [
       "0     True\n",
       "1    False\n",
       "2    False\n",
       "dtype: bool"
      ]
     },
     "execution_count": 17,
     "metadata": {},
     "output_type": "execute_result"
    }
   ],
   "source": [
    "pd.Series(['foo', 'bar', 'baz']) == 'foo'"
   ]
  },
  {
   "cell_type": "code",
   "execution_count": 18,
   "id": "af407a9c-ec09-4896-941f-002b11c81a27",
   "metadata": {},
   "outputs": [],
   "source": [
    "## Pandas also handles element-wise comparisons between different array-like objects of the same length:"
   ]
  },
  {
   "cell_type": "code",
   "execution_count": 19,
   "id": "5dd505e3-7a9f-4027-8692-8e539a691c0a",
   "metadata": {},
   "outputs": [
    {
     "data": {
      "text/plain": [
       "0     True\n",
       "1     True\n",
       "2    False\n",
       "dtype: bool"
      ]
     },
     "execution_count": 19,
     "metadata": {},
     "output_type": "execute_result"
    }
   ],
   "source": [
    "pd.Series(['foo', 'bar', 'baz']) == pd.Index(['foo', 'bar', 'qux'])"
   ]
  },
  {
   "cell_type": "code",
   "execution_count": 25,
   "id": "fecd2db7-979c-4890-9591-2134c5ed0cae",
   "metadata": {},
   "outputs": [],
   "source": [
    "## Often you may find that there is more than one way to compute the same result. For example, consider df + df and df * 2. \n",
    "## To test that these two computations produce the same result, given the tools shown above, you might imagine using (df + df == df * 2).all().all()."
   ]
  },
  {
   "cell_type": "code",
   "execution_count": 23,
   "id": "461646ce-16f9-4248-ad1c-bf997faa3a29",
   "metadata": {},
   "outputs": [
    {
     "data": {
      "text/plain": [
       "False"
      ]
     },
     "execution_count": 23,
     "metadata": {},
     "output_type": "execute_result"
    }
   ],
   "source": [
    "(df + df == df * 2).all().all()"
   ]
  },
  {
   "cell_type": "code",
   "execution_count": 24,
   "id": "2aed69ed-5bae-41f0-ad23-22701bee8fde",
   "metadata": {},
   "outputs": [
    {
     "data": {
      "text/plain": [
       "False"
      ]
     },
     "execution_count": 24,
     "metadata": {},
     "output_type": "execute_result"
    }
   ],
   "source": [
    "(df * 2 == df * 2).all().all()"
   ]
  },
  {
   "cell_type": "code",
   "execution_count": 26,
   "id": "8490a8bd-17b0-409b-bb15-b4d7e9452055",
   "metadata": {},
   "outputs": [
    {
     "data": {
      "text/plain": [
       "one      False\n",
       "two       True\n",
       "three    False\n",
       "dtype: bool"
      ]
     },
     "execution_count": 26,
     "metadata": {},
     "output_type": "execute_result"
    }
   ],
   "source": [
    "(df + df == df * 2).all()"
   ]
  },
  {
   "cell_type": "code",
   "execution_count": 27,
   "id": "7c156526-e990-4453-ab57-92eb2b07e88b",
   "metadata": {},
   "outputs": [
    {
     "data": {
      "text/html": [
       "<div>\n",
       "<style scoped>\n",
       "    .dataframe tbody tr th:only-of-type {\n",
       "        vertical-align: middle;\n",
       "    }\n",
       "\n",
       "    .dataframe tbody tr th {\n",
       "        vertical-align: top;\n",
       "    }\n",
       "\n",
       "    .dataframe thead th {\n",
       "        text-align: right;\n",
       "    }\n",
       "</style>\n",
       "<table border=\"1\" class=\"dataframe\">\n",
       "  <thead>\n",
       "    <tr style=\"text-align: right;\">\n",
       "      <th></th>\n",
       "      <th>one</th>\n",
       "      <th>two</th>\n",
       "      <th>three</th>\n",
       "    </tr>\n",
       "  </thead>\n",
       "  <tbody>\n",
       "    <tr>\n",
       "      <th>a</th>\n",
       "      <td>True</td>\n",
       "      <td>True</td>\n",
       "      <td>False</td>\n",
       "    </tr>\n",
       "    <tr>\n",
       "      <th>b</th>\n",
       "      <td>True</td>\n",
       "      <td>True</td>\n",
       "      <td>True</td>\n",
       "    </tr>\n",
       "    <tr>\n",
       "      <th>c</th>\n",
       "      <td>True</td>\n",
       "      <td>True</td>\n",
       "      <td>True</td>\n",
       "    </tr>\n",
       "    <tr>\n",
       "      <th>d</th>\n",
       "      <td>False</td>\n",
       "      <td>True</td>\n",
       "      <td>True</td>\n",
       "    </tr>\n",
       "  </tbody>\n",
       "</table>\n",
       "</div>"
      ],
      "text/plain": [
       "     one   two  three\n",
       "a   True  True  False\n",
       "b   True  True   True\n",
       "c   True  True   True\n",
       "d  False  True   True"
      ]
     },
     "execution_count": 27,
     "metadata": {},
     "output_type": "execute_result"
    }
   ],
   "source": [
    "df + df == df * 2"
   ]
  },
  {
   "cell_type": "code",
   "execution_count": 28,
   "id": "dec5b527-0cfb-4ec6-94a6-36d8584ddb57",
   "metadata": {},
   "outputs": [],
   "source": [
    "## This happens because of the problem mentioned above that"
   ]
  },
  {
   "cell_type": "code",
   "execution_count": 29,
   "id": "8644568d-30cf-4fb2-bb54-53c5c2dc3259",
   "metadata": {},
   "outputs": [
    {
     "data": {
      "text/plain": [
       "False"
      ]
     },
     "execution_count": 29,
     "metadata": {},
     "output_type": "execute_result"
    }
   ],
   "source": [
    "np.nan == np.nan"
   ]
  },
  {
   "cell_type": "code",
   "execution_count": 30,
   "id": "7e0d7813-3843-4506-8345-9b1b3cf22c8b",
   "metadata": {},
   "outputs": [],
   "source": [
    "## So, Pandas objects (such as Series and DataFrames) have an equals() method for testing equality, with NaNs in corresponding locations treated as equal."
   ]
  },
  {
   "cell_type": "code",
   "execution_count": 31,
   "id": "f9ef515c-4c31-4bea-8945-c99261e8c517",
   "metadata": {},
   "outputs": [
    {
     "data": {
      "text/plain": [
       "True"
      ]
     },
     "execution_count": 31,
     "metadata": {},
     "output_type": "execute_result"
    }
   ],
   "source": [
    "(df + df).equals(df * 2)"
   ]
  },
  {
   "cell_type": "code",
   "execution_count": 32,
   "id": "123a7795-306a-45b7-9156-4f1ea8a84174",
   "metadata": {},
   "outputs": [],
   "source": [
    "### Descriptive Statistics\n",
    "\n",
    "\n",
    "## There exists a large number of methods for computing descriptive statistics and other related operations on Series, DataFrame. \n",
    "## All of them are vectorized. Most of them are aggregations and produce a lower-dimensional result.\n",
    "\n",
    "## Generally speaking, these methods take an axis as an argument and the axis can be specified by name or integer:"
   ]
  },
  {
   "cell_type": "code",
   "execution_count": 33,
   "id": "e293ce56-e24e-49c8-bde5-1137b6366871",
   "metadata": {},
   "outputs": [
    {
     "data": {
      "text/plain": [
       "one     -0.477452\n",
       "two      0.302817\n",
       "three   -1.408413\n",
       "dtype: float64"
      ]
     },
     "execution_count": 33,
     "metadata": {},
     "output_type": "execute_result"
    }
   ],
   "source": [
    "# Aggregation for each column\n",
    "df.mean(0)"
   ]
  },
  {
   "cell_type": "code",
   "execution_count": 34,
   "id": "ec9f37d0-8aeb-4a81-b9af-34221fcf675b",
   "metadata": {},
   "outputs": [
    {
     "data": {
      "text/plain": [
       "a   -0.175278\n",
       "b   -0.247193\n",
       "c   -0.529726\n",
       "d   -0.882506\n",
       "dtype: float64"
      ]
     },
     "execution_count": 34,
     "metadata": {},
     "output_type": "execute_result"
    }
   ],
   "source": [
    "# Aggregation for each index\n",
    "df.mean(1)"
   ]
  },
  {
   "cell_type": "code",
   "execution_count": 35,
   "id": "111247fe-a18a-4248-aa79-4a207e266d90",
   "metadata": {},
   "outputs": [],
   "source": [
    "## By applying vectorized operations, we can describe various statistical procedures, like standardization (rendering data zero mean and standard deviation 1), very concisely:"
   ]
  },
  {
   "cell_type": "code",
   "execution_count": 36,
   "id": "4d1e78a2-1df2-444d-b78f-fac4c241e2dd",
   "metadata": {},
   "outputs": [],
   "source": [
    "ts_stand = (df - df.mean()) / df.std()"
   ]
  },
  {
   "cell_type": "code",
   "execution_count": 37,
   "id": "b3c84f0e-0b40-4629-9589-1a8561330fcb",
   "metadata": {},
   "outputs": [
    {
     "data": {
      "text/plain": [
       "one      1.0\n",
       "two      1.0\n",
       "three    1.0\n",
       "dtype: float64"
      ]
     },
     "execution_count": 37,
     "metadata": {},
     "output_type": "execute_result"
    }
   ],
   "source": [
    "ts_stand.std()\n"
   ]
  },
  {
   "cell_type": "code",
   "execution_count": 38,
   "id": "b47c4598-d968-4d66-a704-0e2871db99af",
   "metadata": {},
   "outputs": [],
   "source": [
    "### Describe\n",
    "\n",
    "## There is a convenient describe() function which computes a variety of summary statistics about a Series or the columns of a DataFrame:"
   ]
  },
  {
   "cell_type": "code",
   "execution_count": 39,
   "id": "7278777a-7b0b-48a5-8e24-1f79117066ef",
   "metadata": {},
   "outputs": [],
   "source": [
    "series = pd.Series(np.random.randn(1000))"
   ]
  },
  {
   "cell_type": "code",
   "execution_count": 40,
   "id": "7655b010-7a17-4ce5-a3e2-6c1a1a76c4b6",
   "metadata": {},
   "outputs": [],
   "source": [
    "series[::2] = np.nan"
   ]
  },
  {
   "cell_type": "code",
   "execution_count": 41,
   "id": "75c11e07-5b0d-4256-9fec-e7c82eca1d3d",
   "metadata": {},
   "outputs": [
    {
     "data": {
      "text/plain": [
       "count    500.000000\n",
       "mean      -0.075327\n",
       "std        1.042239\n",
       "min       -3.269558\n",
       "25%       -0.770996\n",
       "50%       -0.128995\n",
       "75%        0.686795\n",
       "max        2.821360\n",
       "dtype: float64"
      ]
     },
     "execution_count": 41,
     "metadata": {},
     "output_type": "execute_result"
    }
   ],
   "source": [
    "series.describe()"
   ]
  },
  {
   "cell_type": "code",
   "execution_count": 42,
   "id": "8ac796c3-df70-4f04-95c1-642cd0f0a8ce",
   "metadata": {},
   "outputs": [],
   "source": [
    "frame = pd.DataFrame(np.random.randn(1000, 5),\n",
    "   ....:                      columns=['a', 'b', 'c', 'd', 'e'])"
   ]
  },
  {
   "cell_type": "code",
   "execution_count": 43,
   "id": "cf192b5e-ff9e-479c-8346-11c2f18715f6",
   "metadata": {},
   "outputs": [],
   "source": [
    "frame.iloc[::2] = np.nan"
   ]
  },
  {
   "cell_type": "code",
   "execution_count": 44,
   "id": "fa8b0aed-ce26-48f4-9044-d3fa38502d6c",
   "metadata": {},
   "outputs": [
    {
     "data": {
      "text/html": [
       "<div>\n",
       "<style scoped>\n",
       "    .dataframe tbody tr th:only-of-type {\n",
       "        vertical-align: middle;\n",
       "    }\n",
       "\n",
       "    .dataframe tbody tr th {\n",
       "        vertical-align: top;\n",
       "    }\n",
       "\n",
       "    .dataframe thead th {\n",
       "        text-align: right;\n",
       "    }\n",
       "</style>\n",
       "<table border=\"1\" class=\"dataframe\">\n",
       "  <thead>\n",
       "    <tr style=\"text-align: right;\">\n",
       "      <th></th>\n",
       "      <th>a</th>\n",
       "      <th>b</th>\n",
       "      <th>c</th>\n",
       "      <th>d</th>\n",
       "      <th>e</th>\n",
       "    </tr>\n",
       "  </thead>\n",
       "  <tbody>\n",
       "    <tr>\n",
       "      <th>count</th>\n",
       "      <td>500.000000</td>\n",
       "      <td>500.000000</td>\n",
       "      <td>500.000000</td>\n",
       "      <td>500.000000</td>\n",
       "      <td>500.000000</td>\n",
       "    </tr>\n",
       "    <tr>\n",
       "      <th>mean</th>\n",
       "      <td>0.083752</td>\n",
       "      <td>-0.033958</td>\n",
       "      <td>-0.072402</td>\n",
       "      <td>-0.000468</td>\n",
       "      <td>0.028471</td>\n",
       "    </tr>\n",
       "    <tr>\n",
       "      <th>std</th>\n",
       "      <td>0.986182</td>\n",
       "      <td>0.971275</td>\n",
       "      <td>1.017486</td>\n",
       "      <td>0.946903</td>\n",
       "      <td>0.965605</td>\n",
       "    </tr>\n",
       "    <tr>\n",
       "      <th>min</th>\n",
       "      <td>-2.722843</td>\n",
       "      <td>-2.847506</td>\n",
       "      <td>-3.089472</td>\n",
       "      <td>-3.333071</td>\n",
       "      <td>-3.275872</td>\n",
       "    </tr>\n",
       "    <tr>\n",
       "      <th>25%</th>\n",
       "      <td>-0.609133</td>\n",
       "      <td>-0.701838</td>\n",
       "      <td>-0.764203</td>\n",
       "      <td>-0.617643</td>\n",
       "      <td>-0.606521</td>\n",
       "    </tr>\n",
       "    <tr>\n",
       "      <th>50%</th>\n",
       "      <td>0.090559</td>\n",
       "      <td>-0.037340</td>\n",
       "      <td>-0.117968</td>\n",
       "      <td>0.053157</td>\n",
       "      <td>-0.022916</td>\n",
       "    </tr>\n",
       "    <tr>\n",
       "      <th>75%</th>\n",
       "      <td>0.766593</td>\n",
       "      <td>0.643289</td>\n",
       "      <td>0.579022</td>\n",
       "      <td>0.657906</td>\n",
       "      <td>0.672616</td>\n",
       "    </tr>\n",
       "    <tr>\n",
       "      <th>max</th>\n",
       "      <td>3.189406</td>\n",
       "      <td>3.115448</td>\n",
       "      <td>2.529109</td>\n",
       "      <td>2.649671</td>\n",
       "      <td>3.428582</td>\n",
       "    </tr>\n",
       "  </tbody>\n",
       "</table>\n",
       "</div>"
      ],
      "text/plain": [
       "                a           b           c           d           e\n",
       "count  500.000000  500.000000  500.000000  500.000000  500.000000\n",
       "mean     0.083752   -0.033958   -0.072402   -0.000468    0.028471\n",
       "std      0.986182    0.971275    1.017486    0.946903    0.965605\n",
       "min     -2.722843   -2.847506   -3.089472   -3.333071   -3.275872\n",
       "25%     -0.609133   -0.701838   -0.764203   -0.617643   -0.606521\n",
       "50%      0.090559   -0.037340   -0.117968    0.053157   -0.022916\n",
       "75%      0.766593    0.643289    0.579022    0.657906    0.672616\n",
       "max      3.189406    3.115448    2.529109    2.649671    3.428582"
      ]
     },
     "execution_count": 44,
     "metadata": {},
     "output_type": "execute_result"
    }
   ],
   "source": [
    "frame.describe()"
   ]
  },
  {
   "cell_type": "code",
   "execution_count": 45,
   "id": "11e9a9e8-95c4-4b6e-91bd-3f9a9b737444",
   "metadata": {},
   "outputs": [],
   "source": [
    "## For a non-numerical Series object, describe() will give a simple summary of the number of unique values and the most frequently occurring values:"
   ]
  },
  {
   "cell_type": "code",
   "execution_count": 46,
   "id": "4364c229-0339-4b7e-a0bf-7a0066043101",
   "metadata": {},
   "outputs": [],
   "source": [
    "s = pd.Series(['a', 'a', 'b', 'b', 'a', 'a', np.nan, 'c', 'd', 'a'])"
   ]
  },
  {
   "cell_type": "code",
   "execution_count": 47,
   "id": "1233704c-fe3e-4f22-816a-f84c17a06261",
   "metadata": {},
   "outputs": [
    {
     "data": {
      "text/plain": [
       "count     9\n",
       "unique    4\n",
       "top       a\n",
       "freq      5\n",
       "dtype: object"
      ]
     },
     "execution_count": 47,
     "metadata": {},
     "output_type": "execute_result"
    }
   ],
   "source": [
    "s.describe()"
   ]
  },
  {
   "cell_type": "code",
   "execution_count": 48,
   "id": "a7687de4-4744-4e39-9901-bc01876558bb",
   "metadata": {},
   "outputs": [],
   "source": [
    "### Index of Min/Max Values\n",
    "\n",
    "\n",
    "## The idxmin() and idxmax() functions on Series and DataFrame compute the index labels with the minimum and maximum corresponding values:"
   ]
  },
  {
   "cell_type": "code",
   "execution_count": 49,
   "id": "eb015219-b1cf-46f0-9e7a-77f3f2c2170d",
   "metadata": {},
   "outputs": [],
   "source": [
    "s1 = pd.Series(np.random.randn(5))"
   ]
  },
  {
   "cell_type": "code",
   "execution_count": 50,
   "id": "fed1db4d-7275-4632-a6bd-8d63c44d268a",
   "metadata": {},
   "outputs": [
    {
     "data": {
      "text/plain": [
       "0    0.843218\n",
       "1    0.896581\n",
       "2   -0.616874\n",
       "3   -0.398317\n",
       "4    0.735110\n",
       "dtype: float64"
      ]
     },
     "execution_count": 50,
     "metadata": {},
     "output_type": "execute_result"
    }
   ],
   "source": [
    "s1"
   ]
  },
  {
   "cell_type": "code",
   "execution_count": 51,
   "id": "f5124121-628a-4bda-b8fd-3c9ee1e8967e",
   "metadata": {},
   "outputs": [
    {
     "data": {
      "text/plain": [
       "(2, 1)"
      ]
     },
     "execution_count": 51,
     "metadata": {},
     "output_type": "execute_result"
    }
   ],
   "source": [
    "s1.idxmin(), s1.idxmax()"
   ]
  },
  {
   "cell_type": "code",
   "execution_count": 52,
   "id": "644cd733-ff42-48ee-96a4-f380085ae6fe",
   "metadata": {},
   "outputs": [],
   "source": [
    "df1 = pd.DataFrame(np.random.randn(5, 3), columns=['A', 'B', 'C'])"
   ]
  },
  {
   "cell_type": "code",
   "execution_count": 53,
   "id": "c7fe3831-fb2f-467c-a2b5-407407cd1509",
   "metadata": {},
   "outputs": [
    {
     "data": {
      "text/html": [
       "<div>\n",
       "<style scoped>\n",
       "    .dataframe tbody tr th:only-of-type {\n",
       "        vertical-align: middle;\n",
       "    }\n",
       "\n",
       "    .dataframe tbody tr th {\n",
       "        vertical-align: top;\n",
       "    }\n",
       "\n",
       "    .dataframe thead th {\n",
       "        text-align: right;\n",
       "    }\n",
       "</style>\n",
       "<table border=\"1\" class=\"dataframe\">\n",
       "  <thead>\n",
       "    <tr style=\"text-align: right;\">\n",
       "      <th></th>\n",
       "      <th>A</th>\n",
       "      <th>B</th>\n",
       "      <th>C</th>\n",
       "    </tr>\n",
       "  </thead>\n",
       "  <tbody>\n",
       "    <tr>\n",
       "      <th>0</th>\n",
       "      <td>0.006393</td>\n",
       "      <td>0.763998</td>\n",
       "      <td>-0.468657</td>\n",
       "    </tr>\n",
       "    <tr>\n",
       "      <th>1</th>\n",
       "      <td>-0.699600</td>\n",
       "      <td>1.470513</td>\n",
       "      <td>-0.249117</td>\n",
       "    </tr>\n",
       "    <tr>\n",
       "      <th>2</th>\n",
       "      <td>0.517087</td>\n",
       "      <td>0.590093</td>\n",
       "      <td>0.174123</td>\n",
       "    </tr>\n",
       "    <tr>\n",
       "      <th>3</th>\n",
       "      <td>-0.637921</td>\n",
       "      <td>0.457735</td>\n",
       "      <td>0.536992</td>\n",
       "    </tr>\n",
       "    <tr>\n",
       "      <th>4</th>\n",
       "      <td>-0.008791</td>\n",
       "      <td>-0.321607</td>\n",
       "      <td>-2.019351</td>\n",
       "    </tr>\n",
       "  </tbody>\n",
       "</table>\n",
       "</div>"
      ],
      "text/plain": [
       "          A         B         C\n",
       "0  0.006393  0.763998 -0.468657\n",
       "1 -0.699600  1.470513 -0.249117\n",
       "2  0.517087  0.590093  0.174123\n",
       "3 -0.637921  0.457735  0.536992\n",
       "4 -0.008791 -0.321607 -2.019351"
      ]
     },
     "execution_count": 53,
     "metadata": {},
     "output_type": "execute_result"
    }
   ],
   "source": [
    "df1"
   ]
  },
  {
   "cell_type": "code",
   "execution_count": 54,
   "id": "4908a7fd-835d-478f-b490-755fee1e429e",
   "metadata": {},
   "outputs": [
    {
     "data": {
      "text/plain": [
       "A    1\n",
       "B    4\n",
       "C    4\n",
       "dtype: int64"
      ]
     },
     "execution_count": 54,
     "metadata": {},
     "output_type": "execute_result"
    }
   ],
   "source": [
    "df1.idxmin(axis=0)"
   ]
  },
  {
   "cell_type": "code",
   "execution_count": 55,
   "id": "819a1e57-efde-4411-bfc5-7241a9950d19",
   "metadata": {},
   "outputs": [
    {
     "data": {
      "text/plain": [
       "0    B\n",
       "1    B\n",
       "2    B\n",
       "3    C\n",
       "4    A\n",
       "dtype: object"
      ]
     },
     "execution_count": 55,
     "metadata": {},
     "output_type": "execute_result"
    }
   ],
   "source": [
    "df1.idxmax(axis=1)"
   ]
  },
  {
   "cell_type": "code",
   "execution_count": 56,
   "id": "5fee3af5-1bb2-4b43-9a89-82135a73e149",
   "metadata": {},
   "outputs": [],
   "source": [
    "### Iterations\n",
    "\n",
    "\n",
    "## The behaviour of basic iterations over pandas objects depends on the type. When iterating over a Series, it is regarded as array-like, and basic iterations produces the values. \n",
    "## DataFrames follow the dict-like convention of iterating over the keys of the objects.\n",
    "\n",
    "## In short, basic iteration (for i in object) produces:\n",
    "\n",
    "# - Series: values\n",
    "# - DataFrame: column labels"
   ]
  },
  {
   "cell_type": "code",
   "execution_count": 57,
   "id": "547dc13b-ae18-45b4-8651-e265dd3017ef",
   "metadata": {},
   "outputs": [],
   "source": [
    "df = pd.DataFrame({'col1': np.random.randn(3),\n",
    "                     'col2': np.random.randn(3)}, index=['a', 'b', 'c'])"
   ]
  },
  {
   "cell_type": "code",
   "execution_count": 58,
   "id": "6352e29e-6b65-4cd5-bdfd-1df3530cd32e",
   "metadata": {},
   "outputs": [
    {
     "name": "stdout",
     "output_type": "stream",
     "text": [
      "col1\n",
      "col2\n"
     ]
    }
   ],
   "source": [
    "for col in df:\n",
    "        print(col)"
   ]
  },
  {
   "cell_type": "code",
   "execution_count": 59,
   "id": "b1a82fb4-852d-4920-8ec1-fb863dbf6f8a",
   "metadata": {},
   "outputs": [],
   "source": [
    "## To iterate over the rows of a DataFrame, you can use the following methods:\n",
    "\n",
    "# - items(): to iterate over the (key, value) pairs.\n",
    "\n",
    "# - iterrows(): Iterate over the rows of a DataFrame as (index, Series) pairs. \n",
    "# This converts the rows to Series objects, which can change the dtypes and has some performance implications.\n",
    "\n",
    "# - itertuples(): Iterate over the rows of a DataFrame as namedtuples of the values. \n",
    "# This is a lot faster than iterrows() and is in most cases preferable to use to iterate over the values of a DataFrame."
   ]
  },
  {
   "cell_type": "code",
   "execution_count": 60,
   "id": "9cc3939f-b0b1-49a8-b31c-c8b587265720",
   "metadata": {},
   "outputs": [],
   "source": [
    "### items\n",
    "\n",
    "## Consistent with the dict-like interface, items() iterates through key-value pairs:\n",
    "\n",
    "# - Series: (index, scalar value) pairs\n",
    "# - DataFrame: (column, Series) pairs\n",
    "\n",
    "## For example:"
   ]
  },
  {
   "cell_type": "code",
   "execution_count": 61,
   "id": "e0ce7b72-aa8f-4f92-858e-daa678a867ba",
   "metadata": {},
   "outputs": [],
   "source": [
    "df = pd.DataFrame({'a': [1, 2, 3], 'b': ['a', 'b', 'c']})"
   ]
  },
  {
   "cell_type": "code",
   "execution_count": 62,
   "id": "2b2cd006-10c0-45f4-897b-b2f0ea03145e",
   "metadata": {},
   "outputs": [
    {
     "name": "stdout",
     "output_type": "stream",
     "text": [
      "a\n",
      "0    1\n",
      "1    2\n",
      "2    3\n",
      "Name: a, dtype: int64\n",
      "b\n",
      "0    a\n",
      "1    b\n",
      "2    c\n",
      "Name: b, dtype: object\n"
     ]
    }
   ],
   "source": [
    "for label, ser in df.items():\n",
    "        print(label)\n",
    "        print(ser) "
   ]
  },
  {
   "cell_type": "code",
   "execution_count": 63,
   "id": "0e250c29-3505-47db-bd50-8f0d74b13de9",
   "metadata": {},
   "outputs": [],
   "source": [
    "### iterrows\n",
    "\n",
    "## iterrows() allows you to iterate through the rows of a DataFrame as Series objects. \n",
    "## It returns an iterator yielding each index value along with a Series containing the data in each row:"
   ]
  },
  {
   "cell_type": "code",
   "execution_count": 64,
   "id": "64e46bc2-2bc0-4b0e-b153-ff1a5d6c1471",
   "metadata": {},
   "outputs": [
    {
     "name": "stdout",
     "output_type": "stream",
     "text": [
      "0\n",
      "a    1\n",
      "b    a\n",
      "Name: 0, dtype: object\n",
      "1\n",
      "a    2\n",
      "b    b\n",
      "Name: 1, dtype: object\n",
      "2\n",
      "a    3\n",
      "b    c\n",
      "Name: 2, dtype: object\n"
     ]
    }
   ],
   "source": [
    "for row_index, row in df.iterrows():\n",
    "        print(row_index, row, sep='\\n')"
   ]
  },
  {
   "cell_type": "code",
   "execution_count": 65,
   "id": "fef5370b-7c90-4d3f-a8a6-71bce21e8db5",
   "metadata": {},
   "outputs": [],
   "source": [
    "### itertuple\n",
    "\n",
    "## The itertuples() method will return an iterator yielding a namedtuple for each row in the DataFrame. \n",
    "## The first element of the tuple will be the row’s corresponding index value, while the remaining values are the row values.\n",
    "\n",
    "## For example:"
   ]
  },
  {
   "cell_type": "code",
   "execution_count": 66,
   "id": "26f8d6c1-d880-4470-99c0-7e1627cb60a0",
   "metadata": {},
   "outputs": [
    {
     "name": "stdout",
     "output_type": "stream",
     "text": [
      "Pandas(Index=0, a=1, b='a')\n",
      "Pandas(Index=1, a=2, b='b')\n",
      "Pandas(Index=2, a=3, b='c')\n"
     ]
    }
   ],
   "source": [
    "for row in df.itertuples():\n",
    "        print(row)"
   ]
  },
  {
   "cell_type": "code",
   "execution_count": null,
   "id": "5dc668ba-d972-4b87-9e3f-af9b178ac6f0",
   "metadata": {},
   "outputs": [],
   "source": []
  }
 ],
 "metadata": {
  "kernelspec": {
   "display_name": "THE_ONE",
   "language": "python",
   "name": "the_one"
  },
  "language_info": {
   "codemirror_mode": {
    "name": "ipython",
    "version": 3
   },
   "file_extension": ".py",
   "mimetype": "text/x-python",
   "name": "python",
   "nbconvert_exporter": "python",
   "pygments_lexer": "ipython3",
   "version": "3.8.15"
  }
 },
 "nbformat": 4,
 "nbformat_minor": 5
}
