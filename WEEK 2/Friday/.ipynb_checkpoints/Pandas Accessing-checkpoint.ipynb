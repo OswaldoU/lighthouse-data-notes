{
 "cells": [
  {
   "cell_type": "code",
   "execution_count": 1,
   "id": "78d64d61-5d48-4137-b2cd-903f4503a5a5",
   "metadata": {},
   "outputs": [],
   "source": [
    "## We will continue using the same DataFrames as in the previous tutorial. \n",
    "## Therefore you can continue in the same Notebook. \n",
    "## If you decide to create a new one, don't forget to import the packages and create the same df and df2."
   ]
  },
  {
   "cell_type": "code",
   "execution_count": 6,
   "id": "1362a2b1-6192-4c49-aed9-8923b4e22de0",
   "metadata": {},
   "outputs": [],
   "source": [
    "import pandas as pd\n",
    "import numpy as np"
   ]
  },
  {
   "cell_type": "code",
   "execution_count": 8,
   "id": "24e0a71b-c3a1-4803-8d88-17f359dc91dc",
   "metadata": {},
   "outputs": [],
   "source": [
    " dates = pd.date_range('20130101', periods=6)"
   ]
  },
  {
   "cell_type": "code",
   "execution_count": 9,
   "id": "3b358bdb-5f9d-4616-b116-48a19db9e9e1",
   "metadata": {},
   "outputs": [],
   "source": [
    " df = pd.DataFrame(np.random.randn(6, 4), index=dates, columns=list('ABCD'))"
   ]
  },
  {
   "cell_type": "code",
   "execution_count": 10,
   "id": "6c40613a-51fc-4f85-abe8-7011515e4020",
   "metadata": {},
   "outputs": [],
   "source": [
    "df2 = pd.DataFrame({'A': 1.,\n",
    "                        'B': pd.Timestamp('20130102'),\n",
    "                        'C': pd.Series(1, index=list(range(4)), dtype='float32'),\n",
    "                        'D': np.array([3] * 4, dtype='int32'),\n",
    "                        'E': pd.Categorical([\"test\", \"train\", \"test\", \"train\"]),\n",
    "                        'F': 'foo'})"
   ]
  },
  {
   "cell_type": "code",
   "execution_count": 11,
   "id": "adc64457-0acb-4a1a-9d20-a5821a421e4a",
   "metadata": {},
   "outputs": [
    {
     "data": {
      "text/plain": [
       "2013-01-01    1.158399\n",
       "2013-01-02    1.799858\n",
       "2013-01-03    0.100585\n",
       "2013-01-04    1.775564\n",
       "2013-01-05   -0.563927\n",
       "2013-01-06    1.610593\n",
       "Freq: D, Name: A, dtype: float64"
      ]
     },
     "execution_count": 11,
     "metadata": {},
     "output_type": "execute_result"
    }
   ],
   "source": [
    "## Select a single column.\n",
    "\n",
    "df['A']\n"
   ]
  },
  {
   "cell_type": "code",
   "execution_count": 12,
   "id": "d4a23f87-db18-4524-bbd7-35d166c11fdb",
   "metadata": {},
   "outputs": [
    {
     "data": {
      "text/plain": [
       "2013-01-01    1.158399\n",
       "2013-01-02    1.799858\n",
       "2013-01-03    0.100585\n",
       "2013-01-04    1.775564\n",
       "2013-01-05   -0.563927\n",
       "2013-01-06    1.610593\n",
       "Freq: D, Name: A, dtype: float64"
      ]
     },
     "execution_count": 12,
     "metadata": {},
     "output_type": "execute_result"
    }
   ],
   "source": [
    "## And this is equivalent to:\n",
    "\n",
    "df.A\n",
    "## The first of the above two options is recommended because it avoids possible conflicts with any of the DataFrame methods."
   ]
  },
  {
   "cell_type": "code",
   "execution_count": 13,
   "id": "b37d7ace-2dfc-4cc3-8a1f-ae316ca2cd9b",
   "metadata": {},
   "outputs": [],
   "source": [
    "## Selecting via [], which slices the rows."
   ]
  },
  {
   "cell_type": "code",
   "execution_count": 14,
   "id": "1e4db6c5-cc2b-4179-9bbc-d0658481d6e0",
   "metadata": {},
   "outputs": [
    {
     "data": {
      "text/html": [
       "<div>\n",
       "<style scoped>\n",
       "    .dataframe tbody tr th:only-of-type {\n",
       "        vertical-align: middle;\n",
       "    }\n",
       "\n",
       "    .dataframe tbody tr th {\n",
       "        vertical-align: top;\n",
       "    }\n",
       "\n",
       "    .dataframe thead th {\n",
       "        text-align: right;\n",
       "    }\n",
       "</style>\n",
       "<table border=\"1\" class=\"dataframe\">\n",
       "  <thead>\n",
       "    <tr style=\"text-align: right;\">\n",
       "      <th></th>\n",
       "      <th>A</th>\n",
       "      <th>B</th>\n",
       "      <th>C</th>\n",
       "      <th>D</th>\n",
       "    </tr>\n",
       "  </thead>\n",
       "  <tbody>\n",
       "    <tr>\n",
       "      <th>2013-01-01</th>\n",
       "      <td>1.158399</td>\n",
       "      <td>-1.671541</td>\n",
       "      <td>1.211521</td>\n",
       "      <td>-0.641387</td>\n",
       "    </tr>\n",
       "    <tr>\n",
       "      <th>2013-01-02</th>\n",
       "      <td>1.799858</td>\n",
       "      <td>-0.833345</td>\n",
       "      <td>-0.430721</td>\n",
       "      <td>0.379680</td>\n",
       "    </tr>\n",
       "    <tr>\n",
       "      <th>2013-01-03</th>\n",
       "      <td>0.100585</td>\n",
       "      <td>-0.549307</td>\n",
       "      <td>-1.066296</td>\n",
       "      <td>0.826547</td>\n",
       "    </tr>\n",
       "  </tbody>\n",
       "</table>\n",
       "</div>"
      ],
      "text/plain": [
       "                   A         B         C         D\n",
       "2013-01-01  1.158399 -1.671541  1.211521 -0.641387\n",
       "2013-01-02  1.799858 -0.833345 -0.430721  0.379680\n",
       "2013-01-03  0.100585 -0.549307 -1.066296  0.826547"
      ]
     },
     "execution_count": 14,
     "metadata": {},
     "output_type": "execute_result"
    }
   ],
   "source": [
    "df[0:3]"
   ]
  },
  {
   "cell_type": "code",
   "execution_count": 15,
   "id": "213c562f-a14f-4418-9292-a4afcb1dbbdf",
   "metadata": {},
   "outputs": [
    {
     "data": {
      "text/html": [
       "<div>\n",
       "<style scoped>\n",
       "    .dataframe tbody tr th:only-of-type {\n",
       "        vertical-align: middle;\n",
       "    }\n",
       "\n",
       "    .dataframe tbody tr th {\n",
       "        vertical-align: top;\n",
       "    }\n",
       "\n",
       "    .dataframe thead th {\n",
       "        text-align: right;\n",
       "    }\n",
       "</style>\n",
       "<table border=\"1\" class=\"dataframe\">\n",
       "  <thead>\n",
       "    <tr style=\"text-align: right;\">\n",
       "      <th></th>\n",
       "      <th>A</th>\n",
       "      <th>B</th>\n",
       "      <th>C</th>\n",
       "      <th>D</th>\n",
       "    </tr>\n",
       "  </thead>\n",
       "  <tbody>\n",
       "    <tr>\n",
       "      <th>2013-01-02</th>\n",
       "      <td>1.799858</td>\n",
       "      <td>-0.833345</td>\n",
       "      <td>-0.430721</td>\n",
       "      <td>0.379680</td>\n",
       "    </tr>\n",
       "    <tr>\n",
       "      <th>2013-01-03</th>\n",
       "      <td>0.100585</td>\n",
       "      <td>-0.549307</td>\n",
       "      <td>-1.066296</td>\n",
       "      <td>0.826547</td>\n",
       "    </tr>\n",
       "    <tr>\n",
       "      <th>2013-01-04</th>\n",
       "      <td>1.775564</td>\n",
       "      <td>0.750531</td>\n",
       "      <td>-0.511792</td>\n",
       "      <td>0.962960</td>\n",
       "    </tr>\n",
       "  </tbody>\n",
       "</table>\n",
       "</div>"
      ],
      "text/plain": [
       "                   A         B         C         D\n",
       "2013-01-02  1.799858 -0.833345 -0.430721  0.379680\n",
       "2013-01-03  0.100585 -0.549307 -1.066296  0.826547\n",
       "2013-01-04  1.775564  0.750531 -0.511792  0.962960"
      ]
     },
     "execution_count": 15,
     "metadata": {},
     "output_type": "execute_result"
    }
   ],
   "source": [
    "df['20130102':'20130104']"
   ]
  },
  {
   "cell_type": "code",
   "execution_count": 16,
   "id": "e9e6de12-210e-45a3-87ac-4ea7be17185d",
   "metadata": {},
   "outputs": [],
   "source": [
    "### Selection by Label\n",
    "\n",
    "## Select the first row based on its index value."
   ]
  },
  {
   "cell_type": "code",
   "execution_count": 17,
   "id": "05f786d4-5a2d-4861-b73e-7085b7ab766a",
   "metadata": {},
   "outputs": [
    {
     "data": {
      "text/plain": [
       "A    1.158399\n",
       "B   -1.671541\n",
       "C    1.211521\n",
       "D   -0.641387\n",
       "Name: 2013-01-01 00:00:00, dtype: float64"
      ]
     },
     "execution_count": 17,
     "metadata": {},
     "output_type": "execute_result"
    }
   ],
   "source": [
    "df.loc[\"2013-01-01\"]"
   ]
  },
  {
   "cell_type": "code",
   "execution_count": 18,
   "id": "c9eeff51-1fba-4bdc-ac36-5914c8463417",
   "metadata": {},
   "outputs": [],
   "source": [
    "## Select more than one column by their column names."
   ]
  },
  {
   "cell_type": "code",
   "execution_count": 19,
   "id": "c84febca-fcc1-4660-9583-e37d41bd174a",
   "metadata": {},
   "outputs": [
    {
     "data": {
      "text/html": [
       "<div>\n",
       "<style scoped>\n",
       "    .dataframe tbody tr th:only-of-type {\n",
       "        vertical-align: middle;\n",
       "    }\n",
       "\n",
       "    .dataframe tbody tr th {\n",
       "        vertical-align: top;\n",
       "    }\n",
       "\n",
       "    .dataframe thead th {\n",
       "        text-align: right;\n",
       "    }\n",
       "</style>\n",
       "<table border=\"1\" class=\"dataframe\">\n",
       "  <thead>\n",
       "    <tr style=\"text-align: right;\">\n",
       "      <th></th>\n",
       "      <th>A</th>\n",
       "      <th>B</th>\n",
       "    </tr>\n",
       "  </thead>\n",
       "  <tbody>\n",
       "    <tr>\n",
       "      <th>2013-01-01</th>\n",
       "      <td>1.158399</td>\n",
       "      <td>-1.671541</td>\n",
       "    </tr>\n",
       "    <tr>\n",
       "      <th>2013-01-02</th>\n",
       "      <td>1.799858</td>\n",
       "      <td>-0.833345</td>\n",
       "    </tr>\n",
       "    <tr>\n",
       "      <th>2013-01-03</th>\n",
       "      <td>0.100585</td>\n",
       "      <td>-0.549307</td>\n",
       "    </tr>\n",
       "    <tr>\n",
       "      <th>2013-01-04</th>\n",
       "      <td>1.775564</td>\n",
       "      <td>0.750531</td>\n",
       "    </tr>\n",
       "    <tr>\n",
       "      <th>2013-01-05</th>\n",
       "      <td>-0.563927</td>\n",
       "      <td>-0.747463</td>\n",
       "    </tr>\n",
       "    <tr>\n",
       "      <th>2013-01-06</th>\n",
       "      <td>1.610593</td>\n",
       "      <td>-1.757082</td>\n",
       "    </tr>\n",
       "  </tbody>\n",
       "</table>\n",
       "</div>"
      ],
      "text/plain": [
       "                   A         B\n",
       "2013-01-01  1.158399 -1.671541\n",
       "2013-01-02  1.799858 -0.833345\n",
       "2013-01-03  0.100585 -0.549307\n",
       "2013-01-04  1.775564  0.750531\n",
       "2013-01-05 -0.563927 -0.747463\n",
       "2013-01-06  1.610593 -1.757082"
      ]
     },
     "execution_count": 19,
     "metadata": {},
     "output_type": "execute_result"
    }
   ],
   "source": [
    "df.loc[:, ['A', 'B']]"
   ]
  },
  {
   "cell_type": "code",
   "execution_count": 20,
   "id": "adac7a5f-e428-465b-8858-5238db44ead3",
   "metadata": {},
   "outputs": [],
   "source": [
    "## : represents that we want to take all the rows as well as the list, ['A', 'B'], which represents the columns."
   ]
  },
  {
   "cell_type": "code",
   "execution_count": 21,
   "id": "43cafab7-c21a-43c1-9df8-2b05de94c211",
   "metadata": {},
   "outputs": [
    {
     "data": {
      "text/html": [
       "<div>\n",
       "<style scoped>\n",
       "    .dataframe tbody tr th:only-of-type {\n",
       "        vertical-align: middle;\n",
       "    }\n",
       "\n",
       "    .dataframe tbody tr th {\n",
       "        vertical-align: top;\n",
       "    }\n",
       "\n",
       "    .dataframe thead th {\n",
       "        text-align: right;\n",
       "    }\n",
       "</style>\n",
       "<table border=\"1\" class=\"dataframe\">\n",
       "  <thead>\n",
       "    <tr style=\"text-align: right;\">\n",
       "      <th></th>\n",
       "      <th>A</th>\n",
       "      <th>B</th>\n",
       "    </tr>\n",
       "  </thead>\n",
       "  <tbody>\n",
       "    <tr>\n",
       "      <th>2013-01-02</th>\n",
       "      <td>1.799858</td>\n",
       "      <td>-0.833345</td>\n",
       "    </tr>\n",
       "    <tr>\n",
       "      <th>2013-01-03</th>\n",
       "      <td>0.100585</td>\n",
       "      <td>-0.549307</td>\n",
       "    </tr>\n",
       "    <tr>\n",
       "      <th>2013-01-04</th>\n",
       "      <td>1.775564</td>\n",
       "      <td>0.750531</td>\n",
       "    </tr>\n",
       "  </tbody>\n",
       "</table>\n",
       "</div>"
      ],
      "text/plain": [
       "                   A         B\n",
       "2013-01-02  1.799858 -0.833345\n",
       "2013-01-03  0.100585 -0.549307\n",
       "2013-01-04  1.775564  0.750531"
      ]
     },
     "execution_count": 21,
     "metadata": {},
     "output_type": "execute_result"
    }
   ],
   "source": [
    "## We can also use label slicing and include both endpoints:\n",
    "\n",
    "df.loc['20130102':'20130104', ['A', 'B']]"
   ]
  },
  {
   "cell_type": "code",
   "execution_count": 22,
   "id": "507c85bb-4b12-4e09-b64d-32768bdc0e09",
   "metadata": {},
   "outputs": [],
   "source": [
    "## The command above will return the Series and the one below will return just a scalar value, which is simply, a number."
   ]
  },
  {
   "cell_type": "code",
   "execution_count": 23,
   "id": "a2659eaf-7126-4deb-8803-e8d694f8d1fe",
   "metadata": {},
   "outputs": [
    {
     "data": {
      "text/plain": [
       "1.1583992878028146"
      ]
     },
     "execution_count": 23,
     "metadata": {},
     "output_type": "execute_result"
    }
   ],
   "source": [
    "df.loc[dates[0], 'A']"
   ]
  },
  {
   "cell_type": "code",
   "execution_count": 24,
   "id": "d9f8a472-91c4-417b-a635-31484a069a5f",
   "metadata": {},
   "outputs": [],
   "source": [
    "### Selection by Position\n",
    "\n",
    "## We can also select based on the actual position in DataFrame"
   ]
  },
  {
   "cell_type": "code",
   "execution_count": 25,
   "id": "6f760bd9-b98e-43f0-a4ea-4d26ff9e307e",
   "metadata": {},
   "outputs": [
    {
     "data": {
      "text/plain": [
       "A    1.775564\n",
       "B    0.750531\n",
       "C   -0.511792\n",
       "D    0.962960\n",
       "Name: 2013-01-04 00:00:00, dtype: float64"
      ]
     },
     "execution_count": 25,
     "metadata": {},
     "output_type": "execute_result"
    }
   ],
   "source": [
    "df.iloc[3]"
   ]
  },
  {
   "cell_type": "code",
   "execution_count": 26,
   "id": "dbf4d8ea-31d6-433a-bf43-8ac0eb46f993",
   "metadata": {},
   "outputs": [],
   "source": [
    "## We can use slicing as well. This approach is similar to Numpy/ Python style."
   ]
  },
  {
   "cell_type": "code",
   "execution_count": 27,
   "id": "a6895878-611d-466a-920f-749ebab41697",
   "metadata": {},
   "outputs": [
    {
     "data": {
      "text/html": [
       "<div>\n",
       "<style scoped>\n",
       "    .dataframe tbody tr th:only-of-type {\n",
       "        vertical-align: middle;\n",
       "    }\n",
       "\n",
       "    .dataframe tbody tr th {\n",
       "        vertical-align: top;\n",
       "    }\n",
       "\n",
       "    .dataframe thead th {\n",
       "        text-align: right;\n",
       "    }\n",
       "</style>\n",
       "<table border=\"1\" class=\"dataframe\">\n",
       "  <thead>\n",
       "    <tr style=\"text-align: right;\">\n",
       "      <th></th>\n",
       "      <th>A</th>\n",
       "      <th>B</th>\n",
       "    </tr>\n",
       "  </thead>\n",
       "  <tbody>\n",
       "    <tr>\n",
       "      <th>2013-01-04</th>\n",
       "      <td>1.775564</td>\n",
       "      <td>0.750531</td>\n",
       "    </tr>\n",
       "    <tr>\n",
       "      <th>2013-01-05</th>\n",
       "      <td>-0.563927</td>\n",
       "      <td>-0.747463</td>\n",
       "    </tr>\n",
       "  </tbody>\n",
       "</table>\n",
       "</div>"
      ],
      "text/plain": [
       "                   A         B\n",
       "2013-01-04  1.775564  0.750531\n",
       "2013-01-05 -0.563927 -0.747463"
      ]
     },
     "execution_count": 27,
     "metadata": {},
     "output_type": "execute_result"
    }
   ],
   "source": [
    "df.iloc[3:5, 0:2]"
   ]
  },
  {
   "cell_type": "code",
   "execution_count": 28,
   "id": "5b268bb1-38df-4635-96ee-ff3611732c5a",
   "metadata": {},
   "outputs": [],
   "source": [
    "## If we want to take all rows, we use : again."
   ]
  },
  {
   "cell_type": "code",
   "execution_count": 29,
   "id": "7e8c9784-128e-4a11-990e-b10105d5a0e7",
   "metadata": {},
   "outputs": [
    {
     "data": {
      "text/html": [
       "<div>\n",
       "<style scoped>\n",
       "    .dataframe tbody tr th:only-of-type {\n",
       "        vertical-align: middle;\n",
       "    }\n",
       "\n",
       "    .dataframe tbody tr th {\n",
       "        vertical-align: top;\n",
       "    }\n",
       "\n",
       "    .dataframe thead th {\n",
       "        text-align: right;\n",
       "    }\n",
       "</style>\n",
       "<table border=\"1\" class=\"dataframe\">\n",
       "  <thead>\n",
       "    <tr style=\"text-align: right;\">\n",
       "      <th></th>\n",
       "      <th>A</th>\n",
       "      <th>B</th>\n",
       "      <th>C</th>\n",
       "      <th>D</th>\n",
       "    </tr>\n",
       "  </thead>\n",
       "  <tbody>\n",
       "    <tr>\n",
       "      <th>2013-01-02</th>\n",
       "      <td>1.799858</td>\n",
       "      <td>-0.833345</td>\n",
       "      <td>-0.430721</td>\n",
       "      <td>0.379680</td>\n",
       "    </tr>\n",
       "    <tr>\n",
       "      <th>2013-01-03</th>\n",
       "      <td>0.100585</td>\n",
       "      <td>-0.549307</td>\n",
       "      <td>-1.066296</td>\n",
       "      <td>0.826547</td>\n",
       "    </tr>\n",
       "  </tbody>\n",
       "</table>\n",
       "</div>"
      ],
      "text/plain": [
       "                   A         B         C         D\n",
       "2013-01-02  1.799858 -0.833345 -0.430721  0.379680\n",
       "2013-01-03  0.100585 -0.549307 -1.066296  0.826547"
      ]
     },
     "execution_count": 29,
     "metadata": {},
     "output_type": "execute_result"
    }
   ],
   "source": [
    "df.iloc[1:3, :]"
   ]
  },
  {
   "cell_type": "code",
   "execution_count": 30,
   "id": "3f2a500d-3814-4fa9-a1cf-dce8553fb96f",
   "metadata": {},
   "outputs": [],
   "source": [
    "## Similarly, we can use : to take all the columns as well."
   ]
  },
  {
   "cell_type": "code",
   "execution_count": 31,
   "id": "a7a1610e-17c5-423c-9f2c-5a1342a4a16f",
   "metadata": {},
   "outputs": [],
   "source": [
    "### Selection by dtype\n",
    "\n",
    "\n",
    "## The select_dtypes() method implements subsetting of columns based on their dtype. \n",
    "## By subsetting, we mean taking only the selection of columns based on their dtype."
   ]
  },
  {
   "cell_type": "code",
   "execution_count": 32,
   "id": "e1b24d41-6120-416b-b769-7af4b6718634",
   "metadata": {},
   "outputs": [],
   "source": [
    " df = pd.DataFrame({'string': list('abc'),\n",
    "                       'int64': list(range(1, 4)),\n",
    "                       'uint8': np.arange(3, 6).astype('u1'),\n",
    "                       'float64': np.arange(4.0, 7.0),\n",
    "                       'bool1': [True, False, True],\n",
    "                       'bool2': [False, True, False],\n",
    "                       'dates': pd.date_range('now', periods=3),\n",
    "                       'category': pd.Series(list(\"ABC\")).astype('category')})"
   ]
  },
  {
   "cell_type": "code",
   "execution_count": 33,
   "id": "08e9571b-6197-4211-acb9-d7dd6771a498",
   "metadata": {},
   "outputs": [
    {
     "data": {
      "text/html": [
       "<div>\n",
       "<style scoped>\n",
       "    .dataframe tbody tr th:only-of-type {\n",
       "        vertical-align: middle;\n",
       "    }\n",
       "\n",
       "    .dataframe tbody tr th {\n",
       "        vertical-align: top;\n",
       "    }\n",
       "\n",
       "    .dataframe thead th {\n",
       "        text-align: right;\n",
       "    }\n",
       "</style>\n",
       "<table border=\"1\" class=\"dataframe\">\n",
       "  <thead>\n",
       "    <tr style=\"text-align: right;\">\n",
       "      <th></th>\n",
       "      <th>bool1</th>\n",
       "      <th>bool2</th>\n",
       "    </tr>\n",
       "  </thead>\n",
       "  <tbody>\n",
       "    <tr>\n",
       "      <th>0</th>\n",
       "      <td>True</td>\n",
       "      <td>False</td>\n",
       "    </tr>\n",
       "    <tr>\n",
       "      <th>1</th>\n",
       "      <td>False</td>\n",
       "      <td>True</td>\n",
       "    </tr>\n",
       "    <tr>\n",
       "      <th>2</th>\n",
       "      <td>True</td>\n",
       "      <td>False</td>\n",
       "    </tr>\n",
       "  </tbody>\n",
       "</table>\n",
       "</div>"
      ],
      "text/plain": [
       "   bool1  bool2\n",
       "0   True  False\n",
       "1  False   True\n",
       "2   True  False"
      ]
     },
     "execution_count": 33,
     "metadata": {},
     "output_type": "execute_result"
    }
   ],
   "source": [
    "## Select only bool columns from df above.\n",
    "\n",
    "df.select_dtypes(include=[bool])\n"
   ]
  },
  {
   "cell_type": "code",
   "execution_count": 34,
   "id": "cba41b0f-0071-4bf5-87e6-aa0cef798b74",
   "metadata": {},
   "outputs": [],
   "source": [
    "### Boolean Indexing\n",
    "\n",
    "## In this section, we will use columns' values to filter data."
   ]
  },
  {
   "cell_type": "code",
   "execution_count": 35,
   "id": "ea43c0e6-6f2d-4130-aa86-e2a916451904",
   "metadata": {},
   "outputs": [],
   "source": [
    "## Take the rows where column A is higher than 0.\n",
    "\n",
    "## Before you look at the command below, use google to find the command. You will see how easy it is to search for stuff to do in Pandas."
   ]
  },
  {
   "cell_type": "code",
   "execution_count": 36,
   "id": "306bd975-15e6-4edb-8728-fe97d38caf86",
   "metadata": {},
   "outputs": [
    {
     "data": {
      "text/html": [
       "<div>\n",
       "<style scoped>\n",
       "    .dataframe tbody tr th:only-of-type {\n",
       "        vertical-align: middle;\n",
       "    }\n",
       "\n",
       "    .dataframe tbody tr th {\n",
       "        vertical-align: top;\n",
       "    }\n",
       "\n",
       "    .dataframe thead th {\n",
       "        text-align: right;\n",
       "    }\n",
       "</style>\n",
       "<table border=\"1\" class=\"dataframe\">\n",
       "  <thead>\n",
       "    <tr style=\"text-align: right;\">\n",
       "      <th></th>\n",
       "      <th>string</th>\n",
       "      <th>int64</th>\n",
       "      <th>uint8</th>\n",
       "      <th>float64</th>\n",
       "      <th>bool1</th>\n",
       "      <th>bool2</th>\n",
       "      <th>dates</th>\n",
       "      <th>category</th>\n",
       "    </tr>\n",
       "  </thead>\n",
       "  <tbody>\n",
       "    <tr>\n",
       "      <th>1</th>\n",
       "      <td>b</td>\n",
       "      <td>2</td>\n",
       "      <td>4</td>\n",
       "      <td>5.0</td>\n",
       "      <td>False</td>\n",
       "      <td>True</td>\n",
       "      <td>2022-11-29 23:46:18.063260</td>\n",
       "      <td>B</td>\n",
       "    </tr>\n",
       "    <tr>\n",
       "      <th>2</th>\n",
       "      <td>c</td>\n",
       "      <td>3</td>\n",
       "      <td>5</td>\n",
       "      <td>6.0</td>\n",
       "      <td>True</td>\n",
       "      <td>False</td>\n",
       "      <td>2022-11-30 23:46:18.063260</td>\n",
       "      <td>C</td>\n",
       "    </tr>\n",
       "  </tbody>\n",
       "</table>\n",
       "</div>"
      ],
      "text/plain": [
       "  string  int64  uint8  float64  bool1  bool2                      dates  \\\n",
       "1      b      2      4      5.0  False   True 2022-11-29 23:46:18.063260   \n",
       "2      c      3      5      6.0   True  False 2022-11-30 23:46:18.063260   \n",
       "\n",
       "  category  \n",
       "1        B  \n",
       "2        C  "
      ]
     },
     "execution_count": 36,
     "metadata": {},
     "output_type": "execute_result"
    }
   ],
   "source": [
    "df[df['float64'] >= 5]"
   ]
  },
  {
   "cell_type": "code",
   "execution_count": 37,
   "id": "e06631c2-1215-48d3-9678-4063205efa35",
   "metadata": {},
   "outputs": [],
   "source": [
    "## We can also use function isin() for filtering."
   ]
  },
  {
   "cell_type": "code",
   "execution_count": 38,
   "id": "71313bea-7140-4cfd-b0a7-b45f7bf328d7",
   "metadata": {},
   "outputs": [],
   "source": [
    "# 1) Create a copy of df and store it in variable df2.\n",
    "# 2) Create a new column E in the DataFrame df2 with values ['one', 'one', 'two']."
   ]
  },
  {
   "cell_type": "code",
   "execution_count": 39,
   "id": "bf0d40c4-29b4-443b-b060-f4cfcb202f0b",
   "metadata": {},
   "outputs": [],
   "source": [
    "df2 = df.copy()"
   ]
  },
  {
   "cell_type": "code",
   "execution_count": 40,
   "id": "1b6e5324-9ba7-41e5-b9bc-46d5af7ff984",
   "metadata": {},
   "outputs": [],
   "source": [
    "df2['E'] = ['one', 'two', 'three']"
   ]
  },
  {
   "cell_type": "code",
   "execution_count": 41,
   "id": "c8843ca3-3e08-419c-b211-583961b19374",
   "metadata": {},
   "outputs": [
    {
     "data": {
      "text/html": [
       "<div>\n",
       "<style scoped>\n",
       "    .dataframe tbody tr th:only-of-type {\n",
       "        vertical-align: middle;\n",
       "    }\n",
       "\n",
       "    .dataframe tbody tr th {\n",
       "        vertical-align: top;\n",
       "    }\n",
       "\n",
       "    .dataframe thead th {\n",
       "        text-align: right;\n",
       "    }\n",
       "</style>\n",
       "<table border=\"1\" class=\"dataframe\">\n",
       "  <thead>\n",
       "    <tr style=\"text-align: right;\">\n",
       "      <th></th>\n",
       "      <th>string</th>\n",
       "      <th>int64</th>\n",
       "      <th>uint8</th>\n",
       "      <th>float64</th>\n",
       "      <th>bool1</th>\n",
       "      <th>bool2</th>\n",
       "      <th>dates</th>\n",
       "      <th>category</th>\n",
       "      <th>E</th>\n",
       "    </tr>\n",
       "  </thead>\n",
       "  <tbody>\n",
       "    <tr>\n",
       "      <th>0</th>\n",
       "      <td>a</td>\n",
       "      <td>1</td>\n",
       "      <td>3</td>\n",
       "      <td>4.0</td>\n",
       "      <td>True</td>\n",
       "      <td>False</td>\n",
       "      <td>2022-11-28 23:46:18.063260</td>\n",
       "      <td>A</td>\n",
       "      <td>one</td>\n",
       "    </tr>\n",
       "    <tr>\n",
       "      <th>1</th>\n",
       "      <td>b</td>\n",
       "      <td>2</td>\n",
       "      <td>4</td>\n",
       "      <td>5.0</td>\n",
       "      <td>False</td>\n",
       "      <td>True</td>\n",
       "      <td>2022-11-29 23:46:18.063260</td>\n",
       "      <td>B</td>\n",
       "      <td>two</td>\n",
       "    </tr>\n",
       "  </tbody>\n",
       "</table>\n",
       "</div>"
      ],
      "text/plain": [
       "  string  int64  uint8  float64  bool1  bool2                      dates  \\\n",
       "0      a      1      3      4.0   True  False 2022-11-28 23:46:18.063260   \n",
       "1      b      2      4      5.0  False   True 2022-11-29 23:46:18.063260   \n",
       "\n",
       "  category    E  \n",
       "0        A  one  \n",
       "1        B  two  "
      ]
     },
     "execution_count": 41,
     "metadata": {},
     "output_type": "execute_result"
    }
   ],
   "source": [
    "## Now we can use function isin() to take only rows where E is two or four.\n",
    "\n",
    "df2[df2['E'].isin(['one','two'])]"
   ]
  },
  {
   "cell_type": "code",
   "execution_count": 42,
   "id": "99f4759d-1d88-4e0d-9986-6a0c632687d3",
   "metadata": {},
   "outputs": [],
   "source": [
    "## We can also set values in the DataFrame.\n",
    "\n",
    "## Setting values by position:"
   ]
  },
  {
   "cell_type": "code",
   "execution_count": 43,
   "id": "8426023c-3888-4caa-88ed-7b6414ad3976",
   "metadata": {},
   "outputs": [],
   "source": [
    "df.iat[0, 1] = -1"
   ]
  },
  {
   "cell_type": "code",
   "execution_count": 44,
   "id": "03db508c-1861-45e5-b29f-27ac3618546e",
   "metadata": {},
   "outputs": [],
   "source": [
    "## or \n",
    "df.iloc[0,1] = 2"
   ]
  },
  {
   "cell_type": "code",
   "execution_count": 45,
   "id": "2483ab75-03e0-498e-90a9-34f766633eaf",
   "metadata": {},
   "outputs": [],
   "source": [
    "## Setting values by label:\n",
    "\n",
    "df.at[0, 'float64'] = -10\n"
   ]
  },
  {
   "cell_type": "code",
   "execution_count": 46,
   "id": "0bef55a5-d871-4d09-9c36-e4c544bd187d",
   "metadata": {},
   "outputs": [],
   "source": [
    "## or\n",
    "\n",
    "df.loc[0, 'float64'] = -20"
   ]
  },
  {
   "cell_type": "code",
   "execution_count": 48,
   "id": "df3b17a6-1029-4098-9cba-6d546e0ec508",
   "metadata": {},
   "outputs": [
    {
     "name": "stderr",
     "output_type": "stream",
     "text": [
      "/var/folders/m7/gmztn8ls7hvb7z45rrh281mh0000gn/T/ipykernel_76489/797935453.py:3: FutureWarning: In a future version, `df.iloc[:, i] = newvals` will attempt to set the values inplace instead of always setting a new array. To retain the old behavior, use either `df[df.columns[i]] = newvals` or, if columns are non-unique, `df.isetitem(i, newvals)`\n",
      "  df.loc[:, 'uint8'] = np.array([50] * len(df))\n"
     ]
    }
   ],
   "source": [
    "## Setting by assigning with a NumPy array:\n",
    "\n",
    "df.loc[:, 'uint8'] = np.array([50] * len(df))"
   ]
  },
  {
   "cell_type": "code",
   "execution_count": 49,
   "id": "32545dbb-836c-49d6-92d4-b5a305b1a852",
   "metadata": {},
   "outputs": [],
   "source": [
    "## The length of the array on the right sight of = needs to be the same as the length of the object on the left."
   ]
  },
  {
   "cell_type": "code",
   "execution_count": null,
   "id": "a82bb3bb-d835-49e2-b277-671acad803bc",
   "metadata": {},
   "outputs": [],
   "source": []
  }
 ],
 "metadata": {
  "kernelspec": {
   "display_name": "THE_ONE",
   "language": "python",
   "name": "the_one"
  },
  "language_info": {
   "codemirror_mode": {
    "name": "ipython",
    "version": 3
   },
   "file_extension": ".py",
   "mimetype": "text/x-python",
   "name": "python",
   "nbconvert_exporter": "python",
   "pygments_lexer": "ipython3",
   "version": "3.8.15"
  }
 },
 "nbformat": 4,
 "nbformat_minor": 5
}
