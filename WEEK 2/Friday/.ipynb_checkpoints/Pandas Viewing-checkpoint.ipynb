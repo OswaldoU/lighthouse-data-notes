{
 "cells": [
  {
   "cell_type": "code",
   "execution_count": 1,
   "id": "7eaa3ae8-75ac-45f8-84cc-0e757e7e05af",
   "metadata": {},
   "outputs": [],
   "source": [
    "import numpy as np\n",
    "import pandas as pd"
   ]
  },
  {
   "cell_type": "code",
   "execution_count": 2,
   "id": "0b2df900-27bc-4c8e-9655-34c83aec4481",
   "metadata": {},
   "outputs": [],
   "source": [
    "### Object Creation\n",
    "\n",
    "## Create a Series by passing a list of values with default integer index"
   ]
  },
  {
   "cell_type": "code",
   "execution_count": 3,
   "id": "ccffc266-6994-4c66-850c-f93e6ada63ac",
   "metadata": {},
   "outputs": [],
   "source": [
    " s = pd.Series([1, 3, 5, np.nan, 6, 8])"
   ]
  },
  {
   "cell_type": "code",
   "execution_count": 4,
   "id": "3cc26678-49e0-4246-917d-5514724e02dc",
   "metadata": {},
   "outputs": [
    {
     "data": {
      "text/plain": [
       "0    1.0\n",
       "1    3.0\n",
       "2    5.0\n",
       "3    NaN\n",
       "4    6.0\n",
       "5    8.0\n",
       "dtype: float64"
      ]
     },
     "execution_count": 4,
     "metadata": {},
     "output_type": "execute_result"
    }
   ],
   "source": [
    "s"
   ]
  },
  {
   "cell_type": "code",
   "execution_count": 5,
   "id": "43e73662-fede-4bb8-a45a-656b4ddce5a1",
   "metadata": {},
   "outputs": [],
   "source": [
    "## Create a DataFrame by passing a Numpy array with a datetime index and labeled columns."
   ]
  },
  {
   "cell_type": "code",
   "execution_count": 6,
   "id": "7c95a466-1e97-47d2-b109-3dc20b33a8a0",
   "metadata": {},
   "outputs": [],
   "source": [
    "dates = pd.date_range('20130101', periods=6)"
   ]
  },
  {
   "cell_type": "code",
   "execution_count": 7,
   "id": "4cea7833-67cf-4256-b24f-d3508a715c81",
   "metadata": {},
   "outputs": [
    {
     "data": {
      "text/plain": [
       "DatetimeIndex(['2013-01-01', '2013-01-02', '2013-01-03', '2013-01-04',\n",
       "               '2013-01-05', '2013-01-06'],\n",
       "              dtype='datetime64[ns]', freq='D')"
      ]
     },
     "execution_count": 7,
     "metadata": {},
     "output_type": "execute_result"
    }
   ],
   "source": [
    "dates"
   ]
  },
  {
   "cell_type": "code",
   "execution_count": 8,
   "id": "92a10a11-37f6-4168-a159-69230495f22a",
   "metadata": {},
   "outputs": [],
   "source": [
    "df = pd.DataFrame(np.random.randn(6, 4), index=dates, columns=list('ABCD'))"
   ]
  },
  {
   "cell_type": "code",
   "execution_count": 9,
   "id": "1cefbf38-caf8-43f4-a837-14f3afa89378",
   "metadata": {},
   "outputs": [
    {
     "data": {
      "text/html": [
       "<div>\n",
       "<style scoped>\n",
       "    .dataframe tbody tr th:only-of-type {\n",
       "        vertical-align: middle;\n",
       "    }\n",
       "\n",
       "    .dataframe tbody tr th {\n",
       "        vertical-align: top;\n",
       "    }\n",
       "\n",
       "    .dataframe thead th {\n",
       "        text-align: right;\n",
       "    }\n",
       "</style>\n",
       "<table border=\"1\" class=\"dataframe\">\n",
       "  <thead>\n",
       "    <tr style=\"text-align: right;\">\n",
       "      <th></th>\n",
       "      <th>A</th>\n",
       "      <th>B</th>\n",
       "      <th>C</th>\n",
       "      <th>D</th>\n",
       "    </tr>\n",
       "  </thead>\n",
       "  <tbody>\n",
       "    <tr>\n",
       "      <th>2013-01-01</th>\n",
       "      <td>-0.925085</td>\n",
       "      <td>-0.625710</td>\n",
       "      <td>0.590613</td>\n",
       "      <td>0.566678</td>\n",
       "    </tr>\n",
       "    <tr>\n",
       "      <th>2013-01-02</th>\n",
       "      <td>0.234304</td>\n",
       "      <td>-0.039567</td>\n",
       "      <td>0.074545</td>\n",
       "      <td>-0.957846</td>\n",
       "    </tr>\n",
       "    <tr>\n",
       "      <th>2013-01-03</th>\n",
       "      <td>-1.133536</td>\n",
       "      <td>-0.359960</td>\n",
       "      <td>0.534297</td>\n",
       "      <td>0.875705</td>\n",
       "    </tr>\n",
       "    <tr>\n",
       "      <th>2013-01-04</th>\n",
       "      <td>0.293298</td>\n",
       "      <td>0.355639</td>\n",
       "      <td>-0.225137</td>\n",
       "      <td>1.242969</td>\n",
       "    </tr>\n",
       "    <tr>\n",
       "      <th>2013-01-05</th>\n",
       "      <td>1.963148</td>\n",
       "      <td>1.757177</td>\n",
       "      <td>1.447698</td>\n",
       "      <td>0.453496</td>\n",
       "    </tr>\n",
       "    <tr>\n",
       "      <th>2013-01-06</th>\n",
       "      <td>0.092451</td>\n",
       "      <td>1.280601</td>\n",
       "      <td>0.446767</td>\n",
       "      <td>-0.052941</td>\n",
       "    </tr>\n",
       "  </tbody>\n",
       "</table>\n",
       "</div>"
      ],
      "text/plain": [
       "                   A         B         C         D\n",
       "2013-01-01 -0.925085 -0.625710  0.590613  0.566678\n",
       "2013-01-02  0.234304 -0.039567  0.074545 -0.957846\n",
       "2013-01-03 -1.133536 -0.359960  0.534297  0.875705\n",
       "2013-01-04  0.293298  0.355639 -0.225137  1.242969\n",
       "2013-01-05  1.963148  1.757177  1.447698  0.453496\n",
       "2013-01-06  0.092451  1.280601  0.446767 -0.052941"
      ]
     },
     "execution_count": 9,
     "metadata": {},
     "output_type": "execute_result"
    }
   ],
   "source": [
    "df"
   ]
  },
  {
   "cell_type": "code",
   "execution_count": 10,
   "id": "ab970509-9805-45cc-9d1e-a799c1e807a9",
   "metadata": {},
   "outputs": [],
   "source": [
    "## Create a DataFrame from a dict of objects"
   ]
  },
  {
   "cell_type": "code",
   "execution_count": 11,
   "id": "7dd2802e-c0f4-4197-b24d-9ce1375ce3a7",
   "metadata": {},
   "outputs": [],
   "source": [
    "df2 = pd.DataFrame({'A': 1.0,\n",
    "                        'B': pd.Timestamp('20130102'),\n",
    "                        'C': pd.Series(1, index=list(range(4)), dtype='float32'),\n",
    "                        'D': np.array([3] * 4, dtype='int32'),\n",
    "                        'E': pd.Categorical([\"test\", \"train\", \"test\", \"train\"]),\n",
    "                        'F': 'foo'})"
   ]
  },
  {
   "cell_type": "code",
   "execution_count": 12,
   "id": "03f74ce3-d6e3-4926-8cbb-5fd0c916ae60",
   "metadata": {},
   "outputs": [
    {
     "data": {
      "text/html": [
       "<div>\n",
       "<style scoped>\n",
       "    .dataframe tbody tr th:only-of-type {\n",
       "        vertical-align: middle;\n",
       "    }\n",
       "\n",
       "    .dataframe tbody tr th {\n",
       "        vertical-align: top;\n",
       "    }\n",
       "\n",
       "    .dataframe thead th {\n",
       "        text-align: right;\n",
       "    }\n",
       "</style>\n",
       "<table border=\"1\" class=\"dataframe\">\n",
       "  <thead>\n",
       "    <tr style=\"text-align: right;\">\n",
       "      <th></th>\n",
       "      <th>A</th>\n",
       "      <th>B</th>\n",
       "      <th>C</th>\n",
       "      <th>D</th>\n",
       "      <th>E</th>\n",
       "      <th>F</th>\n",
       "    </tr>\n",
       "  </thead>\n",
       "  <tbody>\n",
       "    <tr>\n",
       "      <th>0</th>\n",
       "      <td>1.0</td>\n",
       "      <td>2013-01-02</td>\n",
       "      <td>1.0</td>\n",
       "      <td>3</td>\n",
       "      <td>test</td>\n",
       "      <td>foo</td>\n",
       "    </tr>\n",
       "    <tr>\n",
       "      <th>1</th>\n",
       "      <td>1.0</td>\n",
       "      <td>2013-01-02</td>\n",
       "      <td>1.0</td>\n",
       "      <td>3</td>\n",
       "      <td>train</td>\n",
       "      <td>foo</td>\n",
       "    </tr>\n",
       "    <tr>\n",
       "      <th>2</th>\n",
       "      <td>1.0</td>\n",
       "      <td>2013-01-02</td>\n",
       "      <td>1.0</td>\n",
       "      <td>3</td>\n",
       "      <td>test</td>\n",
       "      <td>foo</td>\n",
       "    </tr>\n",
       "    <tr>\n",
       "      <th>3</th>\n",
       "      <td>1.0</td>\n",
       "      <td>2013-01-02</td>\n",
       "      <td>1.0</td>\n",
       "      <td>3</td>\n",
       "      <td>train</td>\n",
       "      <td>foo</td>\n",
       "    </tr>\n",
       "  </tbody>\n",
       "</table>\n",
       "</div>"
      ],
      "text/plain": [
       "     A          B    C  D      E    F\n",
       "0  1.0 2013-01-02  1.0  3   test  foo\n",
       "1  1.0 2013-01-02  1.0  3  train  foo\n",
       "2  1.0 2013-01-02  1.0  3   test  foo\n",
       "3  1.0 2013-01-02  1.0  3  train  foo"
      ]
     },
     "execution_count": 12,
     "metadata": {},
     "output_type": "execute_result"
    }
   ],
   "source": [
    "df2"
   ]
  },
  {
   "cell_type": "code",
   "execution_count": 13,
   "id": "245111e8-5893-4b0c-9f20-4e04d4c9f432",
   "metadata": {},
   "outputs": [],
   "source": [
    "## The columns of the resulting DataFrame have different dtypes."
   ]
  },
  {
   "cell_type": "code",
   "execution_count": 14,
   "id": "b4138448-ec3e-4639-ba0b-9f3259a8db33",
   "metadata": {},
   "outputs": [
    {
     "data": {
      "text/plain": [
       "A           float64\n",
       "B    datetime64[ns]\n",
       "C           float32\n",
       "D             int32\n",
       "E          category\n",
       "F            object\n",
       "dtype: object"
      ]
     },
     "execution_count": 14,
     "metadata": {},
     "output_type": "execute_result"
    }
   ],
   "source": [
    "df2.dtypes"
   ]
  },
  {
   "cell_type": "code",
   "execution_count": 15,
   "id": "0b53764d-7e54-4580-af1d-64788b16e5c6",
   "metadata": {},
   "outputs": [],
   "source": [
    "## In Jupyter, tab completion for column names (as well as public attributes) is automatically enabled. \n",
    "## Here’s a subset of the attributes that can be completed:"
   ]
  },
  {
   "cell_type": "code",
   "execution_count": 16,
   "id": "c9f93959-23ef-436f-a275-8a2d663c5520",
   "metadata": {},
   "outputs": [
    {
     "ename": "SyntaxError",
     "evalue": "invalid syntax (4084307864.py, line 1)",
     "output_type": "error",
     "traceback": [
      "\u001b[0;36m  Cell \u001b[0;32mIn [16], line 1\u001b[0;36m\u001b[0m\n\u001b[0;31m    df2.<TAB>  # noqa: E225, E999\u001b[0m\n\u001b[0m        ^\u001b[0m\n\u001b[0;31mSyntaxError\u001b[0m\u001b[0;31m:\u001b[0m invalid syntax\n"
     ]
    }
   ],
   "source": [
    "df2.<TAB>  # noqa: E225, E999\n",
    "df2.A                  df2.bool\n",
    "df2.abs                df2.boxplot\n",
    "df2.add                df2.C\n",
    "df2.add_prefix         df2.clip\n",
    "df2.add_suffix         df2.clip_lower\n",
    "df2.align              df2.clip_upper\n",
    "df2.all                df2.columns\n",
    "df2.any                df2.combine\n",
    "df2.append             df2.combine_first\n",
    "df2.apply              df2.consolidate\n",
    "df2.applymap\n",
    "df2.D"
   ]
  },
  {
   "cell_type": "code",
   "execution_count": 17,
   "id": "b7086be2-2257-4476-b033-86ca35237d9a",
   "metadata": {},
   "outputs": [],
   "source": [
    "### Viewing Data\n",
    "\n",
    "## Here is how to view the top and bottom rows of the frame:"
   ]
  },
  {
   "cell_type": "code",
   "execution_count": 18,
   "id": "fc07faf2-5e02-4a7b-9ff3-93acb5aec798",
   "metadata": {},
   "outputs": [
    {
     "data": {
      "text/html": [
       "<div>\n",
       "<style scoped>\n",
       "    .dataframe tbody tr th:only-of-type {\n",
       "        vertical-align: middle;\n",
       "    }\n",
       "\n",
       "    .dataframe tbody tr th {\n",
       "        vertical-align: top;\n",
       "    }\n",
       "\n",
       "    .dataframe thead th {\n",
       "        text-align: right;\n",
       "    }\n",
       "</style>\n",
       "<table border=\"1\" class=\"dataframe\">\n",
       "  <thead>\n",
       "    <tr style=\"text-align: right;\">\n",
       "      <th></th>\n",
       "      <th>A</th>\n",
       "      <th>B</th>\n",
       "      <th>C</th>\n",
       "      <th>D</th>\n",
       "    </tr>\n",
       "  </thead>\n",
       "  <tbody>\n",
       "    <tr>\n",
       "      <th>2013-01-01</th>\n",
       "      <td>-0.925085</td>\n",
       "      <td>-0.625710</td>\n",
       "      <td>0.590613</td>\n",
       "      <td>0.566678</td>\n",
       "    </tr>\n",
       "    <tr>\n",
       "      <th>2013-01-02</th>\n",
       "      <td>0.234304</td>\n",
       "      <td>-0.039567</td>\n",
       "      <td>0.074545</td>\n",
       "      <td>-0.957846</td>\n",
       "    </tr>\n",
       "    <tr>\n",
       "      <th>2013-01-03</th>\n",
       "      <td>-1.133536</td>\n",
       "      <td>-0.359960</td>\n",
       "      <td>0.534297</td>\n",
       "      <td>0.875705</td>\n",
       "    </tr>\n",
       "    <tr>\n",
       "      <th>2013-01-04</th>\n",
       "      <td>0.293298</td>\n",
       "      <td>0.355639</td>\n",
       "      <td>-0.225137</td>\n",
       "      <td>1.242969</td>\n",
       "    </tr>\n",
       "    <tr>\n",
       "      <th>2013-01-05</th>\n",
       "      <td>1.963148</td>\n",
       "      <td>1.757177</td>\n",
       "      <td>1.447698</td>\n",
       "      <td>0.453496</td>\n",
       "    </tr>\n",
       "  </tbody>\n",
       "</table>\n",
       "</div>"
      ],
      "text/plain": [
       "                   A         B         C         D\n",
       "2013-01-01 -0.925085 -0.625710  0.590613  0.566678\n",
       "2013-01-02  0.234304 -0.039567  0.074545 -0.957846\n",
       "2013-01-03 -1.133536 -0.359960  0.534297  0.875705\n",
       "2013-01-04  0.293298  0.355639 -0.225137  1.242969\n",
       "2013-01-05  1.963148  1.757177  1.447698  0.453496"
      ]
     },
     "execution_count": 18,
     "metadata": {},
     "output_type": "execute_result"
    }
   ],
   "source": [
    "df.head()"
   ]
  },
  {
   "cell_type": "code",
   "execution_count": 19,
   "id": "d5fead8e-9b1a-45f3-ae45-4c1baa58207f",
   "metadata": {},
   "outputs": [
    {
     "data": {
      "text/html": [
       "<div>\n",
       "<style scoped>\n",
       "    .dataframe tbody tr th:only-of-type {\n",
       "        vertical-align: middle;\n",
       "    }\n",
       "\n",
       "    .dataframe tbody tr th {\n",
       "        vertical-align: top;\n",
       "    }\n",
       "\n",
       "    .dataframe thead th {\n",
       "        text-align: right;\n",
       "    }\n",
       "</style>\n",
       "<table border=\"1\" class=\"dataframe\">\n",
       "  <thead>\n",
       "    <tr style=\"text-align: right;\">\n",
       "      <th></th>\n",
       "      <th>A</th>\n",
       "      <th>B</th>\n",
       "      <th>C</th>\n",
       "      <th>D</th>\n",
       "    </tr>\n",
       "  </thead>\n",
       "  <tbody>\n",
       "    <tr>\n",
       "      <th>2013-01-04</th>\n",
       "      <td>0.293298</td>\n",
       "      <td>0.355639</td>\n",
       "      <td>-0.225137</td>\n",
       "      <td>1.242969</td>\n",
       "    </tr>\n",
       "    <tr>\n",
       "      <th>2013-01-05</th>\n",
       "      <td>1.963148</td>\n",
       "      <td>1.757177</td>\n",
       "      <td>1.447698</td>\n",
       "      <td>0.453496</td>\n",
       "    </tr>\n",
       "    <tr>\n",
       "      <th>2013-01-06</th>\n",
       "      <td>0.092451</td>\n",
       "      <td>1.280601</td>\n",
       "      <td>0.446767</td>\n",
       "      <td>-0.052941</td>\n",
       "    </tr>\n",
       "  </tbody>\n",
       "</table>\n",
       "</div>"
      ],
      "text/plain": [
       "                   A         B         C         D\n",
       "2013-01-04  0.293298  0.355639 -0.225137  1.242969\n",
       "2013-01-05  1.963148  1.757177  1.447698  0.453496\n",
       "2013-01-06  0.092451  1.280601  0.446767 -0.052941"
      ]
     },
     "execution_count": 19,
     "metadata": {},
     "output_type": "execute_result"
    }
   ],
   "source": [
    "df.tail(3)"
   ]
  },
  {
   "cell_type": "code",
   "execution_count": 20,
   "id": "5a4db8ab-2b0a-452d-8349-68a62e117141",
   "metadata": {},
   "outputs": [],
   "source": [
    "## Display the index and columns:"
   ]
  },
  {
   "cell_type": "code",
   "execution_count": 21,
   "id": "a08a5cfc-6b38-45fc-bd49-bc6c4dcd0a49",
   "metadata": {},
   "outputs": [
    {
     "data": {
      "text/plain": [
       "DatetimeIndex(['2013-01-01', '2013-01-02', '2013-01-03', '2013-01-04',\n",
       "               '2013-01-05', '2013-01-06'],\n",
       "              dtype='datetime64[ns]', freq='D')"
      ]
     },
     "execution_count": 21,
     "metadata": {},
     "output_type": "execute_result"
    }
   ],
   "source": [
    "df.index"
   ]
  },
  {
   "cell_type": "code",
   "execution_count": 22,
   "id": "435d3f3a-80fb-45ba-af72-d5231fda1a21",
   "metadata": {},
   "outputs": [
    {
     "data": {
      "text/plain": [
       "Index(['A', 'B', 'C', 'D'], dtype='object')"
      ]
     },
     "execution_count": 22,
     "metadata": {},
     "output_type": "execute_result"
    }
   ],
   "source": [
    " df.columns"
   ]
  },
  {
   "cell_type": "code",
   "execution_count": 23,
   "id": "7240b795-7eaa-40a8-9b9e-96f932b59772",
   "metadata": {},
   "outputs": [],
   "source": [
    "## Convert DataFrame to numpy array."
   ]
  },
  {
   "cell_type": "code",
   "execution_count": 24,
   "id": "f02904b7-6040-4e07-8f0e-de414c54fe59",
   "metadata": {},
   "outputs": [],
   "source": [
    "## NumPy arrays have one dtype for the entire array, while Pandas DataFrames have one dtype per column. \n",
    "## When you call DataFrame.to_numpy(), Pandas will find the NumPy dtype that can hold all of the dtypes in the DataFrame. \n",
    "## This may end up being an object, which requires casting every value to a Python object. \n",
    "## This can lead to very expensive (time and memory-consuming) operations."
   ]
  },
  {
   "cell_type": "code",
   "execution_count": 25,
   "id": "c738cb59-79ed-4311-b120-31785e9065f4",
   "metadata": {},
   "outputs": [],
   "source": [
    "## The function describe() shows a quick statistic summary of your data."
   ]
  },
  {
   "cell_type": "code",
   "execution_count": 26,
   "id": "326b713f-3696-46fe-8872-ce8299c9354e",
   "metadata": {},
   "outputs": [
    {
     "data": {
      "text/html": [
       "<div>\n",
       "<style scoped>\n",
       "    .dataframe tbody tr th:only-of-type {\n",
       "        vertical-align: middle;\n",
       "    }\n",
       "\n",
       "    .dataframe tbody tr th {\n",
       "        vertical-align: top;\n",
       "    }\n",
       "\n",
       "    .dataframe thead th {\n",
       "        text-align: right;\n",
       "    }\n",
       "</style>\n",
       "<table border=\"1\" class=\"dataframe\">\n",
       "  <thead>\n",
       "    <tr style=\"text-align: right;\">\n",
       "      <th></th>\n",
       "      <th>A</th>\n",
       "      <th>B</th>\n",
       "      <th>C</th>\n",
       "      <th>D</th>\n",
       "    </tr>\n",
       "  </thead>\n",
       "  <tbody>\n",
       "    <tr>\n",
       "      <th>count</th>\n",
       "      <td>6.000000</td>\n",
       "      <td>6.000000</td>\n",
       "      <td>6.000000</td>\n",
       "      <td>6.000000</td>\n",
       "    </tr>\n",
       "    <tr>\n",
       "      <th>mean</th>\n",
       "      <td>0.087430</td>\n",
       "      <td>0.394696</td>\n",
       "      <td>0.478131</td>\n",
       "      <td>0.354677</td>\n",
       "    </tr>\n",
       "    <tr>\n",
       "      <th>std</th>\n",
       "      <td>1.104377</td>\n",
       "      <td>0.942553</td>\n",
       "      <td>0.568211</td>\n",
       "      <td>0.775127</td>\n",
       "    </tr>\n",
       "    <tr>\n",
       "      <th>min</th>\n",
       "      <td>-1.133536</td>\n",
       "      <td>-0.625710</td>\n",
       "      <td>-0.225137</td>\n",
       "      <td>-0.957846</td>\n",
       "    </tr>\n",
       "    <tr>\n",
       "      <th>25%</th>\n",
       "      <td>-0.670701</td>\n",
       "      <td>-0.279862</td>\n",
       "      <td>0.167600</td>\n",
       "      <td>0.073668</td>\n",
       "    </tr>\n",
       "    <tr>\n",
       "      <th>50%</th>\n",
       "      <td>0.163377</td>\n",
       "      <td>0.158036</td>\n",
       "      <td>0.490532</td>\n",
       "      <td>0.510087</td>\n",
       "    </tr>\n",
       "    <tr>\n",
       "      <th>75%</th>\n",
       "      <td>0.278550</td>\n",
       "      <td>1.049360</td>\n",
       "      <td>0.576534</td>\n",
       "      <td>0.798448</td>\n",
       "    </tr>\n",
       "    <tr>\n",
       "      <th>max</th>\n",
       "      <td>1.963148</td>\n",
       "      <td>1.757177</td>\n",
       "      <td>1.447698</td>\n",
       "      <td>1.242969</td>\n",
       "    </tr>\n",
       "  </tbody>\n",
       "</table>\n",
       "</div>"
      ],
      "text/plain": [
       "              A         B         C         D\n",
       "count  6.000000  6.000000  6.000000  6.000000\n",
       "mean   0.087430  0.394696  0.478131  0.354677\n",
       "std    1.104377  0.942553  0.568211  0.775127\n",
       "min   -1.133536 -0.625710 -0.225137 -0.957846\n",
       "25%   -0.670701 -0.279862  0.167600  0.073668\n",
       "50%    0.163377  0.158036  0.490532  0.510087\n",
       "75%    0.278550  1.049360  0.576534  0.798448\n",
       "max    1.963148  1.757177  1.447698  1.242969"
      ]
     },
     "execution_count": 26,
     "metadata": {},
     "output_type": "execute_result"
    }
   ],
   "source": [
    "df.describe()"
   ]
  },
  {
   "cell_type": "code",
   "execution_count": 27,
   "id": "95d5b409-545f-450d-bb58-6a8f4f267957",
   "metadata": {},
   "outputs": [],
   "source": [
    "## Tranpose your data"
   ]
  },
  {
   "cell_type": "code",
   "execution_count": 28,
   "id": "83c756b8-b0b3-439f-91a7-be16591f957c",
   "metadata": {},
   "outputs": [
    {
     "data": {
      "text/html": [
       "<div>\n",
       "<style scoped>\n",
       "    .dataframe tbody tr th:only-of-type {\n",
       "        vertical-align: middle;\n",
       "    }\n",
       "\n",
       "    .dataframe tbody tr th {\n",
       "        vertical-align: top;\n",
       "    }\n",
       "\n",
       "    .dataframe thead th {\n",
       "        text-align: right;\n",
       "    }\n",
       "</style>\n",
       "<table border=\"1\" class=\"dataframe\">\n",
       "  <thead>\n",
       "    <tr style=\"text-align: right;\">\n",
       "      <th></th>\n",
       "      <th>2013-01-01</th>\n",
       "      <th>2013-01-02</th>\n",
       "      <th>2013-01-03</th>\n",
       "      <th>2013-01-04</th>\n",
       "      <th>2013-01-05</th>\n",
       "      <th>2013-01-06</th>\n",
       "    </tr>\n",
       "  </thead>\n",
       "  <tbody>\n",
       "    <tr>\n",
       "      <th>A</th>\n",
       "      <td>-0.925085</td>\n",
       "      <td>0.234304</td>\n",
       "      <td>-1.133536</td>\n",
       "      <td>0.293298</td>\n",
       "      <td>1.963148</td>\n",
       "      <td>0.092451</td>\n",
       "    </tr>\n",
       "    <tr>\n",
       "      <th>B</th>\n",
       "      <td>-0.625710</td>\n",
       "      <td>-0.039567</td>\n",
       "      <td>-0.359960</td>\n",
       "      <td>0.355639</td>\n",
       "      <td>1.757177</td>\n",
       "      <td>1.280601</td>\n",
       "    </tr>\n",
       "    <tr>\n",
       "      <th>C</th>\n",
       "      <td>0.590613</td>\n",
       "      <td>0.074545</td>\n",
       "      <td>0.534297</td>\n",
       "      <td>-0.225137</td>\n",
       "      <td>1.447698</td>\n",
       "      <td>0.446767</td>\n",
       "    </tr>\n",
       "    <tr>\n",
       "      <th>D</th>\n",
       "      <td>0.566678</td>\n",
       "      <td>-0.957846</td>\n",
       "      <td>0.875705</td>\n",
       "      <td>1.242969</td>\n",
       "      <td>0.453496</td>\n",
       "      <td>-0.052941</td>\n",
       "    </tr>\n",
       "  </tbody>\n",
       "</table>\n",
       "</div>"
      ],
      "text/plain": [
       "   2013-01-01  2013-01-02  2013-01-03  2013-01-04  2013-01-05  2013-01-06\n",
       "A   -0.925085    0.234304   -1.133536    0.293298    1.963148    0.092451\n",
       "B   -0.625710   -0.039567   -0.359960    0.355639    1.757177    1.280601\n",
       "C    0.590613    0.074545    0.534297   -0.225137    1.447698    0.446767\n",
       "D    0.566678   -0.957846    0.875705    1.242969    0.453496   -0.052941"
      ]
     },
     "execution_count": 28,
     "metadata": {},
     "output_type": "execute_result"
    }
   ],
   "source": [
    "df.T"
   ]
  },
  {
   "cell_type": "code",
   "execution_count": 29,
   "id": "5193b873-ff00-4811-ad1f-15d4b9abcf28",
   "metadata": {},
   "outputs": [],
   "source": [
    "## We can also sort DataFrame by values in specific column."
   ]
  },
  {
   "cell_type": "code",
   "execution_count": 30,
   "id": "24e8a0e4-0cdf-47ae-84c2-21d2f3aeee02",
   "metadata": {},
   "outputs": [
    {
     "data": {
      "text/html": [
       "<div>\n",
       "<style scoped>\n",
       "    .dataframe tbody tr th:only-of-type {\n",
       "        vertical-align: middle;\n",
       "    }\n",
       "\n",
       "    .dataframe tbody tr th {\n",
       "        vertical-align: top;\n",
       "    }\n",
       "\n",
       "    .dataframe thead th {\n",
       "        text-align: right;\n",
       "    }\n",
       "</style>\n",
       "<table border=\"1\" class=\"dataframe\">\n",
       "  <thead>\n",
       "    <tr style=\"text-align: right;\">\n",
       "      <th></th>\n",
       "      <th>A</th>\n",
       "      <th>B</th>\n",
       "      <th>C</th>\n",
       "      <th>D</th>\n",
       "    </tr>\n",
       "  </thead>\n",
       "  <tbody>\n",
       "    <tr>\n",
       "      <th>2013-01-01</th>\n",
       "      <td>-0.925085</td>\n",
       "      <td>-0.625710</td>\n",
       "      <td>0.590613</td>\n",
       "      <td>0.566678</td>\n",
       "    </tr>\n",
       "    <tr>\n",
       "      <th>2013-01-03</th>\n",
       "      <td>-1.133536</td>\n",
       "      <td>-0.359960</td>\n",
       "      <td>0.534297</td>\n",
       "      <td>0.875705</td>\n",
       "    </tr>\n",
       "    <tr>\n",
       "      <th>2013-01-02</th>\n",
       "      <td>0.234304</td>\n",
       "      <td>-0.039567</td>\n",
       "      <td>0.074545</td>\n",
       "      <td>-0.957846</td>\n",
       "    </tr>\n",
       "    <tr>\n",
       "      <th>2013-01-04</th>\n",
       "      <td>0.293298</td>\n",
       "      <td>0.355639</td>\n",
       "      <td>-0.225137</td>\n",
       "      <td>1.242969</td>\n",
       "    </tr>\n",
       "    <tr>\n",
       "      <th>2013-01-06</th>\n",
       "      <td>0.092451</td>\n",
       "      <td>1.280601</td>\n",
       "      <td>0.446767</td>\n",
       "      <td>-0.052941</td>\n",
       "    </tr>\n",
       "    <tr>\n",
       "      <th>2013-01-05</th>\n",
       "      <td>1.963148</td>\n",
       "      <td>1.757177</td>\n",
       "      <td>1.447698</td>\n",
       "      <td>0.453496</td>\n",
       "    </tr>\n",
       "  </tbody>\n",
       "</table>\n",
       "</div>"
      ],
      "text/plain": [
       "                   A         B         C         D\n",
       "2013-01-01 -0.925085 -0.625710  0.590613  0.566678\n",
       "2013-01-03 -1.133536 -0.359960  0.534297  0.875705\n",
       "2013-01-02  0.234304 -0.039567  0.074545 -0.957846\n",
       "2013-01-04  0.293298  0.355639 -0.225137  1.242969\n",
       "2013-01-06  0.092451  1.280601  0.446767 -0.052941\n",
       "2013-01-05  1.963148  1.757177  1.447698  0.453496"
      ]
     },
     "execution_count": 30,
     "metadata": {},
     "output_type": "execute_result"
    }
   ],
   "source": [
    "df.sort_values(by='B')"
   ]
  },
  {
   "cell_type": "code",
   "execution_count": null,
   "id": "2f5c5e5e-09f6-482b-abd8-0c43e4b6f510",
   "metadata": {},
   "outputs": [],
   "source": []
  }
 ],
 "metadata": {
  "kernelspec": {
   "display_name": "THE_ONE",
   "language": "python",
   "name": "the_one"
  },
  "language_info": {
   "codemirror_mode": {
    "name": "ipython",
    "version": 3
   },
   "file_extension": ".py",
   "mimetype": "text/x-python",
   "name": "python",
   "nbconvert_exporter": "python",
   "pygments_lexer": "ipython3",
   "version": "3.8.15"
  }
 },
 "nbformat": 4,
 "nbformat_minor": 5
}
