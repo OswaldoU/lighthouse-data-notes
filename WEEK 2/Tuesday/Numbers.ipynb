{
 "cells": [
  {
   "cell_type": "code",
   "execution_count": 21,
   "id": "cf6f058b-314a-493b-af97-c7f415a463f9",
   "metadata": {},
   "outputs": [],
   "source": [
    "## So far, we haven’t really done anything dynamically yet; we declared and initialized variables and output their values. \n",
    "## That’s about to change, because now we are going to be working a bit with the basic math operators that Python provides.\n",
    "\n",
    "## Python supports all of the math operations that you would expect. The basic ones are addition, subtraction, multiplication, and division. \n",
    "## Other ones include the exponentiation and modulo operators, which you will see in a moment.\n",
    "\n"
   ]
  },
  {
   "cell_type": "code",
   "execution_count": 22,
   "id": "fc76906b-bf1a-4ca7-8ac1-1e055e46527b",
   "metadata": {},
   "outputs": [],
   "source": [
    "# Addition & Subtraction\n",
    "## Let’s start out simple and add two numbers together, store the result in a variable and print out the result."
   ]
  },
  {
   "cell_type": "code",
   "execution_count": 23,
   "id": "41d9142d-68c0-46db-ab68-55d47d28b851",
   "metadata": {},
   "outputs": [
    {
     "name": "stdout",
     "output_type": "stream",
     "text": [
      "6\n"
     ]
    }
   ],
   "source": [
    "a = 4\n",
    "b = 2\n",
    "c = a + b\n",
    "print(c)\n",
    "\n",
    "## Even though we used variables for the addition, we could just as well have entered numbers instead.\n",
    "\n",
    "##As I am sure you can imagine, the above prints out the number 6."
   ]
  },
  {
   "cell_type": "code",
   "execution_count": 24,
   "id": "48e268a8-a659-4275-8fe6-a767992586ef",
   "metadata": {},
   "outputs": [],
   "source": [
    "#Division\n",
    "##Let’s now try to divide c by two and print out the result."
   ]
  },
  {
   "cell_type": "code",
   "execution_count": 25,
   "id": "40715b69",
   "metadata": {},
   "outputs": [
    {
     "name": "stdout",
     "output_type": "stream",
     "text": [
      "3.0\n"
     ]
    }
   ],
   "source": [
    "print(c / 2)"
   ]
  },
  {
   "cell_type": "code",
   "execution_count": 26,
   "id": "4c2f2b47",
   "metadata": {},
   "outputs": [],
   "source": [
    "## Notice how I printed out the result of the division — being an expression — directly, instead of storing the result within a variable first. \n",
    "## When printing out values, we are using a function named print. We haven’t talked about functions yet, so we will get back to that later. \n",
    "## The point is that this function takes an argument. For this argument, we can pass in a value directly, such as “Hello”, 22, or a mathematical expression as in this case. \n",
    "## We will get back to all of this later, so don’t worry if that went over your head.\n",
    "\n",
    "## Either way, the above line of code prints out the number 3.0. Note that this number is actually of the type float — being numbers with decimals — instead of int. \n",
    "## In this case we are dividing two integers (i.e. whole numbers), but that might not necessarily be the case. \n",
    "## So the fact that divisions always result in floating point numbers is just convenient for us in case we need to perform some further operations on the number"
   ]
  },
  {
   "cell_type": "code",
   "execution_count": 27,
   "id": "25603155",
   "metadata": {},
   "outputs": [],
   "source": [
    "#Multiplication\n",
    "##There is nothing special about multiplication in Python; we just use an asterisk (*) in the same way we did with addition, subtraction, and division."
   ]
  },
  {
   "cell_type": "code",
   "execution_count": 28,
   "id": "70d7fae8",
   "metadata": {},
   "outputs": [
    {
     "name": "stdout",
     "output_type": "stream",
     "text": [
      "4\n"
     ]
    }
   ],
   "source": [
    "print(2 * 2)"
   ]
  },
  {
   "cell_type": "code",
   "execution_count": 29,
   "id": "3ba338d1",
   "metadata": {},
   "outputs": [],
   "source": [
    "## I’m sure it comes as no surprise to you that the above outputs 4. \n",
    "## Note that if we multiply two integers, the result is of the data type int. If we multiply by at least one decimal number, the result is a float value."
   ]
  },
  {
   "cell_type": "code",
   "execution_count": 30,
   "id": "8b84d15b",
   "metadata": {},
   "outputs": [],
   "source": [
    "#Exponential Operator\n",
    "##Apart from the most common mathematical operators — being +, –, * and /) — Python also provides a handy operator for working with exponents. Consider the following example."
   ]
  },
  {
   "cell_type": "code",
   "execution_count": 31,
   "id": "b1846771",
   "metadata": {},
   "outputs": [
    {
     "name": "stdout",
     "output_type": "stream",
     "text": [
      "1024\n"
     ]
    }
   ],
   "source": [
    "print(2 ** 10)"
   ]
  },
  {
   "cell_type": "code",
   "execution_count": 32,
   "id": "233e149d",
   "metadata": {},
   "outputs": [],
   "source": [
    "## This raises 2 to the power of 10, also noted as 210, where 10 is the exponent. \n",
    "## Without getting too much into math, this is the equivalent of multiplying 2 by itself 10 times, i.e. 2 * 2 * 2 * 2 * 2 * 2 * 2 * 2 * 2 * 2. \n",
    "## As you can see, using the exponential operator is much more convenient than typing all of that out manually. The result of the above is 1024."
   ]
  },
  {
   "cell_type": "code",
   "execution_count": 33,
   "id": "923264db",
   "metadata": {},
   "outputs": [],
   "source": [
    "# Modulo Operator\n",
    "## Another math operator, is the modulo operator. What this operator does, is that it performs a division and then returns the remainder of the division. \n",
    "## Consider the following examples."
   ]
  },
  {
   "cell_type": "code",
   "execution_count": 34,
   "id": "5507ae99",
   "metadata": {},
   "outputs": [
    {
     "name": "stdout",
     "output_type": "stream",
     "text": [
      "0\n",
      "1\n"
     ]
    }
   ],
   "source": [
    "print(4 % 2)\n",
    "print(4 % 3)"
   ]
  },
  {
   "cell_type": "code",
   "execution_count": 35,
   "id": "60eee771",
   "metadata": {},
   "outputs": [],
   "source": [
    "## The first line outputs 0. What happens is that 4 is divided by 2, leaving a remainder of 0. The second line divides 4 by 3, which leaves a remainder of 1. \n",
    "## Likewise, the expression 105 % 10 gives us the integer 5. Hopefully that makes sense.\n",
    "\n",
    "## So what is the point of this operator? Typically you are not interested in the remainder itself, but just determining whether one number is divisible by another number. \n",
    "## We will get back to examples of this at a later point, but a simple example could be to highlight every second row of a table by checking if the current row number is divisible by two (i.e. the remainder is zero). \n",
    "## Again, more on that later."
   ]
  },
  {
   "cell_type": "code",
   "execution_count": 36,
   "id": "3e452244",
   "metadata": {},
   "outputs": [],
   "source": [
    "# Floor Division\n",
    "## The last math operator that we will look at, is the floor division operator. Suppose that we divide 10 by 3, for instance. \n",
    "## This division yields a floating point number (i.e. a decimal number) of 3.33 (I reduced the number of decimals for brevity). \n",
    "## When using floor division, the result of a division is rounded down to the nearest integer value, i.e. to a whole number. \n",
    "## Consider the following example, where the floor division is denoted by two slashes, i.e. //."
   ]
  },
  {
   "cell_type": "code",
   "execution_count": 37,
   "id": "ec4edb3d",
   "metadata": {},
   "outputs": [
    {
     "name": "stdout",
     "output_type": "stream",
     "text": [
      "3\n"
     ]
    }
   ],
   "source": [
    "print(10 // 3)"
   ]
  },
  {
   "cell_type": "code",
   "execution_count": 38,
   "id": "a8890e1e",
   "metadata": {},
   "outputs": [],
   "source": [
    "## The division itself results in the decimal number 3.33 (again, the actual result produces more decimals). This number is then rounded down to the nearest full number, being 3. \n",
    "## So the result of the above is the integer 3.\n",
    "\n",
    "## But what if the division results in a negative number? Suppose that we divide -11 by 3, which gives -3.66. What would the result of the following then be?"
   ]
  },
  {
   "cell_type": "code",
   "execution_count": 39,
   "id": "8d2cff1a",
   "metadata": {},
   "outputs": [
    {
     "name": "stdout",
     "output_type": "stream",
     "text": [
      "-4\n"
     ]
    }
   ],
   "source": [
    "print(-11 // 3)"
   ]
  },
  {
   "cell_type": "code",
   "execution_count": 40,
   "id": "1c875227",
   "metadata": {},
   "outputs": [],
   "source": [
    "## The result would actually be -4. That’s because the number is rounded down, and since -3.66 is below zero, rounding down to the nearest integer (or full number) means rounding down to -4. \n",
    "## So if the result of the division is less than zero, we round away from zero, so to speak."
   ]
  }
 ],
 "metadata": {
  "kernelspec": {
   "display_name": "Python 3 (ipykernel)",
   "language": "python",
   "name": "python3"
  },
  "language_info": {
   "codemirror_mode": {
    "name": "ipython",
    "version": 3
   },
   "file_extension": ".py",
   "mimetype": "text/x-python",
   "name": "python",
   "nbconvert_exporter": "python",
   "pygments_lexer": "ipython3",
   "version": "3.8.15"
  },
  "vscode": {
   "interpreter": {
    "hash": "6ad95572a1c15de1d0b8eca79c7b9cd5028505873e2c71ff56ffc4343ef0b428"
   }
  }
 },
 "nbformat": 4,
 "nbformat_minor": 5
}
