{
 "cells": [
  {
   "cell_type": "code",
   "execution_count": 2,
   "id": "cf6f058b-314a-493b-af97-c7f415a463f9",
   "metadata": {},
   "outputs": [],
   "source": [
    "##So far, we haven’t really done anything dynamically yet; we declared and initialized variables and output their values. That’s about to change, because now we are going to be working a bit with the basic math operators that Python provides.\n",
    "\n",
    "##Python supports all of the math operations that you would expect. The basic ones are addition, subtraction, multiplication, and division. Other ones include the exponentiation and modulo operators, which you will see in a moment.\n",
    "\n"
   ]
  },
  {
   "cell_type": "code",
   "execution_count": 3,
   "id": "fc76906b-bf1a-4ca7-8ac1-1e055e46527b",
   "metadata": {},
   "outputs": [],
   "source": [
    "#Addition & Subtraction\n",
    "##Let’s start out simple and add two numbers together, store the result in a variable and print out the result."
   ]
  },
  {
   "cell_type": "code",
   "execution_count": 4,
   "id": "41d9142d-68c0-46db-ab68-55d47d28b851",
   "metadata": {},
   "outputs": [
    {
     "ename": "SyntaxError",
     "evalue": "invalid syntax (1725343260.py, line 1)",
     "output_type": "error",
     "traceback": [
      "\u001b[0;36m  Cell \u001b[0;32mIn [4], line 1\u001b[0;36m\u001b[0m\n\u001b[0;31m    ```a = 4\u001b[0m\n\u001b[0m    ^\u001b[0m\n\u001b[0;31mSyntaxError\u001b[0m\u001b[0;31m:\u001b[0m invalid syntax\n"
     ]
    }
   ],
   "source": [
    "```a = 4\n",
    "b = 2\n",
    "c = a + b\n",
    "print(c)```\n",
    "\n",
    "## Even though we used variables for the addition, we could just as well have entered numbers instead.\n",
    "\n",
    "##As I am sure you can imagine, the above prints out the number 6."
   ]
  },
  {
   "cell_type": "code",
   "execution_count": null,
   "id": "48e268a8-a659-4275-8fe6-a767992586ef",
   "metadata": {},
   "outputs": [],
   "source": []
  }
 ],
 "metadata": {
  "kernelspec": {
   "display_name": "Python 3 (ipykernel)",
   "language": "python",
   "name": "python3"
  },
  "language_info": {
   "codemirror_mode": {
    "name": "ipython",
    "version": 3
   },
   "file_extension": ".py",
   "mimetype": "text/x-python",
   "name": "python",
   "nbconvert_exporter": "python",
   "pygments_lexer": "ipython3",
   "version": "3.8.15"
  }
 },
 "nbformat": 4,
 "nbformat_minor": 5
}
