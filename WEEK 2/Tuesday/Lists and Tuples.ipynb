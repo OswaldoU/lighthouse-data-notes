{
 "cells": [
  {
   "cell_type": "code",
   "execution_count": 192,
   "id": "ed98569a-a528-4421-8d7a-7be18ee7d7f9",
   "metadata": {},
   "outputs": [],
   "source": [
    "# Python Lists\n",
    "\n",
    "## In short, a list is a collection of arbitrary objects, somewhat akin to an array in many other programming languages but more flexible. \n",
    "## Lists are defined in Python by enclosing a comma-separated sequence of objects in square brackets ([]), as shown below:"
   ]
  },
  {
   "cell_type": "code",
   "execution_count": 193,
   "id": "0c145079-df17-432f-ab68-498c14def002",
   "metadata": {},
   "outputs": [
    {
     "name": "stdout",
     "output_type": "stream",
     "text": [
      "['foo', 'bar', 'baz', 'qux']\n"
     ]
    },
    {
     "data": {
      "text/plain": [
       "['foo', 'bar', 'baz', 'qux']"
      ]
     },
     "execution_count": 193,
     "metadata": {},
     "output_type": "execute_result"
    }
   ],
   "source": [
    ">>> a = ['foo', 'bar', 'baz', 'qux']\n",
    "\n",
    ">>> print(a)\n",
    "['foo', 'bar', 'baz', 'qux']\n",
    ">>> a\n",
    "['foo', 'bar', 'baz', 'qux']"
   ]
  },
  {
   "cell_type": "code",
   "execution_count": 194,
   "id": "958e343d",
   "metadata": {},
   "outputs": [],
   "source": [
    "## The important characteristics of Python lists are as follows:\n",
    "\n",
    "## - Lists are ordered.\n",
    "## - Lists can contain any arbitrary objects.\n",
    "## - List elements can be accessed by index.\n",
    "## - Lists can be nested to arbitrary depth.\n",
    "## - Lists are mutable.\n",
    "## - Lists are dynamic.\n",
    "\n",
    "## Each of these features is examined in more detail below. "
   ]
  },
  {
   "cell_type": "code",
   "execution_count": 195,
   "id": "c8732e0e",
   "metadata": {},
   "outputs": [],
   "source": [
    "# Lists Are Ordered\n",
    "\n",
    "## A list is not merely a collection of objects. It is an ordered collection of objects. \n",
    "## The order in which you specify the elements when you define a list is an innate characteristic of that list and is maintained for that list’s lifetime. \n",
    "## (You will see a Python data type that is not ordered in the next tutorial on dictionaries.)\n",
    "\n",
    "\n",
    "## Lists that have the same elements in a different order are not the same:"
   ]
  },
  {
   "cell_type": "code",
   "execution_count": 196,
   "id": "63f43e79",
   "metadata": {},
   "outputs": [],
   "source": [
    ">>> a = ['foo', 'bar', 'baz', 'qux']\n",
    ">>> b = ['baz', 'qux', 'bar', 'foo']\n"
   ]
  },
  {
   "cell_type": "code",
   "execution_count": 197,
   "id": "63ed8a23",
   "metadata": {},
   "outputs": [
    {
     "data": {
      "text/plain": [
       "False"
      ]
     },
     "execution_count": 197,
     "metadata": {},
     "output_type": "execute_result"
    }
   ],
   "source": [
    ">>> a == b\n"
   ]
  },
  {
   "cell_type": "code",
   "execution_count": 198,
   "id": "70413cfe",
   "metadata": {},
   "outputs": [
    {
     "data": {
      "text/plain": [
       "False"
      ]
     },
     "execution_count": 198,
     "metadata": {},
     "output_type": "execute_result"
    }
   ],
   "source": [
    ">>> a is b"
   ]
  },
  {
   "cell_type": "code",
   "execution_count": 199,
   "id": "278bb9e9",
   "metadata": {},
   "outputs": [
    {
     "data": {
      "text/plain": [
       "False"
      ]
     },
     "execution_count": 199,
     "metadata": {},
     "output_type": "execute_result"
    }
   ],
   "source": [
    ">>> [1, 2, 3, 4] == [4, 1, 3, 2]"
   ]
  },
  {
   "cell_type": "code",
   "execution_count": 200,
   "id": "5b195843",
   "metadata": {},
   "outputs": [],
   "source": [
    "# Lists Can Contain Arbitrary Objects\n",
    "\n",
    "## A list can contain any assortment of objects. The elements of a list can all be the same type:"
   ]
  },
  {
   "cell_type": "code",
   "execution_count": 201,
   "id": "7002fbf8",
   "metadata": {},
   "outputs": [
    {
     "data": {
      "text/plain": [
       "[2, 4, 6, 8]"
      ]
     },
     "execution_count": 201,
     "metadata": {},
     "output_type": "execute_result"
    }
   ],
   "source": [
    ">>> a = [2, 4, 6, 8]\n",
    ">>> a"
   ]
  },
  {
   "cell_type": "code",
   "execution_count": 202,
   "id": "b4c7660b",
   "metadata": {},
   "outputs": [],
   "source": [
    "## Or the elements can be of varying types:"
   ]
  },
  {
   "cell_type": "code",
   "execution_count": 203,
   "id": "717a337c",
   "metadata": {},
   "outputs": [
    {
     "data": {
      "text/plain": [
       "[21.42, 'foobar', 3, 4, 'bark', False, 3.14159]"
      ]
     },
     "execution_count": 203,
     "metadata": {},
     "output_type": "execute_result"
    }
   ],
   "source": [
    ">>> a = [21.42, 'foobar', 3, 4, 'bark', False, 3.14159]\n",
    ">>> a"
   ]
  },
  {
   "cell_type": "code",
   "execution_count": 204,
   "id": "4cb6bcda",
   "metadata": {},
   "outputs": [],
   "source": [
    "## Lists can even contain complex objects, like functions, classes, and modules, which you will learn about in upcoming tutorials:"
   ]
  },
  {
   "cell_type": "code",
   "execution_count": 205,
   "id": "59933a33",
   "metadata": {},
   "outputs": [
    {
     "data": {
      "text/plain": [
       "int"
      ]
     },
     "execution_count": 205,
     "metadata": {},
     "output_type": "execute_result"
    }
   ],
   "source": [
    ">>> int"
   ]
  },
  {
   "cell_type": "code",
   "execution_count": 206,
   "id": "6c2fa9f0",
   "metadata": {},
   "outputs": [
    {
     "data": {
      "text/plain": [
       "<function len(obj, /)>"
      ]
     },
     "execution_count": 206,
     "metadata": {},
     "output_type": "execute_result"
    }
   ],
   "source": [
    ">>> len"
   ]
  },
  {
   "cell_type": "code",
   "execution_count": 207,
   "id": "de01cc46",
   "metadata": {},
   "outputs": [],
   "source": [
    ">>> def foo():\n",
    "...     pass\n",
    "..."
   ]
  },
  {
   "cell_type": "code",
   "execution_count": 208,
   "id": "662f2ed4",
   "metadata": {},
   "outputs": [
    {
     "data": {
      "text/plain": [
       "<function __main__.foo()>"
      ]
     },
     "execution_count": 208,
     "metadata": {},
     "output_type": "execute_result"
    }
   ],
   "source": [
    ">>> foo"
   ]
  },
  {
   "cell_type": "code",
   "execution_count": 209,
   "id": "a7b83059",
   "metadata": {},
   "outputs": [],
   "source": [
    ">>> import math"
   ]
  },
  {
   "cell_type": "code",
   "execution_count": 210,
   "id": "1548df4f",
   "metadata": {},
   "outputs": [
    {
     "data": {
      "text/plain": [
       "<module 'math' from '/opt/homebrew/Caskroom/miniforge/base/envs/THE_ONE/lib/python3.8/lib-dynload/math.cpython-38-darwin.so'>"
      ]
     },
     "execution_count": 210,
     "metadata": {},
     "output_type": "execute_result"
    }
   ],
   "source": [
    ">>> math"
   ]
  },
  {
   "cell_type": "code",
   "execution_count": 211,
   "id": "607bbb48",
   "metadata": {},
   "outputs": [
    {
     "data": {
      "text/plain": [
       "[int,\n",
       " <function len(obj, /)>,\n",
       " <function __main__.foo()>,\n",
       " <module 'math' from '/opt/homebrew/Caskroom/miniforge/base/envs/THE_ONE/lib/python3.8/lib-dynload/math.cpython-38-darwin.so'>]"
      ]
     },
     "execution_count": 211,
     "metadata": {},
     "output_type": "execute_result"
    }
   ],
   "source": [
    ">>> a = [int, len, foo, math]\n",
    ">>> a"
   ]
  },
  {
   "cell_type": "code",
   "execution_count": 212,
   "id": "c6510ab4",
   "metadata": {},
   "outputs": [],
   "source": [
    "## A list can contain any number of objects, from zero to as many as your computer’s memory will allow:"
   ]
  },
  {
   "cell_type": "code",
   "execution_count": 213,
   "id": "8b62bd96",
   "metadata": {},
   "outputs": [
    {
     "data": {
      "text/plain": [
       "[]"
      ]
     },
     "execution_count": 213,
     "metadata": {},
     "output_type": "execute_result"
    }
   ],
   "source": [
    ">>> a = []\n",
    ">>> a"
   ]
  },
  {
   "cell_type": "code",
   "execution_count": 214,
   "id": "81d8c725",
   "metadata": {},
   "outputs": [
    {
     "data": {
      "text/plain": [
       "['foo']"
      ]
     },
     "execution_count": 214,
     "metadata": {},
     "output_type": "execute_result"
    }
   ],
   "source": [
    ">>> a = [ 'foo' ]\n",
    ">>> a"
   ]
  },
  {
   "cell_type": "code",
   "execution_count": 215,
   "id": "2e65ce13",
   "metadata": {},
   "outputs": [
    {
     "data": {
      "text/plain": [
       "[0,\n",
       " 1,\n",
       " 2,\n",
       " 3,\n",
       " 4,\n",
       " 5,\n",
       " 6,\n",
       " 7,\n",
       " 8,\n",
       " 9,\n",
       " 10,\n",
       " 11,\n",
       " 12,\n",
       " 13,\n",
       " 14,\n",
       " 15,\n",
       " 16,\n",
       " 17,\n",
       " 18,\n",
       " 19,\n",
       " 20,\n",
       " 21,\n",
       " 22,\n",
       " 23,\n",
       " 24,\n",
       " 25,\n",
       " 26,\n",
       " 27,\n",
       " 28,\n",
       " 29,\n",
       " 30,\n",
       " 31,\n",
       " 32,\n",
       " 33,\n",
       " 34,\n",
       " 35,\n",
       " 36,\n",
       " 37,\n",
       " 38,\n",
       " 39,\n",
       " 40,\n",
       " 41,\n",
       " 42,\n",
       " 43,\n",
       " 44,\n",
       " 45,\n",
       " 46,\n",
       " 47,\n",
       " 48,\n",
       " 49,\n",
       " 50,\n",
       " 51,\n",
       " 52,\n",
       " 53,\n",
       " 54,\n",
       " 55,\n",
       " 56,\n",
       " 57,\n",
       " 58,\n",
       " 59,\n",
       " 60,\n",
       " 61,\n",
       " 62,\n",
       " 63,\n",
       " 64,\n",
       " 65,\n",
       " 66,\n",
       " 67,\n",
       " 68,\n",
       " 69,\n",
       " 70,\n",
       " 71,\n",
       " 72,\n",
       " 73,\n",
       " 74,\n",
       " 75,\n",
       " 76,\n",
       " 77,\n",
       " 78,\n",
       " 79,\n",
       " 80,\n",
       " 81,\n",
       " 82,\n",
       " 83,\n",
       " 84,\n",
       " 85,\n",
       " 86,\n",
       " 87,\n",
       " 88,\n",
       " 89,\n",
       " 90,\n",
       " 91,\n",
       " 92,\n",
       " 93,\n",
       " 94,\n",
       " 95,\n",
       " 96,\n",
       " 97,\n",
       " 98,\n",
       " 99,\n",
       " 100]"
      ]
     },
     "execution_count": 215,
     "metadata": {},
     "output_type": "execute_result"
    }
   ],
   "source": [
    "a = [0, 1, 2, 3, 4, 5, 6, 7, 8, 9, 10, 11, 12, 13, 14, 15, 16, 17, 18, 19, 20,\n",
    "... 21, 22, 23, 24, 25, 26, 27, 28, 29, 30, 31, 32, 33, 34, 35, 36, 37, 38, 39, 40,\n",
    "... 41, 42, 43, 44, 45, 46, 47, 48, 49, 50, 51, 52, 53, 54, 55, 56, 57, 58, 59, 60,\n",
    "... 61, 62, 63, 64, 65, 66, 67, 68, 69, 70, 71, 72, 73, 74, 75, 76, 77, 78, 79, 80,\n",
    "... 81, 82, 83, 84, 85, 86, 87, 88, 89, 90, 91, 92, 93, 94, 95, 96, 97, 98, 99, 100]\n",
    ">>> a"
   ]
  },
  {
   "cell_type": "code",
   "execution_count": 216,
   "id": "1f929ecf",
   "metadata": {},
   "outputs": [],
   "source": [
    "## (A list with a single object is sometimes referred to as a singleton list.)\n",
    "\n",
    "## List objects needn’t be unique. A given object can appear in a list multiple times:"
   ]
  },
  {
   "cell_type": "code",
   "execution_count": 217,
   "id": "84582501",
   "metadata": {},
   "outputs": [
    {
     "data": {
      "text/plain": [
       "['bark', 'meow', 'woof', 'bark', 'cheep', 'bark']"
      ]
     },
     "execution_count": 217,
     "metadata": {},
     "output_type": "execute_result"
    }
   ],
   "source": [
    ">>> a = ['bark', 'meow', 'woof', 'bark', 'cheep', 'bark']\n",
    ">>> a"
   ]
  },
  {
   "cell_type": "code",
   "execution_count": 218,
   "id": "81c45fae",
   "metadata": {},
   "outputs": [],
   "source": [
    "# List Elements Can Be Accessed by Index\n",
    "\n",
    "## Individual elements in a list can be accessed using an index in square brackets. This is exactly analogous to accessing individual characters in a string. \n",
    "## List indexing is zero-based as it is with strings.\n",
    "\n",
    "## Consider the following list:"
   ]
  },
  {
   "cell_type": "code",
   "execution_count": 219,
   "id": "370c2e27",
   "metadata": {},
   "outputs": [],
   "source": [
    ">>> a = ['foo', 'bar', 'baz', 'qux', 'quux', 'corge']"
   ]
  },
  {
   "cell_type": "code",
   "execution_count": 220,
   "id": "42afb539",
   "metadata": {},
   "outputs": [
    {
     "data": {
      "text/plain": [
       "'foo'"
      ]
     },
     "execution_count": 220,
     "metadata": {},
     "output_type": "execute_result"
    }
   ],
   "source": [
    ">>> a[0]"
   ]
  },
  {
   "cell_type": "code",
   "execution_count": 221,
   "id": "48fca8a7",
   "metadata": {},
   "outputs": [
    {
     "data": {
      "text/plain": [
       "'baz'"
      ]
     },
     "execution_count": 221,
     "metadata": {},
     "output_type": "execute_result"
    }
   ],
   "source": [
    ">>> a[2]"
   ]
  },
  {
   "cell_type": "code",
   "execution_count": 222,
   "id": "9cf58b9b",
   "metadata": {},
   "outputs": [
    {
     "data": {
      "text/plain": [
       "'corge'"
      ]
     },
     "execution_count": 222,
     "metadata": {},
     "output_type": "execute_result"
    }
   ],
   "source": [
    ">>> a[5]"
   ]
  },
  {
   "cell_type": "code",
   "execution_count": 223,
   "id": "8e6f3a36",
   "metadata": {},
   "outputs": [
    {
     "data": {
      "text/plain": [
       "'corge'"
      ]
     },
     "execution_count": 223,
     "metadata": {},
     "output_type": "execute_result"
    }
   ],
   "source": [
    ">>> a[-1]"
   ]
  },
  {
   "cell_type": "code",
   "execution_count": 224,
   "id": "2c22002c",
   "metadata": {},
   "outputs": [
    {
     "data": {
      "text/plain": [
       "'quux'"
      ]
     },
     "execution_count": 224,
     "metadata": {},
     "output_type": "execute_result"
    }
   ],
   "source": [
    ">>> a[-2]"
   ]
  },
  {
   "cell_type": "code",
   "execution_count": 225,
   "id": "8c169ebe",
   "metadata": {},
   "outputs": [
    {
     "data": {
      "text/plain": [
       "'bar'"
      ]
     },
     "execution_count": 225,
     "metadata": {},
     "output_type": "execute_result"
    }
   ],
   "source": [
    ">>> a[-5]"
   ]
  },
  {
   "cell_type": "code",
   "execution_count": 226,
   "id": "945a1c6b",
   "metadata": {},
   "outputs": [],
   "source": [
    "## Slicing also works. If a is a list, the expression a[m:n] returns the portion of a from index m to, but not including, index n:"
   ]
  },
  {
   "cell_type": "code",
   "execution_count": 227,
   "id": "e2d0a77d",
   "metadata": {},
   "outputs": [],
   "source": [
    ">>> a = ['foo', 'bar', 'baz', 'qux', 'quux', 'corge']\n"
   ]
  },
  {
   "cell_type": "code",
   "execution_count": 228,
   "id": "a9aed1b2",
   "metadata": {},
   "outputs": [
    {
     "data": {
      "text/plain": [
       "['baz', 'qux', 'quux']"
      ]
     },
     "execution_count": 228,
     "metadata": {},
     "output_type": "execute_result"
    }
   ],
   "source": [
    "a[2:5]"
   ]
  },
  {
   "cell_type": "code",
   "execution_count": 229,
   "id": "614e93b5",
   "metadata": {},
   "outputs": [],
   "source": [
    "## Other features of string slicing work analogously for list slicing as well:\n",
    "\n",
    "## Both positive and negative indices can be specified:"
   ]
  },
  {
   "cell_type": "code",
   "execution_count": 230,
   "id": "dfa19fbc",
   "metadata": {},
   "outputs": [
    {
     "data": {
      "text/plain": [
       "['bar', 'baz', 'qux']"
      ]
     },
     "execution_count": 230,
     "metadata": {},
     "output_type": "execute_result"
    }
   ],
   "source": [
    ">>> a[-5:-2]"
   ]
  },
  {
   "cell_type": "code",
   "execution_count": 231,
   "id": "3baaa9fc",
   "metadata": {},
   "outputs": [
    {
     "data": {
      "text/plain": [
       "['bar', 'baz', 'qux']"
      ]
     },
     "execution_count": 231,
     "metadata": {},
     "output_type": "execute_result"
    }
   ],
   "source": [
    ">>> a[1:4]"
   ]
  },
  {
   "cell_type": "code",
   "execution_count": 232,
   "id": "ed7395fe",
   "metadata": {},
   "outputs": [
    {
     "data": {
      "text/plain": [
       "True"
      ]
     },
     "execution_count": 232,
     "metadata": {},
     "output_type": "execute_result"
    }
   ],
   "source": [
    ">>> a[-5:-2] == a[1:4]"
   ]
  },
  {
   "cell_type": "code",
   "execution_count": 233,
   "id": "be46a221",
   "metadata": {},
   "outputs": [],
   "source": [
    "## Omitting the first index starts the slice at the beginning of the list, and omitting the second index extends the slice to the end of the list:"
   ]
  },
  {
   "cell_type": "code",
   "execution_count": 234,
   "id": "ebf65fac",
   "metadata": {},
   "outputs": [
    {
     "name": "stdout",
     "output_type": "stream",
     "text": [
      "['foo', 'bar', 'baz', 'qux'] ['foo', 'bar', 'baz', 'qux']\n"
     ]
    }
   ],
   "source": [
    ">>> print(a[:4], a[0:4])"
   ]
  },
  {
   "cell_type": "code",
   "execution_count": 235,
   "id": "17de8c64",
   "metadata": {},
   "outputs": [
    {
     "name": "stdout",
     "output_type": "stream",
     "text": [
      "['baz', 'qux', 'quux', 'corge'] ['baz', 'qux', 'quux', 'corge']\n"
     ]
    }
   ],
   "source": [
    ">>> print(a[2:], a[2:len(a)])"
   ]
  },
  {
   "cell_type": "code",
   "execution_count": 236,
   "id": "cff2aafb",
   "metadata": {},
   "outputs": [
    {
     "data": {
      "text/plain": [
       "['foo', 'bar', 'baz', 'qux', 'quux', 'corge']"
      ]
     },
     "execution_count": 236,
     "metadata": {},
     "output_type": "execute_result"
    }
   ],
   "source": [
    ">>> a[:4] + a[4:]"
   ]
  },
  {
   "cell_type": "code",
   "execution_count": 237,
   "id": "081edff9",
   "metadata": {},
   "outputs": [
    {
     "data": {
      "text/plain": [
       "True"
      ]
     },
     "execution_count": 237,
     "metadata": {},
     "output_type": "execute_result"
    }
   ],
   "source": [
    ">>> a[:4] + a[4:] == a"
   ]
  },
  {
   "cell_type": "code",
   "execution_count": 238,
   "id": "bec6308f",
   "metadata": {},
   "outputs": [],
   "source": [
    "## You can specify a stride—either positive or negative:"
   ]
  },
  {
   "cell_type": "code",
   "execution_count": 239,
   "id": "019865da",
   "metadata": {},
   "outputs": [
    {
     "data": {
      "text/plain": [
       "['foo', 'baz', 'quux']"
      ]
     },
     "execution_count": 239,
     "metadata": {},
     "output_type": "execute_result"
    }
   ],
   "source": [
    ">>> a[0:6:2]"
   ]
  },
  {
   "cell_type": "code",
   "execution_count": 240,
   "id": "ce03c130",
   "metadata": {},
   "outputs": [
    {
     "data": {
      "text/plain": [
       "['bar', 'qux', 'corge']"
      ]
     },
     "execution_count": 240,
     "metadata": {},
     "output_type": "execute_result"
    }
   ],
   "source": [
    ">>> a[1:6:2]"
   ]
  },
  {
   "cell_type": "code",
   "execution_count": 241,
   "id": "7bd22e10",
   "metadata": {},
   "outputs": [
    {
     "data": {
      "text/plain": [
       "['corge', 'qux', 'bar']"
      ]
     },
     "execution_count": 241,
     "metadata": {},
     "output_type": "execute_result"
    }
   ],
   "source": [
    ">>> a[6:0:-2]"
   ]
  },
  {
   "cell_type": "code",
   "execution_count": 242,
   "id": "6a0b1de1",
   "metadata": {},
   "outputs": [],
   "source": [
    "## The syntax for reversing a list works the same way it does for strings:"
   ]
  },
  {
   "cell_type": "code",
   "execution_count": 243,
   "id": "3bc286ee",
   "metadata": {},
   "outputs": [
    {
     "data": {
      "text/plain": [
       "['corge', 'quux', 'qux', 'baz', 'bar', 'foo']"
      ]
     },
     "execution_count": 243,
     "metadata": {},
     "output_type": "execute_result"
    }
   ],
   "source": [
    "a[::-1]"
   ]
  },
  {
   "cell_type": "code",
   "execution_count": 244,
   "id": "a993910c",
   "metadata": {},
   "outputs": [],
   "source": [
    "# The [:] syntax works for lists. However, there is an important difference between how this operation works with a list and how it works with a string.\n",
    "\n",
    "## If s is a string, s[:] returns a reference to the same object:"
   ]
  },
  {
   "cell_type": "code",
   "execution_count": 245,
   "id": "2d78c3fe",
   "metadata": {},
   "outputs": [],
   "source": [
    ">>> s = 'foobar'"
   ]
  },
  {
   "cell_type": "code",
   "execution_count": 246,
   "id": "c5bc17cd",
   "metadata": {},
   "outputs": [
    {
     "data": {
      "text/plain": [
       "'foobar'"
      ]
     },
     "execution_count": 246,
     "metadata": {},
     "output_type": "execute_result"
    }
   ],
   "source": [
    ">>> s[:]"
   ]
  },
  {
   "cell_type": "code",
   "execution_count": 247,
   "id": "64c4f041",
   "metadata": {},
   "outputs": [
    {
     "data": {
      "text/plain": [
       "True"
      ]
     },
     "execution_count": 247,
     "metadata": {},
     "output_type": "execute_result"
    }
   ],
   "source": [
    ">>> s[:] is s"
   ]
  },
  {
   "cell_type": "code",
   "execution_count": 248,
   "id": "dbf8c9b7",
   "metadata": {},
   "outputs": [],
   "source": [
    "## Conversely, if a is a list, a[:] returns a new object that is a copy of a:"
   ]
  },
  {
   "cell_type": "code",
   "execution_count": 249,
   "id": "034dde3c",
   "metadata": {},
   "outputs": [],
   "source": [
    ">>> a = ['foo', 'bar', 'baz', 'qux', 'quux', 'corge']"
   ]
  },
  {
   "cell_type": "code",
   "execution_count": 250,
   "id": "581d664e",
   "metadata": {},
   "outputs": [
    {
     "data": {
      "text/plain": [
       "['foo', 'bar', 'baz', 'qux', 'quux', 'corge']"
      ]
     },
     "execution_count": 250,
     "metadata": {},
     "output_type": "execute_result"
    }
   ],
   "source": [
    ">>> a[:]"
   ]
  },
  {
   "cell_type": "code",
   "execution_count": 251,
   "id": "bc79abdd",
   "metadata": {},
   "outputs": [
    {
     "data": {
      "text/plain": [
       "False"
      ]
     },
     "execution_count": 251,
     "metadata": {},
     "output_type": "execute_result"
    }
   ],
   "source": [
    ">>> a[:] is a"
   ]
  },
  {
   "cell_type": "code",
   "execution_count": 252,
   "id": "2bebaefc",
   "metadata": {},
   "outputs": [],
   "source": [
    "# Several Python operators and built-in functions can also be used with lists in ways that are analogous to strings:\n",
    "\n",
    "## The in and not in operators:"
   ]
  },
  {
   "cell_type": "code",
   "execution_count": 253,
   "id": "668d3e2a",
   "metadata": {},
   "outputs": [
    {
     "data": {
      "text/plain": [
       "['foo', 'bar', 'baz', 'qux', 'quux', 'corge']"
      ]
     },
     "execution_count": 253,
     "metadata": {},
     "output_type": "execute_result"
    }
   ],
   "source": [
    ">>> a"
   ]
  },
  {
   "cell_type": "code",
   "execution_count": 254,
   "id": "be7b0394",
   "metadata": {},
   "outputs": [
    {
     "data": {
      "text/plain": [
       "True"
      ]
     },
     "execution_count": 254,
     "metadata": {},
     "output_type": "execute_result"
    }
   ],
   "source": [
    ">>> 'qux' in a"
   ]
  },
  {
   "cell_type": "code",
   "execution_count": 255,
   "id": "f47789eb",
   "metadata": {},
   "outputs": [
    {
     "data": {
      "text/plain": [
       "True"
      ]
     },
     "execution_count": 255,
     "metadata": {},
     "output_type": "execute_result"
    }
   ],
   "source": [
    ">>> 'thud' not in a"
   ]
  },
  {
   "cell_type": "code",
   "execution_count": 256,
   "id": "588da83c",
   "metadata": {},
   "outputs": [],
   "source": [
    "## The concatenation (+) and replication (*) operators:"
   ]
  },
  {
   "cell_type": "code",
   "execution_count": 257,
   "id": "a7b794e4",
   "metadata": {},
   "outputs": [
    {
     "data": {
      "text/plain": [
       "['foo', 'bar', 'baz', 'qux', 'quux', 'corge']"
      ]
     },
     "execution_count": 257,
     "metadata": {},
     "output_type": "execute_result"
    }
   ],
   "source": [
    ">>> a"
   ]
  },
  {
   "cell_type": "code",
   "execution_count": 258,
   "id": "73510013",
   "metadata": {},
   "outputs": [
    {
     "data": {
      "text/plain": [
       "['foo', 'bar', 'baz', 'qux', 'quux', 'corge', 'grault', 'garply']"
      ]
     },
     "execution_count": 258,
     "metadata": {},
     "output_type": "execute_result"
    }
   ],
   "source": [
    ">>> a + ['grault', 'garply']"
   ]
  },
  {
   "cell_type": "code",
   "execution_count": 259,
   "id": "159c84f0",
   "metadata": {},
   "outputs": [
    {
     "data": {
      "text/plain": [
       "['foo',\n",
       " 'bar',\n",
       " 'baz',\n",
       " 'qux',\n",
       " 'quux',\n",
       " 'corge',\n",
       " 'foo',\n",
       " 'bar',\n",
       " 'baz',\n",
       " 'qux',\n",
       " 'quux',\n",
       " 'corge']"
      ]
     },
     "execution_count": 259,
     "metadata": {},
     "output_type": "execute_result"
    }
   ],
   "source": [
    ">>> a * 2"
   ]
  },
  {
   "cell_type": "code",
   "execution_count": 260,
   "id": "dbf182d4",
   "metadata": {},
   "outputs": [],
   "source": [
    "## The len(), min(), and max() functions:"
   ]
  },
  {
   "cell_type": "code",
   "execution_count": 261,
   "id": "fcf6f987",
   "metadata": {},
   "outputs": [
    {
     "data": {
      "text/plain": [
       "['foo', 'bar', 'baz', 'qux', 'quux', 'corge']"
      ]
     },
     "execution_count": 261,
     "metadata": {},
     "output_type": "execute_result"
    }
   ],
   "source": [
    ">>> a"
   ]
  },
  {
   "cell_type": "code",
   "execution_count": 262,
   "id": "919083a5",
   "metadata": {},
   "outputs": [
    {
     "data": {
      "text/plain": [
       "6"
      ]
     },
     "execution_count": 262,
     "metadata": {},
     "output_type": "execute_result"
    }
   ],
   "source": [
    ">>> len(a)"
   ]
  },
  {
   "cell_type": "code",
   "execution_count": 263,
   "id": "b3540a2d",
   "metadata": {},
   "outputs": [
    {
     "data": {
      "text/plain": [
       "'bar'"
      ]
     },
     "execution_count": 263,
     "metadata": {},
     "output_type": "execute_result"
    }
   ],
   "source": [
    ">>> min(a)"
   ]
  },
  {
   "cell_type": "code",
   "execution_count": 264,
   "id": "5ab6ff7a",
   "metadata": {},
   "outputs": [
    {
     "data": {
      "text/plain": [
       "'qux'"
      ]
     },
     "execution_count": 264,
     "metadata": {},
     "output_type": "execute_result"
    }
   ],
   "source": [
    ">>> max(a)"
   ]
  },
  {
   "cell_type": "code",
   "execution_count": 265,
   "id": "78a623a4",
   "metadata": {},
   "outputs": [],
   "source": [
    "## It’s not an accident that strings and lists behave so similarly. They are both special cases of a more general object type called an iterable, which you will encounter in more detail in the upcoming tutorial on definite iteration.\n",
    "\n",
    "## By the way, in each example above, the list is always assigned to a variable before an operation is performed on it. But you can operate on a list literal as well:\n",
    "\n",
    "\n"
   ]
  },
  {
   "cell_type": "code",
   "execution_count": 266,
   "id": "7f7d1414",
   "metadata": {},
   "outputs": [
    {
     "data": {
      "text/plain": [
       "'baz'"
      ]
     },
     "execution_count": 266,
     "metadata": {},
     "output_type": "execute_result"
    }
   ],
   "source": [
    ">>> ['foo', 'bar', 'baz', 'qux', 'quux', 'corge'][2]"
   ]
  },
  {
   "cell_type": "code",
   "execution_count": 267,
   "id": "f5eea5e9",
   "metadata": {},
   "outputs": [
    {
     "data": {
      "text/plain": [
       "['corge', 'quux', 'qux', 'baz', 'bar', 'foo']"
      ]
     },
     "execution_count": 267,
     "metadata": {},
     "output_type": "execute_result"
    }
   ],
   "source": [
    ">>> ['foo', 'bar', 'baz', 'qux', 'quux', 'corge'][::-1]"
   ]
  },
  {
   "cell_type": "code",
   "execution_count": 268,
   "id": "8c0147df",
   "metadata": {},
   "outputs": [
    {
     "data": {
      "text/plain": [
       "True"
      ]
     },
     "execution_count": 268,
     "metadata": {},
     "output_type": "execute_result"
    }
   ],
   "source": [
    ">>> 'quux' in ['foo', 'bar', 'baz', 'qux', 'quux', 'corge']"
   ]
  },
  {
   "cell_type": "code",
   "execution_count": 269,
   "id": "1e2d8d6c",
   "metadata": {},
   "outputs": [
    {
     "data": {
      "text/plain": [
       "['foo', 'bar', 'baz', 'qux', 'quux', 'corge']"
      ]
     },
     "execution_count": 269,
     "metadata": {},
     "output_type": "execute_result"
    }
   ],
   "source": [
    ">>> ['foo', 'bar', 'baz'] + ['qux', 'quux', 'corge']"
   ]
  },
  {
   "cell_type": "code",
   "execution_count": 270,
   "id": "abf80d27",
   "metadata": {},
   "outputs": [
    {
     "data": {
      "text/plain": [
       "6"
      ]
     },
     "execution_count": 270,
     "metadata": {},
     "output_type": "execute_result"
    }
   ],
   "source": [
    ">>> len(['foo', 'bar', 'baz', 'qux', 'quux', 'corge'][::-1])"
   ]
  },
  {
   "cell_type": "code",
   "execution_count": 271,
   "id": "7b94adc6",
   "metadata": {},
   "outputs": [],
   "source": [
    "## For that matter, you can do likewise with a string literal:"
   ]
  },
  {
   "cell_type": "code",
   "execution_count": 272,
   "id": "9364a2a6",
   "metadata": {},
   "outputs": [
    {
     "data": {
      "text/plain": [
       "'.thgir eb tsum ti ,ti syas noelopaN edarmoC fI'"
      ]
     },
     "execution_count": 272,
     "metadata": {},
     "output_type": "execute_result"
    }
   ],
   "source": [
    ">>> 'If Comrade Napoleon says it, it must be right.'[::-1]"
   ]
  },
  {
   "cell_type": "code",
   "execution_count": 273,
   "id": "c066d309",
   "metadata": {},
   "outputs": [],
   "source": [
    "# Lists Can Be Nested\n",
    "## You have seen that an element in a list can be any sort of object. That includes another list. A list can contain sublists, which in turn can contain sublists themselves, and so on to arbitrary depth.\n",
    "\n",
    "## Consider this (admittedly contrived) example:"
   ]
  },
  {
   "cell_type": "code",
   "execution_count": 274,
   "id": "ade0732d",
   "metadata": {},
   "outputs": [],
   "source": [
    ">>> x = ['a', ['bb', ['ccc', 'ddd'], 'ee', 'ff'], 'g', ['hh', 'ii'], 'j']"
   ]
  },
  {
   "cell_type": "code",
   "execution_count": 275,
   "id": "51791dfb",
   "metadata": {},
   "outputs": [
    {
     "data": {
      "text/plain": [
       "['a', ['bb', ['ccc', 'ddd'], 'ee', 'ff'], 'g', ['hh', 'ii'], 'j']"
      ]
     },
     "execution_count": 275,
     "metadata": {},
     "output_type": "execute_result"
    }
   ],
   "source": [
    ">>> x"
   ]
  },
  {
   "cell_type": "code",
   "execution_count": 276,
   "id": "f560b3da",
   "metadata": {},
   "outputs": [],
   "source": [
    "## x[0], x[2], and x[4] are strings, each one character long:"
   ]
  },
  {
   "cell_type": "code",
   "execution_count": 277,
   "id": "9b835a89",
   "metadata": {},
   "outputs": [
    {
     "name": "stdout",
     "output_type": "stream",
     "text": [
      "a g j\n"
     ]
    }
   ],
   "source": [
    ">>> print(x[0], x[2], x[4])"
   ]
  },
  {
   "cell_type": "code",
   "execution_count": 278,
   "id": "cf6654dc",
   "metadata": {},
   "outputs": [],
   "source": [
    "## But x[1] and x[3] are sublists"
   ]
  },
  {
   "cell_type": "code",
   "execution_count": 279,
   "id": "02737f8c",
   "metadata": {},
   "outputs": [
    {
     "data": {
      "text/plain": [
       "['bb', ['ccc', 'ddd'], 'ee', 'ff']"
      ]
     },
     "execution_count": 279,
     "metadata": {},
     "output_type": "execute_result"
    }
   ],
   "source": [
    ">>> x[1]"
   ]
  },
  {
   "cell_type": "code",
   "execution_count": 280,
   "id": "d306aafc",
   "metadata": {},
   "outputs": [
    {
     "data": {
      "text/plain": [
       "['hh', 'ii']"
      ]
     },
     "execution_count": 280,
     "metadata": {},
     "output_type": "execute_result"
    }
   ],
   "source": [
    ">>> x[3]"
   ]
  },
  {
   "cell_type": "code",
   "execution_count": 281,
   "id": "db8d4354",
   "metadata": {},
   "outputs": [],
   "source": [
    "## To access the items in a sublist, simply append an additional index:"
   ]
  },
  {
   "cell_type": "code",
   "execution_count": 282,
   "id": "1f3a7415",
   "metadata": {},
   "outputs": [
    {
     "data": {
      "text/plain": [
       "['bb', ['ccc', 'ddd'], 'ee', 'ff']"
      ]
     },
     "execution_count": 282,
     "metadata": {},
     "output_type": "execute_result"
    }
   ],
   "source": [
    ">>> x[1]"
   ]
  },
  {
   "cell_type": "code",
   "execution_count": 283,
   "id": "7c56ebb1",
   "metadata": {},
   "outputs": [
    {
     "data": {
      "text/plain": [
       "'bb'"
      ]
     },
     "execution_count": 283,
     "metadata": {},
     "output_type": "execute_result"
    }
   ],
   "source": [
    ">>> x[1][0]"
   ]
  },
  {
   "cell_type": "code",
   "execution_count": 284,
   "id": "33cd63bb",
   "metadata": {},
   "outputs": [
    {
     "data": {
      "text/plain": [
       "['ccc', 'ddd']"
      ]
     },
     "execution_count": 284,
     "metadata": {},
     "output_type": "execute_result"
    }
   ],
   "source": [
    ">>> x[1][1]"
   ]
  },
  {
   "cell_type": "code",
   "execution_count": 285,
   "id": "31b79824",
   "metadata": {},
   "outputs": [
    {
     "data": {
      "text/plain": [
       "'ee'"
      ]
     },
     "execution_count": 285,
     "metadata": {},
     "output_type": "execute_result"
    }
   ],
   "source": [
    ">>> x[1][2]"
   ]
  },
  {
   "cell_type": "code",
   "execution_count": 286,
   "id": "b1317fd6",
   "metadata": {},
   "outputs": [
    {
     "data": {
      "text/plain": [
       "'ff'"
      ]
     },
     "execution_count": 286,
     "metadata": {},
     "output_type": "execute_result"
    }
   ],
   "source": [
    ">>> x[1][3]"
   ]
  },
  {
   "cell_type": "code",
   "execution_count": 287,
   "id": "1a3f1e4e",
   "metadata": {},
   "outputs": [
    {
     "data": {
      "text/plain": [
       "['hh', 'ii']"
      ]
     },
     "execution_count": 287,
     "metadata": {},
     "output_type": "execute_result"
    }
   ],
   "source": [
    ">>> x[3]"
   ]
  },
  {
   "cell_type": "code",
   "execution_count": 288,
   "id": "a8225456",
   "metadata": {},
   "outputs": [
    {
     "name": "stdout",
     "output_type": "stream",
     "text": [
      "hh ii\n"
     ]
    }
   ],
   "source": [
    ">>> print(x[3][0], x[3][1])"
   ]
  },
  {
   "cell_type": "code",
   "execution_count": 289,
   "id": "16becb13",
   "metadata": {},
   "outputs": [],
   "source": [
    "## x[1][1] is yet another sublist, so adding one more index accesses its elements:"
   ]
  },
  {
   "cell_type": "code",
   "execution_count": 290,
   "id": "742e681d",
   "metadata": {},
   "outputs": [
    {
     "data": {
      "text/plain": [
       "['ccc', 'ddd']"
      ]
     },
     "execution_count": 290,
     "metadata": {},
     "output_type": "execute_result"
    }
   ],
   "source": [
    ">>> x[1][1]"
   ]
  },
  {
   "cell_type": "code",
   "execution_count": 291,
   "id": "aba3760f",
   "metadata": {},
   "outputs": [
    {
     "name": "stdout",
     "output_type": "stream",
     "text": [
      "ccc ddd\n"
     ]
    }
   ],
   "source": [
    ">>> print(x[1][1][0], x[1][1][1])"
   ]
  },
  {
   "cell_type": "code",
   "execution_count": 292,
   "id": "c1e15e15",
   "metadata": {},
   "outputs": [],
   "source": [
    "## There is no limit, short of the extent of your computer’s memory, to the depth or complexity with which lists can be nested in this way.\n",
    "\n",
    "## All the usual syntax regarding indices and slicing applies to sublists as well:"
   ]
  },
  {
   "cell_type": "code",
   "execution_count": 293,
   "id": "37e7a5b8",
   "metadata": {},
   "outputs": [
    {
     "data": {
      "text/plain": [
       "'ddd'"
      ]
     },
     "execution_count": 293,
     "metadata": {},
     "output_type": "execute_result"
    }
   ],
   "source": [
    ">>> x[1][1][-1]"
   ]
  },
  {
   "cell_type": "code",
   "execution_count": 294,
   "id": "e4a44ce8",
   "metadata": {},
   "outputs": [
    {
     "data": {
      "text/plain": [
       "[['ccc', 'ddd'], 'ee']"
      ]
     },
     "execution_count": 294,
     "metadata": {},
     "output_type": "execute_result"
    }
   ],
   "source": [
    ">>> x[1][1:3]"
   ]
  },
  {
   "cell_type": "code",
   "execution_count": 295,
   "id": "0c822eb1",
   "metadata": {},
   "outputs": [
    {
     "data": {
      "text/plain": [
       "['ii', 'hh']"
      ]
     },
     "execution_count": 295,
     "metadata": {},
     "output_type": "execute_result"
    }
   ],
   "source": [
    ">>> x[3][::-1]"
   ]
  },
  {
   "cell_type": "code",
   "execution_count": 296,
   "id": "04cbb608",
   "metadata": {},
   "outputs": [],
   "source": [
    "## However, be aware that operators and functions apply to only the list at the level you specify and are not recursive. \n",
    "## Consider what happens when you query the length of x using len():"
   ]
  },
  {
   "cell_type": "code",
   "execution_count": 297,
   "id": "4e72078d",
   "metadata": {},
   "outputs": [
    {
     "data": {
      "text/plain": [
       "['a', ['bb', ['ccc', 'ddd'], 'ee', 'ff'], 'g', ['hh', 'ii'], 'j']"
      ]
     },
     "execution_count": 297,
     "metadata": {},
     "output_type": "execute_result"
    }
   ],
   "source": [
    ">>> x"
   ]
  },
  {
   "cell_type": "code",
   "execution_count": 298,
   "id": "a2c42d5e",
   "metadata": {},
   "outputs": [
    {
     "data": {
      "text/plain": [
       "5"
      ]
     },
     "execution_count": 298,
     "metadata": {},
     "output_type": "execute_result"
    }
   ],
   "source": [
    ">>> len(x)"
   ]
  },
  {
   "cell_type": "code",
   "execution_count": 299,
   "id": "8d60d270",
   "metadata": {},
   "outputs": [
    {
     "data": {
      "text/plain": [
       "'a'"
      ]
     },
     "execution_count": 299,
     "metadata": {},
     "output_type": "execute_result"
    }
   ],
   "source": [
    ">>> x[0]"
   ]
  },
  {
   "cell_type": "code",
   "execution_count": 300,
   "id": "053ac757",
   "metadata": {},
   "outputs": [
    {
     "data": {
      "text/plain": [
       "['bb', ['ccc', 'ddd'], 'ee', 'ff']"
      ]
     },
     "execution_count": 300,
     "metadata": {},
     "output_type": "execute_result"
    }
   ],
   "source": [
    ">>> x[1]"
   ]
  },
  {
   "cell_type": "code",
   "execution_count": 301,
   "id": "ceb414fd",
   "metadata": {},
   "outputs": [
    {
     "data": {
      "text/plain": [
       "'g'"
      ]
     },
     "execution_count": 301,
     "metadata": {},
     "output_type": "execute_result"
    }
   ],
   "source": [
    ">>> x[2]"
   ]
  },
  {
   "cell_type": "code",
   "execution_count": 302,
   "id": "4ebd0ad9",
   "metadata": {},
   "outputs": [
    {
     "data": {
      "text/plain": [
       "['hh', 'ii']"
      ]
     },
     "execution_count": 302,
     "metadata": {},
     "output_type": "execute_result"
    }
   ],
   "source": [
    ">>> x[3]"
   ]
  },
  {
   "cell_type": "code",
   "execution_count": 303,
   "id": "aafea778",
   "metadata": {},
   "outputs": [
    {
     "data": {
      "text/plain": [
       "'j'"
      ]
     },
     "execution_count": 303,
     "metadata": {},
     "output_type": "execute_result"
    }
   ],
   "source": [
    ">>> x[4]"
   ]
  },
  {
   "cell_type": "code",
   "execution_count": 304,
   "id": "48c6a802",
   "metadata": {},
   "outputs": [],
   "source": [
    "## x has only five elements—three strings and two sublists. The individual elements in the sublists don’t count toward x’s length.\n",
    "\n",
    "## You’d encounter a similar situation when using the in operator:"
   ]
  },
  {
   "cell_type": "code",
   "execution_count": 305,
   "id": "e353039e",
   "metadata": {},
   "outputs": [
    {
     "data": {
      "text/plain": [
       "False"
      ]
     },
     "execution_count": 305,
     "metadata": {},
     "output_type": "execute_result"
    }
   ],
   "source": [
    ">>> 'ddd' in x"
   ]
  },
  {
   "cell_type": "code",
   "execution_count": 306,
   "id": "89955064",
   "metadata": {},
   "outputs": [
    {
     "data": {
      "text/plain": [
       "False"
      ]
     },
     "execution_count": 306,
     "metadata": {},
     "output_type": "execute_result"
    }
   ],
   "source": [
    ">>> 'ddd' in x[1]"
   ]
  },
  {
   "cell_type": "code",
   "execution_count": 307,
   "id": "c4b61cdb",
   "metadata": {},
   "outputs": [
    {
     "data": {
      "text/plain": [
       "True"
      ]
     },
     "execution_count": 307,
     "metadata": {},
     "output_type": "execute_result"
    }
   ],
   "source": [
    ">>> 'ddd' in x[1][1]"
   ]
  },
  {
   "cell_type": "code",
   "execution_count": 308,
   "id": "4d3a10cd",
   "metadata": {},
   "outputs": [],
   "source": [
    "## 'ddd' is not one of the elements in x or x[1]. It is only directly an element in the sublist x[1][1]. \n",
    "## An individual element in a sublist does not count as an element of the parent list(s)."
   ]
  },
  {
   "cell_type": "code",
   "execution_count": 309,
   "id": "e93a06bc",
   "metadata": {},
   "outputs": [],
   "source": [
    "# Lists Are Mutable"
   ]
  },
  {
   "cell_type": "code",
   "execution_count": 310,
   "id": "e0652097",
   "metadata": {},
   "outputs": [],
   "source": [
    "## Most of the data types you have encountered so far have been atomic types. Integer or float objects, for example, are primitive units that can’t be further broken down. \n",
    "## These types are immutable, meaning that they can’t be changed once they have been assigned. It doesn’t make much sense to think of changing the value of an integer. \n",
    "## If you want a different integer, you just assign a different one.\n",
    "\n",
    "## By contrast, the string type is a composite type. Strings are reducible to smaller parts—the component characters. \n",
    "## It might make sense to think of changing the characters in a string. But you can’t. In Python, strings are also immutable.\n",
    "\n",
    "## The list is the first mutable data type you have encountered. Once a list has been created, elements can be added, deleted, shifted, and moved around at will. \n",
    "## Python provides a wide range of ways to modify lists.\n",
    "\n"
   ]
  },
  {
   "cell_type": "code",
   "execution_count": 311,
   "id": "ad0f92df",
   "metadata": {},
   "outputs": [],
   "source": [
    "# Modifying a Single List Value"
   ]
  },
  {
   "cell_type": "code",
   "execution_count": 312,
   "id": "27f955d6",
   "metadata": {},
   "outputs": [],
   "source": [
    "## A single value in a list can be replaced by indexing and simple assignment:"
   ]
  },
  {
   "cell_type": "code",
   "execution_count": 313,
   "id": "f0777c7f",
   "metadata": {},
   "outputs": [],
   "source": [
    ">>> a = ['foo', 'bar', 'baz', 'qux', 'quux', 'corge']"
   ]
  },
  {
   "cell_type": "code",
   "execution_count": 314,
   "id": "ffb9c723",
   "metadata": {},
   "outputs": [
    {
     "data": {
      "text/plain": [
       "['foo', 'bar', 'baz', 'qux', 'quux', 'corge']"
      ]
     },
     "execution_count": 314,
     "metadata": {},
     "output_type": "execute_result"
    }
   ],
   "source": [
    ">>> a"
   ]
  },
  {
   "cell_type": "code",
   "execution_count": 315,
   "id": "a990c7d9",
   "metadata": {},
   "outputs": [],
   "source": [
    ">>> a[2] = 10"
   ]
  },
  {
   "cell_type": "code",
   "execution_count": 316,
   "id": "0a4551f6",
   "metadata": {},
   "outputs": [],
   "source": [
    ">>> a[-1] = 20"
   ]
  },
  {
   "cell_type": "code",
   "execution_count": 317,
   "id": "1773b37c",
   "metadata": {},
   "outputs": [
    {
     "data": {
      "text/plain": [
       "['foo', 'bar', 10, 'qux', 'quux', 20]"
      ]
     },
     "execution_count": 317,
     "metadata": {},
     "output_type": "execute_result"
    }
   ],
   "source": [
    ">>> a"
   ]
  },
  {
   "cell_type": "code",
   "execution_count": 318,
   "id": "5b0a8f30",
   "metadata": {},
   "outputs": [],
   "source": [
    "## You may recall from the tutorial Strings and Character Data in Python that you can’t do this with a string:"
   ]
  },
  {
   "cell_type": "code",
   "execution_count": 319,
   "id": "00a21915",
   "metadata": {},
   "outputs": [],
   "source": [
    ">>> s = 'foobarbaz'"
   ]
  },
  {
   "cell_type": "code",
   "execution_count": 320,
   "id": "3f776949",
   "metadata": {},
   "outputs": [
    {
     "ename": "TypeError",
     "evalue": "'str' object does not support item assignment",
     "output_type": "error",
     "traceback": [
      "\u001b[0;31m---------------------------------------------------------------------------\u001b[0m",
      "\u001b[0;31mTypeError\u001b[0m                                 Traceback (most recent call last)",
      "Cell \u001b[0;32mIn [320], line 1\u001b[0m\n\u001b[0;32m----> 1\u001b[0m s[\u001b[39m2\u001b[39;49m] \u001b[39m=\u001b[39m \u001b[39m'\u001b[39m\u001b[39mx\u001b[39m\u001b[39m'\u001b[39m\n",
      "\u001b[0;31mTypeError\u001b[0m: 'str' object does not support item assignment"
     ]
    }
   ],
   "source": [
    ">>> s[2] = 'x'"
   ]
  },
  {
   "cell_type": "code",
   "execution_count": null,
   "id": "6943b492",
   "metadata": {},
   "outputs": [],
   "source": [
    "## A list item can be deleted with the del command:"
   ]
  },
  {
   "cell_type": "code",
   "execution_count": null,
   "id": "71c06de6",
   "metadata": {},
   "outputs": [],
   "source": [
    ">>> a = ['foo', 'bar', 'baz', 'qux', 'quux', 'corge']"
   ]
  },
  {
   "cell_type": "code",
   "execution_count": null,
   "id": "b8b31b3b",
   "metadata": {},
   "outputs": [],
   "source": [
    ">>> del a[3]"
   ]
  },
  {
   "cell_type": "code",
   "execution_count": null,
   "id": "7a2c6862",
   "metadata": {},
   "outputs": [
    {
     "data": {
      "text/plain": [
       "['foo', 'bar', 'baz', 'quux', 'corge']"
      ]
     },
     "execution_count": 174,
     "metadata": {},
     "output_type": "execute_result"
    }
   ],
   "source": [
    ">>> a"
   ]
  },
  {
   "cell_type": "code",
   "execution_count": null,
   "id": "9acde279",
   "metadata": {},
   "outputs": [],
   "source": [
    "# Modifying Multiple List Values"
   ]
  },
  {
   "cell_type": "code",
   "execution_count": null,
   "id": "1246bfe9",
   "metadata": {},
   "outputs": [],
   "source": [
    "## What if you want to change several contiguous elements in a list at one time? Python allows this with slice assignment, which has the following syntax:"
   ]
  },
  {
   "cell_type": "code",
   "execution_count": null,
   "id": "31a64e34",
   "metadata": {},
   "outputs": [
    {
     "ename": "SyntaxError",
     "evalue": "invalid syntax (1560957681.py, line 1)",
     "output_type": "error",
     "traceback": [
      "\u001b[0;36m  Cell \u001b[0;32mIn [175], line 1\u001b[0;36m\u001b[0m\n\u001b[0;31m    a[m:n] = <iterable>\u001b[0m\n\u001b[0m             ^\u001b[0m\n\u001b[0;31mSyntaxError\u001b[0m\u001b[0;31m:\u001b[0m invalid syntax\n"
     ]
    }
   ],
   "source": [
    "a[m:n] = <iterable>"
   ]
  },
  {
   "cell_type": "code",
   "execution_count": null,
   "id": "5ad4d351",
   "metadata": {},
   "outputs": [],
   "source": [
    "## Again, for the moment, think of an iterable as a list. This assignment replaces the specified slice of a with <iterable>:"
   ]
  },
  {
   "cell_type": "code",
   "execution_count": null,
   "id": "7f72bda5",
   "metadata": {},
   "outputs": [],
   "source": [
    ">>> a = ['foo', 'bar', 'baz', 'qux', 'quux', 'corge']"
   ]
  },
  {
   "cell_type": "code",
   "execution_count": null,
   "id": "9e750724",
   "metadata": {},
   "outputs": [
    {
     "data": {
      "text/plain": [
       "['bar', 'baz', 'qux']"
      ]
     },
     "execution_count": 181,
     "metadata": {},
     "output_type": "execute_result"
    }
   ],
   "source": [
    ">>> a[1:4]"
   ]
  },
  {
   "cell_type": "code",
   "execution_count": null,
   "id": "0c200c85",
   "metadata": {},
   "outputs": [],
   "source": [
    ">>> a[1:4] = [1.1, 2.2, 3.3, 4.4, 5.5]"
   ]
  },
  {
   "cell_type": "code",
   "execution_count": null,
   "id": "9af5c9cf",
   "metadata": {},
   "outputs": [
    {
     "data": {
      "text/plain": [
       "['foo', 1.1, 2.2, 3.3, 4.4, 5.5, 'quux', 'corge']"
      ]
     },
     "execution_count": 183,
     "metadata": {},
     "output_type": "execute_result"
    }
   ],
   "source": [
    ">>> a"
   ]
  },
  {
   "cell_type": "code",
   "execution_count": null,
   "id": "3e9464f9",
   "metadata": {},
   "outputs": [
    {
     "data": {
      "text/plain": [
       "[1.1, 2.2, 3.3, 4.4, 5.5]"
      ]
     },
     "execution_count": 184,
     "metadata": {},
     "output_type": "execute_result"
    }
   ],
   "source": [
    ">>> a[1:6]"
   ]
  },
  {
   "cell_type": "code",
   "execution_count": null,
   "id": "d0d34002",
   "metadata": {},
   "outputs": [],
   "source": [
    ">>> a[1:6] = ['Bark!']"
   ]
  },
  {
   "cell_type": "code",
   "execution_count": null,
   "id": "4ace97b5",
   "metadata": {},
   "outputs": [
    {
     "data": {
      "text/plain": [
       "['foo', 'Bark!', 'quux', 'corge']"
      ]
     },
     "execution_count": 186,
     "metadata": {},
     "output_type": "execute_result"
    }
   ],
   "source": [
    ">>> a"
   ]
  },
  {
   "cell_type": "code",
   "execution_count": null,
   "id": "a5613355",
   "metadata": {},
   "outputs": [],
   "source": [
    "## The number of elements inserted need not be equal to the number replaced. Python just grows or shrinks the list as needed.\n",
    "\n",
    "## You can insert multiple elements in place of a single element—just use a slice that denotes only one element:"
   ]
  },
  {
   "cell_type": "code",
   "execution_count": null,
   "id": "4fd1a4d7",
   "metadata": {},
   "outputs": [],
   "source": [
    ">>> a = [1, 2, 3]"
   ]
  },
  {
   "cell_type": "code",
   "execution_count": null,
   "id": "330d718e",
   "metadata": {},
   "outputs": [],
   "source": [
    ">>> a[1:2] = [2.1, 2.2, 2.3]"
   ]
  },
  {
   "cell_type": "code",
   "execution_count": null,
   "id": "29a9b13b",
   "metadata": {},
   "outputs": [
    {
     "data": {
      "text/plain": [
       "[1, 2.1, 2.2, 2.3, 3]"
      ]
     },
     "execution_count": 190,
     "metadata": {},
     "output_type": "execute_result"
    }
   ],
   "source": [
    ">>> a"
   ]
  },
  {
   "cell_type": "code",
   "execution_count": null,
   "id": "a3e74528",
   "metadata": {},
   "outputs": [],
   "source": [
    "## Note that this is not the same as replacing the single element with a list:"
   ]
  },
  {
   "cell_type": "code",
   "execution_count": null,
   "id": "175e304f",
   "metadata": {},
   "outputs": [],
   "source": [
    ">>> a = [1, 2, 3]"
   ]
  },
  {
   "cell_type": "code",
   "execution_count": null,
   "id": "d3c60b3f",
   "metadata": {},
   "outputs": [],
   "source": [
    ">>> a[1] = [2.1, 2.2, 2.3]"
   ]
  },
  {
   "cell_type": "code",
   "execution_count": null,
   "id": "b4d9f1b7",
   "metadata": {},
   "outputs": [],
   "source": [
    ">>> a"
   ]
  },
  {
   "cell_type": "code",
   "execution_count": null,
   "id": "995d7698",
   "metadata": {},
   "outputs": [],
   "source": [
    "## You can also insert elements into a list without removing anything. Simply specify a slice of the form [n:n] (a zero-length slice) at the desired index:"
   ]
  },
  {
   "cell_type": "code",
   "execution_count": null,
   "id": "0d2324f1",
   "metadata": {},
   "outputs": [],
   "source": [
    ">>> a = [1, 2, 7, 8]"
   ]
  },
  {
   "cell_type": "code",
   "execution_count": null,
   "id": "ec2aa664",
   "metadata": {},
   "outputs": [],
   "source": [
    ">>> a[2:2] = [3, 4, 5, 6]"
   ]
  },
  {
   "cell_type": "code",
   "execution_count": null,
   "id": "12f0979b",
   "metadata": {},
   "outputs": [],
   "source": [
    ">>> a"
   ]
  },
  {
   "cell_type": "code",
   "execution_count": null,
   "id": "a6d7cbd2",
   "metadata": {},
   "outputs": [],
   "source": [
    "## You can delete multiple elements out of the middle of a list by assigning the appropriate slice to an empty list. You can also use the del statement with the same slice:"
   ]
  },
  {
   "cell_type": "code",
   "execution_count": null,
   "id": "b9914e20",
   "metadata": {},
   "outputs": [],
   "source": [
    ">>> a = ['foo', 'bar', 'baz', 'qux', 'quux', 'corge']"
   ]
  },
  {
   "cell_type": "code",
   "execution_count": null,
   "id": "f84f973c",
   "metadata": {},
   "outputs": [],
   "source": [
    ">>> a[1:5] = []"
   ]
  },
  {
   "cell_type": "code",
   "execution_count": null,
   "id": "d80a3485",
   "metadata": {},
   "outputs": [],
   "source": [
    ">>> a"
   ]
  },
  {
   "cell_type": "code",
   "execution_count": null,
   "id": "f861d6b8",
   "metadata": {},
   "outputs": [],
   "source": [
    ">>> a = ['foo', 'bar', 'baz', 'qux', 'quux', 'corge']"
   ]
  },
  {
   "cell_type": "code",
   "execution_count": null,
   "id": "1bc1573e",
   "metadata": {},
   "outputs": [],
   "source": [
    ">>> del a[1:5]"
   ]
  },
  {
   "cell_type": "code",
   "execution_count": null,
   "id": "730a24c6",
   "metadata": {},
   "outputs": [],
   "source": [
    ">>> a"
   ]
  },
  {
   "cell_type": "markdown",
   "id": "a3d87cec",
   "metadata": {},
   "source": [
    "Prepending or Appending Items to a List\n",
    "Additional items can be added to the start or end of a list using the + concatenation operator or the += augmented assignment operator:\n",
    "\n",
    ">>>\n",
    ">>> a = ['foo', 'bar', 'baz', 'qux', 'quux', 'corge']\n",
    "\n",
    ">>> a += ['grault', 'garply']\n",
    ">>> a\n",
    "['foo', 'bar', 'baz', 'qux', 'quux', 'corge', 'grault', 'garply']\n",
    "\n",
    ">>> a = ['foo', 'bar', 'baz', 'qux', 'quux', 'corge']\n",
    "\n",
    ">>> a = [10, 20] + a\n",
    ">>> a\n",
    "[10, 20, 'foo', 'bar', 'baz', 'qux', 'quux', 'corge']\n",
    "Note that a list must be concatenated with another list, so if you want to add only one element, you need to specify it as a singleton list:\n",
    "\n",
    ">>>\n",
    ">>> a = ['foo', 'bar', 'baz', 'qux', 'quux', 'corge']\n",
    ">>> a += 20\n",
    "Traceback (most recent call last):\n",
    "  File \"<pyshell#58>\", line 1, in <module>\n",
    "    a += 20\n",
    "TypeError: 'int' object is not iterable\n",
    "\n",
    ">>> a += [20]\n",
    ">>> a\n",
    "['foo', 'bar', 'baz', 'qux', 'quux', 'corge', 20]\n",
    "Note: Technically, it isn’t quite correct to say a list must be concatenated with another list. More precisely, a list must be concatenated with an object that is iterable. Of course, lists are iterable, so it works to concatenate a list with another list.\n",
    "\n",
    "Strings are iterable also. But watch what happens when you concatenate a string onto a list:\n",
    "\n",
    ">>>\n",
    ">>> a = ['foo', 'bar', 'baz', 'qux', 'quux']\n",
    ">>> a += 'corge'\n",
    ">>> a\n",
    "['foo', 'bar', 'baz', 'qux', 'quux', 'c', 'o', 'r', 'g', 'e']\n",
    "This result is perhaps not quite what you expected. When a string is iterated through, the result is a list of its component characters. In the above example, what gets concatenated onto list a is a list of the characters in the string 'corge'.\n",
    "\n",
    "If you really want to add just the single string 'corge' to the end of the list, you need to specify it as a singleton list:\n",
    "\n",
    ">>>\n",
    ">>> a = ['foo', 'bar', 'baz', 'qux', 'quux']\n",
    ">>> a += ['corge']\n",
    ">>> a\n",
    "['foo', 'bar', 'baz', 'qux', 'quux', 'corge']\n",
    "If this seems mysterious, don’t fret too much. You’ll learn about the ins and outs of iterables in the tutorial on definite iteration.\n",
    "Methods That Modify a List\n",
    "Finally, Python supplies several built-in methods that can be used to modify lists. Information on these methods is detailed below.\n",
    "\n",
    "Note: The string methods you saw in the previous tutorial did not modify the target string directly. That is because strings are immutable. Instead, string methods return a new string object that is modified as directed by the method. They leave the original target string unchanged:\n",
    "\n",
    ">>>\n",
    ">>> s = 'foobar'\n",
    ">>> t = s.upper()\n",
    ">>> print(s, t)\n",
    "foobar FOOBAR\n",
    "List methods are different. Because lists are mutable, the list methods shown here modify the target list in place.\n",
    "a.append(<obj>)\n",
    "Appends an object to a list.\n",
    "a.append(<obj>) appends object <obj> to the end of list a:\n",
    "\n",
    ">>>\n",
    ">>> a = ['a', 'b']\n",
    ">>> a.append(123)\n",
    ">>> a\n",
    "['a', 'b', 123]\n",
    "Remember, list methods modify the target list in place. They do not return a new list:\n",
    "\n",
    ">>>\n",
    ">>> a = ['a', 'b']\n",
    ">>> x = a.append(123)\n",
    ">>> print(x)\n",
    "None\n",
    ">>> a\n",
    "['a', 'b', 123]\n",
    "Remember that when the + operator is used to concatenate to a list, if the target operand is an iterable, then its elements are broken out and appended to the list individually:\n",
    "\n",
    ">>>\n",
    ">>> a = ['a', 'b']\n",
    ">>> a + [1, 2, 3]\n",
    "['a', 'b', 1, 2, 3]\n",
    "The .append() method does not work that way! If an iterable is appended to a list with .append(), it is added as a single object:\n",
    "\n",
    ">>>\n",
    ">>> a = ['a', 'b']\n",
    ">>> a.append([1, 2, 3])\n",
    ">>> a\n",
    "['a', 'b', [1, 2, 3]]\n",
    "Thus, with .append(), you can append a string as a single entity:\n",
    "\n",
    ">>>\n",
    ">>> a = ['a', 'b']\n",
    ">>> a.append('foo')\n",
    ">>> a\n",
    "['a', 'b', 'foo']\n",
    " a.extend(<iterable>)\n",
    "Extends a list with the objects from an iterable.\n",
    "Yes, this is probably what you think it is.  .extend() also adds to the end of a list, but the argument is expected to be an iterable. The items in <iterable> are added individually:\n",
    "\n",
    ">>>\n",
    ">>> a = ['a', 'b']\n",
    ">>> a.extend([1, 2, 3])\n",
    ">>> a\n",
    "['a', 'b', 1, 2, 3]\n",
    "In other words, .extend() behaves like the + operator. More precisely, since it modifies the list in place, it behaves like the += operator:\n",
    "\n",
    ">>>\n",
    ">>> a = ['a', 'b']\n",
    ">>> a += [1, 2, 3]\n",
    ">>> a\n",
    "['a', 'b', 1, 2, 3]\n",
    " a.insert(<index>, <obj>)\n",
    "Inserts an object into a list.\n",
    "a.insert(<index>, <obj>) inserts object <obj> into list a at the specified <index>. Following the method call, a[<index>] is <obj>, and the remaining list elements are pushed to the right:\n",
    "\n",
    ">>>\n",
    ">>> a = ['foo', 'bar', 'baz', 'qux', 'quux', 'corge']\n",
    ">>> a.insert(3, 3.14159)\n",
    ">>> a[3]\n",
    "3.14159\n",
    ">>> a\n",
    "['foo', 'bar', 'baz', 3.14159, 'qux', 'quux', 'corge']\n",
    " a.remove(<obj>)\n",
    "Removes an object from a list.\n",
    "a.remove(<obj>) removes object <obj> from list a. If <obj> isn’t in a, an exception is raised:\n",
    "\n",
    ">>>\n",
    ">>> a = ['foo', 'bar', 'baz', 'qux', 'quux', 'corge']\n",
    ">>> a.remove('baz')\n",
    ">>> a\n",
    "['foo', 'bar', 'qux', 'quux', 'corge']\n",
    "\n",
    ">>> a.remove('Bark!')\n",
    "Traceback (most recent call last):\n",
    "  File \"<pyshell#13>\", line 1, in <module>\n",
    "    a.remove('Bark!')\n",
    "ValueError: list.remove(x): x not in list\n",
    " a.pop(index=-1)\n",
    "Removes an element from a list.\n",
    "This method differs from .remove() in two ways:\n",
    "\n",
    "You specify the index of the item to remove, rather than the object itself.\n",
    "The method returns a value: the item that was removed.\n",
    "a.pop() simply removes the last item in the list:\n",
    "\n",
    ">>>\n",
    ">>> a = ['foo', 'bar', 'baz', 'qux', 'quux', 'corge']\n",
    "\n",
    ">>> a.pop()\n",
    "'corge'\n",
    ">>> a\n",
    "['foo', 'bar', 'baz', 'qux', 'quux']\n",
    "\n",
    ">>> a.pop()\n",
    "'quux'\n",
    ">>> a\n",
    "['foo', 'bar', 'baz', 'qux']\n",
    "If the optional <index> parameter is specified, the item at that index is removed and returned.  <index> may be negative, as with string and list indexing:\n",
    "\n",
    ">>>\n",
    ">>> a = ['foo', 'bar', 'baz', 'qux', 'quux', 'corge']\n",
    "\n",
    ">>> a.pop(1)\n",
    "'bar'\n",
    ">>> a\n",
    "['foo', 'baz', 'qux', 'quux', 'corge']\n",
    "\n",
    ">>> a.pop(-3)\n",
    "'qux'\n",
    ">>> a\n",
    "['foo', 'baz', 'quux', 'corge']\n",
    " <index> defaults to -1, so a.pop(-1) is equivalent to a.pop().\n",
    "\n",
    "\n",
    "Remove ads\n",
    "Lists Are Dynamic\n",
    "This tutorial began with a list of six defining characteristics of Python lists. The last one is that lists are dynamic. You have seen many examples of this in the sections above. When items are added to a list, it grows as needed:\n",
    "\n",
    ">>>\n",
    ">>> a = ['foo', 'bar', 'baz', 'qux', 'quux', 'corge']\n",
    "\n",
    ">>> a[2:2] = [1, 2, 3]\n",
    ">>> a += [3.14159]\n",
    ">>> a\n",
    "['foo', 'bar', 1, 2, 3, 'baz', 'qux', 'quux', 'corge', 3.14159]\n",
    "Similarly, a list shrinks to accommodate the removal of items:\n",
    "\n",
    ">>>\n",
    ">>> a = ['foo', 'bar', 'baz', 'qux', 'quux', 'corge']\n",
    ">>> a[2:3] = []\n",
    ">>> del a[0]\n",
    ">>> a\n",
    "['bar', 'qux', 'quux', 'corge']\n",
    "Python Tuples\n",
    "Python provides another type that is an ordered collection of objects, called a tuple.\n",
    "\n",
    "Pronunciation varies depending on whom you ask. Some pronounce it as though it were spelled “too-ple” (rhyming with “Mott the Hoople”), and others as though it were spelled “tup-ple” (rhyming with “supple”). My inclination is the latter, since it presumably derives from the same origin as “quintuple,” “sextuple,” “octuple,” and so on, and everyone I know pronounces these latter as though they rhymed with “supple.”\n",
    "\n",
    "Defining and Using Tuples\n",
    "Tuples are identical to lists in all respects, except for the following properties:\n",
    "\n",
    "Tuples are defined by enclosing the elements in parentheses (()) instead of square brackets ([]).\n",
    "Tuples are immutable.\n",
    "Here is a short example showing a tuple definition, indexing, and slicing:\n",
    "\n",
    ">>>\n",
    ">>> t = ('foo', 'bar', 'baz', 'qux', 'quux', 'corge')\n",
    ">>> t\n",
    "('foo', 'bar', 'baz', 'qux', 'quux', 'corge')\n",
    "\n",
    ">>> t[0]\n",
    "'foo'\n",
    ">>> t[-1]\n",
    "'corge'\n",
    ">>> t[1::2]\n",
    "('bar', 'qux', 'corge')\n",
    "Never fear! Our favorite string and list reversal mechanism works for tuples as well:\n",
    "\n",
    ">>>\n",
    ">>> t[::-1]\n",
    "('corge', 'quux', 'qux', 'baz', 'bar', 'foo')\n",
    "Note: Even though tuples are defined using parentheses, you still index and slice tuples using square brackets, just as for strings and lists.\n",
    "Everything you’ve learned about lists—they are ordered, they can contain arbitrary objects, they can be indexed and sliced, they can be nested—is true of tuples as well. But they can’t be modified:\n",
    "\n",
    ">>>\n",
    ">>> t = ('foo', 'bar', 'baz', 'qux', 'quux', 'corge')\n",
    ">>> t[2] = 'Bark!'\n",
    "Traceback (most recent call last):\n",
    "  File \"<pyshell#65>\", line 1, in <module>\n",
    "    t[2] = 'Bark!'\n",
    "TypeError: 'tuple' object does not support item assignment\n",
    "Why use a tuple instead of a list?\n",
    "\n",
    "Program execution is faster when manipulating a tuple than it is for the equivalent list. (This is probably not going to be noticeable when the list or tuple is small.)\n",
    "\n",
    "Sometimes you don’t want data to be modified. If the values in the collection are meant to remain constant for the life of the program, using a tuple instead of a list guards against accidental modification.\n",
    "\n",
    "There is another Python data type that you will encounter shortly called a dictionary, which requires as one of its components a value that is of an immutable type. A tuple can be used for this purpose, whereas a list can’t be.\n",
    "\n",
    "In a Python REPL session, you can display the values of several objects simultaneously by entering them directly at the >>> prompt, separated by commas:\n",
    "\n",
    ">>>\n",
    ">>> a = 'foo'\n",
    ">>> b = 42\n",
    ">>> a, 3.14159, b\n",
    "('foo', 3.14159, 42)\n",
    "Python displays the response in parentheses because it is implicitly interpreting the input as a tuple.\n",
    "\n",
    "There is one peculiarity regarding tuple definition that you should be aware of. There is no ambiguity when defining an empty tuple, nor one with two or more elements. Python knows you are defining a tuple:\n",
    "\n",
    ">>>\n",
    ">>> t = ()\n",
    ">>> type(t)\n",
    "<class 'tuple'>\n",
    ">>>\n",
    ">>> t = (1, 2)\n",
    ">>> type(t)\n",
    "<class 'tuple'>\n",
    ">>> t = (1, 2, 3, 4, 5)\n",
    ">>> type(t)\n",
    "<class 'tuple'>\n",
    "But what happens when you try to define a tuple with one item:\n",
    "\n",
    ">>>\n",
    ">>> t = (2)\n",
    ">>> type(t)\n",
    "<class 'int'>\n",
    "Doh! Since parentheses are also used to define operator precedence in expressions, Python evaluates the expression (2) as simply the integer 2 and creates an int object. To tell Python that you really want to define a singleton tuple, include a trailing comma (,) just before the closing parenthesis:\n",
    "\n",
    ">>>\n",
    ">>> t = (2,)\n",
    ">>> type(t)\n",
    "<class 'tuple'>\n",
    ">>> t[0]\n",
    "2\n",
    ">>> t[-1]\n",
    "2\n",
    "You probably won’t need to define a singleton tuple often, but there has to be a way.\n",
    "\n",
    "When you display a singleton tuple, Python includes the comma, to remind you that it’s a tuple:\n",
    "\n",
    ">>>\n",
    ">>> print(t)\n",
    "(2,)\n",
    " \n",
    "Remove ads\n",
    "Tuple Assignment, Packing, and Unpacking\n",
    "As you have already seen above, a literal tuple containing several items can be assigned to a single object:\n",
    "\n",
    ">>>\n",
    ">>> t = ('foo', 'bar', 'baz', 'qux')\n",
    "When this occurs, it is as though the items in the tuple have been “packed” into the object:\n",
    "\n",
    "tuple packing\n",
    "Tuple Packing\n",
    ">>>\n",
    ">>> t\n",
    "('foo', 'bar', 'baz', 'qux')\n",
    ">>> t[0]\n",
    "'foo'\n",
    ">>> t[-1]\n",
    "'qux'\n",
    "If that “packed” object is subsequently assigned to a new tuple, the individual items are “unpacked” into the objects in the tuple:\n",
    "\n",
    "tuple unpacking\n",
    "Tuple Unpacking\n",
    ">>>\n",
    ">>> (s1, s2, s3, s4) = t\n",
    ">>> s1\n",
    "'foo'\n",
    ">>> s2\n",
    "'bar'\n",
    ">>> s3\n",
    "'baz'\n",
    ">>> s4\n",
    "'qux'\n",
    "When unpacking, the number of variables on the left must match the number of values in the tuple:\n",
    "\n",
    ">>>\n",
    ">>> (s1, s2, s3) = t\n",
    "Traceback (most recent call last):\n",
    "  File \"<pyshell#16>\", line 1, in <module>\n",
    "    (s1, s2, s3) = t\n",
    "ValueError: too many values to unpack (expected 3)\n",
    "\n",
    ">>> (s1, s2, s3, s4, s5) = t\n",
    "Traceback (most recent call last):\n",
    "  File \"<pyshell#17>\", line 1, in <module>\n",
    "    (s1, s2, s3, s4, s5) = t\n",
    "ValueError: not enough values to unpack (expected 5, got 4)\n",
    "Packing and unpacking can be combined into one statement to make a compound assignment:\n",
    "\n",
    ">>>\n",
    ">>> (s1, s2, s3, s4) = ('foo', 'bar', 'baz', 'qux')\n",
    ">>> s1\n",
    "'foo'\n",
    ">>> s2\n",
    "'bar'\n",
    ">>> s3\n",
    "'baz'\n",
    ">>> s4\n",
    "'qux'\n",
    "Again, the number of elements in the tuple on the left of the assignment must equal the number on the right:\n",
    "\n",
    ">>>\n",
    ">>> (s1, s2, s3, s4, s5) = ('foo', 'bar', 'baz', 'qux')\n",
    "Traceback (most recent call last):\n",
    "  File \"<pyshell#63>\", line 1, in <module>\n",
    "    (s1, s2, s3, s4, s5) = ('foo', 'bar', 'baz', 'qux')\n",
    "ValueError: not enough values to unpack (expected 5, got 4)\n",
    "In assignments like this and a small handful of other situations, Python allows the parentheses that are usually used for denoting a tuple to be left out:\n",
    "\n",
    ">>>\n",
    ">>> t = 1, 2, 3\n",
    ">>> t\n",
    "(1, 2, 3)\n",
    "\n",
    ">>> x1, x2, x3 = t\n",
    ">>> x1, x2, x3\n",
    "(1, 2, 3)\n",
    "\n",
    ">>> x1, x2, x3 = 4, 5, 6\n",
    ">>> x1, x2, x3\n",
    "(4, 5, 6)\n",
    "\n",
    ">>> t = 2,\n",
    ">>> t\n",
    "(2,)\n",
    "It works the same whether the parentheses are included or not, so if you have any doubt as to whether they’re needed, go ahead and include them.\n",
    "\n",
    "Tuple assignment allows for a curious bit of idiomatic Python. Frequently when programming, you have two variables whose values you need to swap. In most programming languages, it is necessary to store one of the values in a temporary variable while the swap occurs like this:\n",
    "\n",
    ">>>\n",
    ">>> a = 'foo'\n",
    ">>> b = 'bar'\n",
    ">>> a, b\n",
    "('foo', 'bar')\n",
    "\n",
    ">>># We need to define a temp variable to accomplish the swap.\n",
    ">>> temp = a\n",
    ">>> a = b\n",
    ">>> b = temp\n",
    "\n",
    ">>> a, b\n",
    "('bar', 'foo')\n",
    "In Python, the swap can be done with a single tuple assignment:\n",
    "\n",
    ">>>\n",
    ">>> a = 'foo'\n",
    ">>> b = 'bar'\n",
    ">>> a, b\n",
    "('foo', 'bar')\n",
    "\n",
    ">>># Magic time!\n",
    ">>> a, b = b, a\n",
    "\n",
    ">>> a, b\n",
    "('bar', 'foo')\n",
    "As anyone who has ever had to swap values using a temporary variable knows, being able to do it this way in Python is the pinnacle of modern technological achievement. It will never get better than this.\n",
    "\n",
    "\n",
    "Remove ads\n",
    "Conclusion\n",
    "This tutorial covered the basic properties of Python lists and tuples, and how to manipulate them. You will use these extensively in your Python programming.\n",
    "\n",
    "One of the chief characteristics of a list is that it is ordered. The order of the elements in a list is an intrinsic property of that list and does not change, unless the list itself is modified. (The same is true of tuples, except of course they can’t be modified.)\n",
    "\n",
    "The next tutorial will introduce you to the Python dictionary: a composite data type that is unordered. Read on!"
   ]
  }
 ],
 "metadata": {
  "kernelspec": {
   "display_name": "Python 3 (ipykernel)",
   "language": "python",
   "name": "python3"
  },
  "language_info": {
   "codemirror_mode": {
    "name": "ipython",
    "version": 3
   },
   "file_extension": ".py",
   "mimetype": "text/x-python",
   "name": "python",
   "nbconvert_exporter": "python",
   "pygments_lexer": "ipython3",
   "version": "3.8.15"
  },
  "vscode": {
   "interpreter": {
    "hash": "6ad95572a1c15de1d0b8eca79c7b9cd5028505873e2c71ff56ffc4343ef0b428"
   }
  }
 },
 "nbformat": 4,
 "nbformat_minor": 5
}
