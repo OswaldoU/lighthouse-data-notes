{
 "cells": [
  {
   "cell_type": "code",
   "execution_count": 42,
   "id": "ed98569a-a528-4421-8d7a-7be18ee7d7f9",
   "metadata": {},
   "outputs": [],
   "source": [
    "# Python Lists\n",
    "\n",
    "## In short, a list is a collection of arbitrary objects, somewhat akin to an array in many other programming languages but more flexible. \n",
    "## Lists are defined in Python by enclosing a comma-separated sequence of objects in square brackets ([]), as shown below:"
   ]
  },
  {
   "cell_type": "code",
   "execution_count": 43,
   "id": "0c145079-df17-432f-ab68-498c14def002",
   "metadata": {},
   "outputs": [
    {
     "name": "stdout",
     "output_type": "stream",
     "text": [
      "['foo', 'bar', 'baz', 'qux']\n"
     ]
    },
    {
     "data": {
      "text/plain": [
       "['foo', 'bar', 'baz', 'qux']"
      ]
     },
     "execution_count": 43,
     "metadata": {},
     "output_type": "execute_result"
    }
   ],
   "source": [
    ">>> a = ['foo', 'bar', 'baz', 'qux']\n",
    "\n",
    ">>> print(a)\n",
    "['foo', 'bar', 'baz', 'qux']\n",
    ">>> a\n",
    "['foo', 'bar', 'baz', 'qux']"
   ]
  },
  {
   "cell_type": "code",
   "execution_count": 44,
   "id": "958e343d",
   "metadata": {},
   "outputs": [],
   "source": [
    "## The important characteristics of Python lists are as follows:\n",
    "\n",
    "## - Lists are ordered.\n",
    "## - Lists can contain any arbitrary objects.\n",
    "## - List elements can be accessed by index.\n",
    "## - Lists can be nested to arbitrary depth.\n",
    "## - Lists are mutable.\n",
    "## - Lists are dynamic.\n",
    "\n",
    "## Each of these features is examined in more detail below. "
   ]
  },
  {
   "cell_type": "code",
   "execution_count": 45,
   "id": "c8732e0e",
   "metadata": {},
   "outputs": [],
   "source": [
    "# Lists Are Ordered\n",
    "\n",
    "## A list is not merely a collection of objects. It is an ordered collection of objects. \n",
    "## The order in which you specify the elements when you define a list is an innate characteristic of that list and is maintained for that list’s lifetime. \n",
    "## (You will see a Python data type that is not ordered in the next tutorial on dictionaries.)\n",
    "\n",
    "\n",
    "## Lists that have the same elements in a different order are not the same:"
   ]
  },
  {
   "cell_type": "code",
   "execution_count": 46,
   "id": "63f43e79",
   "metadata": {},
   "outputs": [],
   "source": [
    ">>> a = ['foo', 'bar', 'baz', 'qux']\n",
    ">>> b = ['baz', 'qux', 'bar', 'foo']\n"
   ]
  },
  {
   "cell_type": "code",
   "execution_count": 47,
   "id": "63ed8a23",
   "metadata": {},
   "outputs": [
    {
     "data": {
      "text/plain": [
       "False"
      ]
     },
     "execution_count": 47,
     "metadata": {},
     "output_type": "execute_result"
    }
   ],
   "source": [
    ">>> a == b\n"
   ]
  },
  {
   "cell_type": "code",
   "execution_count": 48,
   "id": "70413cfe",
   "metadata": {},
   "outputs": [
    {
     "data": {
      "text/plain": [
       "False"
      ]
     },
     "execution_count": 48,
     "metadata": {},
     "output_type": "execute_result"
    }
   ],
   "source": [
    ">>> a is b"
   ]
  },
  {
   "cell_type": "code",
   "execution_count": 49,
   "id": "278bb9e9",
   "metadata": {},
   "outputs": [
    {
     "data": {
      "text/plain": [
       "False"
      ]
     },
     "execution_count": 49,
     "metadata": {},
     "output_type": "execute_result"
    }
   ],
   "source": [
    ">>> [1, 2, 3, 4] == [4, 1, 3, 2]"
   ]
  },
  {
   "cell_type": "code",
   "execution_count": 50,
   "id": "5b195843",
   "metadata": {},
   "outputs": [],
   "source": [
    "# Lists Can Contain Arbitrary Objects\n",
    "\n",
    "## A list can contain any assortment of objects. The elements of a list can all be the same type:"
   ]
  },
  {
   "cell_type": "code",
   "execution_count": 51,
   "id": "7002fbf8",
   "metadata": {},
   "outputs": [
    {
     "data": {
      "text/plain": [
       "[2, 4, 6, 8]"
      ]
     },
     "execution_count": 51,
     "metadata": {},
     "output_type": "execute_result"
    }
   ],
   "source": [
    ">>> a = [2, 4, 6, 8]\n",
    ">>> a"
   ]
  },
  {
   "cell_type": "code",
   "execution_count": 52,
   "id": "b4c7660b",
   "metadata": {},
   "outputs": [],
   "source": [
    "## Or the elements can be of varying types:"
   ]
  },
  {
   "cell_type": "code",
   "execution_count": 53,
   "id": "717a337c",
   "metadata": {},
   "outputs": [
    {
     "data": {
      "text/plain": [
       "[21.42, 'foobar', 3, 4, 'bark', False, 3.14159]"
      ]
     },
     "execution_count": 53,
     "metadata": {},
     "output_type": "execute_result"
    }
   ],
   "source": [
    ">>> a = [21.42, 'foobar', 3, 4, 'bark', False, 3.14159]\n",
    ">>> a"
   ]
  },
  {
   "cell_type": "code",
   "execution_count": 54,
   "id": "4cb6bcda",
   "metadata": {},
   "outputs": [],
   "source": [
    "## Lists can even contain complex objects, like functions, classes, and modules, which you will learn about in upcoming tutorials:"
   ]
  },
  {
   "cell_type": "code",
   "execution_count": 55,
   "id": "59933a33",
   "metadata": {},
   "outputs": [
    {
     "data": {
      "text/plain": [
       "int"
      ]
     },
     "execution_count": 55,
     "metadata": {},
     "output_type": "execute_result"
    }
   ],
   "source": [
    ">>> int"
   ]
  },
  {
   "cell_type": "code",
   "execution_count": 56,
   "id": "6c2fa9f0",
   "metadata": {},
   "outputs": [
    {
     "data": {
      "text/plain": [
       "<function len(obj, /)>"
      ]
     },
     "execution_count": 56,
     "metadata": {},
     "output_type": "execute_result"
    }
   ],
   "source": [
    ">>> len"
   ]
  },
  {
   "cell_type": "code",
   "execution_count": 57,
   "id": "de01cc46",
   "metadata": {},
   "outputs": [],
   "source": [
    ">>> def foo():\n",
    "...     pass\n",
    "..."
   ]
  },
  {
   "cell_type": "code",
   "execution_count": 58,
   "id": "662f2ed4",
   "metadata": {},
   "outputs": [
    {
     "data": {
      "text/plain": [
       "<function __main__.foo()>"
      ]
     },
     "execution_count": 58,
     "metadata": {},
     "output_type": "execute_result"
    }
   ],
   "source": [
    ">>> foo"
   ]
  },
  {
   "cell_type": "code",
   "execution_count": 59,
   "id": "a7b83059",
   "metadata": {},
   "outputs": [],
   "source": [
    ">>> import math"
   ]
  },
  {
   "cell_type": "code",
   "execution_count": 60,
   "id": "1548df4f",
   "metadata": {},
   "outputs": [
    {
     "data": {
      "text/plain": [
       "<module 'math' from '/opt/homebrew/Caskroom/miniforge/base/envs/THE_ONE/lib/python3.8/lib-dynload/math.cpython-38-darwin.so'>"
      ]
     },
     "execution_count": 60,
     "metadata": {},
     "output_type": "execute_result"
    }
   ],
   "source": [
    ">>> math"
   ]
  },
  {
   "cell_type": "code",
   "execution_count": 61,
   "id": "607bbb48",
   "metadata": {},
   "outputs": [
    {
     "data": {
      "text/plain": [
       "[int,\n",
       " <function len(obj, /)>,\n",
       " <function __main__.foo()>,\n",
       " <module 'math' from '/opt/homebrew/Caskroom/miniforge/base/envs/THE_ONE/lib/python3.8/lib-dynload/math.cpython-38-darwin.so'>]"
      ]
     },
     "execution_count": 61,
     "metadata": {},
     "output_type": "execute_result"
    }
   ],
   "source": [
    ">>> a = [int, len, foo, math]\n",
    ">>> a"
   ]
  },
  {
   "cell_type": "code",
   "execution_count": 62,
   "id": "c6510ab4",
   "metadata": {},
   "outputs": [],
   "source": [
    "## A list can contain any number of objects, from zero to as many as your computer’s memory will allow:"
   ]
  },
  {
   "cell_type": "code",
   "execution_count": 63,
   "id": "8b62bd96",
   "metadata": {},
   "outputs": [
    {
     "data": {
      "text/plain": [
       "[]"
      ]
     },
     "execution_count": 63,
     "metadata": {},
     "output_type": "execute_result"
    }
   ],
   "source": [
    ">>> a = []\n",
    ">>> a"
   ]
  },
  {
   "cell_type": "code",
   "execution_count": 64,
   "id": "81d8c725",
   "metadata": {},
   "outputs": [
    {
     "data": {
      "text/plain": [
       "['foo']"
      ]
     },
     "execution_count": 64,
     "metadata": {},
     "output_type": "execute_result"
    }
   ],
   "source": [
    ">>> a = [ 'foo' ]\n",
    ">>> a"
   ]
  },
  {
   "cell_type": "code",
   "execution_count": 65,
   "id": "2e65ce13",
   "metadata": {},
   "outputs": [
    {
     "data": {
      "text/plain": [
       "[0,\n",
       " 1,\n",
       " 2,\n",
       " 3,\n",
       " 4,\n",
       " 5,\n",
       " 6,\n",
       " 7,\n",
       " 8,\n",
       " 9,\n",
       " 10,\n",
       " 11,\n",
       " 12,\n",
       " 13,\n",
       " 14,\n",
       " 15,\n",
       " 16,\n",
       " 17,\n",
       " 18,\n",
       " 19,\n",
       " 20,\n",
       " 21,\n",
       " 22,\n",
       " 23,\n",
       " 24,\n",
       " 25,\n",
       " 26,\n",
       " 27,\n",
       " 28,\n",
       " 29,\n",
       " 30,\n",
       " 31,\n",
       " 32,\n",
       " 33,\n",
       " 34,\n",
       " 35,\n",
       " 36,\n",
       " 37,\n",
       " 38,\n",
       " 39,\n",
       " 40,\n",
       " 41,\n",
       " 42,\n",
       " 43,\n",
       " 44,\n",
       " 45,\n",
       " 46,\n",
       " 47,\n",
       " 48,\n",
       " 49,\n",
       " 50,\n",
       " 51,\n",
       " 52,\n",
       " 53,\n",
       " 54,\n",
       " 55,\n",
       " 56,\n",
       " 57,\n",
       " 58,\n",
       " 59,\n",
       " 60,\n",
       " 61,\n",
       " 62,\n",
       " 63,\n",
       " 64,\n",
       " 65,\n",
       " 66,\n",
       " 67,\n",
       " 68,\n",
       " 69,\n",
       " 70,\n",
       " 71,\n",
       " 72,\n",
       " 73,\n",
       " 74,\n",
       " 75,\n",
       " 76,\n",
       " 77,\n",
       " 78,\n",
       " 79,\n",
       " 80,\n",
       " 81,\n",
       " 82,\n",
       " 83,\n",
       " 84,\n",
       " 85,\n",
       " 86,\n",
       " 87,\n",
       " 88,\n",
       " 89,\n",
       " 90,\n",
       " 91,\n",
       " 92,\n",
       " 93,\n",
       " 94,\n",
       " 95,\n",
       " 96,\n",
       " 97,\n",
       " 98,\n",
       " 99,\n",
       " 100]"
      ]
     },
     "execution_count": 65,
     "metadata": {},
     "output_type": "execute_result"
    }
   ],
   "source": [
    "a = [0, 1, 2, 3, 4, 5, 6, 7, 8, 9, 10, 11, 12, 13, 14, 15, 16, 17, 18, 19, 20,\n",
    "... 21, 22, 23, 24, 25, 26, 27, 28, 29, 30, 31, 32, 33, 34, 35, 36, 37, 38, 39, 40,\n",
    "... 41, 42, 43, 44, 45, 46, 47, 48, 49, 50, 51, 52, 53, 54, 55, 56, 57, 58, 59, 60,\n",
    "... 61, 62, 63, 64, 65, 66, 67, 68, 69, 70, 71, 72, 73, 74, 75, 76, 77, 78, 79, 80,\n",
    "... 81, 82, 83, 84, 85, 86, 87, 88, 89, 90, 91, 92, 93, 94, 95, 96, 97, 98, 99, 100]\n",
    ">>> a"
   ]
  },
  {
   "cell_type": "code",
   "execution_count": 66,
   "id": "1f929ecf",
   "metadata": {},
   "outputs": [],
   "source": [
    "## (A list with a single object is sometimes referred to as a singleton list.)\n",
    "\n",
    "## List objects needn’t be unique. A given object can appear in a list multiple times:"
   ]
  },
  {
   "cell_type": "code",
   "execution_count": 67,
   "id": "84582501",
   "metadata": {},
   "outputs": [
    {
     "data": {
      "text/plain": [
       "['bark', 'meow', 'woof', 'bark', 'cheep', 'bark']"
      ]
     },
     "execution_count": 67,
     "metadata": {},
     "output_type": "execute_result"
    }
   ],
   "source": [
    ">>> a = ['bark', 'meow', 'woof', 'bark', 'cheep', 'bark']\n",
    ">>> a"
   ]
  },
  {
   "cell_type": "code",
   "execution_count": 68,
   "id": "81c45fae",
   "metadata": {},
   "outputs": [],
   "source": [
    "# List Elements Can Be Accessed by Index\n",
    "\n",
    "## Individual elements in a list can be accessed using an index in square brackets. This is exactly analogous to accessing individual characters in a string. \n",
    "## List indexing is zero-based as it is with strings.\n",
    "\n",
    "## Consider the following list:"
   ]
  },
  {
   "cell_type": "code",
   "execution_count": 69,
   "id": "370c2e27",
   "metadata": {},
   "outputs": [],
   "source": [
    ">>> a = ['foo', 'bar', 'baz', 'qux', 'quux', 'corge']"
   ]
  },
  {
   "cell_type": "code",
   "execution_count": 70,
   "id": "42afb539",
   "metadata": {},
   "outputs": [
    {
     "data": {
      "text/plain": [
       "'foo'"
      ]
     },
     "execution_count": 70,
     "metadata": {},
     "output_type": "execute_result"
    }
   ],
   "source": [
    ">>> a[0]"
   ]
  },
  {
   "cell_type": "code",
   "execution_count": 71,
   "id": "48fca8a7",
   "metadata": {},
   "outputs": [
    {
     "data": {
      "text/plain": [
       "'baz'"
      ]
     },
     "execution_count": 71,
     "metadata": {},
     "output_type": "execute_result"
    }
   ],
   "source": [
    ">>> a[2]"
   ]
  },
  {
   "cell_type": "code",
   "execution_count": 72,
   "id": "9cf58b9b",
   "metadata": {},
   "outputs": [
    {
     "data": {
      "text/plain": [
       "'corge'"
      ]
     },
     "execution_count": 72,
     "metadata": {},
     "output_type": "execute_result"
    }
   ],
   "source": [
    ">>> a[5]"
   ]
  },
  {
   "cell_type": "code",
   "execution_count": 73,
   "id": "8e6f3a36",
   "metadata": {},
   "outputs": [
    {
     "data": {
      "text/plain": [
       "'corge'"
      ]
     },
     "execution_count": 73,
     "metadata": {},
     "output_type": "execute_result"
    }
   ],
   "source": [
    ">>> a[-1]"
   ]
  },
  {
   "cell_type": "code",
   "execution_count": 74,
   "id": "2c22002c",
   "metadata": {},
   "outputs": [
    {
     "data": {
      "text/plain": [
       "'quux'"
      ]
     },
     "execution_count": 74,
     "metadata": {},
     "output_type": "execute_result"
    }
   ],
   "source": [
    ">>> a[-2]"
   ]
  },
  {
   "cell_type": "code",
   "execution_count": 75,
   "id": "8c169ebe",
   "metadata": {},
   "outputs": [
    {
     "data": {
      "text/plain": [
       "'bar'"
      ]
     },
     "execution_count": 75,
     "metadata": {},
     "output_type": "execute_result"
    }
   ],
   "source": [
    ">>> a[-5]"
   ]
  },
  {
   "cell_type": "code",
   "execution_count": 81,
   "id": "945a1c6b",
   "metadata": {},
   "outputs": [],
   "source": [
    "## Slicing also works. If a is a list, the expression a[m:n] returns the portion of a from index m to, but not including, index n:"
   ]
  },
  {
   "cell_type": "code",
   "execution_count": 76,
   "id": "e2d0a77d",
   "metadata": {},
   "outputs": [],
   "source": [
    ">>> a = ['foo', 'bar', 'baz', 'qux', 'quux', 'corge']\n"
   ]
  },
  {
   "cell_type": "code",
   "execution_count": 77,
   "id": "a9aed1b2",
   "metadata": {},
   "outputs": [
    {
     "data": {
      "text/plain": [
       "['baz', 'qux', 'quux']"
      ]
     },
     "execution_count": 77,
     "metadata": {},
     "output_type": "execute_result"
    }
   ],
   "source": [
    "a[2:5]"
   ]
  },
  {
   "cell_type": "code",
   "execution_count": 80,
   "id": "614e93b5",
   "metadata": {},
   "outputs": [],
   "source": [
    "## Other features of string slicing work analogously for list slicing as well:\n",
    "\n",
    "## Both positive and negative indices can be specified:"
   ]
  },
  {
   "cell_type": "code",
   "execution_count": 79,
   "id": "dfa19fbc",
   "metadata": {},
   "outputs": [
    {
     "data": {
      "text/plain": [
       "['bar', 'baz', 'qux']"
      ]
     },
     "execution_count": 79,
     "metadata": {},
     "output_type": "execute_result"
    }
   ],
   "source": [
    ">>> a[-5:-2]"
   ]
  },
  {
   "cell_type": "code",
   "execution_count": 78,
   "id": "3baaa9fc",
   "metadata": {},
   "outputs": [
    {
     "data": {
      "text/plain": [
       "['bar', 'baz', 'qux']"
      ]
     },
     "execution_count": 78,
     "metadata": {},
     "output_type": "execute_result"
    }
   ],
   "source": [
    ">>> a[1:4]"
   ]
  },
  {
   "cell_type": "code",
   "execution_count": 82,
   "id": "ed7395fe",
   "metadata": {},
   "outputs": [
    {
     "data": {
      "text/plain": [
       "True"
      ]
     },
     "execution_count": 82,
     "metadata": {},
     "output_type": "execute_result"
    }
   ],
   "source": [
    ">>> a[-5:-2] == a[1:4]"
   ]
  },
  {
   "cell_type": "code",
   "execution_count": 83,
   "id": "be46a221",
   "metadata": {},
   "outputs": [],
   "source": [
    "## Omitting the first index starts the slice at the beginning of the list, and omitting the second index extends the slice to the end of the list:"
   ]
  },
  {
   "cell_type": "code",
   "execution_count": 84,
   "id": "ebf65fac",
   "metadata": {},
   "outputs": [
    {
     "name": "stdout",
     "output_type": "stream",
     "text": [
      "['foo', 'bar', 'baz', 'qux'] ['foo', 'bar', 'baz', 'qux']\n"
     ]
    }
   ],
   "source": [
    ">>> print(a[:4], a[0:4])"
   ]
  },
  {
   "cell_type": "code",
   "execution_count": 85,
   "id": "17de8c64",
   "metadata": {},
   "outputs": [
    {
     "name": "stdout",
     "output_type": "stream",
     "text": [
      "['baz', 'qux', 'quux', 'corge'] ['baz', 'qux', 'quux', 'corge']\n"
     ]
    }
   ],
   "source": [
    ">>> print(a[2:], a[2:len(a)])"
   ]
  },
  {
   "cell_type": "code",
   "execution_count": 86,
   "id": "cff2aafb",
   "metadata": {},
   "outputs": [
    {
     "data": {
      "text/plain": [
       "['foo', 'bar', 'baz', 'qux', 'quux', 'corge']"
      ]
     },
     "execution_count": 86,
     "metadata": {},
     "output_type": "execute_result"
    }
   ],
   "source": [
    ">>> a[:4] + a[4:]"
   ]
  },
  {
   "cell_type": "code",
   "execution_count": 87,
   "id": "081edff9",
   "metadata": {},
   "outputs": [
    {
     "data": {
      "text/plain": [
       "True"
      ]
     },
     "execution_count": 87,
     "metadata": {},
     "output_type": "execute_result"
    }
   ],
   "source": [
    ">>> a[:4] + a[4:] == a"
   ]
  },
  {
   "cell_type": "code",
   "execution_count": 88,
   "id": "bec6308f",
   "metadata": {},
   "outputs": [],
   "source": [
    "## You can specify a stride—either positive or negative:"
   ]
  },
  {
   "cell_type": "code",
   "execution_count": 89,
   "id": "019865da",
   "metadata": {},
   "outputs": [
    {
     "data": {
      "text/plain": [
       "['foo', 'baz', 'quux']"
      ]
     },
     "execution_count": 89,
     "metadata": {},
     "output_type": "execute_result"
    }
   ],
   "source": [
    ">>> a[0:6:2]"
   ]
  },
  {
   "cell_type": "code",
   "execution_count": 90,
   "id": "ce03c130",
   "metadata": {},
   "outputs": [
    {
     "data": {
      "text/plain": [
       "['bar', 'qux', 'corge']"
      ]
     },
     "execution_count": 90,
     "metadata": {},
     "output_type": "execute_result"
    }
   ],
   "source": [
    ">>> a[1:6:2]"
   ]
  },
  {
   "cell_type": "code",
   "execution_count": 91,
   "id": "7bd22e10",
   "metadata": {},
   "outputs": [
    {
     "data": {
      "text/plain": [
       "['corge', 'qux', 'bar']"
      ]
     },
     "execution_count": 91,
     "metadata": {},
     "output_type": "execute_result"
    }
   ],
   "source": [
    ">>> a[6:0:-2]"
   ]
  },
  {
   "cell_type": "code",
   "execution_count": 92,
   "id": "6a0b1de1",
   "metadata": {},
   "outputs": [],
   "source": [
    "## The syntax for reversing a list works the same way it does for strings:"
   ]
  },
  {
   "cell_type": "code",
   "execution_count": 93,
   "id": "3bc286ee",
   "metadata": {},
   "outputs": [
    {
     "data": {
      "text/plain": [
       "['corge', 'quux', 'qux', 'baz', 'bar', 'foo']"
      ]
     },
     "execution_count": 93,
     "metadata": {},
     "output_type": "execute_result"
    }
   ],
   "source": [
    "a[::-1]"
   ]
  },
  {
   "cell_type": "code",
   "execution_count": 94,
   "id": "a993910c",
   "metadata": {},
   "outputs": [],
   "source": [
    "# The [:] syntax works for lists. However, there is an important difference between how this operation works with a list and how it works with a string.\n",
    "\n",
    "## If s is a string, s[:] returns a reference to the same object:"
   ]
  },
  {
   "cell_type": "code",
   "execution_count": 95,
   "id": "2d78c3fe",
   "metadata": {},
   "outputs": [],
   "source": [
    ">>> s = 'foobar'"
   ]
  },
  {
   "cell_type": "code",
   "execution_count": 96,
   "id": "c5bc17cd",
   "metadata": {},
   "outputs": [
    {
     "data": {
      "text/plain": [
       "'foobar'"
      ]
     },
     "execution_count": 96,
     "metadata": {},
     "output_type": "execute_result"
    }
   ],
   "source": [
    ">>> s[:]"
   ]
  },
  {
   "cell_type": "code",
   "execution_count": 97,
   "id": "64c4f041",
   "metadata": {},
   "outputs": [
    {
     "data": {
      "text/plain": [
       "True"
      ]
     },
     "execution_count": 97,
     "metadata": {},
     "output_type": "execute_result"
    }
   ],
   "source": [
    ">>> s[:] is s"
   ]
  },
  {
   "cell_type": "code",
   "execution_count": 98,
   "id": "dbf8c9b7",
   "metadata": {},
   "outputs": [],
   "source": [
    "## Conversely, if a is a list, a[:] returns a new object that is a copy of a:"
   ]
  },
  {
   "cell_type": "code",
   "execution_count": 99,
   "id": "034dde3c",
   "metadata": {},
   "outputs": [],
   "source": [
    ">>> a = ['foo', 'bar', 'baz', 'qux', 'quux', 'corge']"
   ]
  },
  {
   "cell_type": "code",
   "execution_count": 100,
   "id": "581d664e",
   "metadata": {},
   "outputs": [
    {
     "data": {
      "text/plain": [
       "['foo', 'bar', 'baz', 'qux', 'quux', 'corge']"
      ]
     },
     "execution_count": 100,
     "metadata": {},
     "output_type": "execute_result"
    }
   ],
   "source": [
    ">>> a[:]"
   ]
  },
  {
   "cell_type": "code",
   "execution_count": 101,
   "id": "bc79abdd",
   "metadata": {},
   "outputs": [
    {
     "data": {
      "text/plain": [
       "False"
      ]
     },
     "execution_count": 101,
     "metadata": {},
     "output_type": "execute_result"
    }
   ],
   "source": [
    ">>> a[:] is a"
   ]
  },
  {
   "cell_type": "code",
   "execution_count": 102,
   "id": "2bebaefc",
   "metadata": {},
   "outputs": [],
   "source": [
    "# Several Python operators and built-in functions can also be used with lists in ways that are analogous to strings:\n",
    "\n",
    "## The in and not in operators:"
   ]
  },
  {
   "cell_type": "code",
   "execution_count": 103,
   "id": "668d3e2a",
   "metadata": {},
   "outputs": [
    {
     "data": {
      "text/plain": [
       "['foo', 'bar', 'baz', 'qux', 'quux', 'corge']"
      ]
     },
     "execution_count": 103,
     "metadata": {},
     "output_type": "execute_result"
    }
   ],
   "source": [
    ">>> a"
   ]
  },
  {
   "cell_type": "code",
   "execution_count": 104,
   "id": "be7b0394",
   "metadata": {},
   "outputs": [
    {
     "data": {
      "text/plain": [
       "True"
      ]
     },
     "execution_count": 104,
     "metadata": {},
     "output_type": "execute_result"
    }
   ],
   "source": [
    ">>> 'qux' in a"
   ]
  },
  {
   "cell_type": "code",
   "execution_count": 105,
   "id": "f47789eb",
   "metadata": {},
   "outputs": [
    {
     "data": {
      "text/plain": [
       "True"
      ]
     },
     "execution_count": 105,
     "metadata": {},
     "output_type": "execute_result"
    }
   ],
   "source": [
    ">>> 'thud' not in a"
   ]
  },
  {
   "cell_type": "code",
   "execution_count": 106,
   "id": "588da83c",
   "metadata": {},
   "outputs": [],
   "source": [
    "## The concatenation (+) and replication (*) operators:"
   ]
  },
  {
   "cell_type": "code",
   "execution_count": 107,
   "id": "a7b794e4",
   "metadata": {},
   "outputs": [
    {
     "data": {
      "text/plain": [
       "['foo', 'bar', 'baz', 'qux', 'quux', 'corge']"
      ]
     },
     "execution_count": 107,
     "metadata": {},
     "output_type": "execute_result"
    }
   ],
   "source": [
    ">>> a"
   ]
  },
  {
   "cell_type": "code",
   "execution_count": 108,
   "id": "73510013",
   "metadata": {},
   "outputs": [
    {
     "data": {
      "text/plain": [
       "['foo', 'bar', 'baz', 'qux', 'quux', 'corge', 'grault', 'garply']"
      ]
     },
     "execution_count": 108,
     "metadata": {},
     "output_type": "execute_result"
    }
   ],
   "source": [
    ">>> a + ['grault', 'garply']"
   ]
  },
  {
   "cell_type": "code",
   "execution_count": 109,
   "id": "159c84f0",
   "metadata": {},
   "outputs": [
    {
     "data": {
      "text/plain": [
       "['foo',\n",
       " 'bar',\n",
       " 'baz',\n",
       " 'qux',\n",
       " 'quux',\n",
       " 'corge',\n",
       " 'foo',\n",
       " 'bar',\n",
       " 'baz',\n",
       " 'qux',\n",
       " 'quux',\n",
       " 'corge']"
      ]
     },
     "execution_count": 109,
     "metadata": {},
     "output_type": "execute_result"
    }
   ],
   "source": [
    ">>> a * 2"
   ]
  },
  {
   "cell_type": "code",
   "execution_count": 110,
   "id": "dbf182d4",
   "metadata": {},
   "outputs": [],
   "source": [
    "## The len(), min(), and max() functions:"
   ]
  },
  {
   "cell_type": "code",
   "execution_count": 111,
   "id": "fcf6f987",
   "metadata": {},
   "outputs": [
    {
     "data": {
      "text/plain": [
       "['foo', 'bar', 'baz', 'qux', 'quux', 'corge']"
      ]
     },
     "execution_count": 111,
     "metadata": {},
     "output_type": "execute_result"
    }
   ],
   "source": [
    ">>> a"
   ]
  },
  {
   "cell_type": "code",
   "execution_count": 112,
   "id": "919083a5",
   "metadata": {},
   "outputs": [
    {
     "data": {
      "text/plain": [
       "6"
      ]
     },
     "execution_count": 112,
     "metadata": {},
     "output_type": "execute_result"
    }
   ],
   "source": [
    ">>> len(a)"
   ]
  },
  {
   "cell_type": "code",
   "execution_count": 113,
   "id": "b3540a2d",
   "metadata": {},
   "outputs": [
    {
     "data": {
      "text/plain": [
       "'bar'"
      ]
     },
     "execution_count": 113,
     "metadata": {},
     "output_type": "execute_result"
    }
   ],
   "source": [
    ">>> min(a)"
   ]
  },
  {
   "cell_type": "code",
   "execution_count": 114,
   "id": "5ab6ff7a",
   "metadata": {},
   "outputs": [
    {
     "data": {
      "text/plain": [
       "'qux'"
      ]
     },
     "execution_count": 114,
     "metadata": {},
     "output_type": "execute_result"
    }
   ],
   "source": [
    ">>> max(a)"
   ]
  },
  {
   "cell_type": "code",
   "execution_count": 115,
   "id": "78a623a4",
   "metadata": {},
   "outputs": [],
   "source": [
    "## It’s not an accident that strings and lists behave so similarly. They are both special cases of a more general object type called an iterable, which you will encounter in more detail in the upcoming tutorial on definite iteration.\n",
    "\n",
    "## By the way, in each example above, the list is always assigned to a variable before an operation is performed on it. But you can operate on a list literal as well:\n",
    "\n",
    "\n"
   ]
  },
  {
   "cell_type": "code",
   "execution_count": 116,
   "id": "7f7d1414",
   "metadata": {},
   "outputs": [
    {
     "data": {
      "text/plain": [
       "'baz'"
      ]
     },
     "execution_count": 116,
     "metadata": {},
     "output_type": "execute_result"
    }
   ],
   "source": [
    ">>> ['foo', 'bar', 'baz', 'qux', 'quux', 'corge'][2]"
   ]
  },
  {
   "cell_type": "code",
   "execution_count": 117,
   "id": "f5eea5e9",
   "metadata": {},
   "outputs": [
    {
     "data": {
      "text/plain": [
       "['corge', 'quux', 'qux', 'baz', 'bar', 'foo']"
      ]
     },
     "execution_count": 117,
     "metadata": {},
     "output_type": "execute_result"
    }
   ],
   "source": [
    ">>> ['foo', 'bar', 'baz', 'qux', 'quux', 'corge'][::-1]"
   ]
  },
  {
   "cell_type": "code",
   "execution_count": 118,
   "id": "8c0147df",
   "metadata": {},
   "outputs": [
    {
     "data": {
      "text/plain": [
       "True"
      ]
     },
     "execution_count": 118,
     "metadata": {},
     "output_type": "execute_result"
    }
   ],
   "source": [
    ">>> 'quux' in ['foo', 'bar', 'baz', 'qux', 'quux', 'corge']"
   ]
  },
  {
   "cell_type": "code",
   "execution_count": 119,
   "id": "1e2d8d6c",
   "metadata": {},
   "outputs": [
    {
     "data": {
      "text/plain": [
       "['foo', 'bar', 'baz', 'qux', 'quux', 'corge']"
      ]
     },
     "execution_count": 119,
     "metadata": {},
     "output_type": "execute_result"
    }
   ],
   "source": [
    ">>> ['foo', 'bar', 'baz'] + ['qux', 'quux', 'corge']"
   ]
  },
  {
   "cell_type": "code",
   "execution_count": 120,
   "id": "abf80d27",
   "metadata": {},
   "outputs": [
    {
     "data": {
      "text/plain": [
       "6"
      ]
     },
     "execution_count": 120,
     "metadata": {},
     "output_type": "execute_result"
    }
   ],
   "source": [
    ">>> len(['foo', 'bar', 'baz', 'qux', 'quux', 'corge'][::-1])"
   ]
  },
  {
   "cell_type": "code",
   "execution_count": 121,
   "id": "7b94adc6",
   "metadata": {},
   "outputs": [],
   "source": [
    "## For that matter, you can do likewise with a string literal:"
   ]
  },
  {
   "cell_type": "code",
   "execution_count": 122,
   "id": "9364a2a6",
   "metadata": {},
   "outputs": [
    {
     "data": {
      "text/plain": [
       "'.thgir eb tsum ti ,ti syas noelopaN edarmoC fI'"
      ]
     },
     "execution_count": 122,
     "metadata": {},
     "output_type": "execute_result"
    }
   ],
   "source": [
    ">>> 'If Comrade Napoleon says it, it must be right.'[::-1]"
   ]
  },
  {
   "cell_type": "code",
   "execution_count": 123,
   "id": "c066d309",
   "metadata": {},
   "outputs": [],
   "source": [
    "# Lists Can Be Nested\n",
    "## You have seen that an element in a list can be any sort of object. That includes another list. A list can contain sublists, which in turn can contain sublists themselves, and so on to arbitrary depth.\n",
    "\n",
    "## Consider this (admittedly contrived) example:"
   ]
  },
  {
   "cell_type": "code",
   "execution_count": 124,
   "id": "ade0732d",
   "metadata": {},
   "outputs": [],
   "source": [
    ">>> x = ['a', ['bb', ['ccc', 'ddd'], 'ee', 'ff'], 'g', ['hh', 'ii'], 'j']"
   ]
  },
  {
   "cell_type": "code",
   "execution_count": 125,
   "id": "51791dfb",
   "metadata": {},
   "outputs": [
    {
     "data": {
      "text/plain": [
       "['a', ['bb', ['ccc', 'ddd'], 'ee', 'ff'], 'g', ['hh', 'ii'], 'j']"
      ]
     },
     "execution_count": 125,
     "metadata": {},
     "output_type": "execute_result"
    }
   ],
   "source": [
    ">>> x"
   ]
  },
  {
   "cell_type": "code",
   "execution_count": 128,
   "id": "f560b3da",
   "metadata": {},
   "outputs": [],
   "source": [
    "## x[0], x[2], and x[4] are strings, each one character long:"
   ]
  },
  {
   "cell_type": "code",
   "execution_count": 126,
   "id": "9b835a89",
   "metadata": {},
   "outputs": [
    {
     "name": "stdout",
     "output_type": "stream",
     "text": [
      "a g j\n"
     ]
    }
   ],
   "source": [
    ">>> print(x[0], x[2], x[4])"
   ]
  },
  {
   "cell_type": "code",
   "execution_count": 127,
   "id": "cf6654dc",
   "metadata": {},
   "outputs": [],
   "source": [
    "## But x[1] and x[3] are sublists"
   ]
  },
  {
   "cell_type": "code",
   "execution_count": 129,
   "id": "02737f8c",
   "metadata": {},
   "outputs": [
    {
     "data": {
      "text/plain": [
       "['bb', ['ccc', 'ddd'], 'ee', 'ff']"
      ]
     },
     "execution_count": 129,
     "metadata": {},
     "output_type": "execute_result"
    }
   ],
   "source": [
    ">>> x[1]"
   ]
  },
  {
   "cell_type": "code",
   "execution_count": 130,
   "id": "d306aafc",
   "metadata": {},
   "outputs": [
    {
     "data": {
      "text/plain": [
       "['hh', 'ii']"
      ]
     },
     "execution_count": 130,
     "metadata": {},
     "output_type": "execute_result"
    }
   ],
   "source": [
    ">>> x[3]"
   ]
  },
  {
   "cell_type": "code",
   "execution_count": null,
   "id": "db8d4354",
   "metadata": {},
   "outputs": [],
   "source": [
    "## To access the items in a sublist, simply append an additional index:"
   ]
  },
  {
   "cell_type": "code",
   "execution_count": 131,
   "id": "1f3a7415",
   "metadata": {},
   "outputs": [
    {
     "data": {
      "text/plain": [
       "['bb', ['ccc', 'ddd'], 'ee', 'ff']"
      ]
     },
     "execution_count": 131,
     "metadata": {},
     "output_type": "execute_result"
    }
   ],
   "source": [
    ">>> x[1]"
   ]
  },
  {
   "cell_type": "code",
   "execution_count": 132,
   "id": "7c56ebb1",
   "metadata": {},
   "outputs": [
    {
     "data": {
      "text/plain": [
       "'bb'"
      ]
     },
     "execution_count": 132,
     "metadata": {},
     "output_type": "execute_result"
    }
   ],
   "source": [
    ">>> x[1][0]"
   ]
  },
  {
   "cell_type": "code",
   "execution_count": 133,
   "id": "33cd63bb",
   "metadata": {},
   "outputs": [
    {
     "data": {
      "text/plain": [
       "['ccc', 'ddd']"
      ]
     },
     "execution_count": 133,
     "metadata": {},
     "output_type": "execute_result"
    }
   ],
   "source": [
    ">>> x[1][1]"
   ]
  },
  {
   "cell_type": "code",
   "execution_count": 134,
   "id": "31b79824",
   "metadata": {},
   "outputs": [
    {
     "data": {
      "text/plain": [
       "'ee'"
      ]
     },
     "execution_count": 134,
     "metadata": {},
     "output_type": "execute_result"
    }
   ],
   "source": [
    ">>> x[1][2]"
   ]
  },
  {
   "cell_type": "code",
   "execution_count": 135,
   "id": "b1317fd6",
   "metadata": {},
   "outputs": [
    {
     "data": {
      "text/plain": [
       "'ff'"
      ]
     },
     "execution_count": 135,
     "metadata": {},
     "output_type": "execute_result"
    }
   ],
   "source": [
    ">>> x[1][3]"
   ]
  },
  {
   "cell_type": "code",
   "execution_count": 136,
   "id": "1a3f1e4e",
   "metadata": {},
   "outputs": [
    {
     "data": {
      "text/plain": [
       "['hh', 'ii']"
      ]
     },
     "execution_count": 136,
     "metadata": {},
     "output_type": "execute_result"
    }
   ],
   "source": [
    ">>> x[3]"
   ]
  },
  {
   "cell_type": "code",
   "execution_count": 137,
   "id": "a8225456",
   "metadata": {},
   "outputs": [
    {
     "name": "stdout",
     "output_type": "stream",
     "text": [
      "hh ii\n"
     ]
    }
   ],
   "source": [
    ">>> print(x[3][0], x[3][1])"
   ]
  },
  {
   "cell_type": "code",
   "execution_count": 140,
   "id": "16becb13",
   "metadata": {},
   "outputs": [],
   "source": [
    "## x[1][1] is yet another sublist, so adding one more index accesses its elements:"
   ]
  },
  {
   "cell_type": "code",
   "execution_count": 141,
   "id": "742e681d",
   "metadata": {},
   "outputs": [
    {
     "data": {
      "text/plain": [
       "['ccc', 'ddd']"
      ]
     },
     "execution_count": 141,
     "metadata": {},
     "output_type": "execute_result"
    }
   ],
   "source": [
    ">>> x[1][1]"
   ]
  },
  {
   "cell_type": "code",
   "execution_count": 139,
   "id": "aba3760f",
   "metadata": {},
   "outputs": [
    {
     "name": "stdout",
     "output_type": "stream",
     "text": [
      "ccc ddd\n"
     ]
    }
   ],
   "source": [
    ">>> print(x[1][1][0], x[1][1][1])"
   ]
  },
  {
   "cell_type": "code",
   "execution_count": null,
   "id": "c1e15e15",
   "metadata": {},
   "outputs": [],
   "source": [
    "## There is no limit, short of the extent of your computer’s memory, to the depth or complexity with which lists can be nested in this way.\n",
    "\n",
    "## All the usual syntax regarding indices and slicing applies to sublists as well:"
   ]
  },
  {
   "cell_type": "code",
   "execution_count": null,
   "id": "37e7a5b8",
   "metadata": {},
   "outputs": [],
   "source": []
  },
  {
   "cell_type": "code",
   "execution_count": null,
   "id": "e4a44ce8",
   "metadata": {},
   "outputs": [],
   "source": []
  },
  {
   "cell_type": "code",
   "execution_count": null,
   "id": "0c822eb1",
   "metadata": {},
   "outputs": [],
   "source": []
  },
  {
   "cell_type": "code",
   "execution_count": null,
   "id": "04cbb608",
   "metadata": {},
   "outputs": [],
   "source": []
  },
  {
   "cell_type": "code",
   "execution_count": null,
   "id": "4e72078d",
   "metadata": {},
   "outputs": [],
   "source": []
  },
  {
   "cell_type": "code",
   "execution_count": null,
   "id": "a2c42d5e",
   "metadata": {},
   "outputs": [],
   "source": []
  },
  {
   "cell_type": "code",
   "execution_count": null,
   "id": "8d60d270",
   "metadata": {},
   "outputs": [],
   "source": []
  },
  {
   "cell_type": "code",
   "execution_count": null,
   "id": "053ac757",
   "metadata": {},
   "outputs": [],
   "source": []
  },
  {
   "cell_type": "code",
   "execution_count": null,
   "id": "ceb414fd",
   "metadata": {},
   "outputs": [],
   "source": []
  },
  {
   "cell_type": "code",
   "execution_count": null,
   "id": "4ebd0ad9",
   "metadata": {},
   "outputs": [],
   "source": []
  },
  {
   "cell_type": "code",
   "execution_count": null,
   "id": "aafea778",
   "metadata": {},
   "outputs": [],
   "source": []
  },
  {
   "cell_type": "code",
   "execution_count": null,
   "id": "48c6a802",
   "metadata": {},
   "outputs": [],
   "source": []
  },
  {
   "cell_type": "code",
   "execution_count": null,
   "id": "e353039e",
   "metadata": {},
   "outputs": [],
   "source": []
  },
  {
   "cell_type": "code",
   "execution_count": null,
   "id": "89955064",
   "metadata": {},
   "outputs": [],
   "source": []
  },
  {
   "cell_type": "code",
   "execution_count": null,
   "id": "c4b61cdb",
   "metadata": {},
   "outputs": [],
   "source": []
  },
  {
   "cell_type": "code",
   "execution_count": null,
   "id": "4d3a10cd",
   "metadata": {},
   "outputs": [],
   "source": []
  }
 ],
 "metadata": {
  "kernelspec": {
   "display_name": "Python 3 (ipykernel)",
   "language": "python",
   "name": "python3"
  },
  "language_info": {
   "codemirror_mode": {
    "name": "ipython",
    "version": 3
   },
   "file_extension": ".py",
   "mimetype": "text/x-python",
   "name": "python",
   "nbconvert_exporter": "python",
   "pygments_lexer": "ipython3",
   "version": "3.8.15"
  },
  "vscode": {
   "interpreter": {
    "hash": "6ad95572a1c15de1d0b8eca79c7b9cd5028505873e2c71ff56ffc4343ef0b428"
   }
  }
 },
 "nbformat": 4,
 "nbformat_minor": 5
}
