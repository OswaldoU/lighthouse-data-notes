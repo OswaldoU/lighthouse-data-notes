{
 "cells": [
  {
   "cell_type": "code",
   "execution_count": 1,
   "id": "015642e8-de5c-4b93-9b03-8a3a80d32748",
   "metadata": {},
   "outputs": [],
   "source": [
    "# XML tutorial\n",
    "\n",
    "## In this activity, we will improve our skills in working with XML files.\n",
    "\n",
    "## Everything about XML in Python is done with package xml. Let's import it at the beginning of the notebook."
   ]
  },
  {
   "cell_type": "code",
   "execution_count": 2,
   "id": "ced0c944-f9fe-4dea-88a6-7954cd51fd67",
   "metadata": {},
   "outputs": [],
   "source": [
    "import xml.etree.ElementTree as ET"
   ]
  },
  {
   "cell_type": "code",
   "execution_count": 3,
   "id": "be7e70ce-df76-4e93-ad50-e9f889fc3475",
   "metadata": {},
   "outputs": [],
   "source": [
    "## Let's load and parse the data into Python"
   ]
  },
  {
   "cell_type": "code",
   "execution_count": 4,
   "id": "f190ea16-4a37-4ba1-bce6-ab51a13ed8f9",
   "metadata": {},
   "outputs": [],
   "source": [
    "tree = ET.parse('data.xml')"
   ]
  },
  {
   "cell_type": "code",
   "execution_count": 5,
   "id": "9365e738-c3f5-479b-95ea-c0ccb588b3e6",
   "metadata": {},
   "outputs": [
    {
     "name": "stdout",
     "output_type": "stream",
     "text": [
      "<class 'xml.etree.ElementTree.ElementTree'>\n"
     ]
    }
   ],
   "source": [
    "## We can see that object tree has a special type.\n",
    "\n",
    "print(type(tree))\n"
   ]
  },
  {
   "cell_type": "code",
   "execution_count": 6,
   "id": "866d50e1-b5a7-41ef-b66c-0170609ce3c5",
   "metadata": {},
   "outputs": [
    {
     "data": {
      "text/plain": [
       "<Element 'data' at 0x105eecf40>"
      ]
     },
     "execution_count": 6,
     "metadata": {},
     "output_type": "execute_result"
    }
   ],
   "source": [
    "## To get the main (root) tag of the file, we can call function getroot().\n",
    "\n",
    "root = tree.getroot()\n",
    "root"
   ]
  },
  {
   "cell_type": "code",
   "execution_count": 7,
   "id": "b7b2a8bd-5386-485e-b697-ae2ea812381a",
   "metadata": {},
   "outputs": [
    {
     "name": "stdout",
     "output_type": "stream",
     "text": [
      "data\n",
      "{}\n",
      "3\n"
     ]
    }
   ],
   "source": [
    "## Now, root represents the top element of the file. We can check its tag and `attributes.\n",
    "\n",
    "print(root.tag)\n",
    "print(root.attrib)\n",
    "print(len(root))\n"
   ]
  },
  {
   "cell_type": "code",
   "execution_count": 8,
   "id": "30a7446e-86fb-4394-bad5-7e55fd535daf",
   "metadata": {},
   "outputs": [],
   "source": [
    "## We can see that the length of this element is 3. This means that it has 3 children. We can access these children the same way as elements in a list."
   ]
  },
  {
   "cell_type": "code",
   "execution_count": 10,
   "id": "e7e7be20-4a6a-4a94-a2d4-16e32d4963cc",
   "metadata": {},
   "outputs": [
    {
     "name": "stdout",
     "output_type": "stream",
     "text": [
      "rank\n",
      "1\n",
      "{'name': 'Switzerland', 'direction': 'W'}\n"
     ]
    }
   ],
   "source": [
    "# First child of the root\n",
    "country1 = root[0]\n",
    "\n",
    "# First child of the child\n",
    "rank = country1[0]\n",
    "\n",
    "# What is the tag of the grandchild\n",
    "print(rank.tag)\n",
    "\n",
    "# What is the text inside this grandchild\n",
    "print(rank.text)\n",
    "\n",
    "# What are the attributes of last element?\n",
    "print(country1[4].attrib)"
   ]
  },
  {
   "cell_type": "code",
   "execution_count": 11,
   "id": "018b7847-1cd3-4fba-82d1-f659265600f3",
   "metadata": {},
   "outputs": [],
   "source": [
    "## To extract the information from all children we need to iterate through the file. We have a couple of options"
   ]
  },
  {
   "cell_type": "code",
   "execution_count": 12,
   "id": "1f1f8cf0-fd62-46d6-bad9-06b94bbbcd71",
   "metadata": {},
   "outputs": [
    {
     "name": "stdout",
     "output_type": "stream",
     "text": [
      "Liechtenstein 1\n",
      "Singapore 4\n",
      "Panama 68\n"
     ]
    }
   ],
   "source": [
    "# Find all child with tag country\n",
    "for country in root.findall('country'):\n",
    "    \n",
    "    # rank is child of the country\n",
    "    rank = country.find('rank').text\n",
    "    \n",
    "    # name is attribute of the country\n",
    "    name = country.get('name')\n",
    "    print(name, rank)"
   ]
  },
  {
   "cell_type": "code",
   "execution_count": 13,
   "id": "fbdeec0d-a6f6-4c07-8f6d-8011cde21c37",
   "metadata": {},
   "outputs": [
    {
     "name": "stdout",
     "output_type": "stream",
     "text": [
      "{'name': 'Austria', 'direction': 'E'}\n",
      "{'name': 'Switzerland', 'direction': 'W'}\n",
      "{'name': 'Malaysia', 'direction': 'N'}\n",
      "{'name': 'Costa Rica', 'direction': 'W'}\n",
      "{'name': 'Colombia', 'direction': 'E'}\n"
     ]
    }
   ],
   "source": [
    "## We can also look for grandchildren directly if we know their tag:\n",
    "\n",
    "for neighbor in root.iter('neighbor'):\n",
    "    print(neighbor.attrib)"
   ]
  },
  {
   "cell_type": "code",
   "execution_count": 14,
   "id": "f20586eb-42d2-400f-b279-04caf734bb6d",
   "metadata": {},
   "outputs": [],
   "source": [
    "## Here are some tips and tricks on how to work with root.findall():\n",
    "\n"
   ]
  },
  {
   "cell_type": "code",
   "execution_count": 15,
   "id": "260309f5-545d-4192-ad63-aac83f39510b",
   "metadata": {},
   "outputs": [
    {
     "data": {
      "text/plain": [
       "[<Element 'neighbor' at 0x105fca720>, <Element 'neighbor' at 0x105fcaa90>]"
      ]
     },
     "execution_count": 15,
     "metadata": {},
     "output_type": "execute_result"
    }
   ],
   "source": [
    "# Top-level elements\n",
    "root.findall(\".\")\n",
    "\n",
    "# All 'neighbor' grand-children of 'country' children of the top-level elements\n",
    "root.findall(\"./country/neighbor\")\n",
    "\n",
    "# elements with name='Singapore' that have a 'year' child\n",
    "root.findall(\".//year/..[@name='Singapore']\")\n",
    "\n",
    "# 'year' elements that are children of elements with name='Singapore'\n",
    "root.findall(\".//*[@name='Singapore']/year\")\n",
    "\n",
    "# All 'neighbor' elements that are the second child of their parent\n",
    "root.findall(\".//neighbor[2]\")"
   ]
  },
  {
   "cell_type": "code",
   "execution_count": 16,
   "id": "e1e8b41d-0972-4750-b529-eefaec440e17",
   "metadata": {},
   "outputs": [],
   "source": [
    "## Extract the name, rank, year and gdppc from the countries and create a Pandas DataFrame. Try to do it alone before checking the solution here."
   ]
  },
  {
   "cell_type": "code",
   "execution_count": 17,
   "id": "952f5050-e7ba-434d-93e7-aba05fee4016",
   "metadata": {},
   "outputs": [
    {
     "data": {
      "text/html": [
       "<div>\n",
       "<style scoped>\n",
       "    .dataframe tbody tr th:only-of-type {\n",
       "        vertical-align: middle;\n",
       "    }\n",
       "\n",
       "    .dataframe tbody tr th {\n",
       "        vertical-align: top;\n",
       "    }\n",
       "\n",
       "    .dataframe thead th {\n",
       "        text-align: right;\n",
       "    }\n",
       "</style>\n",
       "<table border=\"1\" class=\"dataframe\">\n",
       "  <thead>\n",
       "    <tr style=\"text-align: right;\">\n",
       "      <th></th>\n",
       "      <th>name</th>\n",
       "      <th>rank</th>\n",
       "      <th>year</th>\n",
       "      <th>gdppc</th>\n",
       "    </tr>\n",
       "  </thead>\n",
       "  <tbody>\n",
       "    <tr>\n",
       "      <th>0</th>\n",
       "      <td>Liechtenstein</td>\n",
       "      <td>1</td>\n",
       "      <td>2008</td>\n",
       "      <td>141100</td>\n",
       "    </tr>\n",
       "    <tr>\n",
       "      <th>1</th>\n",
       "      <td>Singapore</td>\n",
       "      <td>4</td>\n",
       "      <td>2011</td>\n",
       "      <td>59900</td>\n",
       "    </tr>\n",
       "    <tr>\n",
       "      <th>2</th>\n",
       "      <td>Panama</td>\n",
       "      <td>68</td>\n",
       "      <td>2011</td>\n",
       "      <td>13600</td>\n",
       "    </tr>\n",
       "  </tbody>\n",
       "</table>\n",
       "</div>"
      ],
      "text/plain": [
       "            name rank  year   gdppc\n",
       "0  Liechtenstein    1  2008  141100\n",
       "1      Singapore    4  2011   59900\n",
       "2         Panama   68  2011   13600"
      ]
     },
     "execution_count": 17,
     "metadata": {},
     "output_type": "execute_result"
    }
   ],
   "source": [
    "import xml.etree.ElementTree as ET\n",
    "import pandas as pd\n",
    "\n",
    "tree = ET.parse('data.xml')  # Load from file\n",
    "root = tree.getroot()\n",
    "\n",
    "my_dict = {'name': [],\n",
    "           'rank': [],\n",
    "           'year': [],\n",
    "           'gdppc': []}\n",
    "\n",
    "\n",
    "for country in root:\n",
    "    name_value = country.attrib['name']\n",
    "    my_dict['name'].append(name_value)\n",
    "\n",
    "    rank_value = country[0].text\n",
    "    my_dict['rank'].append(rank_value)\n",
    "\n",
    "    year_value = country[1].text\n",
    "    my_dict['year'].append(year_value)\n",
    "\n",
    "    gdppc_value = country[2].text\n",
    "    my_dict['gdppc'].append(gdppc_value)\n",
    "\n",
    "df = pd.DataFrame(my_dict) \n",
    "df"
   ]
  },
  {
   "cell_type": "code",
   "execution_count": 18,
   "id": "b3bc86f8-57b7-4ee4-8fa7-caafc9655d64",
   "metadata": {},
   "outputs": [],
   "source": [
    "## Because all children of the root are countries therefore for country in root: equals for country in root.findall('country'):."
   ]
  },
  {
   "cell_type": "code",
   "execution_count": null,
   "id": "e2f0eee1-4842-434f-8d68-8f923210d0d8",
   "metadata": {},
   "outputs": [],
   "source": []
  }
 ],
 "metadata": {
  "kernelspec": {
   "display_name": "THE_ONE",
   "language": "python",
   "name": "the_one"
  },
  "language_info": {
   "codemirror_mode": {
    "name": "ipython",
    "version": 3
   },
   "file_extension": ".py",
   "mimetype": "text/x-python",
   "name": "python",
   "nbconvert_exporter": "python",
   "pygments_lexer": "ipython3",
   "version": "3.8.15"
  }
 },
 "nbformat": 4,
 "nbformat_minor": 5
}
