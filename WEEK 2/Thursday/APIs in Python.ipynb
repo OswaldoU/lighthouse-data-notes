{
 "cells": [
  {
   "cell_type": "code",
   "execution_count": 2,
   "id": "5fd8aa06-85e7-4a85-aa60-d19a4df46919",
   "metadata": {},
   "outputs": [],
   "source": [
    "import os \n",
    "import requests"
   ]
  },
  {
   "cell_type": "code",
   "execution_count": 5,
   "id": "5805917b-3e5c-41f3-a27c-304014d32488",
   "metadata": {},
   "outputs": [
    {
     "ename": "KeyError",
     "evalue": "'fsq38QkqCGqhDydLomOOSBePPwNAIhaeujaT2BVAYCMReW8='",
     "output_type": "error",
     "traceback": [
      "\u001b[0;31m---------------------------------------------------------------------------\u001b[0m",
      "\u001b[0;31mKeyError\u001b[0m                                  Traceback (most recent call last)",
      "Cell \u001b[0;32mIn [5], line 1\u001b[0m\n\u001b[0;32m----> 1\u001b[0m api_key \u001b[38;5;241m=\u001b[39m \u001b[43mos\u001b[49m\u001b[38;5;241;43m.\u001b[39;49m\u001b[43menviron\u001b[49m\u001b[43m[\u001b[49m\u001b[38;5;124;43m\"\u001b[39;49m\u001b[38;5;124;43mfsq38QkqCGqhDydLomOOSBePPwNAIhaeujaT2BVAYCMReW8=\u001b[39;49m\u001b[38;5;124;43m\"\u001b[39;49m\u001b[43m]\u001b[49m\n\u001b[1;32m      2\u001b[0m \u001b[38;5;66;03m# os.environ loads the dictionary with environment variables where os.environ.keys() are all variable names\u001b[39;00m\n",
      "File \u001b[0;32m/opt/homebrew/Caskroom/miniforge/base/envs/THE_ONE/lib/python3.8/os.py:675\u001b[0m, in \u001b[0;36m_Environ.__getitem__\u001b[0;34m(self, key)\u001b[0m\n\u001b[1;32m    672\u001b[0m     value \u001b[38;5;241m=\u001b[39m \u001b[38;5;28mself\u001b[39m\u001b[38;5;241m.\u001b[39m_data[\u001b[38;5;28mself\u001b[39m\u001b[38;5;241m.\u001b[39mencodekey(key)]\n\u001b[1;32m    673\u001b[0m \u001b[38;5;28;01mexcept\u001b[39;00m \u001b[38;5;167;01mKeyError\u001b[39;00m:\n\u001b[1;32m    674\u001b[0m     \u001b[38;5;66;03m# raise KeyError with the original key value\u001b[39;00m\n\u001b[0;32m--> 675\u001b[0m     \u001b[38;5;28;01mraise\u001b[39;00m \u001b[38;5;167;01mKeyError\u001b[39;00m(key) \u001b[38;5;28;01mfrom\u001b[39;00m \u001b[38;5;28mNone\u001b[39m\n\u001b[1;32m    676\u001b[0m \u001b[38;5;28;01mreturn\u001b[39;00m \u001b[38;5;28mself\u001b[39m\u001b[38;5;241m.\u001b[39mdecodevalue(value)\n",
      "\u001b[0;31mKeyError\u001b[0m: 'fsq38QkqCGqhDydLomOOSBePPwNAIhaeujaT2BVAYCMReW8='"
     ]
    }
   ],
   "source": [
    "api_key = os.environ[\"fsq38QkqCGqhDydLomOOSBePPwNAIhaeujaT2BVAYCMReW8=\"]\n",
    "# os.environ loads the dictionary with environment variables where os.environ.keys() are all variable names"
   ]
  },
  {
   "cell_type": "code",
   "execution_count": null,
   "id": "69c041bb-e305-410e-93f6-62a373ac6200",
   "metadata": {},
   "outputs": [],
   "source": []
  }
 ],
 "metadata": {
  "kernelspec": {
   "display_name": "THE_ONE",
   "language": "python",
   "name": "the_one"
  },
  "language_info": {
   "codemirror_mode": {
    "name": "ipython",
    "version": 3
   },
   "file_extension": ".py",
   "mimetype": "text/x-python",
   "name": "python",
   "nbconvert_exporter": "python",
   "pygments_lexer": "ipython3",
   "version": "3.8.15"
  }
 },
 "nbformat": 4,
 "nbformat_minor": 5
}
