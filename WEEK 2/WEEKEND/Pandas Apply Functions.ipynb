{
 "cells": [
  {
   "cell_type": "code",
   "execution_count": 1,
   "id": "b4e33449-d063-4345-b66d-01e3f4b85413",
   "metadata": {},
   "outputs": [],
   "source": [
    "### Pandas Apply Functions\n",
    "\n",
    "## Sometimes, pre-built Pandas functions are not enough, and therefore, it's important to know how to apply your own functions to Pandas objects. \n",
    "## In this activity, we will learn how to apply built-in functions, as well as our own Python functions, to Pandas objects in an efficient way."
   ]
  },
  {
   "cell_type": "code",
   "execution_count": 2,
   "id": "ba3b8a52-04e7-484f-93ae-758bf3abf148",
   "metadata": {},
   "outputs": [],
   "source": [
    "## To apply your own library's functions, or another library’s functions to Pandas objects, you should be aware of the methods below. \n",
    "## The appropriate method to use depends on whether your function expects to operate on an entire DataFrame or Series, or row- or column-wise.\n",
    "\n",
    "# - tablewise function application: pipe()\n",
    "# - row or column-wise function application: apply()"
   ]
  },
  {
   "cell_type": "code",
   "execution_count": 3,
   "id": "de0dd3b1-5da2-492e-83b2-2621fc2d7f54",
   "metadata": {},
   "outputs": [],
   "source": [
    "### Tablewise Function Application\n",
    "\n",
    "## DataFrames and Series can be passed into functions without any problems."
   ]
  },
  {
   "cell_type": "code",
   "execution_count": 4,
   "id": "caa8cd9a-4258-40ca-8414-e2f91f919bd7",
   "metadata": {},
   "outputs": [],
   "source": [
    "import pandas as pd \n",
    "import numpy as np"
   ]
  },
  {
   "cell_type": "code",
   "execution_count": 5,
   "id": "66db3e42-da5a-4830-a6db-184e87ef71e1",
   "metadata": {},
   "outputs": [],
   "source": [
    "def extract_city_name(df):\n",
    "   .....:     \"\"\"\n",
    "   .....:     Chicago, IL -> Chicago for city_name column\n",
    "   .....:     \"\"\"\n",
    "   .....:     df['city_name'] = df['city_and_code'].str.split(\",\").str.get(0)\n",
    "   .....:     return df"
   ]
  },
  {
   "cell_type": "code",
   "execution_count": 6,
   "id": "8b4234b2-d4ca-463e-8247-62284f8e1818",
   "metadata": {},
   "outputs": [],
   "source": [
    "def add_country_name(df, country_name=None):\n",
    "   .....:     \"\"\"\n",
    "   .....:     Chicago -> Chicago-US for city_name column\n",
    "   .....:     \"\"\"\n",
    "   .....:     col = 'city_name'\n",
    "   .....:     df['city_and_country'] = df[col] + country_name\n",
    "   .....:     return df"
   ]
  },
  {
   "cell_type": "code",
   "execution_count": 7,
   "id": "15fd19fa-8bcc-4f7b-a7d8-aa224b3bb927",
   "metadata": {},
   "outputs": [],
   "source": [
    " df_p = pd.DataFrame({'city_and_code': ['Chicago, IL']})"
   ]
  },
  {
   "cell_type": "code",
   "execution_count": 8,
   "id": "29ed235d-dee7-423d-aa32-2c1ed727d298",
   "metadata": {},
   "outputs": [
    {
     "data": {
      "text/html": [
       "<div>\n",
       "<style scoped>\n",
       "    .dataframe tbody tr th:only-of-type {\n",
       "        vertical-align: middle;\n",
       "    }\n",
       "\n",
       "    .dataframe tbody tr th {\n",
       "        vertical-align: top;\n",
       "    }\n",
       "\n",
       "    .dataframe thead th {\n",
       "        text-align: right;\n",
       "    }\n",
       "</style>\n",
       "<table border=\"1\" class=\"dataframe\">\n",
       "  <thead>\n",
       "    <tr style=\"text-align: right;\">\n",
       "      <th></th>\n",
       "      <th>city_and_code</th>\n",
       "      <th>city_name</th>\n",
       "      <th>city_and_country</th>\n",
       "    </tr>\n",
       "  </thead>\n",
       "  <tbody>\n",
       "    <tr>\n",
       "      <th>0</th>\n",
       "      <td>Chicago, IL</td>\n",
       "      <td>Chicago</td>\n",
       "      <td>ChicagoUS</td>\n",
       "    </tr>\n",
       "  </tbody>\n",
       "</table>\n",
       "</div>"
      ],
      "text/plain": [
       "  city_and_code city_name city_and_country\n",
       "0   Chicago, IL   Chicago        ChicagoUS"
      ]
     },
     "execution_count": 8,
     "metadata": {},
     "output_type": "execute_result"
    }
   ],
   "source": [
    "add_country_name(extract_city_name(df_p), country_name='US')"
   ]
  },
  {
   "cell_type": "code",
   "execution_count": 9,
   "id": "3ebf985d-718f-4b42-a830-c2fd8f65b058",
   "metadata": {},
   "outputs": [],
   "source": [
    "## Pandas encourages us to use pipe() for the problem above, which is known as 'method chaining'. pipe makes it easy to use your own or another library’s functions in method chains, alongside Pandas’ methods.\n",
    "## Compare the first approach with the following:"
   ]
  },
  {
   "cell_type": "code",
   "execution_count": 10,
   "id": "e4b87dad-92b0-4546-b9ec-bd73c876edf2",
   "metadata": {},
   "outputs": [
    {
     "data": {
      "text/html": [
       "<div>\n",
       "<style scoped>\n",
       "    .dataframe tbody tr th:only-of-type {\n",
       "        vertical-align: middle;\n",
       "    }\n",
       "\n",
       "    .dataframe tbody tr th {\n",
       "        vertical-align: top;\n",
       "    }\n",
       "\n",
       "    .dataframe thead th {\n",
       "        text-align: right;\n",
       "    }\n",
       "</style>\n",
       "<table border=\"1\" class=\"dataframe\">\n",
       "  <thead>\n",
       "    <tr style=\"text-align: right;\">\n",
       "      <th></th>\n",
       "      <th>city_and_code</th>\n",
       "      <th>city_name</th>\n",
       "      <th>city_and_country</th>\n",
       "    </tr>\n",
       "  </thead>\n",
       "  <tbody>\n",
       "    <tr>\n",
       "      <th>0</th>\n",
       "      <td>Chicago, IL</td>\n",
       "      <td>Chicago</td>\n",
       "      <td>ChicagoUS</td>\n",
       "    </tr>\n",
       "  </tbody>\n",
       "</table>\n",
       "</div>"
      ],
      "text/plain": [
       "  city_and_code city_name city_and_country\n",
       "0   Chicago, IL   Chicago        ChicagoUS"
      ]
     },
     "execution_count": 10,
     "metadata": {},
     "output_type": "execute_result"
    }
   ],
   "source": [
    "(df_p.pipe(extract_city_name)\n",
    "         .pipe(add_country_name, country_name=\"US\"))"
   ]
  },
  {
   "cell_type": "code",
   "execution_count": 11,
   "id": "422c6d45-674a-4d07-8c3a-b2e98f409605",
   "metadata": {},
   "outputs": [],
   "source": [
    "### Row or Column-wise Function Application\n",
    "\n",
    "\n",
    "## Arbitrary functions can be applied along the axes of a DataFrame using the apply() method, which, like the descriptive statistics methods, takes an optional axis argument."
   ]
  },
  {
   "cell_type": "code",
   "execution_count": 12,
   "id": "402bc21a-2870-48bf-b18f-1b79b70ec0fe",
   "metadata": {},
   "outputs": [],
   "source": [
    "df = pd.DataFrame({\n",
    "        'one': pd.Series(np.random.randn(3), index=['a', 'b', 'c']),\n",
    "        'two': pd.Series(np.random.randn(4), index=['a', 'b', 'c', 'd']),\n",
    "        'three': pd.Series(np.random.randn(3), index=['b', 'c', 'd'])})\n"
   ]
  },
  {
   "cell_type": "code",
   "execution_count": 14,
   "id": "199b15ac-767e-4199-8561-7d34d78a311a",
   "metadata": {},
   "outputs": [
    {
     "data": {
      "text/plain": [
       "one      0.021812\n",
       "two     -0.175322\n",
       "three   -0.738905\n",
       "dtype: float64"
      ]
     },
     "execution_count": 14,
     "metadata": {},
     "output_type": "execute_result"
    }
   ],
   "source": [
    "# pre-build numpy function\n",
    "df.apply(np.mean)"
   ]
  },
  {
   "cell_type": "code",
   "execution_count": 15,
   "id": "81d8a195-955f-4770-82b1-5aebd7f0d895",
   "metadata": {},
   "outputs": [
    {
     "data": {
      "text/plain": [
       "a    0.338741\n",
       "b   -0.151517\n",
       "c   -0.709838\n",
       "d   -0.472990\n",
       "dtype: float64"
      ]
     },
     "execution_count": 15,
     "metadata": {},
     "output_type": "execute_result"
    }
   ],
   "source": [
    "# pre-build numpy function\n",
    "df.apply(np.mean, axis=1)"
   ]
  },
  {
   "cell_type": "code",
   "execution_count": 16,
   "id": "b2987bbf-f7a1-4c56-9424-4b2fd28a4729",
   "metadata": {},
   "outputs": [
    {
     "data": {
      "text/plain": [
       "one      1.214512\n",
       "two      1.274279\n",
       "three    0.640069\n",
       "dtype: float64"
      ]
     },
     "execution_count": 16,
     "metadata": {},
     "output_type": "execute_result"
    }
   ],
   "source": [
    "# own lambda function\n",
    "df.apply(lambda x: x.max() - x.min())"
   ]
  },
  {
   "cell_type": "code",
   "execution_count": 17,
   "id": "f7835631-7505-40c2-a88a-e7eca44d211e",
   "metadata": {},
   "outputs": [
    {
     "data": {
      "text/html": [
       "<div>\n",
       "<style scoped>\n",
       "    .dataframe tbody tr th:only-of-type {\n",
       "        vertical-align: middle;\n",
       "    }\n",
       "\n",
       "    .dataframe tbody tr th {\n",
       "        vertical-align: top;\n",
       "    }\n",
       "\n",
       "    .dataframe thead th {\n",
       "        text-align: right;\n",
       "    }\n",
       "</style>\n",
       "<table border=\"1\" class=\"dataframe\">\n",
       "  <thead>\n",
       "    <tr style=\"text-align: right;\">\n",
       "      <th></th>\n",
       "      <th>one</th>\n",
       "      <th>two</th>\n",
       "      <th>three</th>\n",
       "    </tr>\n",
       "  </thead>\n",
       "  <tbody>\n",
       "    <tr>\n",
       "      <th>a</th>\n",
       "      <td>0.484569</td>\n",
       "      <td>0.192912</td>\n",
       "      <td>NaN</td>\n",
       "    </tr>\n",
       "    <tr>\n",
       "      <th>b</th>\n",
       "      <td>0.795379</td>\n",
       "      <td>0.395460</td>\n",
       "      <td>-0.967909</td>\n",
       "    </tr>\n",
       "    <tr>\n",
       "      <th>c</th>\n",
       "      <td>0.065437</td>\n",
       "      <td>-0.676272</td>\n",
       "      <td>-1.295749</td>\n",
       "    </tr>\n",
       "    <tr>\n",
       "      <th>d</th>\n",
       "      <td>NaN</td>\n",
       "      <td>-0.701287</td>\n",
       "      <td>-2.216715</td>\n",
       "    </tr>\n",
       "  </tbody>\n",
       "</table>\n",
       "</div>"
      ],
      "text/plain": [
       "        one       two     three\n",
       "a  0.484569  0.192912       NaN\n",
       "b  0.795379  0.395460 -0.967909\n",
       "c  0.065437 -0.676272 -1.295749\n",
       "d       NaN -0.701287 -2.216715"
      ]
     },
     "execution_count": 17,
     "metadata": {},
     "output_type": "execute_result"
    }
   ],
   "source": [
    "# pre-build numpy function\n",
    "df.apply(np.cumsum)"
   ]
  },
  {
   "cell_type": "code",
   "execution_count": 19,
   "id": "794c8b70-108d-4217-b19a-2ff67bdb6eda",
   "metadata": {},
   "outputs": [
    {
     "data": {
      "text/html": [
       "<div>\n",
       "<style scoped>\n",
       "    .dataframe tbody tr th:only-of-type {\n",
       "        vertical-align: middle;\n",
       "    }\n",
       "\n",
       "    .dataframe tbody tr th {\n",
       "        vertical-align: top;\n",
       "    }\n",
       "\n",
       "    .dataframe thead th {\n",
       "        text-align: right;\n",
       "    }\n",
       "</style>\n",
       "<table border=\"1\" class=\"dataframe\">\n",
       "  <thead>\n",
       "    <tr style=\"text-align: right;\">\n",
       "      <th></th>\n",
       "      <th>one</th>\n",
       "      <th>two</th>\n",
       "      <th>three</th>\n",
       "    </tr>\n",
       "  </thead>\n",
       "  <tbody>\n",
       "    <tr>\n",
       "      <th>a</th>\n",
       "      <td>1.623475</td>\n",
       "      <td>1.212776</td>\n",
       "      <td>NaN</td>\n",
       "    </tr>\n",
       "    <tr>\n",
       "      <th>b</th>\n",
       "      <td>1.364530</td>\n",
       "      <td>1.224518</td>\n",
       "      <td>0.379876</td>\n",
       "    </tr>\n",
       "    <tr>\n",
       "      <th>c</th>\n",
       "      <td>0.481937</td>\n",
       "      <td>0.342415</td>\n",
       "      <td>0.720478</td>\n",
       "    </tr>\n",
       "    <tr>\n",
       "      <th>d</th>\n",
       "      <td>NaN</td>\n",
       "      <td>0.975295</td>\n",
       "      <td>0.398134</td>\n",
       "    </tr>\n",
       "  </tbody>\n",
       "</table>\n",
       "</div>"
      ],
      "text/plain": [
       "        one       two     three\n",
       "a  1.623475  1.212776       NaN\n",
       "b  1.364530  1.224518  0.379876\n",
       "c  0.481937  0.342415  0.720478\n",
       "d       NaN  0.975295  0.398134"
      ]
     },
     "execution_count": 19,
     "metadata": {},
     "output_type": "execute_result"
    }
   ],
   "source": [
    "# pre-build numpy function\n",
    "df.apply(np.exp)"
   ]
  },
  {
   "cell_type": "code",
   "execution_count": 20,
   "id": "092e463f-3136-4eef-8ad4-e0502379a517",
   "metadata": {},
   "outputs": [],
   "source": [
    "## You can use apply() to apply your own function:"
   ]
  },
  {
   "cell_type": "code",
   "execution_count": 21,
   "id": "8ba0b2cf-4553-43c6-bfe9-7f46665bf208",
   "metadata": {},
   "outputs": [],
   "source": [
    "def own_function(x):\n",
    "    return x*x\n"
   ]
  },
  {
   "cell_type": "code",
   "execution_count": 22,
   "id": "320c464d-d93f-4bbb-bbe0-4e27459b071e",
   "metadata": {},
   "outputs": [
    {
     "data": {
      "text/html": [
       "<div>\n",
       "<style scoped>\n",
       "    .dataframe tbody tr th:only-of-type {\n",
       "        vertical-align: middle;\n",
       "    }\n",
       "\n",
       "    .dataframe tbody tr th {\n",
       "        vertical-align: top;\n",
       "    }\n",
       "\n",
       "    .dataframe thead th {\n",
       "        text-align: right;\n",
       "    }\n",
       "</style>\n",
       "<table border=\"1\" class=\"dataframe\">\n",
       "  <thead>\n",
       "    <tr style=\"text-align: right;\">\n",
       "      <th></th>\n",
       "      <th>one</th>\n",
       "      <th>two</th>\n",
       "      <th>three</th>\n",
       "    </tr>\n",
       "  </thead>\n",
       "  <tbody>\n",
       "    <tr>\n",
       "      <th>a</th>\n",
       "      <td>0.234807</td>\n",
       "      <td>0.037215</td>\n",
       "      <td>NaN</td>\n",
       "    </tr>\n",
       "    <tr>\n",
       "      <th>b</th>\n",
       "      <td>0.096603</td>\n",
       "      <td>0.041026</td>\n",
       "      <td>0.936849</td>\n",
       "    </tr>\n",
       "    <tr>\n",
       "      <th>c</th>\n",
       "      <td>0.532816</td>\n",
       "      <td>1.148609</td>\n",
       "      <td>0.107479</td>\n",
       "    </tr>\n",
       "    <tr>\n",
       "      <th>d</th>\n",
       "      <td>NaN</td>\n",
       "      <td>0.000626</td>\n",
       "      <td>0.848178</td>\n",
       "    </tr>\n",
       "  </tbody>\n",
       "</table>\n",
       "</div>"
      ],
      "text/plain": [
       "        one       two     three\n",
       "a  0.234807  0.037215       NaN\n",
       "b  0.096603  0.041026  0.936849\n",
       "c  0.532816  1.148609  0.107479\n",
       "d       NaN  0.000626  0.848178"
      ]
     },
     "execution_count": 22,
     "metadata": {},
     "output_type": "execute_result"
    }
   ],
   "source": [
    "df.apply(own_function)"
   ]
  },
  {
   "cell_type": "code",
   "execution_count": 23,
   "id": "c0a875bb-1e31-480c-964e-1363627f8854",
   "metadata": {},
   "outputs": [],
   "source": [
    "## You may also pass additional arguments and keyword arguments to the apply() method. For instance, consider the following function you would like to apply:"
   ]
  },
  {
   "cell_type": "code",
   "execution_count": 24,
   "id": "6434967e-2738-4931-bed8-37bed94e8f0a",
   "metadata": {},
   "outputs": [],
   "source": [
    "def subtract_and_divide(x, sub, divide=1):\n",
    "    return (x - sub) / divide"
   ]
  },
  {
   "cell_type": "code",
   "execution_count": 26,
   "id": "b3552036-0412-44c2-a0c1-e37cb72697ed",
   "metadata": {},
   "outputs": [],
   "source": [
    "## You may then apply this function as follows:"
   ]
  },
  {
   "cell_type": "code",
   "execution_count": 27,
   "id": "c0aebbe7-74c2-4257-85d4-6e2ed7b59fe3",
   "metadata": {},
   "outputs": [
    {
     "data": {
      "text/html": [
       "<div>\n",
       "<style scoped>\n",
       "    .dataframe tbody tr th:only-of-type {\n",
       "        vertical-align: middle;\n",
       "    }\n",
       "\n",
       "    .dataframe tbody tr th {\n",
       "        vertical-align: top;\n",
       "    }\n",
       "\n",
       "    .dataframe thead th {\n",
       "        text-align: right;\n",
       "    }\n",
       "</style>\n",
       "<table border=\"1\" class=\"dataframe\">\n",
       "  <thead>\n",
       "    <tr style=\"text-align: right;\">\n",
       "      <th></th>\n",
       "      <th>one</th>\n",
       "      <th>two</th>\n",
       "      <th>three</th>\n",
       "    </tr>\n",
       "  </thead>\n",
       "  <tbody>\n",
       "    <tr>\n",
       "      <th>a</th>\n",
       "      <td>-1.505144</td>\n",
       "      <td>-1.602363</td>\n",
       "      <td>NaN</td>\n",
       "    </tr>\n",
       "    <tr>\n",
       "      <th>b</th>\n",
       "      <td>-1.563063</td>\n",
       "      <td>-1.599151</td>\n",
       "      <td>-1.989303</td>\n",
       "    </tr>\n",
       "    <tr>\n",
       "      <th>c</th>\n",
       "      <td>-1.909981</td>\n",
       "      <td>-2.023911</td>\n",
       "      <td>-1.775947</td>\n",
       "    </tr>\n",
       "    <tr>\n",
       "      <th>d</th>\n",
       "      <td>NaN</td>\n",
       "      <td>-1.675005</td>\n",
       "      <td>-1.973655</td>\n",
       "    </tr>\n",
       "  </tbody>\n",
       "</table>\n",
       "</div>"
      ],
      "text/plain": [
       "        one       two     three\n",
       "a -1.505144 -1.602363       NaN\n",
       "b -1.563063 -1.599151 -1.989303\n",
       "c -1.909981 -2.023911 -1.775947\n",
       "d       NaN -1.675005 -1.973655"
      ]
     },
     "execution_count": 27,
     "metadata": {},
     "output_type": "execute_result"
    }
   ],
   "source": [
    "df.apply(subtract_and_divide, args=(5,3))"
   ]
  },
  {
   "cell_type": "code",
   "execution_count": 28,
   "id": "7a575a03-a680-47db-b587-8b37370d586a",
   "metadata": {},
   "outputs": [],
   "source": [
    "## args has to be iterable. Therefore, even if you pass only 1 argument, you have to pass it as a tuple: args=(5,)"
   ]
  },
  {
   "cell_type": "code",
   "execution_count": 29,
   "id": "c18fa30c-0822-40f7-a605-4aeb1b226443",
   "metadata": {},
   "outputs": [],
   "source": [
    "def subtract(x, sub):\n",
    "    return (x - sub)"
   ]
  },
  {
   "cell_type": "code",
   "execution_count": 30,
   "id": "935cb579-671e-47cf-8911-6898eee5cde2",
   "metadata": {},
   "outputs": [
    {
     "data": {
      "text/html": [
       "<div>\n",
       "<style scoped>\n",
       "    .dataframe tbody tr th:only-of-type {\n",
       "        vertical-align: middle;\n",
       "    }\n",
       "\n",
       "    .dataframe tbody tr th {\n",
       "        vertical-align: top;\n",
       "    }\n",
       "\n",
       "    .dataframe thead th {\n",
       "        text-align: right;\n",
       "    }\n",
       "</style>\n",
       "<table border=\"1\" class=\"dataframe\">\n",
       "  <thead>\n",
       "    <tr style=\"text-align: right;\">\n",
       "      <th></th>\n",
       "      <th>one</th>\n",
       "      <th>two</th>\n",
       "      <th>three</th>\n",
       "    </tr>\n",
       "  </thead>\n",
       "  <tbody>\n",
       "    <tr>\n",
       "      <th>a</th>\n",
       "      <td>-4.515431</td>\n",
       "      <td>-4.807088</td>\n",
       "      <td>NaN</td>\n",
       "    </tr>\n",
       "    <tr>\n",
       "      <th>b</th>\n",
       "      <td>-4.689190</td>\n",
       "      <td>-4.797452</td>\n",
       "      <td>-5.967909</td>\n",
       "    </tr>\n",
       "    <tr>\n",
       "      <th>c</th>\n",
       "      <td>-5.729943</td>\n",
       "      <td>-6.071732</td>\n",
       "      <td>-5.327840</td>\n",
       "    </tr>\n",
       "    <tr>\n",
       "      <th>d</th>\n",
       "      <td>NaN</td>\n",
       "      <td>-5.025015</td>\n",
       "      <td>-5.920966</td>\n",
       "    </tr>\n",
       "  </tbody>\n",
       "</table>\n",
       "</div>"
      ],
      "text/plain": [
       "        one       two     three\n",
       "a -4.515431 -4.807088       NaN\n",
       "b -4.689190 -4.797452 -5.967909\n",
       "c -5.729943 -6.071732 -5.327840\n",
       "d       NaN -5.025015 -5.920966"
      ]
     },
     "execution_count": 30,
     "metadata": {},
     "output_type": "execute_result"
    }
   ],
   "source": [
    "df.apply(subtract, args=(5,))"
   ]
  },
  {
   "cell_type": "code",
   "execution_count": 31,
   "id": "334fe279-2588-4491-b1f8-5ad68df961bd",
   "metadata": {},
   "outputs": [
    {
     "data": {
      "text/plain": [
       "False"
      ]
     },
     "execution_count": 31,
     "metadata": {},
     "output_type": "execute_result"
    }
   ],
   "source": [
    "np.nan == np.nan"
   ]
  },
  {
   "cell_type": "code",
   "execution_count": null,
   "id": "de62a8fd-a233-4985-9035-86d1ece92f4e",
   "metadata": {},
   "outputs": [],
   "source": []
  }
 ],
 "metadata": {
  "kernelspec": {
   "display_name": "THE_ONE",
   "language": "python",
   "name": "the_one"
  },
  "language_info": {
   "codemirror_mode": {
    "name": "ipython",
    "version": 3
   },
   "file_extension": ".py",
   "mimetype": "text/x-python",
   "name": "python",
   "nbconvert_exporter": "python",
   "pygments_lexer": "ipython3",
   "version": "3.8.15"
  }
 },
 "nbformat": 4,
 "nbformat_minor": 5
}
