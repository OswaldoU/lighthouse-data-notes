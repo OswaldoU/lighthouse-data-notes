{
 "cells": [
  {
   "cell_type": "code",
   "execution_count": 1,
   "id": "c1050f70-7607-4307-9a0b-01d1e4a04f16",
   "metadata": {},
   "outputs": [],
   "source": [
    "## Merge\n",
    "\n",
    "\n",
    "## Pandas provides various facilities for easily combining Series and DataFrame objects with various kinds of set logic for the indexes and relational algebra functionality in the case of join / merge-type operations.\n",
    "\n",
    "## Concatenating Pandas objects together with concat() (equivalent to UNION in SQL):"
   ]
  },
  {
   "cell_type": "code",
   "execution_count": 2,
   "id": "6d27c407-995e-4831-8e0e-b0f47ae19af0",
   "metadata": {},
   "outputs": [],
   "source": [
    "import pandas as pd "
   ]
  },
  {
   "cell_type": "code",
   "execution_count": 3,
   "id": "4b11d178-0719-4e35-9391-eac60d261cf6",
   "metadata": {},
   "outputs": [],
   "source": [
    "import numpy as np"
   ]
  },
  {
   "cell_type": "code",
   "execution_count": 4,
   "id": "6989df1b-5f19-4aa7-8250-6d1ae4b85c80",
   "metadata": {},
   "outputs": [],
   "source": [
    "df = pd.DataFrame(np.random.randn(10, 4))"
   ]
  },
  {
   "cell_type": "code",
   "execution_count": 5,
   "id": "01141f94-2a9f-4ab5-b448-16aa2ec7dbe9",
   "metadata": {},
   "outputs": [
    {
     "data": {
      "text/html": [
       "<div>\n",
       "<style scoped>\n",
       "    .dataframe tbody tr th:only-of-type {\n",
       "        vertical-align: middle;\n",
       "    }\n",
       "\n",
       "    .dataframe tbody tr th {\n",
       "        vertical-align: top;\n",
       "    }\n",
       "\n",
       "    .dataframe thead th {\n",
       "        text-align: right;\n",
       "    }\n",
       "</style>\n",
       "<table border=\"1\" class=\"dataframe\">\n",
       "  <thead>\n",
       "    <tr style=\"text-align: right;\">\n",
       "      <th></th>\n",
       "      <th>0</th>\n",
       "      <th>1</th>\n",
       "      <th>2</th>\n",
       "      <th>3</th>\n",
       "    </tr>\n",
       "  </thead>\n",
       "  <tbody>\n",
       "    <tr>\n",
       "      <th>0</th>\n",
       "      <td>-0.410229</td>\n",
       "      <td>1.136943</td>\n",
       "      <td>-1.609605</td>\n",
       "      <td>1.177496</td>\n",
       "    </tr>\n",
       "    <tr>\n",
       "      <th>1</th>\n",
       "      <td>0.599490</td>\n",
       "      <td>0.545024</td>\n",
       "      <td>0.981567</td>\n",
       "      <td>-0.264657</td>\n",
       "    </tr>\n",
       "    <tr>\n",
       "      <th>2</th>\n",
       "      <td>0.605356</td>\n",
       "      <td>1.050156</td>\n",
       "      <td>-0.980916</td>\n",
       "      <td>-0.021548</td>\n",
       "    </tr>\n",
       "    <tr>\n",
       "      <th>3</th>\n",
       "      <td>-1.195792</td>\n",
       "      <td>-0.177803</td>\n",
       "      <td>-2.125146</td>\n",
       "      <td>-1.400833</td>\n",
       "    </tr>\n",
       "    <tr>\n",
       "      <th>4</th>\n",
       "      <td>-1.297236</td>\n",
       "      <td>0.936568</td>\n",
       "      <td>0.842913</td>\n",
       "      <td>-0.720536</td>\n",
       "    </tr>\n",
       "    <tr>\n",
       "      <th>5</th>\n",
       "      <td>0.079628</td>\n",
       "      <td>-0.729410</td>\n",
       "      <td>-0.085288</td>\n",
       "      <td>0.700006</td>\n",
       "    </tr>\n",
       "    <tr>\n",
       "      <th>6</th>\n",
       "      <td>-1.550092</td>\n",
       "      <td>-1.784123</td>\n",
       "      <td>1.018998</td>\n",
       "      <td>1.280140</td>\n",
       "    </tr>\n",
       "    <tr>\n",
       "      <th>7</th>\n",
       "      <td>-1.059806</td>\n",
       "      <td>0.408131</td>\n",
       "      <td>0.792996</td>\n",
       "      <td>0.214030</td>\n",
       "    </tr>\n",
       "    <tr>\n",
       "      <th>8</th>\n",
       "      <td>0.624067</td>\n",
       "      <td>0.481986</td>\n",
       "      <td>-0.260608</td>\n",
       "      <td>0.656006</td>\n",
       "    </tr>\n",
       "    <tr>\n",
       "      <th>9</th>\n",
       "      <td>0.346917</td>\n",
       "      <td>-1.546144</td>\n",
       "      <td>-0.259574</td>\n",
       "      <td>-1.150447</td>\n",
       "    </tr>\n",
       "  </tbody>\n",
       "</table>\n",
       "</div>"
      ],
      "text/plain": [
       "          0         1         2         3\n",
       "0 -0.410229  1.136943 -1.609605  1.177496\n",
       "1  0.599490  0.545024  0.981567 -0.264657\n",
       "2  0.605356  1.050156 -0.980916 -0.021548\n",
       "3 -1.195792 -0.177803 -2.125146 -1.400833\n",
       "4 -1.297236  0.936568  0.842913 -0.720536\n",
       "5  0.079628 -0.729410 -0.085288  0.700006\n",
       "6 -1.550092 -1.784123  1.018998  1.280140\n",
       "7 -1.059806  0.408131  0.792996  0.214030\n",
       "8  0.624067  0.481986 -0.260608  0.656006\n",
       "9  0.346917 -1.546144 -0.259574 -1.150447"
      ]
     },
     "execution_count": 5,
     "metadata": {},
     "output_type": "execute_result"
    }
   ],
   "source": [
    "df"
   ]
  },
  {
   "cell_type": "code",
   "execution_count": 6,
   "id": "5523f84e-9e04-46eb-a2fe-a2a0ed12ccf2",
   "metadata": {},
   "outputs": [],
   "source": [
    "# break it into pieces\n",
    "pieces = [df[:3], df[3:7], df[7:]]"
   ]
  },
  {
   "cell_type": "code",
   "execution_count": 7,
   "id": "f69ba11e-872c-4660-8af2-3cd62daa167b",
   "metadata": {},
   "outputs": [
    {
     "data": {
      "text/html": [
       "<div>\n",
       "<style scoped>\n",
       "    .dataframe tbody tr th:only-of-type {\n",
       "        vertical-align: middle;\n",
       "    }\n",
       "\n",
       "    .dataframe tbody tr th {\n",
       "        vertical-align: top;\n",
       "    }\n",
       "\n",
       "    .dataframe thead th {\n",
       "        text-align: right;\n",
       "    }\n",
       "</style>\n",
       "<table border=\"1\" class=\"dataframe\">\n",
       "  <thead>\n",
       "    <tr style=\"text-align: right;\">\n",
       "      <th></th>\n",
       "      <th>0</th>\n",
       "      <th>1</th>\n",
       "      <th>2</th>\n",
       "      <th>3</th>\n",
       "    </tr>\n",
       "  </thead>\n",
       "  <tbody>\n",
       "    <tr>\n",
       "      <th>0</th>\n",
       "      <td>-0.410229</td>\n",
       "      <td>1.136943</td>\n",
       "      <td>-1.609605</td>\n",
       "      <td>1.177496</td>\n",
       "    </tr>\n",
       "    <tr>\n",
       "      <th>1</th>\n",
       "      <td>0.599490</td>\n",
       "      <td>0.545024</td>\n",
       "      <td>0.981567</td>\n",
       "      <td>-0.264657</td>\n",
       "    </tr>\n",
       "    <tr>\n",
       "      <th>2</th>\n",
       "      <td>0.605356</td>\n",
       "      <td>1.050156</td>\n",
       "      <td>-0.980916</td>\n",
       "      <td>-0.021548</td>\n",
       "    </tr>\n",
       "    <tr>\n",
       "      <th>3</th>\n",
       "      <td>-1.195792</td>\n",
       "      <td>-0.177803</td>\n",
       "      <td>-2.125146</td>\n",
       "      <td>-1.400833</td>\n",
       "    </tr>\n",
       "    <tr>\n",
       "      <th>4</th>\n",
       "      <td>-1.297236</td>\n",
       "      <td>0.936568</td>\n",
       "      <td>0.842913</td>\n",
       "      <td>-0.720536</td>\n",
       "    </tr>\n",
       "    <tr>\n",
       "      <th>5</th>\n",
       "      <td>0.079628</td>\n",
       "      <td>-0.729410</td>\n",
       "      <td>-0.085288</td>\n",
       "      <td>0.700006</td>\n",
       "    </tr>\n",
       "    <tr>\n",
       "      <th>6</th>\n",
       "      <td>-1.550092</td>\n",
       "      <td>-1.784123</td>\n",
       "      <td>1.018998</td>\n",
       "      <td>1.280140</td>\n",
       "    </tr>\n",
       "    <tr>\n",
       "      <th>7</th>\n",
       "      <td>-1.059806</td>\n",
       "      <td>0.408131</td>\n",
       "      <td>0.792996</td>\n",
       "      <td>0.214030</td>\n",
       "    </tr>\n",
       "    <tr>\n",
       "      <th>8</th>\n",
       "      <td>0.624067</td>\n",
       "      <td>0.481986</td>\n",
       "      <td>-0.260608</td>\n",
       "      <td>0.656006</td>\n",
       "    </tr>\n",
       "    <tr>\n",
       "      <th>9</th>\n",
       "      <td>0.346917</td>\n",
       "      <td>-1.546144</td>\n",
       "      <td>-0.259574</td>\n",
       "      <td>-1.150447</td>\n",
       "    </tr>\n",
       "  </tbody>\n",
       "</table>\n",
       "</div>"
      ],
      "text/plain": [
       "          0         1         2         3\n",
       "0 -0.410229  1.136943 -1.609605  1.177496\n",
       "1  0.599490  0.545024  0.981567 -0.264657\n",
       "2  0.605356  1.050156 -0.980916 -0.021548\n",
       "3 -1.195792 -0.177803 -2.125146 -1.400833\n",
       "4 -1.297236  0.936568  0.842913 -0.720536\n",
       "5  0.079628 -0.729410 -0.085288  0.700006\n",
       "6 -1.550092 -1.784123  1.018998  1.280140\n",
       "7 -1.059806  0.408131  0.792996  0.214030\n",
       "8  0.624067  0.481986 -0.260608  0.656006\n",
       "9  0.346917 -1.546144 -0.259574 -1.150447"
      ]
     },
     "execution_count": 7,
     "metadata": {},
     "output_type": "execute_result"
    }
   ],
   "source": [
    "pd.concat(pieces)"
   ]
  },
  {
   "cell_type": "code",
   "execution_count": 8,
   "id": "db9e0f21-e824-44ef-88f6-6438a28155d8",
   "metadata": {},
   "outputs": [],
   "source": [
    "## To join two data-frames, we use merge() in Pandas (equivalent to JOIN in SQL)."
   ]
  },
  {
   "cell_type": "code",
   "execution_count": 9,
   "id": "5a2fdd24-8cb4-4f05-bb84-78bfedfdca03",
   "metadata": {},
   "outputs": [],
   "source": [
    "left = pd.DataFrame({'key': ['foo', 'bar'], 'lval': [1, 2]})\n",
    "right = pd.DataFrame({'key': ['foo', 'bar'], 'rval': [4, 5]})"
   ]
  },
  {
   "cell_type": "code",
   "execution_count": 10,
   "id": "da8cf211-5d39-4d61-9ec7-3b7a3c7ccb33",
   "metadata": {},
   "outputs": [
    {
     "data": {
      "text/html": [
       "<div>\n",
       "<style scoped>\n",
       "    .dataframe tbody tr th:only-of-type {\n",
       "        vertical-align: middle;\n",
       "    }\n",
       "\n",
       "    .dataframe tbody tr th {\n",
       "        vertical-align: top;\n",
       "    }\n",
       "\n",
       "    .dataframe thead th {\n",
       "        text-align: right;\n",
       "    }\n",
       "</style>\n",
       "<table border=\"1\" class=\"dataframe\">\n",
       "  <thead>\n",
       "    <tr style=\"text-align: right;\">\n",
       "      <th></th>\n",
       "      <th>key</th>\n",
       "      <th>lval</th>\n",
       "      <th>rval</th>\n",
       "    </tr>\n",
       "  </thead>\n",
       "  <tbody>\n",
       "    <tr>\n",
       "      <th>0</th>\n",
       "      <td>foo</td>\n",
       "      <td>1</td>\n",
       "      <td>4</td>\n",
       "    </tr>\n",
       "    <tr>\n",
       "      <th>1</th>\n",
       "      <td>bar</td>\n",
       "      <td>2</td>\n",
       "      <td>5</td>\n",
       "    </tr>\n",
       "  </tbody>\n",
       "</table>\n",
       "</div>"
      ],
      "text/plain": [
       "   key  lval  rval\n",
       "0  foo     1     4\n",
       "1  bar     2     5"
      ]
     },
     "execution_count": 10,
     "metadata": {},
     "output_type": "execute_result"
    }
   ],
   "source": [
    "## Make an inner join between tables created above on column key:\n",
    "\n",
    "pd.merge(left, right, on='key')"
   ]
  },
  {
   "cell_type": "code",
   "execution_count": 11,
   "id": "eaa5a2b1-3ee7-4264-9a7e-c114e2926ab0",
   "metadata": {},
   "outputs": [
    {
     "data": {
      "text/html": [
       "<div>\n",
       "<style scoped>\n",
       "    .dataframe tbody tr th:only-of-type {\n",
       "        vertical-align: middle;\n",
       "    }\n",
       "\n",
       "    .dataframe tbody tr th {\n",
       "        vertical-align: top;\n",
       "    }\n",
       "\n",
       "    .dataframe thead th {\n",
       "        text-align: right;\n",
       "    }\n",
       "</style>\n",
       "<table border=\"1\" class=\"dataframe\">\n",
       "  <thead>\n",
       "    <tr style=\"text-align: right;\">\n",
       "      <th></th>\n",
       "      <th>key</th>\n",
       "      <th>lval</th>\n",
       "      <th>rval</th>\n",
       "    </tr>\n",
       "  </thead>\n",
       "  <tbody>\n",
       "    <tr>\n",
       "      <th>0</th>\n",
       "      <td>foo</td>\n",
       "      <td>1</td>\n",
       "      <td>4</td>\n",
       "    </tr>\n",
       "    <tr>\n",
       "      <th>1</th>\n",
       "      <td>bar</td>\n",
       "      <td>2</td>\n",
       "      <td>5</td>\n",
       "    </tr>\n",
       "  </tbody>\n",
       "</table>\n",
       "</div>"
      ],
      "text/plain": [
       "   key  lval  rval\n",
       "0  foo     1     4\n",
       "1  bar     2     5"
      ]
     },
     "execution_count": 11,
     "metadata": {},
     "output_type": "execute_result"
    }
   ],
   "source": [
    "## Inner join is done automatically with merge(). If you want to do other types of joins like the outer, left or right, you should use the parameter, how.\n",
    "\n",
    "pd.merge(left, right, on='key', how='outer')"
   ]
  },
  {
   "cell_type": "code",
   "execution_count": 12,
   "id": "de86114a-cffd-4f18-ba25-9869b23f99bd",
   "metadata": {},
   "outputs": [],
   "source": [
    "### Grouping\n",
    "\n",
    "\n",
    "## By group by, we are referring to a process involving the following steps:\n",
    "\n",
    "# - Splitting the data into groups based on some criteria\n",
    "# - Applying a function to each group independently\n",
    "# - Combining the results into a data structure\n",
    "\n",
    "\n",
    "# Let's create the DataFrame we will work on.\n",
    "\n"
   ]
  },
  {
   "cell_type": "code",
   "execution_count": 13,
   "id": "8bfc187d-ec72-4686-b3ef-a8da3ab15de2",
   "metadata": {},
   "outputs": [],
   "source": [
    "df = pd.DataFrame({'A': ['foo', 'bar', 'foo', 'bar',\n",
    "                             'foo', 'bar', 'foo', 'foo'],\n",
    "                        'B': ['one', 'one', 'two', 'three',\n",
    "                          'two', 'two', 'one', 'three'],\n",
    "                       'C': np.random.randn(8),\n",
    "                       'D': np.random.randn(8)})"
   ]
  },
  {
   "cell_type": "code",
   "execution_count": 14,
   "id": "1915d9c3-9fd6-453a-970a-d898f0815059",
   "metadata": {},
   "outputs": [],
   "source": [
    "## Group the DataFrame by column A and sum the values of C and D."
   ]
  },
  {
   "cell_type": "code",
   "execution_count": 15,
   "id": "847f9370-f848-45dd-be2d-7a6a49e8673b",
   "metadata": {},
   "outputs": [
    {
     "name": "stderr",
     "output_type": "stream",
     "text": [
      "/var/folders/m7/gmztn8ls7hvb7z45rrh281mh0000gn/T/ipykernel_86956/1885751491.py:1: FutureWarning: The default value of numeric_only in DataFrameGroupBy.sum is deprecated. In a future version, numeric_only will default to False. Either specify numeric_only or select only columns which should be valid for the function.\n",
      "  df.groupby('A').sum()\n"
     ]
    },
    {
     "data": {
      "text/html": [
       "<div>\n",
       "<style scoped>\n",
       "    .dataframe tbody tr th:only-of-type {\n",
       "        vertical-align: middle;\n",
       "    }\n",
       "\n",
       "    .dataframe tbody tr th {\n",
       "        vertical-align: top;\n",
       "    }\n",
       "\n",
       "    .dataframe thead th {\n",
       "        text-align: right;\n",
       "    }\n",
       "</style>\n",
       "<table border=\"1\" class=\"dataframe\">\n",
       "  <thead>\n",
       "    <tr style=\"text-align: right;\">\n",
       "      <th></th>\n",
       "      <th>C</th>\n",
       "      <th>D</th>\n",
       "    </tr>\n",
       "    <tr>\n",
       "      <th>A</th>\n",
       "      <th></th>\n",
       "      <th></th>\n",
       "    </tr>\n",
       "  </thead>\n",
       "  <tbody>\n",
       "    <tr>\n",
       "      <th>bar</th>\n",
       "      <td>1.594397</td>\n",
       "      <td>0.208456</td>\n",
       "    </tr>\n",
       "    <tr>\n",
       "      <th>foo</th>\n",
       "      <td>-1.187154</td>\n",
       "      <td>-1.752118</td>\n",
       "    </tr>\n",
       "  </tbody>\n",
       "</table>\n",
       "</div>"
      ],
      "text/plain": [
       "            C         D\n",
       "A                      \n",
       "bar  1.594397  0.208456\n",
       "foo -1.187154 -1.752118"
      ]
     },
     "execution_count": 15,
     "metadata": {},
     "output_type": "execute_result"
    }
   ],
   "source": [
    "df.groupby('A').sum()"
   ]
  },
  {
   "cell_type": "code",
   "execution_count": 16,
   "id": "7ccb98c7-2540-40d0-9417-5d77f264e320",
   "metadata": {},
   "outputs": [
    {
     "data": {
      "text/html": [
       "<div>\n",
       "<style scoped>\n",
       "    .dataframe tbody tr th:only-of-type {\n",
       "        vertical-align: middle;\n",
       "    }\n",
       "\n",
       "    .dataframe tbody tr th {\n",
       "        vertical-align: top;\n",
       "    }\n",
       "\n",
       "    .dataframe thead th {\n",
       "        text-align: right;\n",
       "    }\n",
       "</style>\n",
       "<table border=\"1\" class=\"dataframe\">\n",
       "  <thead>\n",
       "    <tr style=\"text-align: right;\">\n",
       "      <th></th>\n",
       "      <th></th>\n",
       "      <th>C</th>\n",
       "      <th>D</th>\n",
       "    </tr>\n",
       "    <tr>\n",
       "      <th>A</th>\n",
       "      <th>B</th>\n",
       "      <th></th>\n",
       "      <th></th>\n",
       "    </tr>\n",
       "  </thead>\n",
       "  <tbody>\n",
       "    <tr>\n",
       "      <th rowspan=\"3\" valign=\"top\">bar</th>\n",
       "      <th>one</th>\n",
       "      <td>0.481617</td>\n",
       "      <td>-0.215069</td>\n",
       "    </tr>\n",
       "    <tr>\n",
       "      <th>three</th>\n",
       "      <td>0.848264</td>\n",
       "      <td>1.293637</td>\n",
       "    </tr>\n",
       "    <tr>\n",
       "      <th>two</th>\n",
       "      <td>0.264516</td>\n",
       "      <td>-0.870112</td>\n",
       "    </tr>\n",
       "    <tr>\n",
       "      <th rowspan=\"3\" valign=\"top\">foo</th>\n",
       "      <th>one</th>\n",
       "      <td>-0.284092</td>\n",
       "      <td>0.185560</td>\n",
       "    </tr>\n",
       "    <tr>\n",
       "      <th>three</th>\n",
       "      <td>0.840379</td>\n",
       "      <td>-1.001756</td>\n",
       "    </tr>\n",
       "    <tr>\n",
       "      <th>two</th>\n",
       "      <td>-1.743441</td>\n",
       "      <td>-0.935922</td>\n",
       "    </tr>\n",
       "  </tbody>\n",
       "</table>\n",
       "</div>"
      ],
      "text/plain": [
       "                  C         D\n",
       "A   B                        \n",
       "bar one    0.481617 -0.215069\n",
       "    three  0.848264  1.293637\n",
       "    two    0.264516 -0.870112\n",
       "foo one   -0.284092  0.185560\n",
       "    three  0.840379 -1.001756\n",
       "    two   -1.743441 -0.935922"
      ]
     },
     "execution_count": 16,
     "metadata": {},
     "output_type": "execute_result"
    }
   ],
   "source": [
    "## We can also group by multiple columns. This operation will create a new DataFrame with Multilevel Index.\n",
    "\n",
    "df.groupby(['A', 'B']).sum()"
   ]
  },
  {
   "cell_type": "code",
   "execution_count": 18,
   "id": "24074e0d-5e34-45ea-89c5-c6f1047d23cf",
   "metadata": {},
   "outputs": [],
   "source": [
    "## You cannot apply two aggregation functions in 1 groupby statement in Pandas. However , there is equivalent to using .agg() method\n"
   ]
  },
  {
   "cell_type": "code",
   "execution_count": 17,
   "id": "0629178f-96ef-4488-90bd-2f0bf21546a4",
   "metadata": {},
   "outputs": [
    {
     "data": {
      "text/html": [
       "<div>\n",
       "<style scoped>\n",
       "    .dataframe tbody tr th:only-of-type {\n",
       "        vertical-align: middle;\n",
       "    }\n",
       "\n",
       "    .dataframe tbody tr th {\n",
       "        vertical-align: top;\n",
       "    }\n",
       "\n",
       "    .dataframe thead th {\n",
       "        text-align: right;\n",
       "    }\n",
       "</style>\n",
       "<table border=\"1\" class=\"dataframe\">\n",
       "  <thead>\n",
       "    <tr style=\"text-align: right;\">\n",
       "      <th></th>\n",
       "      <th>C</th>\n",
       "      <th>D</th>\n",
       "    </tr>\n",
       "    <tr>\n",
       "      <th>A</th>\n",
       "      <th></th>\n",
       "      <th></th>\n",
       "    </tr>\n",
       "  </thead>\n",
       "  <tbody>\n",
       "    <tr>\n",
       "      <th>bar</th>\n",
       "      <td>1.594397</td>\n",
       "      <td>1.293637</td>\n",
       "    </tr>\n",
       "    <tr>\n",
       "      <th>foo</th>\n",
       "      <td>-1.187154</td>\n",
       "      <td>0.579920</td>\n",
       "    </tr>\n",
       "  </tbody>\n",
       "</table>\n",
       "</div>"
      ],
      "text/plain": [
       "            C         D\n",
       "A                      \n",
       "bar  1.594397  1.293637\n",
       "foo -1.187154  0.579920"
      ]
     },
     "execution_count": 17,
     "metadata": {},
     "output_type": "execute_result"
    }
   ],
   "source": [
    "df.groupby('A').agg({'C': np.sum, 'D': np.max})"
   ]
  }
 ],
 "metadata": {
  "kernelspec": {
   "display_name": "THE_ONE",
   "language": "python",
   "name": "the_one"
  },
  "language_info": {
   "codemirror_mode": {
    "name": "ipython",
    "version": 3
   },
   "file_extension": ".py",
   "mimetype": "text/x-python",
   "name": "python",
   "nbconvert_exporter": "python",
   "pygments_lexer": "ipython3",
   "version": "3.8.15"
  }
 },
 "nbformat": 4,
 "nbformat_minor": 5
}
