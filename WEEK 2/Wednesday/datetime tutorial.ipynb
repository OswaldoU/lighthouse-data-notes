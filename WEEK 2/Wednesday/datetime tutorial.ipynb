{
 "cells": [
  {
   "cell_type": "code",
   "execution_count": 1,
   "id": "ab751ec8-880c-4149-9ff4-1fc2ada2caf6",
   "metadata": {},
   "outputs": [],
   "source": [
    "import datetime"
   ]
  },
  {
   "cell_type": "code",
   "execution_count": 9,
   "id": "ae55ed6b-5c4f-499d-8759-cf42ac297a6a",
   "metadata": {},
   "outputs": [
    {
     "name": "stdout",
     "output_type": "stream",
     "text": [
      "2022-11-24 19:41:09.892542\n"
     ]
    }
   ],
   "source": [
    "## Get current date and time\n",
    "datetime_object = datetime.datetime.now()\n",
    "print(datetime_object)"
   ]
  },
  {
   "cell_type": "code",
   "execution_count": 10,
   "id": "38c1af72-7c41-4fff-9188-4700a36ea211",
   "metadata": {},
   "outputs": [
    {
     "name": "stdout",
     "output_type": "stream",
     "text": [
      "2022-11-24\n"
     ]
    }
   ],
   "source": [
    "## Get current date\n",
    "date_object = datetime.date.today()\n",
    "print(date_object)"
   ]
  },
  {
   "cell_type": "code",
   "execution_count": 11,
   "id": "5530b23f-d1a0-48f1-8a76-17a7f0e7fa21",
   "metadata": {},
   "outputs": [
    {
     "name": "stdout",
     "output_type": "stream",
     "text": [
      "['MAXYEAR', 'MINYEAR', '__builtins__', '__cached__', '__doc__', '__file__', '__loader__', '__name__', '__package__', '__spec__', 'date', 'datetime', 'datetime_CAPI', 'sys', 'time', 'timedelta', 'timezone', 'tzinfo']\n"
     ]
    }
   ],
   "source": [
    "## What's inside datetime?\n",
    "print(dir(datetime))"
   ]
  },
  {
   "cell_type": "code",
   "execution_count": 12,
   "id": "d0890f49-55bc-4fbb-9ae3-d781432dd2c1",
   "metadata": {},
   "outputs": [
    {
     "name": "stdout",
     "output_type": "stream",
     "text": [
      "2019-04-13\n"
     ]
    }
   ],
   "source": [
    "d = datetime.date(2019, 4, 13) \n",
    "print(d)"
   ]
  },
  {
   "cell_type": "code",
   "execution_count": 13,
   "id": "7ad71cff-282a-4145-836a-199b50feadd9",
   "metadata": {},
   "outputs": [
    {
     "name": "stdout",
     "output_type": "stream",
     "text": [
      "2019-04-13\n"
     ]
    }
   ],
   "source": [
    "## Date object to represent a date\n",
    "from datetime import date\n",
    "a = date(2019, 4, 13)\n",
    "print(a)"
   ]
  },
  {
   "cell_type": "code",
   "execution_count": 14,
   "id": "5ca5e756-916f-4ede-b67a-bad6baee8c93",
   "metadata": {},
   "outputs": [
    {
     "name": "stdout",
     "output_type": "stream",
     "text": [
      "Current date = 2022-11-24\n"
     ]
    }
   ],
   "source": [
    "## Get current date using today() class method\n",
    "from datetime import date\n",
    "today = date.today()\n",
    "print(\"Current date =\", today)"
   ]
  },
  {
   "cell_type": "code",
   "execution_count": 15,
   "id": "a0662b72-2c4d-4fd9-9eae-0a88b9dfdeb9",
   "metadata": {},
   "outputs": [
    {
     "name": "stdout",
     "output_type": "stream",
     "text": [
      "Date = 2012-01-10\n"
     ]
    }
   ],
   "source": [
    "## Get date from a timestamp (unix)\n",
    "from datetime import date \n",
    "timestamp = date.fromtimestamp(1326244364)\n",
    "print(\"Date =\", timestamp)"
   ]
  },
  {
   "cell_type": "code",
   "execution_count": 23,
   "id": "bfdf8072-3eb1-4402-b55b-3f2a8d4ff161",
   "metadata": {},
   "outputs": [
    {
     "name": "stdout",
     "output_type": "stream",
     "text": [
      "Current year: 2022\n",
      "Current month: 11\n",
      "Current day: 24\n"
     ]
    }
   ],
   "source": [
    "## Printing today's year, month and day \n",
    "\n",
    "from datetime import date \n",
    "\n",
    "# date object of today's date\n",
    "today = date.today()\n",
    "print(\"Current year:\", today.year)\n",
    "print(\"Current month:\", today.month) \n",
    "print(\"Current day:\", today.day)"
   ]
  },
  {
   "cell_type": "code",
   "execution_count": 24,
   "id": "df84629b-37a4-42a7-b857-026da68e89b5",
   "metadata": {},
   "outputs": [],
   "source": [
    "## datetime.time \n",
    "## a time object instantiated from the time class represents the local time "
   ]
  },
  {
   "cell_type": "code",
   "execution_count": 25,
   "id": "17629150-ab2d-405c-a4c1-428370f9dbbf",
   "metadata": {},
   "outputs": [
    {
     "name": "stdout",
     "output_type": "stream",
     "text": [
      "a = 00:00:00\n",
      "b = 11:34:56\n",
      "c = 11:34:56\n",
      "d = 11:34:56.234566\n"
     ]
    }
   ],
   "source": [
    "## Time object to represent time \n",
    "from datetime import time \n",
    "\n",
    "# time(hour = 0, minute = 0, second = 0) \n",
    "a = time() \n",
    "print(\"a =\", a) \n",
    "\n",
    "# time(hour, minute, second) \n",
    "b = time(11, 34, 56) \n",
    "print(\"b =\", b) \n",
    "\n",
    "#time(hour, minute and second) \n",
    "c = time(hour = 11, minute = 34, second = 56)\n",
    "print(\"c =\", c)\n",
    "\n",
    "#time(hour, minute, second, microsecond) \n",
    "d = time(11, 34, 56, 234566)\n",
    "print(\"d =\", d)"
   ]
  },
  {
   "cell_type": "code",
   "execution_count": 26,
   "id": "b6d1276c-0ffc-4c63-ae43-865ec40bb164",
   "metadata": {},
   "outputs": [
    {
     "name": "stdout",
     "output_type": "stream",
     "text": [
      "hour = 11\n",
      "minute = 34\n",
      "second = 56\n",
      "microsecond = 0\n"
     ]
    }
   ],
   "source": [
    "## Print hour, minute, second and microsecond \n",
    "\n",
    "# once you create a time object you can easily print its attributes such as hour, minute etc. \n",
    "\n",
    "from datetime import time \n",
    "\n",
    "a = time(11, 34, 56)\n",
    "\n",
    "print(\"hour =\", a.hour)\n",
    "print(\"minute =\", a.minute) \n",
    "print(\"second =\", a.second) \n",
    "print(\"microsecond =\", a.microsecond)"
   ]
  },
  {
   "cell_type": "code",
   "execution_count": 27,
   "id": "326d41bf-f1af-414b-be43-ce4a8c9473b3",
   "metadata": {},
   "outputs": [],
   "source": [
    "## datetime.datetime\n",
    "\n",
    "# the datetime module has a class named dateclass that can contain information from both date and time objects"
   ]
  },
  {
   "cell_type": "code",
   "execution_count": 28,
   "id": "e234ae36-61cc-4025-9b8e-84da661ea0db",
   "metadata": {},
   "outputs": [
    {
     "name": "stdout",
     "output_type": "stream",
     "text": [
      "2018-11-28 00:00:00\n",
      "2017-11-28 23:55:59.342380\n"
     ]
    }
   ],
   "source": [
    "## Python datetime object \n",
    "\n",
    "from datetime import datetime \n",
    "\n",
    "# datetime(year, month, day) \n",
    "a = datetime(2018, 11, 28)\n",
    "print(a)\n",
    "\n",
    "# datetime(year, month, day, hour, minute, second, microsecond) \n",
    "b = datetime(2017, 11, 28, 23, 55, 59, 342380) \n",
    "print(b) "
   ]
  },
  {
   "cell_type": "code",
   "execution_count": 29,
   "id": "e0b2c56e-8e56-44b5-8f3d-03bd33d543d7",
   "metadata": {},
   "outputs": [],
   "source": [
    "## The first three arguements year, month, and day in the datetime() constructor are MANDATORY"
   ]
  },
  {
   "cell_type": "code",
   "execution_count": 30,
   "id": "298c83cd-0463-4785-a7c5-edf4247f6e52",
   "metadata": {},
   "outputs": [
    {
     "name": "stdout",
     "output_type": "stream",
     "text": [
      "year = 2017\n",
      "month = 11\n",
      "hour = 23\n",
      "minute = 55\n",
      "timestamp = 1511931359.34238\n"
     ]
    }
   ],
   "source": [
    "## Print year, month, hour, minute, and timestamp \n",
    "\n",
    "from datetime import datetime\n",
    "\n",
    "a = datetime(2017, 11, 28, 23, 55, 59, 342380)\n",
    "print(\"year =\", a.year) \n",
    "print(\"month =\", a.month) \n",
    "print(\"hour =\", a.hour)\n",
    "print(\"minute =\", a.minute)\n",
    "print(\"timestamp =\", a.timestamp())"
   ]
  },
  {
   "cell_type": "code",
   "execution_count": 31,
   "id": "a4df6fe8-71ab-476e-a306-0e0b5f9b56a7",
   "metadata": {},
   "outputs": [],
   "source": [
    "## datetime.timedelta\n",
    "\n",
    "# a timedelta object represents the difference between two dates or times "
   ]
  },
  {
   "cell_type": "code",
   "execution_count": 32,
   "id": "41b1d73b-270e-4c7a-9e91-a88ac5b46f71",
   "metadata": {},
   "outputs": [
    {
     "name": "stdout",
     "output_type": "stream",
     "text": [
      "t3 = 201 days, 0:00:00\n",
      "t6 = -333 days, 1:14:20\n",
      "type of t3= <class 'datetime.timedelta'>\n",
      "type of t6= <class 'datetime.timedelta'>\n"
     ]
    }
   ],
   "source": [
    "## Difference between two dates and times \n",
    "\n",
    "from datetime import datetime, date\n",
    "\n",
    "t1 = date(year = 2018, month = 7, day = 12)\n",
    "t2 = date(year = 2017, month = 12, day = 23) \n",
    "t3 = t1 - t2\n",
    "print(\"t3 =\", t3)\n",
    "\n",
    "t4 = datetime(year = 2018, month = 7, day = 12, hour = 7, minute = 9, second = 33) \n",
    "t5 = datetime(year = 2019, month = 6, day = 10, hour = 5, minute = 55, second = 13)\n",
    "t6 = t4 - t5 \n",
    "print(\"t6 =\", t6)\n",
    "\n",
    "print(\"type of t3=\", type(t3))\n",
    "print(\"type of t6=\", type(t6))"
   ]
  },
  {
   "cell_type": "code",
   "execution_count": 33,
   "id": "9c9ad2e9-55ab-4151-b614-a6ead2c20e1b",
   "metadata": {},
   "outputs": [],
   "source": [
    "## Notice, both t3 and t6 are of <class 'datetime.timedelta'> type"
   ]
  },
  {
   "cell_type": "code",
   "execution_count": 34,
   "id": "128ae937-556f-499a-a861-719904c7b2bf",
   "metadata": {},
   "outputs": [
    {
     "name": "stdout",
     "output_type": "stream",
     "text": [
      "t3 = 14 days, 13:55:39\n"
     ]
    }
   ],
   "source": [
    "## Difference between two timedelta objects \n",
    "\n",
    "from datetime import timedelta\n",
    "\n",
    "t1 = timedelta(weeks = 2, days = 5, hours = 1, seconds = 33) \n",
    "t2 = timedelta(days = 4, hours = 11, minutes = 4, seconds = 54)\n",
    "t3 = t1 - t2\n",
    "\n",
    "print(\"t3 =\", t3)"
   ]
  },
  {
   "cell_type": "code",
   "execution_count": 35,
   "id": "18fd0760-c8cc-4cbc-a66f-478e2c202d6a",
   "metadata": {},
   "outputs": [],
   "source": [
    "## Here we have created two timedelta objects t1 and t2, and their difference is printed on the screen"
   ]
  },
  {
   "cell_type": "code",
   "execution_count": 36,
   "id": "0b8a9bf7-5e80-4c56-996d-858863843f9b",
   "metadata": {},
   "outputs": [
    {
     "name": "stdout",
     "output_type": "stream",
     "text": [
      "t3 = -1 day, 23:59:39\n",
      "t3 = 0:00:21\n"
     ]
    }
   ],
   "source": [
    "## Printing negative timedelta object \n",
    "\n",
    "from datetime import timedelta\n",
    "\n",
    "t1 = timedelta(seconds = 33) \n",
    "t2 = timedelta(seconds = 54) \n",
    "t3 = t1 - t2\n",
    "\n",
    "print(\"t3 =\", t3) \n",
    "print(\"t3 =\", abs(t3))"
   ]
  },
  {
   "cell_type": "code",
   "execution_count": 37,
   "id": "f44dc299-49d6-453b-b56d-4a5e1982d2e6",
   "metadata": {},
   "outputs": [
    {
     "name": "stdout",
     "output_type": "stream",
     "text": [
      "total seconds = 435633.233423\n"
     ]
    }
   ],
   "source": [
    "## Time duration in seconds \n",
    "\n",
    "# you can get the total number of seconds in a timedelta object using total_seconds() method. \n",
    "\n",
    "from datetime import timedelta \n",
    "\n",
    "t = timedelta(days = 5, hours = 1, seconds = 33, microseconds = 233423) \n",
    "print(\"total seconds =\", t.total_seconds())\n"
   ]
  },
  {
   "cell_type": "code",
   "execution_count": 38,
   "id": "6c185f85-df2e-4945-adcf-65690e485c94",
   "metadata": {},
   "outputs": [],
   "source": [
    "## You can also find sum of two dates and times using + operator. Also, you can multiply and divide a timedelta object by integers and floats. "
   ]
  },
  {
   "cell_type": "code",
   "execution_count": 39,
   "id": "4f9ded1e-95f9-40ec-baca-ece2ed2bd348",
   "metadata": {},
   "outputs": [],
   "source": [
    "# Python format datetime\n",
    "\n",
    "## The way date and time is represented may be different in different places, organizations, etc. \n",
    "## It's more common to use mm/dd/yyyy in the US, whereas dd/mm/yyyy is more common in the UK. \n",
    "\n",
    "### Python has strftime() and strptime() methods to handle this. \n"
   ]
  },
  {
   "cell_type": "code",
   "execution_count": 40,
   "id": "88c757e7-a579-4ffe-bb72-d7f1a50aff38",
   "metadata": {},
   "outputs": [],
   "source": [
    "# Python strftime() - datetime object to string\n",
    "\n",
    "## the strftime() method is defined under classes, date, datetime and date. The method creates a formatted string from a given date, datetime, or time object. "
   ]
  },
  {
   "cell_type": "code",
   "execution_count": 42,
   "id": "ef8cf374-e365-4ca7-8079-14f3721d44f4",
   "metadata": {},
   "outputs": [
    {
     "name": "stdout",
     "output_type": "stream",
     "text": [
      "time: 20:31:27\n",
      "s1: 11/24/2022, 20:31:27\n",
      "s2: 24/11/2022, 20:31:27\n"
     ]
    }
   ],
   "source": [
    "# Format date using strftime() \n",
    "\n",
    "from datetime import datetime \n",
    "\n",
    "# current date and time \n",
    "now = datetime.now()\n",
    "\n",
    "t = now.strftime(\"%H:%M:%S\")\n",
    "print(\"time:\", t) \n",
    "\n",
    "s1 = now.strftime(\"%m/%d/%Y, %H:%M:%S\")\n",
    "# mm/dd/YY H:M:S format\n",
    "print(\"s1:\", s1)\n",
    "\n",
    "s2 = now.strftime(\"%d/%m/%Y, %H:%M:%S\") \n",
    "# dd/mm/YY H:M:S format\n",
    "print(\"s2:\", s2)"
   ]
  },
  {
   "cell_type": "code",
   "execution_count": 43,
   "id": "d13e1874-dd71-4784-ad02-db14b32ef547",
   "metadata": {},
   "outputs": [],
   "source": [
    "# Python strptime() - string to datetime \n",
    "\n",
    "## The strptime() method creates a datetime object from a given string (representing date and time) "
   ]
  },
  {
   "cell_type": "code",
   "execution_count": 44,
   "id": "346a72de-f557-44b3-b4e4-a26063489209",
   "metadata": {},
   "outputs": [
    {
     "name": "stdout",
     "output_type": "stream",
     "text": [
      "date_string = 21 June, 2018\n",
      "date_object = 2018-06-21 00:00:00\n"
     ]
    }
   ],
   "source": [
    "# strptime()\n",
    "\n",
    "from datetime import datetime \n",
    "\n",
    "date_string = \"21 June, 2018\" \n",
    "print(\"date_string =\", date_string) \n",
    "\n",
    "date_object = datetime.strptime(date_string, \"%d %B, %Y\") \n",
    "print(\"date_object =\", date_object) "
   ]
  },
  {
   "cell_type": "code",
   "execution_count": 45,
   "id": "396719a6-a2cd-40d7-a489-3d4b18f568fe",
   "metadata": {},
   "outputs": [],
   "source": [
    "## The strptime() method takes two arguements: \n",
    "\n",
    "## 1) a string representing date and time\n",
    "\n",
    "## 2) format code equivalent to the first argument "
   ]
  },
  {
   "cell_type": "code",
   "execution_count": 51,
   "id": "2f06b913-7ee6-4ca9-bf59-473dec1f399e",
   "metadata": {},
   "outputs": [
    {
     "name": "stdout",
     "output_type": "stream",
     "text": [
      "Local: 11/24/2022, 20:44:09\n",
      "NY: 11/24/2022, 20:44:09\n",
      "London: 11/25/2022, 01:44:09\n"
     ]
    }
   ],
   "source": [
    "# Handling timezone in python \n",
    "\n",
    "## Rather than trying to handle timezone yourself, we suggest you to use a third-party 'pytz' module\n",
    "\n",
    "from datetime import datetime \n",
    "import pytz\n",
    "\n",
    "local = datetime.now()\n",
    "print(\"Local:\", local.strftime(\"%m/%d/%Y, %H:%M:%S\"))\n",
    "\n",
    "tz_NY = pytz.timezone('America/New_York')\n",
    "datetime_NY = datetime.now(tz_NY)\n",
    "print(\"NY:\", datetime_NY.strftime(\"%m/%d/%Y, %H:%M:%S\")) \n",
    "                                  \n",
    "tz_London = pytz.timezone('Europe/London') \n",
    "datetime_London = datetime.now(tz_London) \n",
    "print(\"London:\", datetime_London.strftime(\"%m/%d/%Y, %H:%M:%S\"))"
   ]
  },
  {
   "cell_type": "code",
   "execution_count": 52,
   "id": "32929626-af88-4bcf-96c6-6b1514c43965",
   "metadata": {},
   "outputs": [],
   "source": [
    "## here, datetime_NY and datetime_London are datetime objects containing the current date and time of their respective timezone."
   ]
  },
  {
   "cell_type": "code",
   "execution_count": null,
   "id": "86f2cf90-b62c-454c-a11b-21b92e28558a",
   "metadata": {},
   "outputs": [],
   "source": []
  }
 ],
 "metadata": {
  "kernelspec": {
   "display_name": "THE_ONE",
   "language": "python",
   "name": "the_one"
  },
  "language_info": {
   "codemirror_mode": {
    "name": "ipython",
    "version": 3
   },
   "file_extension": ".py",
   "mimetype": "text/x-python",
   "name": "python",
   "nbconvert_exporter": "python",
   "pygments_lexer": "ipython3",
   "version": "3.8.15"
  }
 },
 "nbformat": 4,
 "nbformat_minor": 5
}
