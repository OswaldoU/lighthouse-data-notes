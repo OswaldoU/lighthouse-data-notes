{
 "cells": [
  {
   "cell_type": "markdown",
   "metadata": {
    "id": "twsjwMiweIHh"
   },
   "source": [
    "# Hypothesis Testing and Transformations\n",
    "\n",
    "Notebook by Jeremy Eng"
   ]
  },
  {
   "cell_type": "markdown",
   "metadata": {
    "id": "g8FJPROGeIHp"
   },
   "source": [
    "## Introduction\n",
    "- In this notebook, we will demo how to perform common statistical hypothesis tests in [scipy's stats library](https://docs.scipy.org/doc/scipy/reference/stats.html).\n",
    "- We will also look at how to perform data transformations (manually) and their effect on the data's distribution."
   ]
  },
  {
   "cell_type": "markdown",
   "metadata": {
    "id": "tTH_kN05eIHq"
   },
   "source": [
    "## Scipy Installation\n",
    "Make sure scipy is installed if it isn't already. Like most packages, it can be installed:\n",
    "- using pip: `pip install scipy`\n",
    "- or conda: `conda install -c anaconda scipy`"
   ]
  },
  {
   "cell_type": "code",
   "execution_count": 7,
   "metadata": {
    "colab": {
     "base_uri": "https://localhost:8080/"
    },
    "id": "4CxOlrpueIHr",
    "outputId": "1bb93f4a-fe7d-4fcb-d5c4-f811df345afc"
   },
   "outputs": [
    {
     "name": "stdout",
     "output_type": "stream",
     "text": [
      "Requirement already satisfied: scipy in /opt/homebrew/Caskroom/miniforge/base/envs/THE_ONE/lib/python3.8/site-packages (1.9.3)\n",
      "Requirement already satisfied: numpy<1.26.0,>=1.18.5 in /opt/homebrew/Caskroom/miniforge/base/envs/THE_ONE/lib/python3.8/site-packages (from scipy) (1.23.5)\n",
      "Requirement already satisfied: seaborn in /opt/homebrew/Caskroom/miniforge/base/envs/THE_ONE/lib/python3.8/site-packages (0.12.1)\n",
      "Requirement already satisfied: pandas>=0.25 in /opt/homebrew/Caskroom/miniforge/base/envs/THE_ONE/lib/python3.8/site-packages (from seaborn) (1.5.2)\n",
      "Requirement already satisfied: matplotlib!=3.6.1,>=3.1 in /opt/homebrew/Caskroom/miniforge/base/envs/THE_ONE/lib/python3.8/site-packages (from seaborn) (3.6.2)\n",
      "Requirement already satisfied: numpy>=1.17 in /opt/homebrew/Caskroom/miniforge/base/envs/THE_ONE/lib/python3.8/site-packages (from seaborn) (1.23.5)\n",
      "Requirement already satisfied: pyparsing>=2.2.1 in /opt/homebrew/Caskroom/miniforge/base/envs/THE_ONE/lib/python3.8/site-packages (from matplotlib!=3.6.1,>=3.1->seaborn) (3.0.9)\n",
      "Requirement already satisfied: packaging>=20.0 in /opt/homebrew/Caskroom/miniforge/base/envs/THE_ONE/lib/python3.8/site-packages (from matplotlib!=3.6.1,>=3.1->seaborn) (21.3)\n",
      "Requirement already satisfied: kiwisolver>=1.0.1 in /opt/homebrew/Caskroom/miniforge/base/envs/THE_ONE/lib/python3.8/site-packages (from matplotlib!=3.6.1,>=3.1->seaborn) (1.4.4)\n",
      "Requirement already satisfied: pillow>=6.2.0 in /opt/homebrew/Caskroom/miniforge/base/envs/THE_ONE/lib/python3.8/site-packages (from matplotlib!=3.6.1,>=3.1->seaborn) (9.2.0)\n",
      "Requirement already satisfied: python-dateutil>=2.7 in /opt/homebrew/Caskroom/miniforge/base/envs/THE_ONE/lib/python3.8/site-packages (from matplotlib!=3.6.1,>=3.1->seaborn) (2.8.2)\n",
      "Requirement already satisfied: contourpy>=1.0.1 in /opt/homebrew/Caskroom/miniforge/base/envs/THE_ONE/lib/python3.8/site-packages (from matplotlib!=3.6.1,>=3.1->seaborn) (1.0.6)\n",
      "Requirement already satisfied: fonttools>=4.22.0 in /opt/homebrew/Caskroom/miniforge/base/envs/THE_ONE/lib/python3.8/site-packages (from matplotlib!=3.6.1,>=3.1->seaborn) (4.38.0)\n",
      "Requirement already satisfied: cycler>=0.10 in /opt/homebrew/Caskroom/miniforge/base/envs/THE_ONE/lib/python3.8/site-packages (from matplotlib!=3.6.1,>=3.1->seaborn) (0.11.0)\n",
      "Requirement already satisfied: pytz>=2020.1 in /opt/homebrew/Caskroom/miniforge/base/envs/THE_ONE/lib/python3.8/site-packages (from pandas>=0.25->seaborn) (2022.6)\n",
      "Requirement already satisfied: six>=1.5 in /opt/homebrew/Caskroom/miniforge/base/envs/THE_ONE/lib/python3.8/site-packages (from python-dateutil>=2.7->matplotlib!=3.6.1,>=3.1->seaborn) (1.16.0)\n"
     ]
    }
   ],
   "source": [
    "!pip install scipy\n",
    "!pip install seaborn"
   ]
  },
  {
   "cell_type": "markdown",
   "metadata": {
    "id": "tPDFRKApeIHt"
   },
   "source": [
    "## The dataset\n",
    "We will use the 'tips' dataset for this demo. It can be easily loaded using seaborn's `load_dataset()` function. Feel free to take some time familiarizing yourself with the dataset."
   ]
  },
  {
   "cell_type": "code",
   "execution_count": 6,
   "metadata": {
    "colab": {
     "base_uri": "https://localhost:8080/",
     "height": 206
    },
    "id": "NQ4iVN5WeIHu",
    "outputId": "78e2d975-98fe-41ff-a087-dade776db556"
   },
   "outputs": [
    {
     "data": {
      "text/html": [
       "<div>\n",
       "<style scoped>\n",
       "    .dataframe tbody tr th:only-of-type {\n",
       "        vertical-align: middle;\n",
       "    }\n",
       "\n",
       "    .dataframe tbody tr th {\n",
       "        vertical-align: top;\n",
       "    }\n",
       "\n",
       "    .dataframe thead th {\n",
       "        text-align: right;\n",
       "    }\n",
       "</style>\n",
       "<table border=\"1\" class=\"dataframe\">\n",
       "  <thead>\n",
       "    <tr style=\"text-align: right;\">\n",
       "      <th></th>\n",
       "      <th>total_bill</th>\n",
       "      <th>tip</th>\n",
       "      <th>sex</th>\n",
       "      <th>smoker</th>\n",
       "      <th>day</th>\n",
       "      <th>time</th>\n",
       "      <th>size</th>\n",
       "    </tr>\n",
       "  </thead>\n",
       "  <tbody>\n",
       "    <tr>\n",
       "      <th>0</th>\n",
       "      <td>16.99</td>\n",
       "      <td>1.01</td>\n",
       "      <td>Female</td>\n",
       "      <td>No</td>\n",
       "      <td>Sun</td>\n",
       "      <td>Dinner</td>\n",
       "      <td>2</td>\n",
       "    </tr>\n",
       "    <tr>\n",
       "      <th>1</th>\n",
       "      <td>10.34</td>\n",
       "      <td>1.66</td>\n",
       "      <td>Male</td>\n",
       "      <td>No</td>\n",
       "      <td>Sun</td>\n",
       "      <td>Dinner</td>\n",
       "      <td>3</td>\n",
       "    </tr>\n",
       "    <tr>\n",
       "      <th>2</th>\n",
       "      <td>21.01</td>\n",
       "      <td>3.50</td>\n",
       "      <td>Male</td>\n",
       "      <td>No</td>\n",
       "      <td>Sun</td>\n",
       "      <td>Dinner</td>\n",
       "      <td>3</td>\n",
       "    </tr>\n",
       "    <tr>\n",
       "      <th>3</th>\n",
       "      <td>23.68</td>\n",
       "      <td>3.31</td>\n",
       "      <td>Male</td>\n",
       "      <td>No</td>\n",
       "      <td>Sun</td>\n",
       "      <td>Dinner</td>\n",
       "      <td>2</td>\n",
       "    </tr>\n",
       "    <tr>\n",
       "      <th>4</th>\n",
       "      <td>24.59</td>\n",
       "      <td>3.61</td>\n",
       "      <td>Female</td>\n",
       "      <td>No</td>\n",
       "      <td>Sun</td>\n",
       "      <td>Dinner</td>\n",
       "      <td>4</td>\n",
       "    </tr>\n",
       "  </tbody>\n",
       "</table>\n",
       "</div>"
      ],
      "text/plain": [
       "   total_bill   tip     sex smoker  day    time  size\n",
       "0       16.99  1.01  Female     No  Sun  Dinner     2\n",
       "1       10.34  1.66    Male     No  Sun  Dinner     3\n",
       "2       21.01  3.50    Male     No  Sun  Dinner     3\n",
       "3       23.68  3.31    Male     No  Sun  Dinner     2\n",
       "4       24.59  3.61  Female     No  Sun  Dinner     4"
      ]
     },
     "execution_count": 6,
     "metadata": {},
     "output_type": "execute_result"
    }
   ],
   "source": [
    "import pandas as pd\n",
    "import seaborn as sns\n",
    "\n",
    "tips_df = sns.load_dataset(\"tips\")\n",
    "tips_df.head()"
   ]
  },
  {
   "cell_type": "code",
   "execution_count": 5,
   "metadata": {
    "colab": {
     "base_uri": "https://localhost:8080/"
    },
    "id": "GN7snH8DeIHu",
    "outputId": "962e3708-ccaa-412d-dd87-a946f1f16ef1"
   },
   "outputs": [
    {
     "name": "stdout",
     "output_type": "stream",
     "text": [
      "<class 'pandas.core.frame.DataFrame'>\n",
      "RangeIndex: 244 entries, 0 to 243\n",
      "Data columns (total 7 columns):\n",
      " #   Column      Non-Null Count  Dtype   \n",
      "---  ------      --------------  -----   \n",
      " 0   total_bill  244 non-null    float64 \n",
      " 1   tip         244 non-null    float64 \n",
      " 2   sex         244 non-null    category\n",
      " 3   smoker      244 non-null    category\n",
      " 4   day         244 non-null    category\n",
      " 5   time        244 non-null    category\n",
      " 6   size        244 non-null    int64   \n",
      "dtypes: category(4), float64(2), int64(1)\n",
      "memory usage: 7.4 KB\n"
     ]
    }
   ],
   "source": [
    "tips_df.info()"
   ]
  },
  {
   "cell_type": "code",
   "execution_count": 8,
   "metadata": {
    "colab": {
     "base_uri": "https://localhost:8080/",
     "height": 300
    },
    "id": "zn3Ea1AveIHv",
    "outputId": "3a3519c1-aaed-49c0-f4e1-7ba04e3ef502",
    "scrolled": true
   },
   "outputs": [
    {
     "data": {
      "text/html": [
       "<div>\n",
       "<style scoped>\n",
       "    .dataframe tbody tr th:only-of-type {\n",
       "        vertical-align: middle;\n",
       "    }\n",
       "\n",
       "    .dataframe tbody tr th {\n",
       "        vertical-align: top;\n",
       "    }\n",
       "\n",
       "    .dataframe thead th {\n",
       "        text-align: right;\n",
       "    }\n",
       "</style>\n",
       "<table border=\"1\" class=\"dataframe\">\n",
       "  <thead>\n",
       "    <tr style=\"text-align: right;\">\n",
       "      <th></th>\n",
       "      <th>total_bill</th>\n",
       "      <th>tip</th>\n",
       "      <th>size</th>\n",
       "    </tr>\n",
       "  </thead>\n",
       "  <tbody>\n",
       "    <tr>\n",
       "      <th>count</th>\n",
       "      <td>244.000000</td>\n",
       "      <td>244.000000</td>\n",
       "      <td>244.000000</td>\n",
       "    </tr>\n",
       "    <tr>\n",
       "      <th>mean</th>\n",
       "      <td>19.785943</td>\n",
       "      <td>2.998279</td>\n",
       "      <td>2.569672</td>\n",
       "    </tr>\n",
       "    <tr>\n",
       "      <th>std</th>\n",
       "      <td>8.902412</td>\n",
       "      <td>1.383638</td>\n",
       "      <td>0.951100</td>\n",
       "    </tr>\n",
       "    <tr>\n",
       "      <th>min</th>\n",
       "      <td>3.070000</td>\n",
       "      <td>1.000000</td>\n",
       "      <td>1.000000</td>\n",
       "    </tr>\n",
       "    <tr>\n",
       "      <th>25%</th>\n",
       "      <td>13.347500</td>\n",
       "      <td>2.000000</td>\n",
       "      <td>2.000000</td>\n",
       "    </tr>\n",
       "    <tr>\n",
       "      <th>50%</th>\n",
       "      <td>17.795000</td>\n",
       "      <td>2.900000</td>\n",
       "      <td>2.000000</td>\n",
       "    </tr>\n",
       "    <tr>\n",
       "      <th>75%</th>\n",
       "      <td>24.127500</td>\n",
       "      <td>3.562500</td>\n",
       "      <td>3.000000</td>\n",
       "    </tr>\n",
       "    <tr>\n",
       "      <th>max</th>\n",
       "      <td>50.810000</td>\n",
       "      <td>10.000000</td>\n",
       "      <td>6.000000</td>\n",
       "    </tr>\n",
       "  </tbody>\n",
       "</table>\n",
       "</div>"
      ],
      "text/plain": [
       "       total_bill         tip        size\n",
       "count  244.000000  244.000000  244.000000\n",
       "mean    19.785943    2.998279    2.569672\n",
       "std      8.902412    1.383638    0.951100\n",
       "min      3.070000    1.000000    1.000000\n",
       "25%     13.347500    2.000000    2.000000\n",
       "50%     17.795000    2.900000    2.000000\n",
       "75%     24.127500    3.562500    3.000000\n",
       "max     50.810000   10.000000    6.000000"
      ]
     },
     "execution_count": 8,
     "metadata": {},
     "output_type": "execute_result"
    }
   ],
   "source": [
    "tips_df.describe()"
   ]
  },
  {
   "cell_type": "code",
   "execution_count": 9,
   "metadata": {
    "colab": {
     "base_uri": "https://localhost:8080/"
    },
    "id": "w62x12bVeIHw",
    "outputId": "a6008370-77f2-4491-94b0-72fb7d904fce"
   },
   "outputs": [
    {
     "data": {
      "text/plain": [
       "Dinner    176\n",
       "Lunch      68\n",
       "Name: time, dtype: int64"
      ]
     },
     "execution_count": 9,
     "metadata": {},
     "output_type": "execute_result"
    }
   ],
   "source": [
    "# tips_df['sex'].value_counts()\n",
    "# tips_df['smoker'].value_counts()\n",
    "# tips_df['day'].value_counts()\n",
    "tips_df['time'].value_counts()"
   ]
  },
  {
   "cell_type": "markdown",
   "metadata": {
    "id": "TY1RSkyfeIHx"
   },
   "source": [
    "## Hypothesis Tests\n",
    "\n",
    "### Normality test\n",
    "\n",
    "Let's check out the distribution of our numerical variables total_bill, tip, and size. We can first do this graphically."
   ]
  },
  {
   "cell_type": "code",
   "execution_count": 10,
   "metadata": {
    "colab": {
     "base_uri": "https://localhost:8080/",
     "height": 283
    },
    "id": "fDvMjlhEeIHx",
    "outputId": "3df7a0e2-c64d-48e8-d429-5cf003e510c3"
   },
   "outputs": [
    {
     "data": {
      "image/png": "[encoded data removed]",
      "text/plain": [
       "<Figure size 640x480 with 1 Axes>"
      ]
     },
     "metadata": {},
     "output_type": "display_data"
    }
   ],
   "source": [
    "import matplotlib.pyplot as plt #so we can run plt.show(). Remember seaborn is built on matplotlib\n",
    "\n",
    "sns.histplot(tips_df['total_bill'])\n",
    "# sns.histplot(tips_df['tip'],bins=10)\n",
    "\n",
    "plt.show()"
   ]
  },
  {
   "cell_type": "markdown",
   "metadata": {
    "id": "HBJ0WCEVeIHy"
   },
   "source": [
    "None of these variables seem to be normally distributed. Let's perform Shapiro-Wilk's normality test to confirm. For this test, remember:\n",
    "- H<sub>0</sub>: data is normally distributed\n",
    "- H<sub>a</sub>: data is not normally distributed\n",
    "\n",
    "The python library `scipy` contains functions that will do statistical tests for you. "
   ]
  },
  {
   "cell_type": "code",
   "execution_count": 13,
   "metadata": {
    "colab": {
     "base_uri": "https://localhost:8080/"
    },
    "id": "06mRNw6YeIHy",
    "outputId": "8871afd8-820d-4010-8c85-a0e4af38e449"
   },
   "outputs": [
    {
     "name": "stdout",
     "output_type": "stream",
     "text": [
      "0.000000000332456\n"
     ]
    }
   ],
   "source": [
    "from scipy import stats\n",
    "stat, p = stats.shapiro(tips_df['total_bill'])\n",
    "print('%0.15f' % p)\n"
   ]
  },
  {
   "cell_type": "markdown",
   "metadata": {
    "id": "5_dLurD2eIHz"
   },
   "source": [
    "Most tests will return both a \"test statistic\" and a \"p-value\". To keep things simple, we can just focus on the p-value, but know you would come to the same conclusion if you used the test statistic. Since p<0.05, we reject the null hypothesis that the data is normally distributed.\n",
    "> Scientific notation can be used for very small or big numbers. E.g.: 5.13e-4 = 5.13 x 10<sup>-4</sup> = 0.000513\n",
    "\n",
    "> Later we will look at how performing a transformation on data can make it normally distributed.\n",
    "\n",
    "All other common hypothesis tests can done in a similar manner. Simply pass the approriate data into the scipy function, and it will return a result. The documentation for all of scipy's stats functions can be found [here](https://docs.scipy.org/doc/scipy/reference/stats.html). Note that there are more than just the hypothesis testing functions."
   ]
  },
  {
   "cell_type": "markdown",
   "metadata": {
    "id": "LIxSIndKeIHz"
   },
   "source": [
    "### Correlation test (numerical data)\n",
    "\n",
    "Going back to the dataset, we might hypothesize that the higher the total bill, the higher the tip should be, since most people tip on a percentage basis. We can check this hypothesis informally by viewing the data graphically via a scatter plot, and then more formally using a hypothesis test for linear correlation (Pearson's correlation coefficient test)."
   ]
  },
  {
   "cell_type": "code",
   "execution_count": 14,
   "metadata": {
    "colab": {
     "base_uri": "https://localhost:8080/",
     "height": 280
    },
    "id": "RavYtbj0eIH0",
    "outputId": "813ec61c-e986-442e-da57-6bb32866446d"
   },
   "outputs": [
    {
     "data": {
      "image/png": "[encoded data removed]",
      "text/plain": [
       "<Figure size 640x480 with 1 Axes>"
      ]
     },
     "metadata": {},
     "output_type": "display_data"
    }
   ],
   "source": [
    "sns.scatterplot(x=tips_df['total_bill'], y=tips_df['tip'], alpha = 0.7)\n",
    "plt.show()"
   ]
  },
  {
   "cell_type": "code",
   "execution_count": 15,
   "metadata": {
    "colab": {
     "base_uri": "https://localhost:8080/"
    },
    "id": "IynPfHXBeIH0",
    "outputId": "97294bf7-299c-4643-96a8-e66d76fa287b"
   },
   "outputs": [
    {
     "data": {
      "text/plain": [
       "6.692470646864428e-34"
      ]
     },
     "execution_count": 15,
     "metadata": {},
     "output_type": "execute_result"
    }
   ],
   "source": [
    "stat, p = stats.pearsonr(tips_df['total_bill'], tips_df['tip'])\n",
    "p"
   ]
  },
  {
   "cell_type": "markdown",
   "metadata": {
    "id": "xhmLmWvceIH1"
   },
   "source": [
    "Whenever we perform a hypothesis test, we must remember what the null and alternative hypotheses are. For the Pearson's correlation coefficient test:\n",
    "- H<sub>0</sub>: no correlation between the two variables\n",
    "- H<sub>a</sub>: correlation between the two variables\n",
    "\n",
    "Since the p-value is <0.05, we can conclude that there is significant correlation between total_bill and tip.\n",
    "\n",
    "### Independence test (categorical data)\n",
    "\n",
    "We can also test correlation between categorical variables by testing independence. Suppose we are interested in if there is any dependence between sex and smoker. We can use the **chi-squared test** for this, however the chi-squared function requires a \"contingency table\" with frequencies as input, instead of just the raw data. Luckily we can easily create this table using panda's `crosstab` function."
   ]
  },
  {
   "cell_type": "code",
   "execution_count": 16,
   "metadata": {
    "colab": {
     "base_uri": "https://localhost:8080/",
     "height": 143
    },
    "id": "wnWpNzqWeIH2",
    "outputId": "f23603c6-8717-4833-ae55-755199b4cd28"
   },
   "outputs": [
    {
     "data": {
      "text/html": [
       "<div>\n",
       "<style scoped>\n",
       "    .dataframe tbody tr th:only-of-type {\n",
       "        vertical-align: middle;\n",
       "    }\n",
       "\n",
       "    .dataframe tbody tr th {\n",
       "        vertical-align: top;\n",
       "    }\n",
       "\n",
       "    .dataframe thead th {\n",
       "        text-align: right;\n",
       "    }\n",
       "</style>\n",
       "<table border=\"1\" class=\"dataframe\">\n",
       "  <thead>\n",
       "    <tr style=\"text-align: right;\">\n",
       "      <th>smoker</th>\n",
       "      <th>Yes</th>\n",
       "      <th>No</th>\n",
       "    </tr>\n",
       "    <tr>\n",
       "      <th>sex</th>\n",
       "      <th></th>\n",
       "      <th></th>\n",
       "    </tr>\n",
       "  </thead>\n",
       "  <tbody>\n",
       "    <tr>\n",
       "      <th>Male</th>\n",
       "      <td>60</td>\n",
       "      <td>97</td>\n",
       "    </tr>\n",
       "    <tr>\n",
       "      <th>Female</th>\n",
       "      <td>33</td>\n",
       "      <td>54</td>\n",
       "    </tr>\n",
       "  </tbody>\n",
       "</table>\n",
       "</div>"
      ],
      "text/plain": [
       "smoker  Yes  No\n",
       "sex            \n",
       "Male     60  97\n",
       "Female   33  54"
      ]
     },
     "execution_count": 16,
     "metadata": {},
     "output_type": "execute_result"
    }
   ],
   "source": [
    "contingency = pd.crosstab(tips_df['sex'], tips_df['smoker'])\n",
    "contingency"
   ]
  },
  {
   "cell_type": "markdown",
   "metadata": {
    "id": "jmCIQImIeIH3"
   },
   "source": [
    "As you can see, a contingency table just reformats our raw data into a table of counts for each combination of categories. This is the input used for scipy's chi-squared function. We can see that the distribution of smokers/non-smokers across the different sexes seems pretty similar. This indicates sex and smoker are probably independent. Of course we can perform a hypothesis test to formalize our conclusion."
   ]
  },
  {
   "cell_type": "code",
   "execution_count": 17,
   "metadata": {
    "colab": {
     "base_uri": "https://localhost:8080/"
    },
    "id": "2-8TJhYqeIH4",
    "outputId": "4317a2e8-f304-44c3-9c53-7d89afc81374"
   },
   "outputs": [
    {
     "name": "stdout",
     "output_type": "stream",
     "text": [
      "1.000000000000000000000000000000000000000000000000000000000000\n"
     ]
    }
   ],
   "source": [
    "stat, p, dof, expected = stats.chi2_contingency(contingency)\n",
    "print('%0.60f' % p)"
   ]
  },
  {
   "cell_type": "markdown",
   "metadata": {
    "id": "yx5Se9TmeIH4"
   },
   "source": [
    "With a p-value>0.05, we cannot reject the null hypothesis that sex and smoker are independent."
   ]
  },
  {
   "cell_type": "markdown",
   "metadata": {
    "id": "zaqfVp3UeIH5"
   },
   "source": [
    "### T-tests\n",
    "A more interesting question we could ask from our data is: on average, do males and females tip different amounts? When comparing averages between two groups, we can use a T-test. There are actually a few variations of the t-test, based on other factors (equal variances, paired data). We will examine this in more detail shortly.\n",
    "\n",
    "For now, let's start by just using the default t-test from scipy. Once again, we will need to reformat our data before we can feed it into the t-test function. We need two series of tip data--one for males and one for females. We can do this easily using pandas."
   ]
  },
  {
   "cell_type": "code",
   "execution_count": 18,
   "metadata": {
    "colab": {
     "base_uri": "https://localhost:8080/"
    },
    "id": "DxPiZ5fgeIH5",
    "outputId": "fb9bc407-48f9-4522-a3a9-8ab30fcabfe4"
   },
   "outputs": [
    {
     "name": "stdout",
     "output_type": "stream",
     "text": [
      "3.0896178343949043 2.8334482758620685\n"
     ]
    }
   ],
   "source": [
    "male_tips = tips_df[tips_df['sex']=='Male']['tip']\n",
    "female_tips = tips_df[tips_df['sex']=='Female']['tip']\n",
    "print(male_tips.mean(), female_tips.mean())"
   ]
  },
  {
   "cell_type": "markdown",
   "metadata": {
    "id": "YKfwwsrUeIH5"
   },
   "source": [
    "We can also view this comparison visually out of curiosity."
   ]
  },
  {
   "cell_type": "code",
   "execution_count": 19,
   "metadata": {
    "colab": {
     "base_uri": "https://localhost:8080/",
     "height": 279
    },
    "id": "xYFPJ_paeIH6",
    "outputId": "59e2cd95-bf1d-4764-c63a-92883595c7e3"
   },
   "outputs": [
    {
     "data": {
      "image/png": "[encoded data removed]",
      "text/plain": [
       "<Figure size 640x480 with 1 Axes>"
      ]
     },
     "metadata": {},
     "output_type": "display_data"
    }
   ],
   "source": [
    "sns.barplot(data=tips_df, x='sex', y='tip')\n",
    "plt.show()"
   ]
  },
  {
   "cell_type": "markdown",
   "metadata": {
    "id": "NyIh4gS7eIH6"
   },
   "source": [
    "The two averages seem close, but are they significantly different? This is a great demo on why we need hypothesis testing! To handle cases where we are unsure what to conclude."
   ]
  },
  {
   "cell_type": "code",
   "execution_count": 20,
   "metadata": {
    "colab": {
     "base_uri": "https://localhost:8080/"
    },
    "id": "V1BMgAz1eIH6",
    "outputId": "decbb2b3-02ef-4d63-d37b-e5697946a45c"
   },
   "outputs": [
    {
     "data": {
      "text/plain": [
       "0.16645623503456752"
      ]
     },
     "execution_count": 20,
     "metadata": {},
     "output_type": "execute_result"
    }
   ],
   "source": [
    "stat, p = stats.ttest_ind(male_tips, female_tips)\n",
    "p"
   ]
  },
  {
   "cell_type": "markdown",
   "metadata": {
    "id": "BZ_tzeXseIH6"
   },
   "source": [
    "Remember for a t-test, the hypotheses are:\n",
    "- H<sub>0</sub>: averages are equal\n",
    "- H<sub>a</sub>: averages are not equal\n",
    "\n",
    "So since our p-value is >0.05, we do not reject the null hypothesis that the averages are equal. Therefore, we would conclude that there is not enough evidence to conclude that there is a significant difference between the average tip amount of males vs females.\n",
    "\n",
    "#### T-test assumptions\n",
    "\n",
    "The default t-test actually assumes that the variance of the data among the two groups is equal. I.e. the variance of male tips is equal to the variance of female tips. Was it valid to make this assumption? Well there's an <del>app</del> hypothesis test for that!\n",
    "\n",
    "### Equal variance test\n",
    "\n",
    "In statistics, **Levene's test** is a popular test for equal variances. There is also Bartlett's test (and others) that also test for equal variances, but some of these other tests require more assumptions. To keep things simple, let's just focus on the widely used Levene's test. Here we will just use it to compare the variances of two populations, but it can be extended to compare variances among more than two populations. Levene's test has the following hypotheses:\n",
    "- H<sub>0</sub>: variances are equal\n",
    "- H<sub>a</sub>: variances are not equal"
   ]
  },
  {
   "cell_type": "code",
   "execution_count": 21,
   "metadata": {
    "colab": {
     "base_uri": "https://localhost:8080/"
    },
    "id": "f1HIv_ZEeIH7",
    "outputId": "bbcbf4db-c830-4bca-9c18-7b94a0f08bde"
   },
   "outputs": [
    {
     "name": "stdout",
     "output_type": "stream",
     "text": [
      "[2.217424211987588, 1.3444275060144346]\n"
     ]
    }
   ],
   "source": [
    "male_tips_var = male_tips.std()**2\n",
    "female_tips_var = female_tips.std()**2\n",
    "\n",
    "print([male_tips_var, female_tips_var])\n"
   ]
  },
  {
   "cell_type": "code",
   "execution_count": 22,
   "metadata": {
    "colab": {
     "base_uri": "https://localhost:8080/"
    },
    "id": "rWpYBbJoeIH7",
    "outputId": "19da274b-4df5-430a-c7e5-14f2db7fc366"
   },
   "outputs": [
    {
     "data": {
      "text/plain": [
       "0.1595236359896607"
      ]
     },
     "execution_count": 22,
     "metadata": {},
     "output_type": "execute_result"
    }
   ],
   "source": [
    "stat, p = stats.levene(male_tips, female_tips)\n",
    "p"
   ]
  },
  {
   "cell_type": "markdown",
   "metadata": {
    "id": "_CIMQAoqeIH7"
   },
   "source": [
    "Since the p-value>0.05, we cannot conclude unequal variances, and so we were correct in using the original (default) t-test. For educational purposes, if we want to run the t-test without the equal variance assumption, we just need to pass in an extra parameter."
   ]
  },
  {
   "cell_type": "code",
   "execution_count": 23,
   "metadata": {
    "colab": {
     "base_uri": "https://localhost:8080/"
    },
    "id": "y_VoRfbJeIH8",
    "outputId": "13d4241d-2a3f-4e8a-a0ef-f078d0013f88",
    "scrolled": true
   },
   "outputs": [
    {
     "data": {
      "text/plain": [
       "0.13780683808650296"
      ]
     },
     "execution_count": 23,
     "metadata": {},
     "output_type": "execute_result"
    }
   ],
   "source": [
    "#t-test for equal averages, without the equal variance assumption.\n",
    "stat, p = stats.ttest_ind(male_tips, female_tips, equal_var=False)\n",
    "p"
   ]
  },
  {
   "cell_type": "markdown",
   "metadata": {
    "id": "EZI0O4nEeIH8"
   },
   "source": [
    "### T-test for paired data\n",
    "\n",
    "If we have *paired data*, there is yet another t-test variation for this scenario.\n",
    "\n",
    "**Paired data** is data the comes in pairs, so it is dependent. For our male/female tip data, the data was taken at different times and was independent of each other. We could shuffle the ordering of our data in the groups and it wouldn't make a difference.\n",
    "\n",
    "On the other hand, paired data occurs when there is a natural matching in the data. For example, the total_bill and tip columns are paired data - they correspond to the same customer. So if I wanted to test if the average total_bill was equal to the average tip, we would used a T-test for paired data.\n",
    "> Note: total_bill is obviously much larger than tip, but we will do this test anyway for educational purposes."
   ]
  },
  {
   "cell_type": "code",
   "execution_count": 24,
   "metadata": {
    "colab": {
     "base_uri": "https://localhost:8080/"
    },
    "id": "u_aAyIwceIH8",
    "outputId": "54f77d1d-d9e2-4087-be72-01f6ff0f8718"
   },
   "outputs": [
    {
     "data": {
      "text/plain": [
       "8.02001860502085e-91"
      ]
     },
     "execution_count": 24,
     "metadata": {},
     "output_type": "execute_result"
    }
   ],
   "source": [
    "#t-test for paired data\n",
    "stat, p = stats.ttest_rel(tips_df['total_bill'], tips_df['tip'])\n",
    "p"
   ]
  },
  {
   "cell_type": "markdown",
   "metadata": {
    "id": "McME3L3eeIH8"
   },
   "source": [
    "What is your conclusion, based on the result of this test?"
   ]
  },
  {
   "cell_type": "markdown",
   "metadata": {
    "id": "bg0ZJrXVeIH9"
   },
   "source": [
    "### Testing equal averages with more than two groups.\n",
    "\n",
    "If we want to test averages across more than two groups, we can use the one-way ANOVA test. For this test:\n",
    "- H<sub>0</sub>: all averages are equal\n",
    "- H<sub>a</sub>: one or more averages are not equal\n",
    "\n",
    "Perhaps we are interested in if people tip differently on each day of the week (Thu, Fri, Sat, Sun). Let's first take a look at this visually before we hypothesis test."
   ]
  },
  {
   "cell_type": "code",
   "execution_count": 25,
   "metadata": {
    "colab": {
     "base_uri": "https://localhost:8080/",
     "height": 279
    },
    "id": "wcPll8CceIH9",
    "outputId": "86bf4d24-00e9-465c-9d55-5d23101ce24f"
   },
   "outputs": [
    {
     "data": {
      "image/png": "[encoded data removed]",
      "text/plain": [
       "<Figure size 640x480 with 1 Axes>"
      ]
     },
     "metadata": {},
     "output_type": "display_data"
    }
   ],
   "source": [
    "sns.barplot(data=tips_df, x='day', y='tip')\n",
    "plt.show()"
   ]
  },
  {
   "cell_type": "markdown",
   "metadata": {
    "id": "iMZ_obUPeIH9"
   },
   "source": [
    "It looks like the average tip on Sunday is larger than the rest, but is it significantly different? If we create series containing tips for each day of the week, we can use this as input for the one-way ANOVA test function."
   ]
  },
  {
   "cell_type": "code",
   "execution_count": 26,
   "metadata": {
    "colab": {
     "base_uri": "https://localhost:8080/"
    },
    "id": "h_MF4lt5eIH9",
    "outputId": "603834e9-c3e6-4445-8231-baee2ddbb4b0"
   },
   "outputs": [
    {
     "data": {
      "text/plain": [
       "0.17358855530405828"
      ]
     },
     "execution_count": 26,
     "metadata": {},
     "output_type": "execute_result"
    }
   ],
   "source": [
    "thu_tips = tips_df[tips_df['day']=='Thur']['tip']\n",
    "fri_tips = tips_df[tips_df['day']=='Fri']['tip']\n",
    "sat_tips = tips_df[tips_df['day']=='Sat']['tip']\n",
    "sun_tips = tips_df[tips_df['day']=='Sun']['tip']\n",
    "\n",
    "stat, p = stats.f_oneway(thu_tips, fri_tips, sat_tips, sun_tips)\n",
    "p"
   ]
  },
  {
   "cell_type": "markdown",
   "metadata": {
    "id": "syCOTYupeIH-"
   },
   "source": [
    "Since p-value > 0.05, there is not a significant difference in average tips among all of the days."
   ]
  },
  {
   "cell_type": "markdown",
   "metadata": {
    "id": "bYTy37xQeIH-"
   },
   "source": [
    "## Scaling Data\n",
    "Scaling data is an important concept that will be useful later on in the course. For now, let's just take a look on how to perform scaling. There are two common scaling methods: **standardizing** and **min-max normalization**.\n",
    "\n",
    "### Standardizing\n",
    "Standardizing centers the data at zero (mean=0) and measures the number of standard deviations away from the mean. This process can be represented mathematically:\n",
    "$$\n",
    "\\dfrac{x_i - mean(x)}{std(x)}\n",
    "$$\n",
    "Let's standardize the total_bill column. We will also view its distribution before and after standardization."
   ]
  },
  {
   "cell_type": "code",
   "execution_count": 27,
   "metadata": {
    "colab": {
     "base_uri": "https://localhost:8080/",
     "height": 280
    },
    "id": "Zr91k9oaeIH-",
    "outputId": "d28f6c4d-32a5-43c0-f7f4-434dbac41184"
   },
   "outputs": [
    {
     "data": {
      "image/png": "[encoded data removed]",
      "text/plain": [
       "<Figure size 640x480 with 1 Axes>"
      ]
     },
     "metadata": {},
     "output_type": "display_data"
    }
   ],
   "source": [
    "sns.kdeplot(data=tips_df, x=\"total_bill\")\n",
    "plt.show()"
   ]
  },
  {
   "cell_type": "code",
   "execution_count": 28,
   "metadata": {
    "colab": {
     "base_uri": "https://localhost:8080/",
     "height": 280
    },
    "id": "2JiKu3TweIH-",
    "outputId": "257b395e-0383-40a9-ca16-dec4fcd85519"
   },
   "outputs": [
    {
     "data": {
      "image/png": "[encoded data removed]",
      "text/plain": [
       "<Figure size 640x480 with 1 Axes>"
      ]
     },
     "metadata": {},
     "output_type": "display_data"
    }
   ],
   "source": [
    "total_bill_standardized = (tips_df['total_bill'] - tips_df['total_bill'].mean()) / tips_df['total_bill'].std()\n",
    "sns.kdeplot(total_bill_standardized)\n",
    "plt.show()"
   ]
  },
  {
   "cell_type": "markdown",
   "metadata": {
    "id": "V1MgfM01eIH-"
   },
   "source": [
    "Notice how the data now seems to have a mean of zero, and a standard deviation of around 1. We can verify this."
   ]
  },
  {
   "cell_type": "code",
   "execution_count": 29,
   "metadata": {
    "colab": {
     "base_uri": "https://localhost:8080/"
    },
    "id": "BBok6zV9eIH_",
    "outputId": "c9c67751-6de5-41fb-e2d9-577954d4f4be"
   },
   "outputs": [
    {
     "name": "stdout",
     "output_type": "stream",
     "text": [
      "-6.028875031263658e-17 1.0\n"
     ]
    }
   ],
   "source": [
    "print(total_bill_standardized.mean(), total_bill_standardized.std())"
   ]
  },
  {
   "cell_type": "markdown",
   "metadata": {
    "id": "_qAo2c7FeIH_"
   },
   "source": [
    "> Note since standardization is a column task in data science, instead of having to do this manually everytime, later in the course you will see a Python \"class\" that can do this for you (from the sklearn library).\n",
    "\n",
    "### Normalization\n",
    "\n",
    "Another popular form of scaling is min-max normalization. This essentially squishes the data into a desired range (0 to 1 by default). This process can be represented mathematically:\n",
    "$$\n",
    "\\dfrac{x_i - min(x)}{max(x) - min(x)}\n",
    "$$\n",
    "Let's once again do this on our total_bill data."
   ]
  },
  {
   "cell_type": "code",
   "execution_count": 30,
   "metadata": {
    "colab": {
     "base_uri": "https://localhost:8080/",
     "height": 283
    },
    "id": "MSZKD3e2eIH_",
    "outputId": "ad089333-3ef1-44f3-da18-a43bcd26d69e"
   },
   "outputs": [
    {
     "data": {
      "image/png": "[encoded data removed]",
      "text/plain": [
       "<Figure size 640x480 with 1 Axes>"
      ]
     },
     "metadata": {},
     "output_type": "display_data"
    }
   ],
   "source": [
    "sns.histplot(data=tips_df, x=\"total_bill\")\n",
    "plt.show()"
   ]
  },
  {
   "cell_type": "code",
   "execution_count": 31,
   "metadata": {
    "colab": {
     "base_uri": "https://localhost:8080/",
     "height": 283
    },
    "id": "DJc1HIGEeIH_",
    "outputId": "d15ec6aa-555d-4a07-9ff2-c3301fd9dd62"
   },
   "outputs": [
    {
     "data": {
      "image/png": "[encoded data removed]",
      "text/plain": [
       "<Figure size 640x480 with 1 Axes>"
      ]
     },
     "metadata": {},
     "output_type": "display_data"
    }
   ],
   "source": [
    "total_bill_normalized = (tips_df['total_bill'] - tips_df['total_bill'].min()) / (tips_df['total_bill'].max() - tips_df['total_bill'].min())\n",
    "sns.histplot(total_bill_normalized)\n",
    "plt.show()"
   ]
  },
  {
   "cell_type": "markdown",
   "metadata": {
    "id": "C9BQZqWoeIIA"
   },
   "source": [
    "> There is also a Python \"class\" that can do this for you (from the sklearn library).\n",
    "\n",
    "If we want to squish our data into an different interval than 0 to 1, we can now just multiply by the new desired range and add the start of the new desired interval."
   ]
  },
  {
   "cell_type": "code",
   "execution_count": 32,
   "metadata": {
    "colab": {
     "base_uri": "https://localhost:8080/",
     "height": 283
    },
    "id": "d3wfLnwKeIIA",
    "outputId": "0101276a-23da-49db-88ac-03d12f1f2116"
   },
   "outputs": [
    {
     "data": {
      "image/png": "[encoded data removed]",
      "text/plain": [
       "<Figure size 640x480 with 1 Axes>"
      ]
     },
     "metadata": {},
     "output_type": "display_data"
    }
   ],
   "source": [
    "start_new_interval = -1\n",
    "end_new_interval = 1\n",
    "new_range = end_new_interval - start_new_interval\n",
    "\n",
    "total_bill_normalized_new_interval = total_bill_normalized*new_range + start_new_interval\n",
    "sns.histplot(total_bill_normalized_new_interval)\n",
    "plt.show()"
   ]
  },
  {
   "cell_type": "markdown",
   "metadata": {
    "id": "eDW1xpTteIIA"
   },
   "source": [
    "## Transforming Data\n",
    "\n",
    "Lastly, let's talk about transforming data! Sometimes we require our data to be normally distributed. If our data is not normally distributed, we can try to perform transformations to turn it into a normal distribution.\n",
    "\n",
    "![](images/transformations.png)\n",
    "\n",
    "Recall from earlier in this notebook that we saw total_bill was right-skewed and failed the Shapiro-Wilk test for normality."
   ]
  },
  {
   "cell_type": "code",
   "execution_count": 33,
   "metadata": {
    "colab": {
     "base_uri": "https://localhost:8080/",
     "height": 301
    },
    "id": "1SiO_VNqeIIA",
    "outputId": "d8485dbd-d645-423f-c3eb-993065f3b311"
   },
   "outputs": [
    {
     "name": "stdout",
     "output_type": "stream",
     "text": [
      "3.3245634023515436e-10\n"
     ]
    },
    {
     "data": {
      "image/png": "[encoded data removed]",
      "text/plain": [
       "<Figure size 640x480 with 1 Axes>"
      ]
     },
     "metadata": {},
     "output_type": "display_data"
    }
   ],
   "source": [
    "stat, p = stats.shapiro(tips_df['total_bill'])\n",
    "print(p)\n",
    "sns.histplot(data=tips_df, x=\"total_bill\")\n",
    "plt.show()"
   ]
  },
  {
   "cell_type": "markdown",
   "metadata": {
    "id": "46dMicc9eIIA"
   },
   "source": [
    "### Right-skewed data\n",
    "For right-skewed data, often a log transformation or some root transformation (square-root, cube-root, etc.) can be used.\n",
    "> Be careful with negatives, since you can't take the log or the square root of a negative number! You can get around this by just doing some transformation to make it positive (like shifting by the minimum)."
   ]
  },
  {
   "cell_type": "code",
   "execution_count": 34,
   "metadata": {
    "colab": {
     "base_uri": "https://localhost:8080/"
    },
    "id": "WqENIZ1NeIIA",
    "outputId": "c7d96ce5-bbf5-489f-f2f3-785e24ed2522"
   },
   "outputs": [
    {
     "name": "stdout",
     "output_type": "stream",
     "text": [
      "0.15763981640338898\n"
     ]
    },
    {
     "data": {
      "image/png": "[encoded data removed]",
      "text/plain": [
       "<Figure size 640x480 with 1 Axes>"
      ]
     },
     "metadata": {},
     "output_type": "display_data"
    }
   ],
   "source": [
    "import numpy as np\n",
    "log_total_bill = np.log(tips_df['total_bill'])\n",
    "\n",
    "stat, p = stats.shapiro(log_total_bill)\n",
    "print(p)\n",
    "sns.histplot(log_total_bill)\n",
    "plt.show()"
   ]
  },
  {
   "cell_type": "code",
   "execution_count": 35,
   "metadata": {
    "colab": {
     "base_uri": "https://localhost:8080/"
    },
    "id": "P7h8lT0xeIIB",
    "outputId": "4a136655-1ed6-4820-e4ab-71dacf806ab0"
   },
   "outputs": [
    {
     "name": "stdout",
     "output_type": "stream",
     "text": [
      "0.00025737282703630626\n"
     ]
    },
    {
     "data": {
      "image/png": "[encoded data removed]",
      "text/plain": [
       "<Figure size 640x480 with 1 Axes>"
      ]
     },
     "metadata": {},
     "output_type": "display_data"
    }
   ],
   "source": [
    "sqrt_total_bill = tips_df['total_bill']**(1/2) # will need more than square root in this case\n",
    "\n",
    "stat, p = stats.shapiro(sqrt_total_bill)\n",
    "print(p)\n",
    "sns.histplot(sqrt_total_bill)\n",
    "plt.show()"
   ]
  },
  {
   "cell_type": "markdown",
   "metadata": {
    "id": "XtDEXqoQeIIB"
   },
   "source": [
    "### Left-skewed data\n",
    "For left-skewed data, we often just convert it into right-skewed data (by subtracting it from the max) and then use the same techniques :)\n",
    "\n",
    "Since we don't have left-skewed data in this dataset, let's do the following (for educational purposes):\n",
    "1. turn our original right-skewed total_tip data into left-skewed data (and pretend this is our original).\n",
    "2. turn this data into a normal distribution."
   ]
  },
  {
   "cell_type": "code",
   "execution_count": 37,
   "metadata": {
    "colab": {
     "base_uri": "https://localhost:8080/",
     "height": 301
    },
    "id": "g309EosreIIB",
    "outputId": "b31311c8-ef0a-41e7-9922-a089dcf33977"
   },
   "outputs": [
    {
     "data": {
      "text/plain": [
       "<AxesSubplot: xlabel='total_bill', ylabel='Count'>"
      ]
     },
     "execution_count": 37,
     "metadata": {},
     "output_type": "execute_result"
    },
    {
     "data": {
      "image/png": "[encoded data removed]",
      "text/plain": [
       "<Figure size 640x480 with 1 Axes>"
      ]
     },
     "metadata": {},
     "output_type": "display_data"
    }
   ],
   "source": [
    "# turn right-skewed original tip data and make it left-skewed\n",
    "left_skew_total_tip = tips_df['total_bill'].max() - tips_df['total_bill']\n",
    "sns.histplot(left_skew_total_tip)"
   ]
  },
  {
   "cell_type": "markdown",
   "metadata": {
    "id": "VcQfS7dGeIIB"
   },
   "source": [
    "So let's pretend this is our original and want to turn it into a normal distribution. "
   ]
  },
  {
   "cell_type": "code",
   "execution_count": 38,
   "metadata": {
    "colab": {
     "base_uri": "https://localhost:8080/",
     "height": 317
    },
    "id": "gGzwEtUieIIC",
    "outputId": "00fef31c-4075-49f3-9ecf-e2e0e674bf8e"
   },
   "outputs": [
    {
     "name": "stdout",
     "output_type": "stream",
     "text": [
      "8.462427649646997e-05\n"
     ]
    },
    {
     "data": {
      "text/plain": [
       "<AxesSubplot: xlabel='total_bill', ylabel='Count'>"
      ]
     },
     "execution_count": 38,
     "metadata": {},
     "output_type": "execute_result"
    },
    {
     "data": {
      "image/png": "[encoded data removed]",
      "text/plain": [
       "<Figure size 640x480 with 1 Axes>"
      ]
     },
     "metadata": {},
     "output_type": "display_data"
    }
   ],
   "source": [
    "log_left_skew = np.log(left_skew_total_tip.max() - left_skew_total_tip+1) # +1 to avoid log of zero\n",
    "stat, p = stats.shapiro(log_left_skew)\n",
    "print(p)\n",
    "sns.histplot(log_left_skew)\n"
   ]
  },
  {
   "cell_type": "markdown",
   "metadata": {
    "id": "J4T8MzRheIIC"
   },
   "source": [
    "### Limits of normalization\n",
    "If we normalize with minimum and maximum values, we may end up with our data squished too much because of outliers.\n",
    "\n",
    "Let's add some outliers into the data to see what happens..."
   ]
  },
  {
   "cell_type": "code",
   "execution_count": 40,
   "metadata": {
    "id": "D1wmGOaXeIIC"
   },
   "outputs": [],
   "source": [
    "total_bill = tips_df['total_bill'].values\n",
    "total_bill = np.append(total_bill,[0.01, 200])"
   ]
  },
  {
   "cell_type": "markdown",
   "metadata": {
    "id": "fzIp0xaeeIIC"
   },
   "source": [
    "Let's see the histogram:"
   ]
  },
  {
   "cell_type": "code",
   "execution_count": 41,
   "metadata": {
    "colab": {
     "base_uri": "https://localhost:8080/",
     "height": 265
    },
    "id": "GrUVthKGeIIC",
    "outputId": "fb6ee4e8-884c-454a-f811-4b258210e6d3"
   },
   "outputs": [
    {
     "data": {
      "image/png": "[encoded data removed]",
      "text/plain": [
       "<Figure size 640x480 with 1 Axes>"
      ]
     },
     "metadata": {},
     "output_type": "display_data"
    }
   ],
   "source": [
    "sns.histplot(total_bill)\n",
    "plt.show()"
   ]
  },
  {
   "cell_type": "markdown",
   "metadata": {
    "id": "S6yZWCYueIIC"
   },
   "source": [
    "And what about if we normalize?"
   ]
  },
  {
   "cell_type": "code",
   "execution_count": 42,
   "metadata": {
    "colab": {
     "base_uri": "https://localhost:8080/",
     "height": 265
    },
    "id": "b-6EgF9DeIID",
    "outputId": "93a8dd18-bbe5-45ad-ea44-a49e0a1f0e64"
   },
   "outputs": [
    {
     "data": {
      "image/png": "[encoded data removed]",
      "text/plain": [
       "<Figure size 640x480 with 1 Axes>"
      ]
     },
     "metadata": {},
     "output_type": "display_data"
    }
   ],
   "source": [
    "total_bill_norm = (total_bill - np.min(total_bill))/(np.max(total_bill) - np.min(total_bill))\n",
    "sns.histplot(total_bill_norm)\n",
    "plt.show()"
   ]
  },
  {
   "cell_type": "markdown",
   "metadata": {
    "id": "307Uq7V1eIID"
   },
   "source": [
    "So now we see that the data we really care about is only in the 0-0.2 range, all because one really large data point is included."
   ]
  },
  {
   "cell_type": "code",
   "execution_count": null,
   "metadata": {
    "id": "TMi_mXzggYj_"
   },
   "outputs": [],
   "source": []
  }
 ],
 "metadata": {
  "colab": {
   "provenance": []
  },
  "kernelspec": {
   "display_name": "Python 3 (ipykernel)",
   "language": "python",
   "name": "python3"
  },
  "language_info": {
   "codemirror_mode": {
    "name": "ipython",
    "version": 3
   },
   "file_extension": ".py",
   "mimetype": "text/x-python",
   "name": "python",
   "nbconvert_exporter": "python",
   "pygments_lexer": "ipython3",
   "version": "3.8.15"
  }
 },
 "nbformat": 4,
 "nbformat_minor": 4
}
