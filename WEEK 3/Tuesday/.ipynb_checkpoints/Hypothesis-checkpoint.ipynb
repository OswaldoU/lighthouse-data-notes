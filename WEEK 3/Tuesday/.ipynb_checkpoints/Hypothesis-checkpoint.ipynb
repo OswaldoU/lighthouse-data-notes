{
 "cells": [
  {
   "cell_type": "code",
   "execution_count": 1,
   "id": "ca9362a4-1e77-45ce-84e9-b0849458d98f",
   "metadata": {},
   "outputs": [],
   "source": [
    "### Hypothesis Testing\n",
    "\n",
    "## In this activity, we will learn how to perform hypothesis testing by statistical simulation."
   ]
  },
  {
   "cell_type": "code",
   "execution_count": 2,
   "id": "134f890f-8a35-4298-af6d-7513407b020d",
   "metadata": {},
   "outputs": [],
   "source": [
    "### Use-case\n",
    "\n",
    "## Imagine you are the owner of two electronics stores. In both stores, you sell the same model of cell phone at the same price. \n",
    "## You are curious if the sales of this cell phone are the same at each store."
   ]
  },
  {
   "cell_type": "code",
   "execution_count": 3,
   "id": "96707eba-cb58-4fb3-a422-0912c4ac83c6",
   "metadata": {},
   "outputs": [],
   "source": [
    "### Simulation\n",
    "\n",
    "## Let's simulate these sales with Python and the Numpy library."
   ]
  },
  {
   "cell_type": "code",
   "execution_count": 4,
   "id": "0c59c4d7-8860-4cde-8fbf-0bfc5b05396e",
   "metadata": {},
   "outputs": [],
   "source": [
    "# import numpy\n",
    "import numpy as np\n",
    "\n",
    "# set a random seed to replicate results\n",
    "np.random.seed(42)"
   ]
  },
  {
   "cell_type": "code",
   "execution_count": 5,
   "id": "4425e48c-7186-40e6-ab02-ab90f605f772",
   "metadata": {},
   "outputs": [],
   "source": [
    "## Since we don't have real data, we will simulate our one-year sales with np.random.normal function."
   ]
  },
  {
   "cell_type": "code",
   "execution_count": 6,
   "id": "644a1d14-1bc3-469f-8e9a-df38a75e437b",
   "metadata": {},
   "outputs": [],
   "source": [
    "# sales history in days\n",
    "history = 365\n",
    "\n",
    "# generate one-year sales for store A\n",
    "mean_A = 20\n",
    "std_A = 5\n",
    "shop_A_sales = np.random.normal(mean_A, std_A, history)\n",
    "\n",
    "# generate one-year sales for store B\n",
    "mean_B = 19.5\n",
    "std_B = 5\n",
    "shop_B_sales = np.random.normal(mean_B, std_B, history)"
   ]
  },
  {
   "cell_type": "code",
   "execution_count": 7,
   "id": "0e804411-c69a-4dda-ac4d-4224b87013d2",
   "metadata": {},
   "outputs": [],
   "source": [
    "## We will be testing the following hypothesis: * H0 = the mean of sales of shop A equals the mean of sales of shop B \n",
    "## (i.e. the difference between the sales is equal to zero) * HA = the means are not equal"
   ]
  },
  {
   "cell_type": "code",
   "execution_count": 8,
   "id": "17c47fb2-0221-42bb-9727-42e4e49f9b29",
   "metadata": {},
   "outputs": [],
   "source": [
    "## Set the significance level alpha (the probability of rejecting the null hypothesis when it is true) to 0.05."
   ]
  },
  {
   "cell_type": "code",
   "execution_count": 9,
   "id": "e3c1b71c-5391-482d-a6a2-1103fcd60712",
   "metadata": {},
   "outputs": [],
   "source": [
    "# set the significance level\n",
    "alpha = 0.05"
   ]
  },
  {
   "cell_type": "code",
   "execution_count": 10,
   "id": "7e23101a-50ff-4fbc-b9fb-6c635d45ba28",
   "metadata": {},
   "outputs": [],
   "source": [
    "## The means of sales for both stores are:"
   ]
  },
  {
   "cell_type": "code",
   "execution_count": 11,
   "id": "3da4b8c4-905e-4e56-8be4-375594e33b3c",
   "metadata": {},
   "outputs": [
    {
     "name": "stdout",
     "output_type": "stream",
     "text": [
      "20.04973201106029\n",
      "19.309929401404304\n",
      "0.7398026096559853\n"
     ]
    }
   ],
   "source": [
    "# print the store A mean\n",
    "print(shop_A_sales.mean())\n",
    "\n",
    "# print the store B mean\n",
    "print(shop_B_sales.mean())\n",
    "\n",
    "# the difference in the means\n",
    "observed_means_diff = shop_A_sales.mean() - shop_B_sales.mean()\n",
    "print(observed_means_diff)"
   ]
  },
  {
   "cell_type": "code",
   "execution_count": 12,
   "id": "d73556f6-7927-4f4a-8e0b-d45ecaf3110f",
   "metadata": {},
   "outputs": [],
   "source": [
    "## Because the mean of sales in store A is not so far from the mean of sales in store B, and their standard deviations are equal, it is tough to decide if the sales are equal.\n",
    "\n",
    "## Let's simulate what it would look like if both stores' sales were identically distributed. We can do that by combining sales data from both stores."
   ]
  },
  {
   "cell_type": "code",
   "execution_count": 13,
   "id": "35d90419-c8a3-43d8-a1ae-5495a97f4540",
   "metadata": {},
   "outputs": [],
   "source": [
    "both_sales = np.concatenate((shop_A_sales, shop_B_sales))"
   ]
  },
  {
   "cell_type": "code",
   "execution_count": 14,
   "id": "8a99593f-ae7e-4b59-a113-b270be393539",
   "metadata": {},
   "outputs": [],
   "source": [
    "## Now, we have to perform permutation on both_sales and re-create the sales with this permutation data."
   ]
  },
  {
   "cell_type": "code",
   "execution_count": 15,
   "id": "68cd6226-7e5b-48e8-88cf-97231f647564",
   "metadata": {},
   "outputs": [],
   "source": [
    "# A permutation is a random reordering of the entries in an array."
   ]
  },
  {
   "cell_type": "code",
   "execution_count": 16,
   "id": "8e7d226b-52dd-4f87-a402-6e9ad5c30591",
   "metadata": {},
   "outputs": [],
   "source": [
    "# permutation\n",
    "sales_perm = np.random.permutation(both_sales)\n",
    "\n",
    "# permutation replicates \n",
    "perm_shop_A_sales = sales_perm[:len(shop_A_sales)]\n",
    "perm_shop_B_sales = sales_perm[len(shop_A_sales):]"
   ]
  },
  {
   "cell_type": "code",
   "execution_count": 17,
   "id": "791720df-17c8-43c8-a05c-de75122a98a9",
   "metadata": {},
   "outputs": [],
   "source": [
    "## After this step, we have to compute the difference between the permutation replicates means."
   ]
  },
  {
   "cell_type": "code",
   "execution_count": 18,
   "id": "fbbad78b-c5ed-4cbc-a270-801a04941a14",
   "metadata": {},
   "outputs": [
    {
     "name": "stdout",
     "output_type": "stream",
     "text": [
      "0.2109878915432759\n"
     ]
    }
   ],
   "source": [
    "print(perm_shop_A_sales.mean() - perm_shop_B_sales.mean())"
   ]
  },
  {
   "cell_type": "code",
   "execution_count": 19,
   "id": "857f6f48-2bbb-405d-8a60-15b23058b586",
   "metadata": {},
   "outputs": [],
   "source": [
    "## We can see that there is a difference between the permutation replicates mean and the original sales mean. \n",
    "## But this was only one permutation. Let's try 1,000 different permutations and store the differences of the permutation replicates means in a list."
   ]
  },
  {
   "cell_type": "code",
   "execution_count": 20,
   "id": "26fdaf37-c61d-4990-a229-4165b4534917",
   "metadata": {},
   "outputs": [],
   "source": [
    "# create an empty list to store the permutation replicates means\n",
    "perm_repl_means = []\n",
    "\n",
    "for _ in range(1000):\n",
    "    # permutation \n",
    "    sales_perm = np.random.permutation(both_sales)\n",
    "\n",
    "    # permutation replicates \n",
    "    perm_shop_A_sales = sales_perm[:len(shop_A_sales)]\n",
    "    perm_shop_B_sales = sales_perm[len(shop_A_sales):]\n",
    "\n",
    "    # permutation replicates mean\n",
    "    perm_repl_mean = perm_shop_A_sales.mean() - perm_shop_B_sales.mean()\n",
    "\n",
    "    # append perm_repl_mean to list\n",
    "    perm_repl_means.append(perm_repl_mean)"
   ]
  },
  {
   "cell_type": "code",
   "execution_count": 22,
   "id": "e436d794-adf7-44a7-bf6c-d5272833b147",
   "metadata": {},
   "outputs": [],
   "source": [
    "## The last thing that remains is to compute the p-value."
   ]
  },
  {
   "cell_type": "code",
   "execution_count": 23,
   "id": "c27e33e8-94bb-44b9-b7ec-d01d5a488ebb",
   "metadata": {},
   "outputs": [],
   "source": [
    "# The p-value is the probability of observing a test statistic as extreme or more extreme than the one you've observed, given that the null hypothesis is true."
   ]
  },
  {
   "cell_type": "code",
   "execution_count": 24,
   "id": "022bb77f-4898-49b9-9151-dae31d9d71c1",
   "metadata": {},
   "outputs": [
    {
     "name": "stdout",
     "output_type": "stream",
     "text": [
      "p-value = 0.043\n"
     ]
    }
   ],
   "source": [
    "# compute the p-value\n",
    "p = np.sum(np.abs(perm_repl_means) >= observed_means_diff) / len(perm_repl_means)\n",
    "\n",
    "# print the result\n",
    "print('p-value =', p)"
   ]
  },
  {
   "cell_type": "code",
   "execution_count": 25,
   "id": "33dd40cc-4812-43ed-866e-02a4f264927e",
   "metadata": {},
   "outputs": [],
   "source": [
    "## The p-value tells us that there is about a 4.2% chance that we would get the difference of means observed in the experiment if sales were exactly the same."
   ]
  },
  {
   "cell_type": "code",
   "execution_count": 26,
   "id": "a4b7c0f6-ce1e-480e-b923-36c82f54aa97",
   "metadata": {},
   "outputs": [
    {
     "name": "stdout",
     "output_type": "stream",
     "text": [
      "H0 is rejected.\n"
     ]
    }
   ],
   "source": [
    "# final decision\n",
    "if p < alpha:\n",
    "    print('H0 is rejected.')\n",
    "else:\n",
    "    print('H0 is not rejected.')"
   ]
  },
  {
   "cell_type": "code",
   "execution_count": 27,
   "id": "a476300c-e634-40d9-8767-0ed69a03f1e5",
   "metadata": {},
   "outputs": [],
   "source": [
    "## Because the p_value is smaller than our significance level alpha we reject the null hypothesis that our cell phone sales are equal in both stores."
   ]
  },
  {
   "cell_type": "code",
   "execution_count": 28,
   "id": "3fd2dca7-06da-4167-84dc-c63cc6adfae7",
   "metadata": {},
   "outputs": [],
   "source": [
    "# Think about where we used the central limit theorem in this exercise."
   ]
  },
  {
   "cell_type": "code",
   "execution_count": null,
   "id": "26478fa3-2793-485b-a147-d96ecf469189",
   "metadata": {},
   "outputs": [],
   "source": []
  }
 ],
 "metadata": {
  "kernelspec": {
   "display_name": "THE_ONE",
   "language": "python",
   "name": "the_one"
  },
  "language_info": {
   "codemirror_mode": {
    "name": "ipython",
    "version": 3
   },
   "file_extension": ".py",
   "mimetype": "text/x-python",
   "name": "python",
   "nbconvert_exporter": "python",
   "pygments_lexer": "ipython3",
   "version": "3.8.15"
  }
 },
 "nbformat": 4,
 "nbformat_minor": 5
}
